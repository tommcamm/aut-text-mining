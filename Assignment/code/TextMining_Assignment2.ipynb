{
  "cells": [
    {
      "cell_type": "markdown",
      "metadata": {
        "id": "lY891NWn2K-P"
      },
      "source": [
        "# Text Mining - Assignment\n",
        "Due 7th june by midnight"
      ]
    },
    {
      "cell_type": "code",
      "source": [
        "# Setup for Colab\n",
        "if 'google.colab' in str(get_ipython()):\n",
        "  print('Running on CoLab, downloading all the data')\n",
        "  # download the pre-processed datasets\n",
        "  ## -nc avoid to download the file if already present, -P is the directory where the file will be placed\n",
        "  !wget -nc https://github.com/tommcamm/aut-text-mining/raw/main/Assignment/code/PreProcessed/students_preprocessed.pkl.gz -P PreProcessed # students pre-processed\n",
        "  !wget -nc https://github.com/tommcamm/aut-text-mining/raw/main/Assignment/code/PreProcessed/under_20s_preprocessed.pkl.gz -P PreProcessed # under 20s pre-processed\n",
        "  !wget -nc https://github.com/tommcamm/aut-text-mining/raw/main/Assignment/code/PreProcessed/females_preprocessed.pkl.gz -P PreProcessed # females pre-processed\n",
        "  !wget -nc https://github.com/tommcamm/aut-text-mining/raw/main/Assignment/code/PreProcessed/males_preprocessed.pkl.gz -P PreProcessed # males pre-processed\n",
        "  !wget -nc https://github.com/tommcamm/aut-text-mining/raw/main/Assignment/code/PreProcessed/over_20s_preprocessed.pkl.gz -P PreProcessed # over 20s pre-processed\n",
        "  !wget -nc https://github.com/tommcamm/aut-text-mining/raw/main/Assignment/code/PreProcessed/everyone_preprocessed.pkl.gz -P PreProcessed # Everyone pre-processed\n",
        "\n",
        "  # Download the test data - two files\n",
        "  !wget -nc https://raw.githubusercontent.com/tommcamm/aut-text-mining/main/Assignment/code/TestDir/23676.male.33.Technology.Scorpio.xml -P TestDir\n",
        "  !wget -nc https://raw.githubusercontent.com/tommcamm/aut-text-mining/main/Assignment/code/TestDir/5114.male.25.indUnk.Scorpio.xml -P TestDir\n",
        "else:\n",
        "  print('Not running on CoLab, skipping download')\n",
        "  # For this step I assume the data is already there\n",
        "  directory_path = './Assignment2BlogData/blogs'"
      ],
      "metadata": {
        "colab": {
          "base_uri": "https://localhost:8080/"
        },
        "id": "ABbRHDBa7Ui2",
        "outputId": "254b9bbd-30b9-4116-9d4c-3b259d4ceeca"
      },
      "execution_count": 1,
      "outputs": [
        {
          "output_type": "stream",
          "name": "stdout",
          "text": [
            "Running on CoLab, downloading all the data\n",
            "--2024-06-02 05:53:28--  https://github.com/tommcamm/aut-text-mining/raw/main/Assignment/code/PreProcessed/students_preprocessed.pkl.gz\n",
            "Resolving github.com (github.com)... 140.82.114.4\n",
            "Connecting to github.com (github.com)|140.82.114.4|:443... connected.\n",
            "HTTP request sent, awaiting response... 302 Found\n",
            "Location: https://media.githubusercontent.com/media/tommcamm/aut-text-mining/main/Assignment/code/PreProcessed/students_preprocessed.pkl.gz [following]\n",
            "--2024-06-02 05:53:28--  https://media.githubusercontent.com/media/tommcamm/aut-text-mining/main/Assignment/code/PreProcessed/students_preprocessed.pkl.gz\n",
            "Resolving media.githubusercontent.com (media.githubusercontent.com)... 185.199.110.133, 185.199.109.133, 185.199.111.133, ...\n",
            "Connecting to media.githubusercontent.com (media.githubusercontent.com)|185.199.110.133|:443... connected.\n",
            "HTTP request sent, awaiting response... 200 OK\n",
            "Length: 38014744 (36M) [application/octet-stream]\n",
            "Saving to: ‘PreProcessed/students_preprocessed.pkl.gz’\n",
            "\n",
            "students_preprocess 100%[===================>]  36.25M   200MB/s    in 0.2s    \n",
            "\n",
            "2024-06-02 05:53:29 (200 MB/s) - ‘PreProcessed/students_preprocessed.pkl.gz’ saved [38014744/38014744]\n",
            "\n",
            "--2024-06-02 05:53:29--  https://github.com/tommcamm/aut-text-mining/raw/main/Assignment/code/PreProcessed/under_20s_preprocessed.pkl.gz\n",
            "Resolving github.com (github.com)... 140.82.114.4\n",
            "Connecting to github.com (github.com)|140.82.114.4|:443... connected.\n",
            "HTTP request sent, awaiting response... 302 Found\n",
            "Location: https://media.githubusercontent.com/media/tommcamm/aut-text-mining/main/Assignment/code/PreProcessed/under_20s_preprocessed.pkl.gz [following]\n",
            "--2024-06-02 05:53:30--  https://media.githubusercontent.com/media/tommcamm/aut-text-mining/main/Assignment/code/PreProcessed/under_20s_preprocessed.pkl.gz\n",
            "Resolving media.githubusercontent.com (media.githubusercontent.com)... 185.199.110.133, 185.199.109.133, 185.199.111.133, ...\n",
            "Connecting to media.githubusercontent.com (media.githubusercontent.com)|185.199.110.133|:443... connected.\n",
            "HTTP request sent, awaiting response... 200 OK\n",
            "Length: 55923384 (53M) [application/octet-stream]\n",
            "Saving to: ‘PreProcessed/under_20s_preprocessed.pkl.gz’\n",
            "\n",
            "under_20s_preproces 100%[===================>]  53.33M   219MB/s    in 0.2s    \n",
            "\n",
            "2024-06-02 05:53:31 (219 MB/s) - ‘PreProcessed/under_20s_preprocessed.pkl.gz’ saved [55923384/55923384]\n",
            "\n",
            "--2024-06-02 05:53:31--  https://github.com/tommcamm/aut-text-mining/raw/main/Assignment/code/PreProcessed/females_preprocessed.pkl.gz\n",
            "Resolving github.com (github.com)... 140.82.114.4\n",
            "Connecting to github.com (github.com)|140.82.114.4|:443... connected.\n",
            "HTTP request sent, awaiting response... 302 Found\n",
            "Location: https://media.githubusercontent.com/media/tommcamm/aut-text-mining/main/Assignment/code/PreProcessed/females_preprocessed.pkl.gz [following]\n",
            "--2024-06-02 05:53:31--  https://media.githubusercontent.com/media/tommcamm/aut-text-mining/main/Assignment/code/PreProcessed/females_preprocessed.pkl.gz\n",
            "Resolving media.githubusercontent.com (media.githubusercontent.com)... 185.199.110.133, 185.199.109.133, 185.199.111.133, ...\n",
            "Connecting to media.githubusercontent.com (media.githubusercontent.com)|185.199.110.133|:443... connected.\n",
            "HTTP request sent, awaiting response... 200 OK\n",
            "Length: 85577156 (82M) [application/octet-stream]\n",
            "Saving to: ‘PreProcessed/females_preprocessed.pkl.gz’\n",
            "\n",
            "females_preprocesse 100%[===================>]  81.61M   246MB/s    in 0.3s    \n",
            "\n",
            "2024-06-02 05:53:33 (246 MB/s) - ‘PreProcessed/females_preprocessed.pkl.gz’ saved [85577156/85577156]\n",
            "\n",
            "--2024-06-02 05:53:33--  https://github.com/tommcamm/aut-text-mining/raw/main/Assignment/code/PreProcessed/males_preprocessed.pkl.gz\n",
            "Resolving github.com (github.com)... 140.82.114.4\n",
            "Connecting to github.com (github.com)|140.82.114.4|:443... connected.\n",
            "HTTP request sent, awaiting response... 302 Found\n",
            "Location: https://media.githubusercontent.com/media/tommcamm/aut-text-mining/main/Assignment/code/PreProcessed/males_preprocessed.pkl.gz [following]\n",
            "--2024-06-02 05:53:33--  https://media.githubusercontent.com/media/tommcamm/aut-text-mining/main/Assignment/code/PreProcessed/males_preprocessed.pkl.gz\n",
            "Resolving media.githubusercontent.com (media.githubusercontent.com)... 185.199.110.133, 185.199.109.133, 185.199.111.133, ...\n",
            "Connecting to media.githubusercontent.com (media.githubusercontent.com)|185.199.110.133|:443... connected.\n",
            "HTTP request sent, awaiting response... 200 OK\n",
            "Length: 83990206 (80M) [application/octet-stream]\n",
            "Saving to: ‘PreProcessed/males_preprocessed.pkl.gz’\n",
            "\n",
            "males_preprocessed. 100%[===================>]  80.10M   270MB/s    in 0.3s    \n",
            "\n",
            "2024-06-02 05:53:35 (270 MB/s) - ‘PreProcessed/males_preprocessed.pkl.gz’ saved [83990206/83990206]\n",
            "\n",
            "--2024-06-02 05:53:35--  https://raw.githubusercontent.com/tommcamm/aut-text-mining/main/Assignment/code/TestDir/23676.male.33.Technology.Scorpio.xml\n",
            "Resolving raw.githubusercontent.com (raw.githubusercontent.com)... 185.199.108.133, 185.199.109.133, 185.199.110.133, ...\n",
            "Connecting to raw.githubusercontent.com (raw.githubusercontent.com)|185.199.108.133|:443... connected.\n",
            "HTTP request sent, awaiting response... 200 OK\n",
            "Length: 6326 (6.2K) [text/plain]\n",
            "Saving to: ‘TestDir/23676.male.33.Technology.Scorpio.xml’\n",
            "\n",
            "23676.male.33.Techn 100%[===================>]   6.18K  --.-KB/s    in 0s      \n",
            "\n",
            "2024-06-02 05:53:35 (109 MB/s) - ‘TestDir/23676.male.33.Technology.Scorpio.xml’ saved [6326/6326]\n",
            "\n",
            "--2024-06-02 05:53:35--  https://raw.githubusercontent.com/tommcamm/aut-text-mining/main/Assignment/code/TestDir/5114.male.25.indUnk.Scorpio.xml\n",
            "Resolving raw.githubusercontent.com (raw.githubusercontent.com)... 185.199.108.133, 185.199.109.133, 185.199.110.133, ...\n",
            "Connecting to raw.githubusercontent.com (raw.githubusercontent.com)|185.199.108.133|:443... connected.\n",
            "HTTP request sent, awaiting response... 200 OK\n",
            "Length: 59565 (58K) [text/plain]\n",
            "Saving to: ‘TestDir/5114.male.25.indUnk.Scorpio.xml’\n",
            "\n",
            "5114.male.25.indUnk 100%[===================>]  58.17K  --.-KB/s    in 0.01s   \n",
            "\n",
            "2024-06-02 05:53:36 (4.56 MB/s) - ‘TestDir/5114.male.25.indUnk.Scorpio.xml’ saved [59565/59565]\n",
            "\n"
          ]
        }
      ]
    },
    {
      "cell_type": "markdown",
      "metadata": {
        "id": "cnqgXm7l8lbR"
      },
      "source": [
        "## Data cleaning\n",
        "The following steps will be applied to the dataset to ensure it is cleaned.\n",
        "1. Remove Non-ASCII Characters: Ensures text is ASCII encoded.\n",
        "2. Remove Punctuation: Removes any punctuation marks.\n",
        "3. Lowercase Conversion: Converts all text to lowercase.\n",
        "4. Remove Stopwords: Removes common stopwords that do not contribute to the meaning of the text.\n",
        "5. Tokenization: Splits text into individual words.\n",
        "6. Lemmatization: Reduces words to their base or root form."
      ]
    },
    {
      "cell_type": "code",
      "metadata": {
        "colab": {
          "base_uri": "https://localhost:8080/"
        },
        "id": "FOnkMyOK86bB",
        "outputId": "04f72b1b-9bb6-4a24-f145-c9d2b288ca37",
        "ExecuteTime": {
          "end_time": "2024-06-01T07:18:07.997432Z",
          "start_time": "2024-06-01T07:18:06.026130Z"
        }
      },
      "source": [
        "import spacy\n",
        "import re\n",
        "import nltk\n",
        "import os\n",
        "import chardet\n",
        "import concurrent.futures\n",
        "from tqdm import tqdm\n",
        "from nltk.corpus import stopwords, wordnet\n",
        "from nltk.stem import WordNetLemmatizer\n",
        "\n",
        "# Download necessary NLTK data\n",
        "nltk.download('stopwords')\n",
        "nltk.download('punkt')\n",
        "nltk.download('wordnet')\n",
        "nltk.download('averaged_perceptron_tagger')\n",
        "# this command must be run before: python -m spacy download en_core_web_sm\n",
        "nlp = spacy.load('en_core_web_sm')\n",
        "\n",
        "#spacy.require_gpu() # Ensure is using GPU\n",
        "#spacy.require_cpu()\n",
        "\n",
        "# Text pre-processing pipeline\n",
        "def preprocess_text(text):\n",
        "    # 1. We remove all XML tags from the document (along with the date)\n",
        "    text = re.sub(r'<date>.*?</date>', '', text, flags=re.DOTALL)\n",
        "    text = re.sub(r'<[^>]+>', '', text, flags=re.DOTALL)\n",
        "    text = re.sub(r'urlLink', '', text, flags=re.DOTALL) # Remove links\n",
        "\n",
        "    text = text.encode('ascii', 'ignore').decode('ascii') # Remove non ASCII characters\n",
        "    text = re.sub(r'[^\\w\\s]', ' ', text) # Remove punctuation\n",
        "\n",
        "\n",
        "    text = text.lower() # Lowercasing to make it case-insensitive\n",
        "    tokens = nltk.word_tokenize(text)\n",
        "\n",
        "    tagged_tokens = nltk.pos_tag(tokens)\n",
        "\n",
        "    # Remove stopwords and perform lemmatization\n",
        "    lemmatizer = WordNetLemmatizer()\n",
        "\n",
        "    # Map POS tag to first character lemmatize() accepts\n",
        "    def get_wordnet_pos(tag):\n",
        "        if tag.startswith('J'):\n",
        "            return wordnet.ADJ  # adjective\n",
        "        elif tag.startswith('V'):\n",
        "            return wordnet.VERB  # verb\n",
        "        elif tag.startswith('N'):\n",
        "            return wordnet.NOUN  # noun\n",
        "        elif tag.startswith('R'):\n",
        "            return wordnet.ADV  # adverb\n",
        "        else:\n",
        "            return wordnet.NOUN  # default to noun\n",
        "\n",
        "    cleaned_tokens = [\n",
        "        (lemmatizer.lemmatize(token, get_wordnet_pos(tag)), tag)\n",
        "        for token, tag in tagged_tokens\n",
        "        if token not in stopwords.words('english')\n",
        "    ]\n",
        "\n",
        "    return cleaned_tokens\n",
        "\n",
        "# Pre-Process pipeline using spacy for GPU\n",
        "def preprocess_text_spacy(text):\n",
        "    # 1. Remove all XML tags from the document (along with the date)\n",
        "    text = re.sub(r'<date>.*?</date>', '', text, flags=re.DOTALL)\n",
        "    text = re.sub(r'<[^>]+>', '', text, flags=re.DOTALL)\n",
        "    text = re.sub(r'urlLink', '', text, flags=re.DOTALL) # Remove links\n",
        "\n",
        "    # Convert to ASCII and lowercasing to make it case-insensitive\n",
        "    text = text.encode('ascii', 'ignore').decode('ascii')\n",
        "    text = text.lower()\n",
        "\n",
        "    # Process the text with SpaCy\n",
        "    doc = nlp(text)\n",
        "\n",
        "    # Remove stopwords and perform lemmatization\n",
        "    cleaned_tokens = [\n",
        "        (token.lemma_, token.pos_)\n",
        "        for token in doc\n",
        "        if not token.is_stop and token.is_alpha\n",
        "    ]\n",
        "\n",
        "    return cleaned_tokens\n",
        "\n",
        "def process_file(filepath):\n",
        "    try:\n",
        "        with open(filepath, 'rb') as f:\n",
        "            raw_data = f.read()\n",
        "            result = chardet.detect(raw_data)\n",
        "            encoding = result['encoding']\n",
        "            text = raw_data.decode(encoding)\n",
        "            cleaned_text = preprocess_text_spacy(text)\n",
        "            return cleaned_text, None\n",
        "    except Exception as e:\n",
        "        return None, (filepath, str(e))\n",
        "\n",
        "def extract_and_preprocess_text_from_directory(directory_path, filter_func=None):\n",
        "    text_data = []\n",
        "    failed_files = []\n",
        "    filepaths = [os.path.join(directory_path, filename) for filename in os.listdir(directory_path)]\n",
        "\n",
        "    if filter_func:\n",
        "        filepaths = [fp for fp in filepaths if filter_func(fp)]\n",
        "\n",
        "    with concurrent.futures.ThreadPoolExecutor(max_workers=10) as executor:\n",
        "        futures = {executor.submit(process_file, filepath): filepath for filepath in filepaths}\n",
        "        with tqdm(total=len(filepaths), desc=\"Processing files\") as pbar:\n",
        "            for future in concurrent.futures.as_completed(futures):\n",
        "                cleaned_text, error = future.result()\n",
        "                if cleaned_text:\n",
        "                    text_data.append(cleaned_text)\n",
        "                else:\n",
        "                    failed_files.append(error)\n",
        "                pbar.update(1)\n",
        "    return text_data, failed_files\n",
        "\n",
        "# Helper functions\n",
        "def get_tokens_without_pos(doc):\n",
        "    \"\"\"\n",
        "    Extracts tokens without POS tags from the document.\n",
        "\n",
        "    :param doc: List of tuples (token, pos_tag)\n",
        "    :return: List of tokens\n",
        "    \"\"\"\n",
        "    return [token for token, _ in doc]\n",
        "\n",
        "def get_text_from_tokens(doc):\n",
        "    \"\"\"\n",
        "    Constructs a string from tokens without POS tags.\n",
        "\n",
        "    :param doc: List of tuples (token, pos_tag)\n",
        "    :return: String of concatenated tokens\n",
        "    \"\"\"\n",
        "    tokens_only = get_tokens_without_pos(doc)\n",
        "    return ' '.join(tokens_only)"
      ],
      "outputs": [
        {
          "output_type": "stream",
          "name": "stderr",
          "text": [
            "[nltk_data] Downloading package stopwords to /root/nltk_data...\n",
            "[nltk_data]   Unzipping corpora/stopwords.zip.\n",
            "[nltk_data] Downloading package punkt to /root/nltk_data...\n",
            "[nltk_data]   Unzipping tokenizers/punkt.zip.\n",
            "[nltk_data] Downloading package wordnet to /root/nltk_data...\n",
            "[nltk_data] Downloading package averaged_perceptron_tagger to\n",
            "[nltk_data]     /root/nltk_data...\n",
            "[nltk_data]   Unzipping taggers/averaged_perceptron_tagger.zip.\n"
          ]
        }
      ],
      "execution_count": 2
    },
    {
      "metadata": {
        "ExecuteTime": {
          "end_time": "2024-06-01T07:18:08.906994Z",
          "start_time": "2024-06-01T07:18:07.997488Z"
        },
        "id": "Hlyula1x6kMh",
        "outputId": "d6444811-1de8-4436-db77-497134d833c0",
        "colab": {
          "base_uri": "https://localhost:8080/"
        }
      },
      "cell_type": "code",
      "source": [
        "# Test of the pre-processor on one file\n",
        "test_dir = 'TestDir'\n",
        "text_data_test, failed_data_test = extract_and_preprocess_text_from_directory(test_dir)\n",
        "\n",
        "print('\\nTEST RESULTS (23676, 5114)')\n",
        "for doc in text_data_test:\n",
        "    print(\"-> \", get_text_from_tokens(doc))\n",
        "\n",
        "print('WITH POS TAGS')\n",
        "for doc in text_data_test:\n",
        "    print(\"-> \", doc)"
      ],
      "outputs": [
        {
          "output_type": "stream",
          "name": "stderr",
          "text": [
            "Processing files: 100%|██████████| 2/2 [00:01<00:00,  1.35it/s]"
          ]
        },
        {
          "output_type": "stream",
          "name": "stdout",
          "text": [
            "\n",
            "TEST RESULTS (23676, 5114)\n",
            "->  hello run finally end smooth win static congrat gil box quick sell ni wednesday hold xping goodness pm edt usual thursday friday hold genkai madness head mold paper saturday conclude genkai explosure madness bomb coal sunday run hunt key genkai thank shari deft handling get genkai alliance friday saturday genkai experience mildly horrible instead excruciatingly horrible friday start alliance people eventually grow shrink night go manage obtain need exoray mold mere time read blame dynastey aggro nearly nest case time saturday turn trek eldeime dyn manage aggro half mob glacier personal small group night able dispatch come mere hour reward papyrus death level shari bad outing genkai item probably post hopefully check newly create forum arrr p xp fun night shorty whm rest swashbuckler enjoy individual pursuit generally successul sharkky run jungle yhoator try find specific word actually find search party dispatch dynastey spend time fishing realize moon favor try luck cooking dog dog need tum shari go level lvl arm stack mithkabob toothpick intrepid taru brave wild sarutabaruta realize wonder count shari beg o meter reset skellington run maze shakrami search new place farm instead find lowbie die horrible death hand link stonega require license operate tomorrow genkai madness hello primary user device go lay schedule day let know problem comment find game etc soon messageboard forum stay tune courtesy eck wednesday pm jeuno xp party thursday friday pm jeuno genkai hunt crawler nest eldieme necropolis garlaige citadel saturday pm jeuno genkai hunt continue sunday monday pm jeuno xp party tuesday tuesday july pm static run follow propose static lineup shari blm whm shortcake whm blm sakari brd whm skellington pld war dynastey drk war sharkky thf nin roundabout level jeuno ready play pm bad thing happen shari minor confusion death pick xp night woot heh ok static run friday night pm edt need blogger account post message email lot spam think good subject line post desire static run conflict suggest run post comment thursday run shari thank tonight tuesday head come pm pdt fall asleep congratulation dynastey finish drk weekend dynastey jobom skellington hand kick ass vaa huja erudite shari call supermeganukemasu reinforcement dyn die time second time breeze end victorious congrats dyn let know waterga ii bitch spread word amen congratulation successful bcnm run member time meeting static party monday july pm edt issue post comment shari man baby yeah post merely introduce blog scheduling information ffxi lakshmi server swashbuckler linkshell static party shari skellington purpose act like pirate leveling generally have good time bcnm party schedule follow thank gang return regularly schedule program xping night tue thur week jeuno exception makeup genkai run pre empt xping say night\n",
            "->  slashdot raise lot interesting thought banner ad idea let user control ad delivery allow user comment ad merchant cool frontline documentary feature mindjack advisory board member douglas rushkoff pbs tonight check local listing time atms dispense music logic entirely pay nominal fee music medium pay likely buy stuff pc chair start squeak day ago drive nut new york press lenghty article post dotcom crash scene worth read francis collins surprising thing human genome filmspeed great movie download free man particular favorite film time sale stb nvidia zx mb accelerator agp nec cd rom drive interesting trade consider start upload stuff radio station welcome listen cable dsl high require feed late special issue excellent examination video game contribution carl steadman steven johnson justin hall miss new dvd maltese falcon personal homepage long weblog come fashion manage update couple time year hope bit successful big thank bopjet host mindjack register report war drive wireless equivalent war dialing instead have modem dial thousand network drive range wireless net wireless equip laptop hack away relate late issue cio great feature wireless short documentary digital filmmaking star war episode ii rumour parent company brill content announce merger early monday apparently print magazine fold call brill inside content website form medium central roll right tongue destroy monster survivor monster island money mothra spend time play beta version atmosphere adobe new environment software think couple quick impression interested vr spend bit time work vrml think inherant problem vrml attention give community build cool place people interact easily environment go forth web page involve project try solve problem vrml anybody remember terra vista far like atmosphere appear address problem product maybe adobe muscle gain wide acceptance thank able receive fax suprisingly local phone number fredericton choose new york city area code want whirl number suppose work long trail procrastination end redesign site quotable mindjack mike sugarbaker review lemon patience lengthy rumination brilliant madman lemon read mindjack probably sort thing right mindjack feature link section month netlife magazine online scan big yahoo news yesterday tim koogle step ceo miss forecast quarter today stock tumble time report trogan room coffee machine webcam go offline good later year pot museum look like big news yahoo later today new issue mindjack magazine online feature live concert review original photo good box sinutab describe day sinus pain headache congestion itchy watery eye ugh end free chronicle demise free stuff net sure like direction feed turn filter new weblog link outside content feature prominently feed original content clear difference filter plastic hey jon lebkowsky start blog coolness wisdom find look like new palmos pda trg look mighty impressive official launch rumor monday price reasonably upgrade palmpilot personal stick figure fight action like see evan williams blogger trellix deal happen mean need logo maybe website email work toy announce trellix license pyra blogger technology give pyra needed cash infusion dan bricklin fascinating account deal happen site recently get monkey dvd excellent worth pick include feature length documentary hamster factor tale monkey making film redesign report economist business editor chris anderson name editor wire replace katrina heron new issue digital web magazine today lot interesting stuff reason vegetarian justin japan story picture screwy go computer thing crash mouse stutter skip slow crawl get nagging feeling go complete format reinstall window want point rumor automatic medium trouble automatic company consist feed suck plastic hopefully rumour home underdog amazing resource love computer game hundred game download long available company wealth information game entirely legal think great public service well favorite game gabriel knight great article william gibson observer special japan issue reinvent culture way want great big shoe david bowie write glam today guardian play customize yahoo know new use theme additoin plain color stream video reboot conference feature justin hall dave winer evan williams douglas rushkoff ya think mindjack deep development mode magic blog follow action happen shift design look vaguely familar look good javascript scroll box slooooow hear dove lose souls album year include good list hawksley workman night delicious wolf probably year list cnet video steve job tour apple new retail store be cool news great clip picture new coen brother film man excited redesign think stick sure advertising damn good advertising dsl feed great interview cory doctorow today overlap doctorow day job opencola night job write fiction make unique combination like william gibson launch company sell neural plug stim sim douglas rushkoff frontline documentary merchant cool rebroadcast tonight pbs check local listing set tivo vcr watch dslless day suppose compare company pretty snappy service day dsl feed give official word today sutte foreseeable future go suck look like plastic continue feed suck online year excellent hopefully pull funk come form month jason kottke great picture louvre today great roadtrip article mark frauenfelder magazine half century ago street southern california fill flamboyant tower consumerism spire obelisk beacon transmit neon fortify message optimism family ride car space age tailfin life good marvel modern science make world new tomorrow bill frisell late album blue dream arrive mail today confirm suspect get frisell blogdex spider crawl blog generate list link site buck say blogdex number tomorrow live dangerously hotsynce palmpilot couple month long crape stay tune year webzine conference nyc look like go coverage current issue mindjack look summer reading canadian medium theorist canadian media resource find read boe boe weblog notice link mark cory garage flea market find today man uninstalle mcafee viruscan computer twice fast find virus scanner memory appetite mindjack come keyboard like anymore underwood portable mention day staroffice look like big improvement current version staroffice alternative powerpoint sluggishness mention article stop regularly synapse offiicially open come stop synapse live publicly launch late tonight look conversation go like help join copy word word word arrive day good unintentionally start typewriter collection give underwood portable typewriter near perfect condition yesterday cool stuff pick egyptian painting papyrus estate auction day actually well condition picture make look image find online finally set definite launch date synapse mindjack long development online community monday week stay tune good apod august lagoon nebula color new wallpaper go atlantic canada large flea market sussex new brunswick yesterday get sun burn buck accord site model work great apart stick key find ribbon staple sell kensington videocam yesterday result be webcam reload want be changin holy shit accord advertising age industry standard cease publication blogbuddy look useful window base blogger evhead doc searl weblog discover great weblog village voice feature high speed free peter meyer good article wireless network nyc new mini blog peek recent medium consumption well buy add incentive thing update today davenet great explanation blogger api mean copy word word word magazine way new zealand today good spam dear sir madam supply high quality fly shoe fly shoe let walk normally slide fly sort fashionable product fob price usd pair welcome order look detail photo wood shoe bamoo mat wood flooring aluminu plastic decorate panel etc look good regard long satrap guilin lingui shengpe xiaoxue bamboo wood manufactory address rongshan road lingui guilin guang china tel fax e mail web site mindjack excerpt cory doctorow novel progress eastern standard tribe cory take discussion synapse skip read issue wire miss great private tokyo william gibson coltrane man myth new york times photgraphica absence discover great photolog start call sure pixelpile common thread digital camera come british columbia great space art find object mindjack slashdotte boingboinge prolific david bowie excellent cover america paul simon real audio novemember national novel write month goal write page word novel november think start try write short story month great gallery low res picture take pencam mention cool interface boingboe thank cool blogback comment odyssey yes space geek watch odyssey enter mar orbit cross finger mindjack look writer preferably one commit write article month pay right promise pay soon money interested drop email include sample writing real soon feel free pass think interested special feature new monty python holy grail dvd region encoding canada color close caption widescreen commentary terry gilliam terry jones plus general complaint biting john cleese eric idle michael palin theatrical high definition widescreen presentation pink frilly edge subtitle people like film take shakespeare henry iv ii screen screenplay read screenplay watch film exciting follow killer rabbit feature special version hard hear glorious extra second absolutely free mindless sing along join michael palin terry jones special documentary quest holy grail location use coconut educational film monty python holy grail lego location python genuine min location report bbc film night broadcast december interactive cast directory discover role michael palin play ton terry gilliam original sketch plus poster scene photo hitherto unseen human eye load old rubbish surprise package mystery item specially include mentally challenge director recce budget widescreen letterbox format wait cory doctorow start record audio version story start market market branding billy bailey download find time man matt hinrichs scrubble great illustration synapse join redesign crap order new citizen kane dvd place day today find buck cheap infinite matrix whoohoo mindjack market x examination microsoft marketing xbox windows xp hopefully article jane umami tsunami pinckard justin site turn wonderful resource thing cool japanese get start write anybody want pay watch map territory night great documentary director mark neale kind send run magazine perk thing consist william gibson sit limo musing cyberspace religion review mindjack couple week slashdot effect look like new mindjack today astronomical vision chris mckinstry early cold february morning look highly astigmatic eye professional telescope set jupiter flawed vision long white metal tube finely manufacture piece sophisticated medical equipment let cloud band solar system large planet bright point handful moon mind make feel shadow shock galileo feel see sight redesign mindjack bit load bit fast look well low resolution new week design community review david brake week interview derek powazek new infinite matrix long excerpt cory doctorow new novel magic kingdom liberty square ad hocs staunch conservative magic kingdom preserve wheezing technology face park change daily newcomer old timer rest park support look like successful left corner cory doctorow blog page excuse post blog lately try kick pant x mas break thing go wonderful gallery atari concept illustration boingboing redesign mindjack page bit include entire daily relay blog excerpt denizen new weblog classic gaming creator home underdog mindjack review xircom wireless lan module palm handheld subject cory doctorow interesting year ago sea change computing experience day realize start view computer connect internet fancy game console cum jump typewriter work airplane caf feel wrong feeling deepen magnify thousandfold day get ibook airport base station wireless networking laptop know talk snatch internet air experience will willingly tivo stop watch tv hotel room choose thirty hour custom record programming skip commercial tivo ruin dumb tv ruin wired networking networking keep get well technology movement ad hoc world open base station world haul equip device start hunt network major city chance find block forget g blackberry pale imitation connectivity community wireless real shit fast unmetered insecure control mindjack t shirt available high quality genuine screenprinted shirt cafe press stuff thank brunetto look shirt print highly recommend available mindjack coffee mug feature illustration matt hinrichs cafe press one buy build robot perpetual humanoid model want especially come sound effect video february need day load work suppose blog oranger daily relay run email work let know problem crap email address mess need reach use think mattel make classic electronic football game think amazing thing get atari great little chinese grocery street apartment find try today iron buddha tea good tea try jim lai report digifest new issue mindjack way expectation go digifest pretty picture glitzy art advertising piece possibly cool tech pleasantly surprise breadth depth presentation wednesday night hit medium session get graphic big screen theme international digital medium festival d challenge dimension deem festival success overall end festival apparent speculation constitute fourth dimension spoil ending get way festival original vision local toronto participation quickly expand scope arrival international submission soire keynote attendee snack cater food mingle people dress hip stylishly feel underdressed good casual face cool business card flow like water get ibook osx sure take ajuste impressed far neil gaiman writer answer question worry job security writer good indication writer hate writing good know writer hate writing miserable new mindjack report sxsw interactive jon lebkowksy photo paul bausch year south southwest interactive conference lean mean attend mainly core group edgy net whackadista conference interesting vibe like wow glad goddam dotcom splurge let real depth way compelling ecommerce kind project mbas bring table start call internet industry create concept ipo casino mindjack short break great article douglas rushkoff conform machine read futurefeedforward new york abc news magazine reporter john stossel accidentally decapitate late month shoot segment debunk myth wind power return air wednesday special interview anchor barbara walters amazing story explain walter people survive decapitation let gut determination job real triumph human spirit favorite cory doctorow cory doctorow get new gig eff remind suporte nearly rest march decide donate mindjack t shirt sell eff daily relay finally blogger interim solution probably switch blogger pro moveable type problem sort week mindjack read mcluhan melanie mcbride message dummy age grasp desire believe reinforce trend like usability privilege economy elucidation anticipate well marshall mcluhan whittle big insight sound bite order engage audience lecture hall university toronto help tom wolfe scholarly mcluhan cool media prophet practical strategy anti intellectual time process mcluhan meaning reduce liner absence commentary mcluhan literary philosophical cultural influence way work teach new issue mindjack deal favorite topic robot submission burn baby burn mix cd swap dispraportionate amount bowie reed course click read tracklist mindjack advisory board member douglas rushkoff start blog expect good thing expect criterion collection website excellent similar old criterion go movie cd rom worth check take work run computer seven year fill great essay good move get great interview simon singh author code book new issue mindjack gadzook long time post sorry interview derek powazek new mindjack talk online community book weblog journalism mindjack try new guerrila advertising campaign feel free use ad weblog website come soon mindjack work site mindjack interview warren ellis read comic_strip day comic_strip write want little muscle bite standard issue power fantasy whimsical romance autobiography people thing elf western medium cycle currently creative downturn mean excellent work simply mean personal level little talk comic_strip reflect fact live multicultural society fit global communication net reflect fact pair superman underpant howard rheingold interview npr realaudio link get copy smart mob hope soon mindjack jim lai check art exhibit form billboard transmedia second fame mindjack cybersecurity nosebleed sarah granger security new hype commodity united states visualize drive highway past billboard read big government want big security picture ape beat chest seriously convinced mindjack proper relaunch time bit slow start month get lengthy article lawrence lessig bryan alexander issue plus review neat little digital camera spread word kick miss david bowie concert bbc radio today able find couple song bewlay brother amazing case sit edge site rest assure mindjack relaunch track monday word cbc anniversary special wish start cable channel stuff get syberia post mortem promise new adventure game montreal base developer microid able judge post big fan adventure game traditional kind carry enormous inventory pant explore game pace think lot genre lately plan write soon aside review aforementioned game interested hear thought adventure game think place today favorite game comment bode get work weekend adrenaline vault good shareware justin hall south korea korea televise tv cab tv subway stack stack tiny tiny television able enjoy television time seoul subway television subway instead static ad bulletin board future fun fun watch soon annoying normal brush constant televisual stimulation definitely exciting like comment movielink new studio approve online movie rental service unfortunately able sign cnn need sense slap day election republicans take control senate dick gephardt step house minority leader right larry king talk winona ryder verdict take break news graphic new trailer steven soderbergh solaris today movie look forward fall get copy great dvd release tarkovsky original film russian cinema council short ago hope review mindjack new film release cory doctorow review smart mob new mindjack smart mob slashdot effect apply meatspace zeitgeist squillion like minded soul know meet pop transmetropolitan brickface break white noise balance atomic viewpoint speak voice roar righteous yes adamant organizer leader manifesto forethought issue depth look internet archive doug roberts tuck away seedy neighborhood san francisco roomful computer terabyte datum store stair street lead intimidate hallway open room foot ceiling hip ductwork ceiling right storage area single desk left baker rack tightly pack shelf hp desktop machine turn maximize space ductwork fan squeak painfully walk echoey warm warehouse space easy underwhelme realize look spin away computer copy internet today mindjack short break new issue report supernova conference doug roberts supernova ambitious conference kevin warbach organizer acknowledge outset say cram day conference day conference tout glimpse decentralized future decentralize system obvious system single point control internet perfect example entity agency control single server provide service single point failure bring system warbach see type system fundamental issue compute decade end day clear conference go thing blogge discover clive thompson blog great remind need update blogroll site doug roberts cover supernova mindjack blogge live plain eerie go los angeles february miss live blogosphere panel discussion moderate xeni jardin live blogosphere bring innovator blogging mark frauenfelder heather havrilesky evan williams susannah breslin doc searl tony pierce panel discuss birth blogging emergent tension blog traditional journalism innovation blogge video blogge audio blogging mobile blogging shift role race gender blogosphere state blog economy way blog reshape contemporary medium cross post daily relay review cool laptop bag today daily relay douglas rushkoff meet al gore suitably impressed bright open minded add cosmic thinker give credit feel like know mean kid college get wild thought world connect evolve gore find organic view reality reflect constitution united states seek enable extension enlightenment thinking practical reality new mindjack today cory doctorow william gibson justin hall super monkey ball check preview warren ellis colleen doran new graphic novel orbiter ah crap shift magazine publish issue shift pull dire situation look end real shame consistently great magazine important voice change sphere digital culture final issue week urge pick copy mindjack slashdotte fray redesign time year blog come soon deepsky post remix david bowie take trip gemini spaceship website good original worth listen realaudio link post warren ellis blog cool link mindjack bruce sterling house austin texas howard waldrop beam cory doctorow swampy old dawn time day town powerbook scorch flesh leg beam england private server fraction kansas city laurenn san francisco read chapter cory new book send airport day squat power outlet public toilet continue slashdot launch holy cow ugly mindjack contributor game reviewer justin hall write great article ethic video game journalism online journalism review print magazine cover video game electronic game co found bill kunkel kunkel describe early day recent interview extent cheerleader industry love game want want write change past year game publication web site employ low pay hobbyist easy target lavish marketing event encourage inappropriate tie game maker game critic incredible scientist discover colossal squid antartic big previous big giant squid find fully grow deep sea exploration nearly fascinating space exploration imagine like see alive interesting article note funding research discovery channel great funding available space exploration google site mention mindjack suprisingly result link like description mindjack magazine pusle show osmotic swelling digital culture norm new mindjack today josh examine online interconnect group people turn advice music art fashion book etc broad implication taste tribe justin hall review panzer dragoon orta xbox illustration btw matt hinrichs hopefully semi regular one review soul calibur syberia post mortem new mindjack nearly complete index alfred hitchcock cameo article reunderstande movie dvds internet change way watch movie new mindjack start film blog promise post try review link pleasure new mindjack ad size come soon blogge mindjack daily relay lately hope able get lot good stuff come mindjack month eye blog update apparently sidewalk austin derek powazek comment entry blackbeltjone remind incredibly good friend favorite area mr bezos read add canadian friend play flickr lately late toy mad genius ludicorp find flickr profile start mindjack group bit experiment work try integrate site mindjack sacred digital music digital age ian dawe antero alli hysteria review dvd jesse walker originally upload post don melanson flickr new issue mindjack online issue link blogging equality future melanie mcbride plus kill bill vol review jesse walker new issue mindjack online article mindjack new contributor lasica write copyright law killing field review dvds breathless russian ark z spread word idea funny thing look advertising director mindjack advertising sale experience willing work commission contract job home interested email attachment constantly look great new writer want write drop email pleased announce vrml creator visionary mark pesce join mindjack grow stable writer article redefine television insightful examination state future medium snippet early day television writer like george orwell ray bradbury fahrenheit project television instrumentality totalitarian future monolithic entity dispense propaganda occasionally watch fox news far mark thing monolithic day television number actually pass people realize understand need principle television functional definition television capture encoding transmission reception decode display move image definition apply golden age television present era definition word definition television change introduction digital production encoding transmission reception decode display technology blog play blogger new feature return normal shortly blogge lot film blog like movie check course continue write blog mindjack\n",
            "WITH POS TAGS\n",
            "->  [('hello', 'INTJ'), ('run', 'NOUN'), ('finally', 'ADV'), ('end', 'VERB'), ('smooth', 'ADJ'), ('win', 'NOUN'), ('static', 'NOUN'), ('congrat', 'NOUN'), ('gil', 'NOUN'), ('box', 'NOUN'), ('quick', 'ADJ'), ('sell', 'NOUN'), ('ni', 'PROPN'), ('wednesday', 'PROPN'), ('hold', 'VERB'), ('xping', 'PROPN'), ('goodness', 'NOUN'), ('pm', 'NOUN'), ('edt', 'PROPN'), ('usual', 'ADJ'), ('thursday', 'PROPN'), ('friday', 'PROPN'), ('hold', 'VERB'), ('genkai', 'ADJ'), ('madness', 'NOUN'), ('head', 'VERB'), ('mold', 'NOUN'), ('paper', 'NOUN'), ('saturday', 'PROPN'), ('conclude', 'VERB'), ('genkai', 'NOUN'), ('explosure', 'ADJ'), ('madness', 'NOUN'), ('bomb', 'NOUN'), ('coal', 'NOUN'), ('sunday', 'PROPN'), ('run', 'NOUN'), ('hunt', 'VERB'), ('key', 'NOUN'), ('genkai', 'NOUN'), ('thank', 'NOUN'), ('shari', 'PROPN'), ('deft', 'ADJ'), ('handling', 'NOUN'), ('get', 'VERB'), ('genkai', 'NOUN'), ('alliance', 'NOUN'), ('friday', 'PROPN'), ('saturday', 'PROPN'), ('genkai', 'ADJ'), ('experience', 'NOUN'), ('mildly', 'ADV'), ('horrible', 'ADJ'), ('instead', 'ADV'), ('excruciatingly', 'ADV'), ('horrible', 'ADJ'), ('friday', 'PROPN'), ('start', 'VERB'), ('alliance', 'NOUN'), ('people', 'NOUN'), ('eventually', 'ADV'), ('grow', 'VERB'), ('shrink', 'VERB'), ('night', 'NOUN'), ('go', 'VERB'), ('manage', 'VERB'), ('obtain', 'VERB'), ('need', 'VERB'), ('exoray', 'NOUN'), ('mold', 'NOUN'), ('mere', 'ADJ'), ('time', 'NOUN'), ('read', 'NOUN'), ('blame', 'VERB'), ('dynastey', 'PROPN'), ('aggro', 'VERB'), ('nearly', 'ADV'), ('nest', 'NOUN'), ('case', 'NOUN'), ('time', 'NOUN'), ('saturday', 'PROPN'), ('turn', 'VERB'), ('trek', 'NOUN'), ('eldeime', 'VERB'), ('dyn', 'NOUN'), ('manage', 'VERB'), ('aggro', 'VERB'), ('half', 'NOUN'), ('mob', 'NOUN'), ('glacier', 'NOUN'), ('personal', 'ADJ'), ('small', 'ADJ'), ('group', 'NOUN'), ('night', 'NOUN'), ('able', 'ADJ'), ('dispatch', 'VERB'), ('come', 'VERB'), ('mere', 'ADJ'), ('hour', 'NOUN'), ('reward', 'VERB'), ('papyrus', 'NOUN'), ('death', 'NOUN'), ('level', 'NOUN'), ('shari', 'NOUN'), ('bad', 'ADJ'), ('outing', 'NOUN'), ('genkai', 'ADJ'), ('item', 'NOUN'), ('probably', 'ADV'), ('post', 'VERB'), ('hopefully', 'ADV'), ('check', 'VERB'), ('newly', 'ADV'), ('create', 'VERB'), ('forum', 'NOUN'), ('arrr', 'NOUN'), ('p', 'X'), ('xp', 'PROPN'), ('fun', 'NOUN'), ('night', 'NOUN'), ('shorty', 'NOUN'), ('whm', 'NOUN'), ('rest', 'NOUN'), ('swashbuckler', 'NOUN'), ('enjoy', 'VERB'), ('individual', 'ADJ'), ('pursuit', 'NOUN'), ('generally', 'ADV'), ('successul', 'ADJ'), ('sharkky', 'VERB'), ('run', 'VERB'), ('jungle', 'NOUN'), ('yhoator', 'NOUN'), ('try', 'VERB'), ('find', 'VERB'), ('specific', 'ADJ'), ('word', 'NOUN'), ('actually', 'ADV'), ('find', 'VERB'), ('search', 'NOUN'), ('party', 'NOUN'), ('dispatch', 'VERB'), ('dynastey', 'PROPN'), ('spend', 'VERB'), ('time', 'NOUN'), ('fishing', 'NOUN'), ('realize', 'VERB'), ('moon', 'NOUN'), ('favor', 'NOUN'), ('try', 'VERB'), ('luck', 'NOUN'), ('cooking', 'NOUN'), ('dog', 'NOUN'), ('dog', 'NOUN'), ('need', 'VERB'), ('tum', 'NOUN'), ('shari', 'PROPN'), ('go', 'VERB'), ('level', 'VERB'), ('lvl', 'NOUN'), ('arm', 'VERB'), ('stack', 'NOUN'), ('mithkabob', 'NOUN'), ('toothpick', 'NOUN'), ('intrepid', 'PROPN'), ('taru', 'NOUN'), ('brave', 'VERB'), ('wild', 'NOUN'), ('sarutabaruta', 'NOUN'), ('realize', 'VERB'), ('wonder', 'NOUN'), ('count', 'NOUN'), ('shari', 'ADJ'), ('beg', 'NOUN'), ('o', 'NOUN'), ('meter', 'NOUN'), ('reset', 'VERB'), ('skellington', 'PROPN'), ('run', 'VERB'), ('maze', 'NOUN'), ('shakrami', 'NOUN'), ('search', 'NOUN'), ('new', 'ADJ'), ('place', 'NOUN'), ('farm', 'NOUN'), ('instead', 'ADV'), ('find', 'VERB'), ('lowbie', 'NOUN'), ('die', 'VERB'), ('horrible', 'ADJ'), ('death', 'NOUN'), ('hand', 'NOUN'), ('link', 'VERB'), ('stonega', 'PRON'), ('require', 'VERB'), ('license', 'NOUN'), ('operate', 'VERB'), ('tomorrow', 'NOUN'), ('genkai', 'ADJ'), ('madness', 'NOUN'), ('hello', 'INTJ'), ('primary', 'ADJ'), ('user', 'NOUN'), ('device', 'NOUN'), ('go', 'VERB'), ('lay', 'VERB'), ('schedule', 'NOUN'), ('day', 'NOUN'), ('let', 'VERB'), ('know', 'VERB'), ('problem', 'NOUN'), ('comment', 'NOUN'), ('find', 'VERB'), ('game', 'NOUN'), ('etc', 'X'), ('soon', 'ADV'), ('messageboard', 'NOUN'), ('forum', 'PROPN'), ('stay', 'VERB'), ('tune', 'VERB'), ('courtesy', 'NOUN'), ('eck', 'NOUN'), ('wednesday', 'PROPN'), ('pm', 'NOUN'), ('jeuno', 'PROPN'), ('xp', 'PROPN'), ('party', 'PROPN'), ('thursday', 'PROPN'), ('friday', 'PROPN'), ('pm', 'NOUN'), ('jeuno', 'PROPN'), ('genkai', 'NOUN'), ('hunt', 'NOUN'), ('crawler', 'NOUN'), ('nest', 'NOUN'), ('eldieme', 'PROPN'), ('necropolis', 'PROPN'), ('garlaige', 'VERB'), ('citadel', 'PROPN'), ('saturday', 'PROPN'), ('pm', 'NOUN'), ('jeuno', 'PROPN'), ('genkai', 'NOUN'), ('hunt', 'NOUN'), ('continue', 'VERB'), ('sunday', 'PROPN'), ('monday', 'PROPN'), ('pm', 'NOUN'), ('jeuno', 'PROPN'), ('xp', 'PROPN'), ('party', 'PROPN'), ('tuesday', 'PROPN'), ('tuesday', 'PROPN'), ('july', 'PROPN'), ('pm', 'NOUN'), ('static', 'ADJ'), ('run', 'NOUN'), ('follow', 'VERB'), ('propose', 'VERB'), ('static', 'ADJ'), ('lineup', 'NOUN'), ('shari', 'PROPN'), ('blm', 'PROPN'), ('whm', 'PROPN'), ('shortcake', 'NOUN'), ('whm', 'PROPN'), ('blm', 'PROPN'), ('sakari', 'PROPN'), ('brd', 'PROPN'), ('whm', 'PROPN'), ('skellington', 'PROPN'), ('pld', 'PROPN'), ('war', 'NOUN'), ('dynastey', 'PROPN'), ('drk', 'PROPN'), ('war', 'NOUN'), ('sharkky', 'ADJ'), ('thf', 'PROPN'), ('nin', 'PROPN'), ('roundabout', 'NOUN'), ('level', 'NOUN'), ('jeuno', 'PROPN'), ('ready', 'ADJ'), ('play', 'VERB'), ('pm', 'NOUN'), ('bad', 'ADJ'), ('thing', 'NOUN'), ('happen', 'VERB'), ('shari', 'NOUN'), ('minor', 'ADJ'), ('confusion', 'NOUN'), ('death', 'NOUN'), ('pick', 'VERB'), ('xp', 'NOUN'), ('night', 'NOUN'), ('woot', 'PROPN'), ('heh', 'PROPN'), ('ok', 'INTJ'), ('static', 'ADJ'), ('run', 'NOUN'), ('friday', 'PROPN'), ('night', 'NOUN'), ('pm', 'NOUN'), ('edt', 'PROPN'), ('need', 'VERB'), ('blogger', 'NOUN'), ('account', 'NOUN'), ('post', 'VERB'), ('message', 'NOUN'), ('email', 'VERB'), ('lot', 'NOUN'), ('spam', 'NOUN'), ('think', 'VERB'), ('good', 'ADJ'), ('subject', 'NOUN'), ('line', 'NOUN'), ('post', 'NOUN'), ('desire', 'VERB'), ('static', 'ADJ'), ('run', 'NOUN'), ('conflict', 'NOUN'), ('suggest', 'VERB'), ('run', 'NOUN'), ('post', 'VERB'), ('comment', 'NOUN'), ('thursday', 'NOUN'), ('run', 'NOUN'), ('shari', 'PROPN'), ('thank', 'VERB'), ('tonight', 'NOUN'), ('tuesday', 'PROPN'), ('head', 'VERB'), ('come', 'VERB'), ('pm', 'NOUN'), ('pdt', 'NOUN'), ('fall', 'VERB'), ('asleep', 'ADJ'), ('congratulation', 'NOUN'), ('dynastey', 'VERB'), ('finish', 'VERB'), ('drk', 'PROPN'), ('weekend', 'NOUN'), ('dynastey', 'PROPN'), ('jobom', 'NOUN'), ('skellington', 'NOUN'), ('hand', 'NOUN'), ('kick', 'VERB'), ('ass', 'NOUN'), ('vaa', 'PROPN'), ('huja', 'PROPN'), ('erudite', 'PROPN'), ('shari', 'PROPN'), ('call', 'VERB'), ('supermeganukemasu', 'NOUN'), ('reinforcement', 'NOUN'), ('dyn', 'NOUN'), ('die', 'VERB'), ('time', 'NOUN'), ('second', 'ADJ'), ('time', 'NOUN'), ('breeze', 'NOUN'), ('end', 'VERB'), ('victorious', 'ADJ'), ('congrats', 'PROPN'), ('dyn', 'NOUN'), ('let', 'VERB'), ('know', 'VERB'), ('waterga', 'PROPN'), ('ii', 'PROPN'), ('bitch', 'NOUN'), ('spread', 'VERB'), ('word', 'NOUN'), ('amen', 'INTJ'), ('congratulation', 'NOUN'), ('successful', 'ADJ'), ('bcnm', 'NOUN'), ('run', 'NOUN'), ('member', 'NOUN'), ('time', 'NOUN'), ('meeting', 'NOUN'), ('static', 'ADJ'), ('party', 'NOUN'), ('monday', 'PROPN'), ('july', 'PROPN'), ('pm', 'NOUN'), ('edt', 'PROPN'), ('issue', 'NOUN'), ('post', 'VERB'), ('comment', 'NOUN'), ('shari', 'PROPN'), ('man', 'NOUN'), ('baby', 'NOUN'), ('yeah', 'INTJ'), ('post', 'NOUN'), ('merely', 'ADV'), ('introduce', 'VERB'), ('blog', 'NOUN'), ('scheduling', 'NOUN'), ('information', 'NOUN'), ('ffxi', 'ADJ'), ('lakshmi', 'PROPN'), ('server', 'NOUN'), ('swashbuckler', 'NOUN'), ('linkshell', 'NOUN'), ('static', 'ADJ'), ('party', 'NOUN'), ('shari', 'PROPN'), ('skellington', 'PROPN'), ('purpose', 'NOUN'), ('act', 'VERB'), ('like', 'ADP'), ('pirate', 'NOUN'), ('leveling', 'NOUN'), ('generally', 'ADV'), ('have', 'VERB'), ('good', 'ADJ'), ('time', 'NOUN'), ('bcnm', 'PROPN'), ('party', 'NOUN'), ('schedule', 'NOUN'), ('follow', 'VERB'), ('thank', 'NOUN'), ('gang', 'NOUN'), ('return', 'VERB'), ('regularly', 'ADV'), ('schedule', 'VERB'), ('program', 'NOUN'), ('xping', 'PROPN'), ('night', 'NOUN'), ('tue', 'NOUN'), ('thur', 'NOUN'), ('week', 'NOUN'), ('jeuno', 'PROPN'), ('exception', 'NOUN'), ('makeup', 'NOUN'), ('genkai', 'NOUN'), ('run', 'NOUN'), ('pre', 'VERB'), ('empt', 'VERB'), ('xping', 'NOUN'), ('say', 'VERB'), ('night', 'NOUN')]\n",
            "->  [('slashdot', 'NOUN'), ('raise', 'VERB'), ('lot', 'NOUN'), ('interesting', 'ADJ'), ('thought', 'NOUN'), ('banner', 'NOUN'), ('ad', 'NOUN'), ('idea', 'NOUN'), ('let', 'VERB'), ('user', 'NOUN'), ('control', 'VERB'), ('ad', 'NOUN'), ('delivery', 'NOUN'), ('allow', 'VERB'), ('user', 'NOUN'), ('comment', 'VERB'), ('ad', 'NOUN'), ('merchant', 'NOUN'), ('cool', 'ADJ'), ('frontline', 'NOUN'), ('documentary', 'NOUN'), ('feature', 'VERB'), ('mindjack', 'NOUN'), ('advisory', 'ADJ'), ('board', 'NOUN'), ('member', 'NOUN'), ('douglas', 'PROPN'), ('rushkoff', 'PROPN'), ('pbs', 'PROPN'), ('tonight', 'NOUN'), ('check', 'VERB'), ('local', 'ADJ'), ('listing', 'NOUN'), ('time', 'NOUN'), ('atms', 'PROPN'), ('dispense', 'VERB'), ('music', 'NOUN'), ('logic', 'NOUN'), ('entirely', 'ADV'), ('pay', 'VERB'), ('nominal', 'ADJ'), ('fee', 'NOUN'), ('music', 'NOUN'), ('medium', 'NOUN'), ('pay', 'VERB'), ('likely', 'ADJ'), ('buy', 'VERB'), ('stuff', 'NOUN'), ('pc', 'NOUN'), ('chair', 'NOUN'), ('start', 'VERB'), ('squeak', 'VERB'), ('day', 'NOUN'), ('ago', 'ADV'), ('drive', 'VERB'), ('nut', 'NOUN'), ('new', 'PROPN'), ('york', 'PROPN'), ('press', 'PROPN'), ('lenghty', 'NOUN'), ('article', 'NOUN'), ('post', 'NOUN'), ('dotcom', 'NOUN'), ('crash', 'NOUN'), ('scene', 'NOUN'), ('worth', 'ADJ'), ('read', 'VERB'), ('francis', 'PROPN'), ('collins', 'PROPN'), ('surprising', 'ADJ'), ('thing', 'NOUN'), ('human', 'ADJ'), ('genome', 'NOUN'), ('filmspeed', 'PROPN'), ('great', 'ADJ'), ('movie', 'NOUN'), ('download', 'VERB'), ('free', 'ADJ'), ('man', 'NOUN'), ('particular', 'ADJ'), ('favorite', 'ADJ'), ('film', 'NOUN'), ('time', 'NOUN'), ('sale', 'NOUN'), ('stb', 'PROPN'), ('nvidia', 'PROPN'), ('zx', 'PROPN'), ('mb', 'ADP'), ('accelerator', 'NOUN'), ('agp', 'PROPN'), ('nec', 'PROPN'), ('cd', 'PROPN'), ('rom', 'NOUN'), ('drive', 'NOUN'), ('interesting', 'ADJ'), ('trade', 'NOUN'), ('consider', 'VERB'), ('start', 'VERB'), ('upload', 'VERB'), ('stuff', 'NOUN'), ('radio', 'NOUN'), ('station', 'NOUN'), ('welcome', 'ADJ'), ('listen', 'VERB'), ('cable', 'NOUN'), ('dsl', 'NOUN'), ('high', 'ADJ'), ('require', 'VERB'), ('feed', 'NOUN'), ('late', 'ADJ'), ('special', 'ADJ'), ('issue', 'NOUN'), ('excellent', 'ADJ'), ('examination', 'NOUN'), ('video', 'NOUN'), ('game', 'NOUN'), ('contribution', 'NOUN'), ('carl', 'PROPN'), ('steadman', 'PROPN'), ('steven', 'PROPN'), ('johnson', 'PROPN'), ('justin', 'PROPN'), ('hall', 'NOUN'), ('miss', 'VERB'), ('new', 'ADJ'), ('dvd', 'PROPN'), ('maltese', 'ADJ'), ('falcon', 'NOUN'), ('personal', 'ADJ'), ('homepage', 'NOUN'), ('long', 'ADV'), ('weblog', 'NOUN'), ('come', 'VERB'), ('fashion', 'NOUN'), ('manage', 'VERB'), ('update', 'VERB'), ('couple', 'NOUN'), ('time', 'NOUN'), ('year', 'NOUN'), ('hope', 'VERB'), ('bit', 'NOUN'), ('successful', 'ADJ'), ('big', 'ADJ'), ('thank', 'NOUN'), ('bopjet', 'NOUN'), ('host', 'VERB'), ('mindjack', 'VERB'), ('register', 'NOUN'), ('report', 'NOUN'), ('war', 'NOUN'), ('drive', 'VERB'), ('wireless', 'ADJ'), ('equivalent', 'NOUN'), ('war', 'NOUN'), ('dialing', 'NOUN'), ('instead', 'ADV'), ('have', 'VERB'), ('modem', 'NOUN'), ('dial', 'NOUN'), ('thousand', 'NOUN'), ('network', 'NOUN'), ('drive', 'VERB'), ('range', 'NOUN'), ('wireless', 'ADJ'), ('net', 'NOUN'), ('wireless', 'NOUN'), ('equip', 'VERB'), ('laptop', 'NOUN'), ('hack', 'VERB'), ('away', 'ADV'), ('relate', 'VERB'), ('late', 'ADJ'), ('issue', 'NOUN'), ('cio', 'PROPN'), ('great', 'ADJ'), ('feature', 'NOUN'), ('wireless', 'NOUN'), ('short', 'ADJ'), ('documentary', 'NOUN'), ('digital', 'ADJ'), ('filmmaking', 'ADJ'), ('star', 'NOUN'), ('war', 'NOUN'), ('episode', 'PROPN'), ('ii', 'PROPN'), ('rumour', 'NOUN'), ('parent', 'NOUN'), ('company', 'NOUN'), ('brill', 'PROPN'), ('content', 'NOUN'), ('announce', 'VERB'), ('merger', 'NOUN'), ('early', 'ADV'), ('monday', 'PROPN'), ('apparently', 'ADV'), ('print', 'NOUN'), ('magazine', 'NOUN'), ('fold', 'VERB'), ('call', 'VERB'), ('brill', 'PROPN'), ('inside', 'ADJ'), ('content', 'NOUN'), ('website', 'NOUN'), ('form', 'VERB'), ('medium', 'NOUN'), ('central', 'ADJ'), ('roll', 'VERB'), ('right', 'ADV'), ('tongue', 'NOUN'), ('destroy', 'VERB'), ('monster', 'NOUN'), ('survivor', 'NOUN'), ('monster', 'NOUN'), ('island', 'NOUN'), ('money', 'NOUN'), ('mothra', 'NOUN'), ('spend', 'VERB'), ('time', 'NOUN'), ('play', 'VERB'), ('beta', 'ADJ'), ('version', 'NOUN'), ('atmosphere', 'NOUN'), ('adobe', 'PROPN'), ('new', 'ADJ'), ('environment', 'NOUN'), ('software', 'NOUN'), ('think', 'VERB'), ('couple', 'NOUN'), ('quick', 'ADJ'), ('impression', 'NOUN'), ('interested', 'ADJ'), ('vr', 'NOUN'), ('spend', 'VERB'), ('bit', 'NOUN'), ('time', 'NOUN'), ('work', 'VERB'), ('vrml', 'PROPN'), ('think', 'VERB'), ('inherant', 'NOUN'), ('problem', 'NOUN'), ('vrml', 'NOUN'), ('attention', 'NOUN'), ('give', 'VERB'), ('community', 'NOUN'), ('build', 'VERB'), ('cool', 'ADJ'), ('place', 'NOUN'), ('people', 'NOUN'), ('interact', 'VERB'), ('easily', 'ADV'), ('environment', 'NOUN'), ('go', 'VERB'), ('forth', 'ADV'), ('web', 'NOUN'), ('page', 'NOUN'), ('involve', 'VERB'), ('project', 'NOUN'), ('try', 'VERB'), ('solve', 'VERB'), ('problem', 'NOUN'), ('vrml', 'NOUN'), ('anybody', 'PRON'), ('remember', 'VERB'), ('terra', 'PROPN'), ('vista', 'PROPN'), ('far', 'ADV'), ('like', 'VERB'), ('atmosphere', 'NOUN'), ('appear', 'VERB'), ('address', 'VERB'), ('problem', 'NOUN'), ('product', 'NOUN'), ('maybe', 'ADV'), ('adobe', 'NOUN'), ('muscle', 'NOUN'), ('gain', 'VERB'), ('wide', 'ADJ'), ('acceptance', 'NOUN'), ('thank', 'NOUN'), ('able', 'ADJ'), ('receive', 'VERB'), ('fax', 'NOUN'), ('suprisingly', 'ADV'), ('local', 'ADJ'), ('phone', 'NOUN'), ('number', 'NOUN'), ('fredericton', 'NOUN'), ('choose', 'VERB'), ('new', 'PROPN'), ('york', 'PROPN'), ('city', 'PROPN'), ('area', 'PROPN'), ('code', 'PROPN'), ('want', 'VERB'), ('whirl', 'NOUN'), ('number', 'NOUN'), ('suppose', 'VERB'), ('work', 'VERB'), ('long', 'ADJ'), ('trail', 'NOUN'), ('procrastination', 'NOUN'), ('end', 'VERB'), ('redesign', 'VERB'), ('site', 'NOUN'), ('quotable', 'ADJ'), ('mindjack', 'NOUN'), ('mike', 'PROPN'), ('sugarbaker', 'PROPN'), ('review', 'NOUN'), ('lemon', 'NOUN'), ('patience', 'NOUN'), ('lengthy', 'ADJ'), ('rumination', 'NOUN'), ('brilliant', 'ADJ'), ('madman', 'NOUN'), ('lemon', 'NOUN'), ('read', 'VERB'), ('mindjack', 'NOUN'), ('probably', 'ADV'), ('sort', 'NOUN'), ('thing', 'NOUN'), ('right', 'ADJ'), ('mindjack', 'NOUN'), ('feature', 'VERB'), ('link', 'NOUN'), ('section', 'NOUN'), ('month', 'NOUN'), ('netlife', 'NOUN'), ('magazine', 'NOUN'), ('online', 'ADJ'), ('scan', 'NOUN'), ('big', 'ADJ'), ('yahoo', 'PROPN'), ('news', 'PROPN'), ('yesterday', 'NOUN'), ('tim', 'PROPN'), ('koogle', 'PROPN'), ('step', 'VERB'), ('ceo', 'NOUN'), ('miss', 'VERB'), ('forecast', 'NOUN'), ('quarter', 'NOUN'), ('today', 'NOUN'), ('stock', 'NOUN'), ('tumble', 'VERB'), ('time', 'NOUN'), ('report', 'VERB'), ('trogan', 'PROPN'), ('room', 'NOUN'), ('coffee', 'NOUN'), ('machine', 'NOUN'), ('webcam', 'NOUN'), ('go', 'VERB'), ('offline', 'ADJ'), ('good', 'NOUN'), ('later', 'ADV'), ('year', 'NOUN'), ('pot', 'NOUN'), ('museum', 'NOUN'), ('look', 'VERB'), ('like', 'SCONJ'), ('big', 'ADJ'), ('news', 'NOUN'), ('yahoo', 'PROPN'), ('later', 'ADV'), ('today', 'NOUN'), ('new', 'ADJ'), ('issue', 'NOUN'), ('mindjack', 'NOUN'), ('magazine', 'NOUN'), ('online', 'ADJ'), ('feature', 'VERB'), ('live', 'ADJ'), ('concert', 'NOUN'), ('review', 'NOUN'), ('original', 'ADJ'), ('photo', 'NOUN'), ('good', 'ADJ'), ('box', 'NOUN'), ('sinutab', 'NOUN'), ('describe', 'VERB'), ('day', 'NOUN'), ('sinus', 'NOUN'), ('pain', 'NOUN'), ('headache', 'NOUN'), ('congestion', 'NOUN'), ('itchy', 'ADJ'), ('watery', 'ADJ'), ('eye', 'NOUN'), ('ugh', 'PROPN'), ('end', 'NOUN'), ('free', 'ADJ'), ('chronicle', 'VERB'), ('demise', 'NOUN'), ('free', 'ADJ'), ('stuff', 'NOUN'), ('net', 'NOUN'), ('sure', 'ADJ'), ('like', 'VERB'), ('direction', 'NOUN'), ('feed', 'NOUN'), ('turn', 'VERB'), ('filter', 'NOUN'), ('new', 'ADJ'), ('weblog', 'NOUN'), ('link', 'VERB'), ('outside', 'ADJ'), ('content', 'NOUN'), ('feature', 'VERB'), ('prominently', 'ADV'), ('feed', 'NOUN'), ('original', 'ADJ'), ('content', 'NOUN'), ('clear', 'ADJ'), ('difference', 'NOUN'), ('filter', 'NOUN'), ('plastic', 'NOUN'), ('hey', 'INTJ'), ('jon', 'PROPN'), ('lebkowsky', 'PROPN'), ('start', 'VERB'), ('blog', 'NOUN'), ('coolness', 'NOUN'), ('wisdom', 'NOUN'), ('find', 'VERB'), ('look', 'VERB'), ('like', 'ADP'), ('new', 'ADJ'), ('palmos', 'ADJ'), ('pda', 'NOUN'), ('trg', 'PROPN'), ('look', 'VERB'), ('mighty', 'ADV'), ('impressive', 'ADJ'), ('official', 'ADJ'), ('launch', 'NOUN'), ('rumor', 'VERB'), ('monday', 'PROPN'), ('price', 'VERB'), ('reasonably', 'ADV'), ('upgrade', 'VERB'), ('palmpilot', 'NOUN'), ('personal', 'ADJ'), ('stick', 'NOUN'), ('figure', 'NOUN'), ('fight', 'VERB'), ('action', 'NOUN'), ('like', 'SCONJ'), ('see', 'VERB'), ('evan', 'PROPN'), ('williams', 'PROPN'), ('blogger', 'PROPN'), ('trellix', 'ADJ'), ('deal', 'NOUN'), ('happen', 'VERB'), ('mean', 'VERB'), ('need', 'VERB'), ('logo', 'NOUN'), ('maybe', 'ADV'), ('website', 'NOUN'), ('email', 'VERB'), ('work', 'VERB'), ('toy', 'NOUN'), ('announce', 'VERB'), ('trellix', 'NOUN'), ('license', 'VERB'), ('pyra', 'PROPN'), ('blogger', 'NOUN'), ('technology', 'NOUN'), ('give', 'VERB'), ('pyra', 'ADV'), ('needed', 'ADJ'), ('cash', 'NOUN'), ('infusion', 'NOUN'), ('dan', 'PROPN'), ('bricklin', 'PROPN'), ('fascinating', 'ADJ'), ('account', 'NOUN'), ('deal', 'NOUN'), ('happen', 'VERB'), ('site', 'NOUN'), ('recently', 'ADV'), ('get', 'VERB'), ('monkey', 'NOUN'), ('dvd', 'PROPN'), ('excellent', 'ADJ'), ('worth', 'ADJ'), ('pick', 'VERB'), ('include', 'VERB'), ('feature', 'NOUN'), ('length', 'NOUN'), ('documentary', 'NOUN'), ('hamster', 'NOUN'), ('factor', 'NOUN'), ('tale', 'NOUN'), ('monkey', 'NOUN'), ('making', 'NOUN'), ('film', 'NOUN'), ('redesign', 'VERB'), ('report', 'VERB'), ('economist', 'NOUN'), ('business', 'PROPN'), ('editor', 'PROPN'), ('chris', 'PROPN'), ('anderson', 'PROPN'), ('name', 'VERB'), ('editor', 'NOUN'), ('wire', 'VERB'), ('replace', 'VERB'), ('katrina', 'PROPN'), ('heron', 'PROPN'), ('new', 'ADJ'), ('issue', 'NOUN'), ('digital', 'ADJ'), ('web', 'NOUN'), ('magazine', 'NOUN'), ('today', 'NOUN'), ('lot', 'NOUN'), ('interesting', 'ADJ'), ('stuff', 'NOUN'), ('reason', 'NOUN'), ('vegetarian', 'NOUN'), ('justin', 'PROPN'), ('japan', 'PROPN'), ('story', 'NOUN'), ('picture', 'NOUN'), ('screwy', 'PROPN'), ('go', 'VERB'), ('computer', 'NOUN'), ('thing', 'NOUN'), ('crash', 'VERB'), ('mouse', 'NOUN'), ('stutter', 'VERB'), ('skip', 'VERB'), ('slow', 'VERB'), ('crawl', 'NOUN'), ('get', 'VERB'), ('nagging', 'ADJ'), ('feeling', 'NOUN'), ('go', 'VERB'), ('complete', 'ADJ'), ('format', 'NOUN'), ('reinstall', 'ADJ'), ('window', 'NOUN'), ('want', 'VERB'), ('point', 'VERB'), ('rumor', 'NOUN'), ('automatic', 'ADJ'), ('medium', 'NOUN'), ('trouble', 'NOUN'), ('automatic', 'ADJ'), ('company', 'NOUN'), ('consist', 'VERB'), ('feed', 'NOUN'), ('suck', 'NOUN'), ('plastic', 'NOUN'), ('hopefully', 'ADV'), ('rumour', 'NOUN'), ('home', 'NOUN'), ('underdog', 'NOUN'), ('amazing', 'ADJ'), ('resource', 'NOUN'), ('love', 'VERB'), ('computer', 'NOUN'), ('game', 'NOUN'), ('hundred', 'NOUN'), ('game', 'NOUN'), ('download', 'VERB'), ('long', 'ADV'), ('available', 'ADJ'), ('company', 'NOUN'), ('wealth', 'NOUN'), ('information', 'NOUN'), ('game', 'NOUN'), ('entirely', 'ADV'), ('legal', 'ADJ'), ('think', 'VERB'), ('great', 'ADJ'), ('public', 'ADJ'), ('service', 'NOUN'), ('well', 'ADJ'), ('favorite', 'ADJ'), ('game', 'NOUN'), ('gabriel', 'NOUN'), ('knight', 'PROPN'), ('great', 'ADJ'), ('article', 'NOUN'), ('william', 'PROPN'), ('gibson', 'PROPN'), ('observer', 'NOUN'), ('special', 'ADJ'), ('japan', 'PROPN'), ('issue', 'NOUN'), ('reinvent', 'VERB'), ('culture', 'NOUN'), ('way', 'NOUN'), ('want', 'VERB'), ('great', 'ADJ'), ('big', 'ADJ'), ('shoe', 'NOUN'), ('david', 'PROPN'), ('bowie', 'PROPN'), ('write', 'VERB'), ('glam', 'NOUN'), ('today', 'NOUN'), ('guardian', 'NOUN'), ('play', 'VERB'), ('customize', 'VERB'), ('yahoo', 'NOUN'), ('know', 'VERB'), ('new', 'ADJ'), ('use', 'VERB'), ('theme', 'NOUN'), ('additoin', 'NOUN'), ('plain', 'ADJ'), ('color', 'NOUN'), ('stream', 'VERB'), ('video', 'NOUN'), ('reboot', 'ADJ'), ('conference', 'NOUN'), ('feature', 'VERB'), ('justin', 'PROPN'), ('hall', 'PROPN'), ('dave', 'PROPN'), ('winer', 'PROPN'), ('evan', 'PROPN'), ('williams', 'PROPN'), ('douglas', 'PROPN'), ('rushkoff', 'NOUN'), ('ya', 'PRON'), ('think', 'VERB'), ('mindjack', 'NOUN'), ('deep', 'ADJ'), ('development', 'NOUN'), ('mode', 'NOUN'), ('magic', 'NOUN'), ('blog', 'NOUN'), ('follow', 'VERB'), ('action', 'NOUN'), ('happen', 'VERB'), ('shift', 'NOUN'), ('design', 'NOUN'), ('look', 'VERB'), ('vaguely', 'ADV'), ('familar', 'ADJ'), ('look', 'VERB'), ('good', 'ADJ'), ('javascript', 'ADJ'), ('scroll', 'NOUN'), ('box', 'NOUN'), ('slooooow', 'PROPN'), ('hear', 'VERB'), ('dove', 'NOUN'), ('lose', 'VERB'), ('souls', 'ADJ'), ('album', 'NOUN'), ('year', 'NOUN'), ('include', 'VERB'), ('good', 'ADJ'), ('list', 'NOUN'), ('hawksley', 'PROPN'), ('workman', 'PROPN'), ('night', 'NOUN'), ('delicious', 'ADJ'), ('wolf', 'NOUN'), ('probably', 'ADV'), ('year', 'NOUN'), ('list', 'NOUN'), ('cnet', 'PROPN'), ('video', 'NOUN'), ('steve', 'PROPN'), ('job', 'NOUN'), ('tour', 'NOUN'), ('apple', 'NOUN'), ('new', 'ADJ'), ('retail', 'ADJ'), ('store', 'NOUN'), ('be', 'VERB'), ('cool', 'ADJ'), ('news', 'NOUN'), ('great', 'ADJ'), ('clip', 'NOUN'), ('picture', 'NOUN'), ('new', 'ADJ'), ('coen', 'PROPN'), ('brother', 'NOUN'), ('film', 'NOUN'), ('man', 'NOUN'), ('excited', 'ADJ'), ('redesign', 'NOUN'), ('think', 'VERB'), ('stick', 'VERB'), ('sure', 'ADV'), ('advertising', 'NOUN'), ('damn', 'ADV'), ('good', 'ADJ'), ('advertising', 'NOUN'), ('dsl', 'VERB'), ('feed', 'NOUN'), ('great', 'ADJ'), ('interview', 'NOUN'), ('cory', 'ADJ'), ('doctorow', 'NOUN'), ('today', 'NOUN'), ('overlap', 'NOUN'), ('doctorow', 'PROPN'), ('day', 'NOUN'), ('job', 'NOUN'), ('opencola', 'PROPN'), ('night', 'NOUN'), ('job', 'NOUN'), ('write', 'VERB'), ('fiction', 'NOUN'), ('make', 'VERB'), ('unique', 'ADJ'), ('combination', 'NOUN'), ('like', 'ADP'), ('william', 'PROPN'), ('gibson', 'PROPN'), ('launch', 'VERB'), ('company', 'NOUN'), ('sell', 'VERB'), ('neural', 'ADJ'), ('plug', 'NOUN'), ('stim', 'NOUN'), ('sim', 'NOUN'), ('douglas', 'PROPN'), ('rushkoff', 'PROPN'), ('frontline', 'NOUN'), ('documentary', 'NOUN'), ('merchant', 'NOUN'), ('cool', 'ADJ'), ('rebroadcast', 'VERB'), ('tonight', 'NOUN'), ('pbs', 'PROPN'), ('check', 'VERB'), ('local', 'ADJ'), ('listing', 'NOUN'), ('set', 'VERB'), ('tivo', 'NOUN'), ('vcr', 'NOUN'), ('watch', 'VERB'), ('dslless', 'NOUN'), ('day', 'NOUN'), ('suppose', 'VERB'), ('compare', 'VERB'), ('company', 'NOUN'), ('pretty', 'ADV'), ('snappy', 'ADJ'), ('service', 'NOUN'), ('day', 'NOUN'), ('dsl', 'NOUN'), ('feed', 'NOUN'), ('give', 'VERB'), ('official', 'ADJ'), ('word', 'NOUN'), ('today', 'NOUN'), ('sutte', 'VERB'), ('foreseeable', 'ADJ'), ('future', 'NOUN'), ('go', 'VERB'), ('suck', 'NOUN'), ('look', 'VERB'), ('like', 'ADP'), ('plastic', 'NOUN'), ('continue', 'VERB'), ('feed', 'NOUN'), ('suck', 'NOUN'), ('online', 'ADJ'), ('year', 'NOUN'), ('excellent', 'ADJ'), ('hopefully', 'ADV'), ('pull', 'VERB'), ('funk', 'NOUN'), ('come', 'VERB'), ('form', 'NOUN'), ('month', 'NOUN'), ('jason', 'PROPN'), ('kottke', 'PROPN'), ('great', 'ADJ'), ('picture', 'NOUN'), ('louvre', 'NOUN'), ('today', 'NOUN'), ('great', 'ADJ'), ('roadtrip', 'NOUN'), ('article', 'NOUN'), ('mark', 'PROPN'), ('frauenfelder', 'PROPN'), ('magazine', 'NOUN'), ('half', 'ADJ'), ('century', 'NOUN'), ('ago', 'ADV'), ('street', 'NOUN'), ('southern', 'PROPN'), ('california', 'PROPN'), ('fill', 'VERB'), ('flamboyant', 'ADJ'), ('tower', 'NOUN'), ('consumerism', 'NOUN'), ('spire', 'NOUN'), ('obelisk', 'NOUN'), ('beacon', 'NOUN'), ('transmit', 'VERB'), ('neon', 'NOUN'), ('fortify', 'VERB'), ('message', 'NOUN'), ('optimism', 'NOUN'), ('family', 'NOUN'), ('ride', 'VERB'), ('car', 'NOUN'), ('space', 'NOUN'), ('age', 'NOUN'), ('tailfin', 'NOUN'), ('life', 'NOUN'), ('good', 'ADJ'), ('marvel', 'NOUN'), ('modern', 'ADJ'), ('science', 'NOUN'), ('make', 'VERB'), ('world', 'NOUN'), ('new', 'ADJ'), ('tomorrow', 'NOUN'), ('bill', 'PROPN'), ('frisell', 'PROPN'), ('late', 'ADJ'), ('album', 'NOUN'), ('blue', 'NOUN'), ('dream', 'NOUN'), ('arrive', 'VERB'), ('mail', 'NOUN'), ('today', 'NOUN'), ('confirm', 'VERB'), ('suspect', 'VERB'), ('get', 'VERB'), ('frisell', 'ADJ'), ('blogdex', 'NOUN'), ('spider', 'NOUN'), ('crawl', 'VERB'), ('blog', 'NOUN'), ('generate', 'VERB'), ('list', 'NOUN'), ('link', 'VERB'), ('site', 'NOUN'), ('buck', 'NOUN'), ('say', 'VERB'), ('blogdex', 'NOUN'), ('number', 'NOUN'), ('tomorrow', 'NOUN'), ('live', 'VERB'), ('dangerously', 'ADV'), ('hotsynce', 'VERB'), ('palmpilot', 'NOUN'), ('couple', 'NOUN'), ('month', 'NOUN'), ('long', 'ADV'), ('crape', 'VERB'), ('stay', 'VERB'), ('tune', 'VERB'), ('year', 'NOUN'), ('webzine', 'NOUN'), ('conference', 'NOUN'), ('nyc', 'PROPN'), ('look', 'VERB'), ('like', 'SCONJ'), ('go', 'VERB'), ('coverage', 'NOUN'), ('current', 'ADJ'), ('issue', 'NOUN'), ('mindjack', 'NOUN'), ('look', 'VERB'), ('summer', 'NOUN'), ('reading', 'NOUN'), ('canadian', 'ADJ'), ('medium', 'NOUN'), ('theorist', 'NOUN'), ('canadian', 'ADJ'), ('media', 'NOUN'), ('resource', 'NOUN'), ('find', 'VERB'), ('read', 'VERB'), ('boe', 'VERB'), ('boe', 'VERB'), ('weblog', 'NOUN'), ('notice', 'VERB'), ('link', 'NOUN'), ('mark', 'NOUN'), ('cory', 'ADJ'), ('garage', 'NOUN'), ('flea', 'NOUN'), ('market', 'NOUN'), ('find', 'VERB'), ('today', 'NOUN'), ('man', 'NOUN'), ('uninstalle', 'VERB'), ('mcafee', 'NOUN'), ('viruscan', 'NOUN'), ('computer', 'NOUN'), ('twice', 'ADV'), ('fast', 'ADV'), ('find', 'VERB'), ('virus', 'NOUN'), ('scanner', 'NOUN'), ('memory', 'NOUN'), ('appetite', 'NOUN'), ('mindjack', 'NOUN'), ('come', 'VERB'), ('keyboard', 'NOUN'), ('like', 'ADP'), ('anymore', 'ADV'), ('underwood', 'ADJ'), ('portable', 'NOUN'), ('mention', 'VERB'), ('day', 'NOUN'), ('staroffice', 'NOUN'), ('look', 'VERB'), ('like', 'SCONJ'), ('big', 'ADJ'), ('improvement', 'NOUN'), ('current', 'ADJ'), ('version', 'NOUN'), ('staroffice', 'NOUN'), ('alternative', 'NOUN'), ('powerpoint', 'NOUN'), ('sluggishness', 'NOUN'), ('mention', 'VERB'), ('article', 'NOUN'), ('stop', 'VERB'), ('regularly', 'ADV'), ('synapse', 'NOUN'), ('offiicially', 'ADV'), ('open', 'ADJ'), ('come', 'VERB'), ('stop', 'VERB'), ('synapse', 'NOUN'), ('live', 'ADJ'), ('publicly', 'ADV'), ('launch', 'VERB'), ('late', 'ADJ'), ('tonight', 'NOUN'), ('look', 'VERB'), ('conversation', 'NOUN'), ('go', 'VERB'), ('like', 'VERB'), ('help', 'VERB'), ('join', 'VERB'), ('copy', 'NOUN'), ('word', 'NOUN'), ('word', 'NOUN'), ('word', 'NOUN'), ('arrive', 'VERB'), ('day', 'NOUN'), ('good', 'ADJ'), ('unintentionally', 'ADV'), ('start', 'VERB'), ('typewriter', 'NOUN'), ('collection', 'NOUN'), ('give', 'VERB'), ('underwood', 'ADJ'), ('portable', 'ADJ'), ('typewriter', 'NOUN'), ('near', 'ADP'), ('perfect', 'ADJ'), ('condition', 'NOUN'), ('yesterday', 'NOUN'), ('cool', 'ADJ'), ('stuff', 'NOUN'), ('pick', 'VERB'), ('egyptian', 'ADJ'), ('painting', 'NOUN'), ('papyrus', 'NOUN'), ('estate', 'NOUN'), ('auction', 'NOUN'), ('day', 'NOUN'), ('actually', 'ADV'), ('well', 'ADJ'), ('condition', 'NOUN'), ('picture', 'NOUN'), ('make', 'VERB'), ('look', 'VERB'), ('image', 'NOUN'), ('find', 'VERB'), ('online', 'ADV'), ('finally', 'ADV'), ('set', 'VERB'), ('definite', 'ADJ'), ('launch', 'NOUN'), ('date', 'NOUN'), ('synapse', 'NOUN'), ('mindjack', 'NOUN'), ('long', 'ADJ'), ('development', 'NOUN'), ('online', 'ADJ'), ('community', 'NOUN'), ('monday', 'PROPN'), ('week', 'NOUN'), ('stay', 'VERB'), ('tune', 'VERB'), ('good', 'ADJ'), ('apod', 'PROPN'), ('august', 'PROPN'), ('lagoon', 'NOUN'), ('nebula', 'NOUN'), ('color', 'NOUN'), ('new', 'ADJ'), ('wallpaper', 'NOUN'), ('go', 'VERB'), ('atlantic', 'PROPN'), ('canada', 'PROPN'), ('large', 'ADJ'), ('flea', 'NOUN'), ('market', 'NOUN'), ('sussex', 'NOUN'), ('new', 'ADJ'), ('brunswick', 'NOUN'), ('yesterday', 'NOUN'), ('get', 'VERB'), ('sun', 'NOUN'), ('burn', 'NOUN'), ('buck', 'NOUN'), ('accord', 'VERB'), ('site', 'NOUN'), ('model', 'NOUN'), ('work', 'VERB'), ('great', 'ADV'), ('apart', 'ADV'), ('stick', 'VERB'), ('key', 'NOUN'), ('find', 'VERB'), ('ribbon', 'NOUN'), ('staple', 'NOUN'), ('sell', 'VERB'), ('kensington', 'PROPN'), ('videocam', 'NOUN'), ('yesterday', 'NOUN'), ('result', 'NOUN'), ('be', 'VERB'), ('webcam', 'NOUN'), ('reload', 'ADV'), ('want', 'VERB'), ('be', 'VERB'), ('changin', 'ADJ'), ('holy', 'ADJ'), ('shit', 'NOUN'), ('accord', 'VERB'), ('advertising', 'NOUN'), ('age', 'NOUN'), ('industry', 'NOUN'), ('standard', 'NOUN'), ('cease', 'VERB'), ('publication', 'NOUN'), ('blogbuddy', 'ADJ'), ('look', 'VERB'), ('useful', 'ADJ'), ('window', 'NOUN'), ('base', 'VERB'), ('blogger', 'NOUN'), ('evhead', 'NOUN'), ('doc', 'PROPN'), ('searl', 'NOUN'), ('weblog', 'VERB'), ('discover', 'VERB'), ('great', 'ADJ'), ('weblog', 'NOUN'), ('village', 'NOUN'), ('voice', 'NOUN'), ('feature', 'NOUN'), ('high', 'ADJ'), ('speed', 'NOUN'), ('free', 'VERB'), ('peter', 'PROPN'), ('meyer', 'NOUN'), ('good', 'ADJ'), ('article', 'NOUN'), ('wireless', 'ADJ'), ('network', 'NOUN'), ('nyc', 'PROPN'), ('new', 'ADJ'), ('mini', 'NOUN'), ('blog', 'NOUN'), ('peek', 'NOUN'), ('recent', 'ADJ'), ('medium', 'NOUN'), ('consumption', 'NOUN'), ('well', 'ADV'), ('buy', 'VERB'), ('add', 'VERB'), ('incentive', 'NOUN'), ('thing', 'NOUN'), ('update', 'VERB'), ('today', 'NOUN'), ('davenet', 'NOUN'), ('great', 'ADJ'), ('explanation', 'NOUN'), ('blogger', 'NOUN'), ('api', 'NOUN'), ('mean', 'VERB'), ('copy', 'NOUN'), ('word', 'NOUN'), ('word', 'NOUN'), ('word', 'NOUN'), ('magazine', 'NOUN'), ('way', 'NOUN'), ('new', 'PROPN'), ('zealand', 'PROPN'), ('today', 'NOUN'), ('good', 'ADJ'), ('spam', 'NOUN'), ('dear', 'ADJ'), ('sir', 'NOUN'), ('madam', 'PROPN'), ('supply', 'VERB'), ('high', 'ADJ'), ('quality', 'NOUN'), ('fly', 'VERB'), ('shoe', 'NOUN'), ('fly', 'VERB'), ('shoe', 'NOUN'), ('let', 'VERB'), ('walk', 'VERB'), ('normally', 'ADV'), ('slide', 'VERB'), ('fly', 'VERB'), ('sort', 'NOUN'), ('fashionable', 'ADJ'), ('product', 'NOUN'), ('fob', 'NOUN'), ('price', 'NOUN'), ('usd', 'ADJ'), ('pair', 'NOUN'), ('welcome', 'ADJ'), ('order', 'NOUN'), ('look', 'VERB'), ('detail', 'NOUN'), ('photo', 'NOUN'), ('wood', 'NOUN'), ('shoe', 'NOUN'), ('bamoo', 'ADJ'), ('mat', 'NOUN'), ('wood', 'NOUN'), ('flooring', 'NOUN'), ('aluminu', 'ADJ'), ('plastic', 'ADJ'), ('decorate', 'ADJ'), ('panel', 'NOUN'), ('etc', 'X'), ('look', 'VERB'), ('good', 'ADJ'), ('regard', 'NOUN'), ('long', 'ADV'), ('satrap', 'NOUN'), ('guilin', 'PROPN'), ('lingui', 'VERB'), ('shengpe', 'VERB'), ('xiaoxue', 'PROPN'), ('bamboo', 'PROPN'), ('wood', 'NOUN'), ('manufactory', 'NOUN'), ('address', 'NOUN'), ('rongshan', 'PROPN'), ('road', 'NOUN'), ('lingui', 'NOUN'), ('guilin', 'PROPN'), ('guang', 'PROPN'), ('china', 'PROPN'), ('tel', 'PROPN'), ('fax', 'NOUN'), ('e', 'NOUN'), ('mail', 'NOUN'), ('web', 'NOUN'), ('site', 'NOUN'), ('mindjack', 'NOUN'), ('excerpt', 'NOUN'), ('cory', 'ADJ'), ('doctorow', 'NOUN'), ('novel', 'NOUN'), ('progress', 'NOUN'), ('eastern', 'ADJ'), ('standard', 'PROPN'), ('tribe', 'PROPN'), ('cory', 'PROPN'), ('take', 'VERB'), ('discussion', 'NOUN'), ('synapse', 'NOUN'), ('skip', 'VERB'), ('read', 'VERB'), ('issue', 'NOUN'), ('wire', 'VERB'), ('miss', 'VERB'), ('great', 'ADJ'), ('private', 'ADJ'), ('tokyo', 'PROPN'), ('william', 'PROPN'), ('gibson', 'PROPN'), ('coltrane', 'NOUN'), ('man', 'NOUN'), ('myth', 'NOUN'), ('new', 'PROPN'), ('york', 'PROPN'), ('times', 'PROPN'), ('photgraphica', 'PROPN'), ('absence', 'NOUN'), ('discover', 'VERB'), ('great', 'ADJ'), ('photolog', 'NOUN'), ('start', 'VERB'), ('call', 'VERB'), ('sure', 'ADJ'), ('pixelpile', 'ADJ'), ('common', 'ADJ'), ('thread', 'NOUN'), ('digital', 'ADJ'), ('camera', 'NOUN'), ('come', 'VERB'), ('british', 'PROPN'), ('columbia', 'PROPN'), ('great', 'ADJ'), ('space', 'NOUN'), ('art', 'NOUN'), ('find', 'VERB'), ('object', 'NOUN'), ('mindjack', 'NOUN'), ('slashdotte', 'VERB'), ('boingboinge', 'VERB'), ('prolific', 'NOUN'), ('david', 'PROPN'), ('bowie', 'PROPN'), ('excellent', 'ADJ'), ('cover', 'NOUN'), ('america', 'PROPN'), ('paul', 'PROPN'), ('simon', 'PROPN'), ('real', 'ADJ'), ('audio', 'NOUN'), ('novemember', 'NOUN'), ('national', 'ADJ'), ('novel', 'NOUN'), ('write', 'VERB'), ('month', 'NOUN'), ('goal', 'NOUN'), ('write', 'VERB'), ('page', 'NOUN'), ('word', 'NOUN'), ('novel', 'NOUN'), ('november', 'PROPN'), ('think', 'VERB'), ('start', 'VERB'), ('try', 'VERB'), ('write', 'VERB'), ('short', 'ADJ'), ('story', 'NOUN'), ('month', 'NOUN'), ('great', 'ADJ'), ('gallery', 'NOUN'), ('low', 'ADJ'), ('res', 'NOUN'), ('picture', 'NOUN'), ('take', 'VERB'), ('pencam', 'NOUN'), ('mention', 'VERB'), ('cool', 'ADJ'), ('interface', 'NOUN'), ('boingboe', 'VERB'), ('thank', 'NOUN'), ('cool', 'ADJ'), ('blogback', 'NOUN'), ('comment', 'NOUN'), ('odyssey', 'NOUN'), ('yes', 'INTJ'), ('space', 'NOUN'), ('geek', 'NOUN'), ('watch', 'NOUN'), ('odyssey', 'NOUN'), ('enter', 'VERB'), ('mar', 'NOUN'), ('orbit', 'NOUN'), ('cross', 'VERB'), ('finger', 'NOUN'), ('mindjack', 'NOUN'), ('look', 'VERB'), ('writer', 'NOUN'), ('preferably', 'ADJ'), ('one', 'NOUN'), ('commit', 'VERB'), ('write', 'VERB'), ('article', 'NOUN'), ('month', 'NOUN'), ('pay', 'VERB'), ('right', 'ADV'), ('promise', 'VERB'), ('pay', 'VERB'), ('soon', 'ADV'), ('money', 'NOUN'), ('interested', 'ADJ'), ('drop', 'VERB'), ('email', 'NOUN'), ('include', 'VERB'), ('sample', 'NOUN'), ('writing', 'NOUN'), ('real', 'ADV'), ('soon', 'ADV'), ('feel', 'VERB'), ('free', 'ADJ'), ('pass', 'VERB'), ('think', 'VERB'), ('interested', 'ADJ'), ('special', 'ADJ'), ('feature', 'NOUN'), ('new', 'ADJ'), ('monty', 'ADJ'), ('python', 'NOUN'), ('holy', 'ADJ'), ('grail', 'PROPN'), ('dvd', 'PROPN'), ('region', 'NOUN'), ('encoding', 'NOUN'), ('canada', 'PROPN'), ('color', 'NOUN'), ('close', 'VERB'), ('caption', 'VERB'), ('widescreen', 'VERB'), ('commentary', 'NOUN'), ('terry', 'PROPN'), ('gilliam', 'PROPN'), ('terry', 'PROPN'), ('jones', 'PROPN'), ('plus', 'CCONJ'), ('general', 'ADJ'), ('complaint', 'NOUN'), ('biting', 'NOUN'), ('john', 'PROPN'), ('cleese', 'PROPN'), ('eric', 'PROPN'), ('idle', 'PROPN'), ('michael', 'PROPN'), ('palin', 'PROPN'), ('theatrical', 'ADJ'), ('high', 'ADJ'), ('definition', 'NOUN'), ('widescreen', 'VERB'), ('presentation', 'NOUN'), ('pink', 'ADJ'), ('frilly', 'ADV'), ('edge', 'VERB'), ('subtitle', 'NOUN'), ('people', 'NOUN'), ('like', 'VERB'), ('film', 'NOUN'), ('take', 'VERB'), ('shakespeare', 'PROPN'), ('henry', 'PROPN'), ('iv', 'PROPN'), ('ii', 'PROPN'), ('screen', 'NOUN'), ('screenplay', 'NOUN'), ('read', 'VERB'), ('screenplay', 'NOUN'), ('watch', 'VERB'), ('film', 'NOUN'), ('exciting', 'ADJ'), ('follow', 'VERB'), ('killer', 'NOUN'), ('rabbit', 'NOUN'), ('feature', 'NOUN'), ('special', 'ADJ'), ('version', 'NOUN'), ('hard', 'NOUN'), ('hear', 'VERB'), ('glorious', 'ADJ'), ('extra', 'ADJ'), ('second', 'NOUN'), ('absolutely', 'ADV'), ('free', 'ADJ'), ('mindless', 'ADJ'), ('sing', 'NOUN'), ('along', 'NOUN'), ('join', 'VERB'), ('michael', 'PROPN'), ('palin', 'PROPN'), ('terry', 'PROPN'), ('jones', 'PROPN'), ('special', 'ADJ'), ('documentary', 'NOUN'), ('quest', 'NOUN'), ('holy', 'ADJ'), ('grail', 'NOUN'), ('location', 'NOUN'), ('use', 'VERB'), ('coconut', 'NOUN'), ('educational', 'ADJ'), ('film', 'NOUN'), ('monty', 'ADJ'), ('python', 'NOUN'), ('holy', 'ADJ'), ('grail', 'PROPN'), ('lego', 'PROPN'), ('location', 'NOUN'), ('python', 'NOUN'), ('genuine', 'ADJ'), ('min', 'NOUN'), ('location', 'NOUN'), ('report', 'NOUN'), ('bbc', 'PROPN'), ('film', 'PROPN'), ('night', 'NOUN'), ('broadcast', 'VERB'), ('december', 'PROPN'), ('interactive', 'ADJ'), ('cast', 'VERB'), ('directory', 'NOUN'), ('discover', 'NOUN'), ('role', 'NOUN'), ('michael', 'PROPN'), ('palin', 'PROPN'), ('play', 'VERB'), ('ton', 'NOUN'), ('terry', 'PROPN'), ('gilliam', 'PROPN'), ('original', 'ADJ'), ('sketch', 'NOUN'), ('plus', 'CCONJ'), ('poster', 'NOUN'), ('scene', 'NOUN'), ('photo', 'NOUN'), ('hitherto', 'NOUN'), ('unseen', 'ADJ'), ('human', 'ADJ'), ('eye', 'NOUN'), ('load', 'NOUN'), ('old', 'ADJ'), ('rubbish', 'NOUN'), ('surprise', 'NOUN'), ('package', 'NOUN'), ('mystery', 'NOUN'), ('item', 'NOUN'), ('specially', 'ADV'), ('include', 'VERB'), ('mentally', 'ADV'), ('challenge', 'VERB'), ('director', 'NOUN'), ('recce', 'NOUN'), ('budget', 'NOUN'), ('widescreen', 'VERB'), ('letterbox', 'NOUN'), ('format', 'NOUN'), ('wait', 'VERB'), ('cory', 'ADJ'), ('doctorow', 'NOUN'), ('start', 'VERB'), ('record', 'VERB'), ('audio', 'ADJ'), ('version', 'NOUN'), ('story', 'NOUN'), ('start', 'VERB'), ('market', 'NOUN'), ('market', 'NOUN'), ('branding', 'NOUN'), ('billy', 'ADJ'), ('bailey', 'NOUN'), ('download', 'VERB'), ('find', 'VERB'), ('time', 'NOUN'), ('man', 'NOUN'), ('matt', 'PROPN'), ('hinrichs', 'PROPN'), ('scrubble', 'NOUN'), ('great', 'ADJ'), ('illustration', 'NOUN'), ('synapse', 'NOUN'), ('join', 'VERB'), ('redesign', 'VERB'), ('crap', 'NOUN'), ('order', 'VERB'), ('new', 'ADJ'), ('citizen', 'NOUN'), ('kane', 'PROPN'), ('dvd', 'PROPN'), ('place', 'NOUN'), ('day', 'NOUN'), ('today', 'NOUN'), ('find', 'VERB'), ('buck', 'NOUN'), ('cheap', 'ADJ'), ('infinite', 'ADJ'), ('matrix', 'NOUN'), ('whoohoo', 'PROPN'), ('mindjack', 'NOUN'), ('market', 'VERB'), ('x', 'PROPN'), ('examination', 'NOUN'), ('microsoft', 'PROPN'), ('marketing', 'NOUN'), ('xbox', 'PROPN'), ('windows', 'PROPN'), ('xp', 'PROPN'), ('hopefully', 'ADV'), ('article', 'NOUN'), ('jane', 'NOUN'), ('umami', 'PROPN'), ('tsunami', 'PROPN'), ('pinckard', 'PROPN'), ('justin', 'PROPN'), ('site', 'NOUN'), ('turn', 'VERB'), ('wonderful', 'ADJ'), ('resource', 'NOUN'), ('thing', 'NOUN'), ('cool', 'ADJ'), ('japanese', 'ADJ'), ('get', 'VERB'), ('start', 'VERB'), ('write', 'VERB'), ('anybody', 'PRON'), ('want', 'VERB'), ('pay', 'VERB'), ('watch', 'VERB'), ('map', 'NOUN'), ('territory', 'NOUN'), ('night', 'NOUN'), ('great', 'ADJ'), ('documentary', 'NOUN'), ('director', 'NOUN'), ('mark', 'PROPN'), ('neale', 'PROPN'), ('kind', 'ADJ'), ('send', 'VERB'), ('run', 'VERB'), ('magazine', 'NOUN'), ('perk', 'NOUN'), ('thing', 'NOUN'), ('consist', 'VERB'), ('william', 'PROPN'), ('gibson', 'PROPN'), ('sit', 'VERB'), ('limo', 'ADJ'), ('musing', 'NOUN'), ('cyberspace', 'NOUN'), ('religion', 'NOUN'), ('review', 'NOUN'), ('mindjack', 'NOUN'), ('couple', 'NOUN'), ('week', 'NOUN'), ('slashdot', 'NOUN'), ('effect', 'NOUN'), ('look', 'VERB'), ('like', 'ADP'), ('new', 'ADJ'), ('mindjack', 'NOUN'), ('today', 'NOUN'), ('astronomical', 'ADJ'), ('vision', 'NOUN'), ('chris', 'PROPN'), ('mckinstry', 'PROPN'), ('early', 'ADV'), ('cold', 'ADJ'), ('february', 'PROPN'), ('morning', 'NOUN'), ('look', 'VERB'), ('highly', 'ADV'), ('astigmatic', 'ADJ'), ('eye', 'NOUN'), ('professional', 'ADJ'), ('telescope', 'NOUN'), ('set', 'VERB'), ('jupiter', 'NOUN'), ('flawed', 'ADJ'), ('vision', 'NOUN'), ('long', 'ADJ'), ('white', 'ADJ'), ('metal', 'NOUN'), ('tube', 'NOUN'), ('finely', 'ADV'), ('manufacture', 'VERB'), ('piece', 'NOUN'), ('sophisticated', 'ADJ'), ('medical', 'ADJ'), ('equipment', 'NOUN'), ('let', 'VERB'), ('cloud', 'NOUN'), ('band', 'NOUN'), ('solar', 'ADJ'), ('system', 'NOUN'), ('large', 'ADJ'), ('planet', 'NOUN'), ('bright', 'ADJ'), ('point', 'NOUN'), ('handful', 'NOUN'), ('moon', 'NOUN'), ('mind', 'NOUN'), ('make', 'VERB'), ('feel', 'VERB'), ('shadow', 'NOUN'), ('shock', 'NOUN'), ('galileo', 'NOUN'), ('feel', 'VERB'), ('see', 'VERB'), ('sight', 'NOUN'), ('redesign', 'VERB'), ('mindjack', 'NOUN'), ('bit', 'NOUN'), ('load', 'VERB'), ('bit', 'NOUN'), ('fast', 'ADV'), ('look', 'VERB'), ('well', 'ADJ'), ('low', 'ADJ'), ('resolution', 'NOUN'), ('new', 'ADJ'), ('week', 'NOUN'), ('design', 'NOUN'), ('community', 'NOUN'), ('review', 'VERB'), ('david', 'PROPN'), ('brake', 'PROPN'), ('week', 'NOUN'), ('interview', 'NOUN'), ('derek', 'PROPN'), ('powazek', 'PROPN'), ('new', 'ADJ'), ('infinite', 'ADJ'), ('matrix', 'NOUN'), ('long', 'ADJ'), ('excerpt', 'NOUN'), ('cory', 'ADJ'), ('doctorow', 'NOUN'), ('new', 'ADJ'), ('novel', 'NOUN'), ('magic', 'ADJ'), ('kingdom', 'NOUN'), ('liberty', 'PROPN'), ('square', 'PROPN'), ('ad', 'NOUN'), ('hocs', 'PROPN'), ('staunch', 'ADJ'), ('conservative', 'NOUN'), ('magic', 'ADJ'), ('kingdom', 'NOUN'), ('preserve', 'VERB'), ('wheezing', 'NOUN'), ('technology', 'NOUN'), ('face', 'NOUN'), ('park', 'NOUN'), ('change', 'VERB'), ('daily', 'ADV'), ('newcomer', 'NOUN'), ('old', 'ADJ'), ('timer', 'NOUN'), ('rest', 'NOUN'), ('park', 'NOUN'), ('support', 'NOUN'), ('look', 'VERB'), ('like', 'SCONJ'), ('successful', 'ADJ'), ('left', 'ADJ'), ('corner', 'NOUN'), ('cory', 'ADJ'), ('doctorow', 'NOUN'), ('blog', 'NOUN'), ('page', 'NOUN'), ('excuse', 'NOUN'), ('post', 'VERB'), ('blog', 'NOUN'), ('lately', 'ADV'), ('try', 'VERB'), ('kick', 'NOUN'), ('pant', 'NOUN'), ('x', 'PROPN'), ('mas', 'ADJ'), ('break', 'NOUN'), ('thing', 'NOUN'), ('go', 'VERB'), ('wonderful', 'ADJ'), ('gallery', 'NOUN'), ('atari', 'PROPN'), ('concept', 'NOUN'), ('illustration', 'NOUN'), ('boingboing', 'NOUN'), ('redesign', 'VERB'), ('mindjack', 'NOUN'), ('page', 'NOUN'), ('bit', 'NOUN'), ('include', 'VERB'), ('entire', 'ADJ'), ('daily', 'ADJ'), ('relay', 'NOUN'), ('blog', 'NOUN'), ('excerpt', 'NOUN'), ('denizen', 'NOUN'), ('new', 'ADJ'), ('weblog', 'NOUN'), ('classic', 'ADJ'), ('gaming', 'NOUN'), ('creator', 'NOUN'), ('home', 'NOUN'), ('underdog', 'NOUN'), ('mindjack', 'NOUN'), ('review', 'NOUN'), ('xircom', 'PROPN'), ('wireless', 'PROPN'), ('lan', 'PROPN'), ('module', 'NOUN'), ('palm', 'NOUN'), ('handheld', 'NOUN'), ('subject', 'NOUN'), ('cory', 'ADJ'), ('doctorow', 'NOUN'), ('interesting', 'ADJ'), ('year', 'NOUN'), ('ago', 'ADV'), ('sea', 'NOUN'), ('change', 'NOUN'), ('computing', 'NOUN'), ('experience', 'NOUN'), ('day', 'NOUN'), ('realize', 'VERB'), ('start', 'VERB'), ('view', 'VERB'), ('computer', 'NOUN'), ('connect', 'VERB'), ('internet', 'NOUN'), ('fancy', 'ADJ'), ('game', 'NOUN'), ('console', 'NOUN'), ('cum', 'NOUN'), ('jump', 'VERB'), ('typewriter', 'NOUN'), ('work', 'VERB'), ('airplane', 'NOUN'), ('caf', 'NOUN'), ('feel', 'VERB'), ('wrong', 'ADJ'), ('feeling', 'NOUN'), ('deepen', 'VERB'), ('magnify', 'VERB'), ('thousandfold', 'NOUN'), ('day', 'NOUN'), ('get', 'VERB'), ('ibook', 'NOUN'), ('airport', 'NOUN'), ('base', 'NOUN'), ('station', 'NOUN'), ('wireless', 'ADJ'), ('networking', 'NOUN'), ('laptop', 'NOUN'), ('know', 'VERB'), ('talk', 'VERB'), ('snatch', 'VERB'), ('internet', 'NOUN'), ('air', 'NOUN'), ('experience', 'NOUN'), ('will', 'AUX'), ('willingly', 'ADV'), ('tivo', 'NOUN'), ('stop', 'VERB'), ('watch', 'VERB'), ('tv', 'NOUN'), ('hotel', 'NOUN'), ('room', 'NOUN'), ('choose', 'VERB'), ('thirty', 'NUM'), ('hour', 'NOUN'), ('custom', 'ADV'), ('record', 'VERB'), ('programming', 'NOUN'), ('skip', 'ADJ'), ('commercial', 'NOUN'), ('tivo', 'NOUN'), ('ruin', 'VERB'), ('dumb', 'ADJ'), ('tv', 'NOUN'), ('ruin', 'VERB'), ('wired', 'ADJ'), ('networking', 'NOUN'), ('networking', 'NOUN'), ('keep', 'VERB'), ('get', 'VERB'), ('well', 'ADJ'), ('technology', 'NOUN'), ('movement', 'NOUN'), ('ad', 'NOUN'), ('hoc', 'ADJ'), ('world', 'NOUN'), ('open', 'ADJ'), ('base', 'NOUN'), ('station', 'NOUN'), ('world', 'NOUN'), ('haul', 'VERB'), ('equip', 'VERB'), ('device', 'NOUN'), ('start', 'VERB'), ('hunt', 'VERB'), ('network', 'NOUN'), ('major', 'ADJ'), ('city', 'NOUN'), ('chance', 'NOUN'), ('find', 'VERB'), ('block', 'NOUN'), ('forget', 'VERB'), ('g', 'NOUN'), ('blackberry', 'NOUN'), ('pale', 'ADJ'), ('imitation', 'NOUN'), ('connectivity', 'NOUN'), ('community', 'NOUN'), ('wireless', 'NOUN'), ('real', 'ADJ'), ('shit', 'NOUN'), ('fast', 'ADV'), ('unmetered', 'ADJ'), ('insecure', 'ADJ'), ('control', 'NOUN'), ('mindjack', 'NOUN'), ('t', 'NOUN'), ('shirt', 'NOUN'), ('available', 'ADJ'), ('high', 'ADJ'), ('quality', 'NOUN'), ('genuine', 'ADJ'), ('screenprinted', 'ADJ'), ('shirt', 'NOUN'), ('cafe', 'NOUN'), ('press', 'NOUN'), ('stuff', 'NOUN'), ('thank', 'NOUN'), ('brunetto', 'NOUN'), ('look', 'VERB'), ('shirt', 'NOUN'), ('print', 'VERB'), ('highly', 'ADV'), ('recommend', 'VERB'), ('available', 'ADJ'), ('mindjack', 'NOUN'), ('coffee', 'NOUN'), ('mug', 'NOUN'), ('feature', 'VERB'), ('illustration', 'NOUN'), ('matt', 'PROPN'), ('hinrichs', 'PROPN'), ('cafe', 'NOUN'), ('press', 'NOUN'), ('one', 'NOUN'), ('buy', 'VERB'), ('build', 'VERB'), ('robot', 'NOUN'), ('perpetual', 'ADJ'), ('humanoid', 'ADJ'), ('model', 'NOUN'), ('want', 'VERB'), ('especially', 'ADV'), ('come', 'VERB'), ('sound', 'ADJ'), ('effect', 'NOUN'), ('video', 'NOUN'), ('february', 'PROPN'), ('need', 'VERB'), ('day', 'NOUN'), ('load', 'NOUN'), ('work', 'NOUN'), ('suppose', 'VERB'), ('blog', 'NOUN'), ('oranger', 'ADJ'), ('daily', 'ADJ'), ('relay', 'NOUN'), ('run', 'VERB'), ('email', 'NOUN'), ('work', 'VERB'), ('let', 'VERB'), ('know', 'VERB'), ('problem', 'NOUN'), ('crap', 'NOUN'), ('email', 'NOUN'), ('address', 'NOUN'), ('mess', 'VERB'), ('need', 'VERB'), ('reach', 'VERB'), ('use', 'VERB'), ('think', 'VERB'), ('mattel', 'NOUN'), ('make', 'VERB'), ('classic', 'ADJ'), ('electronic', 'ADJ'), ('football', 'NOUN'), ('game', 'NOUN'), ('think', 'VERB'), ('amazing', 'ADJ'), ('thing', 'NOUN'), ('get', 'VERB'), ('atari', 'NOUN'), ('great', 'ADJ'), ('little', 'ADJ'), ('chinese', 'ADJ'), ('grocery', 'NOUN'), ('street', 'NOUN'), ('apartment', 'NOUN'), ('find', 'VERB'), ('try', 'VERB'), ('today', 'NOUN'), ('iron', 'NOUN'), ('buddha', 'NOUN'), ('tea', 'NOUN'), ('good', 'ADJ'), ('tea', 'NOUN'), ('try', 'VERB'), ('jim', 'PROPN'), ('lai', 'PROPN'), ('report', 'VERB'), ('digifest', 'NOUN'), ('new', 'ADJ'), ('issue', 'NOUN'), ('mindjack', 'NOUN'), ('way', 'NOUN'), ('expectation', 'NOUN'), ('go', 'VERB'), ('digifest', 'VERB'), ('pretty', 'ADJ'), ('picture', 'NOUN'), ('glitzy', 'ADJ'), ('art', 'NOUN'), ('advertising', 'NOUN'), ('piece', 'NOUN'), ('possibly', 'ADV'), ('cool', 'ADJ'), ('tech', 'NOUN'), ('pleasantly', 'ADV'), ('surprise', 'VERB'), ('breadth', 'NOUN'), ('depth', 'NOUN'), ('presentation', 'NOUN'), ('wednesday', 'PROPN'), ('night', 'NOUN'), ('hit', 'VERB'), ('medium', 'NOUN'), ('session', 'NOUN'), ('get', 'VERB'), ('graphic', 'NOUN'), ('big', 'ADJ'), ('screen', 'NOUN'), ('theme', 'NOUN'), ('international', 'ADJ'), ('digital', 'ADJ'), ('medium', 'NOUN'), ('festival', 'NOUN'), ('d', 'NOUN'), ('challenge', 'NOUN'), ('dimension', 'NOUN'), ('deem', 'VERB'), ('festival', 'NOUN'), ('success', 'NOUN'), ('overall', 'ADV'), ('end', 'NOUN'), ('festival', 'NOUN'), ('apparent', 'ADJ'), ('speculation', 'NOUN'), ('constitute', 'VERB'), ('fourth', 'ADJ'), ('dimension', 'NOUN'), ('spoil', 'VERB'), ('ending', 'NOUN'), ('get', 'VERB'), ('way', 'NOUN'), ('festival', 'NOUN'), ('original', 'ADJ'), ('vision', 'NOUN'), ('local', 'ADJ'), ('toronto', 'PROPN'), ('participation', 'NOUN'), ('quickly', 'ADV'), ('expand', 'VERB'), ('scope', 'NOUN'), ('arrival', 'NOUN'), ('international', 'ADJ'), ('submission', 'NOUN'), ('soire', 'NOUN'), ('keynote', 'NOUN'), ('attendee', 'NOUN'), ('snack', 'VERB'), ('cater', 'VERB'), ('food', 'NOUN'), ('mingle', 'NOUN'), ('people', 'NOUN'), ('dress', 'VERB'), ('hip', 'NOUN'), ('stylishly', 'ADV'), ('feel', 'VERB'), ('underdressed', 'ADJ'), ('good', 'ADJ'), ('casual', 'ADJ'), ('face', 'NOUN'), ('cool', 'ADJ'), ('business', 'NOUN'), ('card', 'NOUN'), ('flow', 'VERB'), ('like', 'ADP'), ('water', 'NOUN'), ('get', 'VERB'), ('ibook', 'NOUN'), ('osx', 'PROPN'), ('sure', 'ADV'), ('take', 'VERB'), ('ajuste', 'VERB'), ('impressed', 'ADJ'), ('far', 'ADV'), ('neil', 'PROPN'), ('gaiman', 'PROPN'), ('writer', 'NOUN'), ('answer', 'NOUN'), ('question', 'NOUN'), ('worry', 'VERB'), ('job', 'NOUN'), ('security', 'NOUN'), ('writer', 'NOUN'), ('good', 'ADJ'), ('indication', 'NOUN'), ('writer', 'NOUN'), ('hate', 'VERB'), ('writing', 'NOUN'), ('good', 'ADJ'), ('know', 'VERB'), ('writer', 'NOUN'), ('hate', 'VERB'), ('writing', 'NOUN'), ('miserable', 'ADJ'), ('new', 'ADJ'), ('mindjack', 'NOUN'), ('report', 'NOUN'), ('sxsw', 'PROPN'), ('interactive', 'ADJ'), ('jon', 'PROPN'), ('lebkowksy', 'PROPN'), ('photo', 'NOUN'), ('paul', 'PROPN'), ('bausch', 'PROPN'), ('year', 'NOUN'), ('south', 'NOUN'), ('southwest', 'PROPN'), ('interactive', 'ADJ'), ('conference', 'NOUN'), ('lean', 'ADJ'), ('mean', 'VERB'), ('attend', 'VERB'), ('mainly', 'ADV'), ('core', 'NOUN'), ('group', 'NOUN'), ('edgy', 'ADJ'), ('net', 'ADJ'), ('whackadista', 'NOUN'), ('conference', 'NOUN'), ('interesting', 'ADJ'), ('vibe', 'NOUN'), ('like', 'ADP'), ('wow', 'INTJ'), ('glad', 'VERB'), ('goddam', 'PROPN'), ('dotcom', 'NOUN'), ('splurge', 'NOUN'), ('let', 'VERB'), ('real', 'ADJ'), ('depth', 'NOUN'), ('way', 'ADV'), ('compelling', 'ADJ'), ('ecommerce', 'NOUN'), ('kind', 'NOUN'), ('project', 'NOUN'), ('mbas', 'PROPN'), ('bring', 'VERB'), ('table', 'NOUN'), ('start', 'VERB'), ('call', 'VERB'), ('internet', 'NOUN'), ('industry', 'NOUN'), ('create', 'VERB'), ('concept', 'NOUN'), ('ipo', 'NOUN'), ('casino', 'NOUN'), ('mindjack', 'NOUN'), ('short', 'ADJ'), ('break', 'NOUN'), ('great', 'ADJ'), ('article', 'NOUN'), ('douglas', 'PROPN'), ('rushkoff', 'PROPN'), ('conform', 'VERB'), ('machine', 'NOUN'), ('read', 'VERB'), ('futurefeedforward', 'NOUN'), ('new', 'PROPN'), ('york', 'PROPN'), ('abc', 'PROPN'), ('news', 'PROPN'), ('magazine', 'PROPN'), ('reporter', 'NOUN'), ('john', 'PROPN'), ('stossel', 'PROPN'), ('accidentally', 'ADV'), ('decapitate', 'VERB'), ('late', 'ADV'), ('month', 'NOUN'), ('shoot', 'VERB'), ('segment', 'NOUN'), ('debunk', 'VERB'), ('myth', 'NOUN'), ('wind', 'NOUN'), ('power', 'NOUN'), ('return', 'VERB'), ('air', 'NOUN'), ('wednesday', 'PROPN'), ('special', 'ADJ'), ('interview', 'NOUN'), ('anchor', 'NOUN'), ('barbara', 'PROPN'), ('walters', 'PROPN'), ('amazing', 'ADJ'), ('story', 'NOUN'), ('explain', 'VERB'), ('walter', 'NOUN'), ('people', 'NOUN'), ('survive', 'VERB'), ('decapitation', 'NOUN'), ('let', 'VERB'), ('gut', 'NOUN'), ('determination', 'NOUN'), ('job', 'NOUN'), ('real', 'ADJ'), ('triumph', 'NOUN'), ('human', 'ADJ'), ('spirit', 'NOUN'), ('favorite', 'ADJ'), ('cory', 'ADJ'), ('doctorow', 'NOUN'), ('cory', 'ADJ'), ('doctorow', 'NOUN'), ('get', 'VERB'), ('new', 'ADJ'), ('gig', 'NOUN'), ('eff', 'PROPN'), ('remind', 'VERB'), ('suporte', 'VERB'), ('nearly', 'ADV'), ('rest', 'NOUN'), ('march', 'PROPN'), ('decide', 'VERB'), ('donate', 'VERB'), ('mindjack', 'NOUN'), ('t', 'NOUN'), ('shirt', 'NOUN'), ('sell', 'VERB'), ('eff', 'PROPN'), ('daily', 'ADJ'), ('relay', 'NOUN'), ('finally', 'ADV'), ('blogger', 'NOUN'), ('interim', 'ADJ'), ('solution', 'NOUN'), ('probably', 'ADV'), ('switch', 'VERB'), ('blogger', 'NOUN'), ('pro', 'NOUN'), ('moveable', 'ADJ'), ('type', 'NOUN'), ('problem', 'NOUN'), ('sort', 'VERB'), ('week', 'NOUN'), ('mindjack', 'NOUN'), ('read', 'VERB'), ('mcluhan', 'NOUN'), ('melanie', 'PROPN'), ('mcbride', 'PROPN'), ('message', 'NOUN'), ('dummy', 'NOUN'), ('age', 'NOUN'), ('grasp', 'NOUN'), ('desire', 'NOUN'), ('believe', 'VERB'), ('reinforce', 'VERB'), ('trend', 'NOUN'), ('like', 'ADP'), ('usability', 'NOUN'), ('privilege', 'NOUN'), ('economy', 'NOUN'), ('elucidation', 'NOUN'), ('anticipate', 'VERB'), ('well', 'ADV'), ('marshall', 'PROPN'), ('mcluhan', 'PROPN'), ('whittle', 'VERB'), ('big', 'ADJ'), ('insight', 'NOUN'), ('sound', 'ADJ'), ('bite', 'NOUN'), ('order', 'NOUN'), ('engage', 'VERB'), ('audience', 'NOUN'), ('lecture', 'NOUN'), ('hall', 'NOUN'), ('university', 'PROPN'), ('toronto', 'PROPN'), ('help', 'NOUN'), ('tom', 'PROPN'), ('wolfe', 'PROPN'), ('scholarly', 'ADJ'), ('mcluhan', 'PROPN'), ('cool', 'ADJ'), ('media', 'NOUN'), ('prophet', 'NOUN'), ('practical', 'ADJ'), ('strategy', 'NOUN'), ('anti', 'ADJ'), ('intellectual', 'ADJ'), ('time', 'NOUN'), ('process', 'NOUN'), ('mcluhan', 'NOUN'), ('meaning', 'NOUN'), ('reduce', 'VERB'), ('liner', 'NOUN'), ('absence', 'NOUN'), ('commentary', 'NOUN'), ('mcluhan', 'PROPN'), ('literary', 'ADJ'), ('philosophical', 'ADJ'), ('cultural', 'ADJ'), ('influence', 'NOUN'), ('way', 'NOUN'), ('work', 'NOUN'), ('teach', 'VERB'), ('new', 'ADJ'), ('issue', 'NOUN'), ('mindjack', 'NOUN'), ('deal', 'NOUN'), ('favorite', 'ADJ'), ('topic', 'NOUN'), ('robot', 'NOUN'), ('submission', 'NOUN'), ('burn', 'NOUN'), ('baby', 'NOUN'), ('burn', 'NOUN'), ('mix', 'NOUN'), ('cd', 'PROPN'), ('swap', 'NOUN'), ('dispraportionate', 'ADJ'), ('amount', 'NOUN'), ('bowie', 'NOUN'), ('reed', 'NOUN'), ('course', 'NOUN'), ('click', 'VERB'), ('read', 'VERB'), ('tracklist', 'NOUN'), ('mindjack', 'VERB'), ('advisory', 'ADJ'), ('board', 'NOUN'), ('member', 'NOUN'), ('douglas', 'PROPN'), ('rushkoff', 'PROPN'), ('start', 'VERB'), ('blog', 'NOUN'), ('expect', 'VERB'), ('good', 'ADJ'), ('thing', 'NOUN'), ('expect', 'VERB'), ('criterion', 'NOUN'), ('collection', 'NOUN'), ('website', 'NOUN'), ('excellent', 'ADJ'), ('similar', 'ADJ'), ('old', 'ADJ'), ('criterion', 'NOUN'), ('go', 'VERB'), ('movie', 'NOUN'), ('cd', 'PROPN'), ('rom', 'NOUN'), ('worth', 'ADJ'), ('check', 'VERB'), ('take', 'VERB'), ('work', 'NOUN'), ('run', 'VERB'), ('computer', 'NOUN'), ('seven', 'NUM'), ('year', 'NOUN'), ('fill', 'VERB'), ('great', 'ADJ'), ('essay', 'NOUN'), ('good', 'ADJ'), ('move', 'NOUN'), ('get', 'VERB'), ('great', 'ADJ'), ('interview', 'NOUN'), ('simon', 'PROPN'), ('singh', 'PROPN'), ('author', 'NOUN'), ('code', 'NOUN'), ('book', 'NOUN'), ('new', 'ADJ'), ('issue', 'NOUN'), ('mindjack', 'NOUN'), ('gadzook', 'NOUN'), ('long', 'ADJ'), ('time', 'NOUN'), ('post', 'VERB'), ('sorry', 'ADJ'), ('interview', 'VERB'), ('derek', 'NOUN'), ('powazek', 'PROPN'), ('new', 'ADJ'), ('mindjack', 'NOUN'), ('talk', 'VERB'), ('online', 'ADJ'), ('community', 'NOUN'), ('book', 'NOUN'), ('weblog', 'NOUN'), ('journalism', 'NOUN'), ('mindjack', 'NOUN'), ('try', 'VERB'), ('new', 'ADJ'), ('guerrila', 'NOUN'), ('advertising', 'NOUN'), ('campaign', 'NOUN'), ('feel', 'VERB'), ('free', 'ADJ'), ('use', 'VERB'), ('ad', 'NOUN'), ('weblog', 'NOUN'), ('website', 'VERB'), ('come', 'VERB'), ('soon', 'ADV'), ('mindjack', 'NOUN'), ('work', 'VERB'), ('site', 'NOUN'), ('mindjack', 'NOUN'), ('interview', 'NOUN'), ('warren', 'PROPN'), ('ellis', 'PROPN'), ('read', 'VERB'), ('comic_strip', 'NOUN'), ('day', 'NOUN'), ('comic_strip', 'NOUN'), ('write', 'VERB'), ('want', 'VERB'), ('little', 'ADJ'), ('muscle', 'NOUN'), ('bite', 'NOUN'), ('standard', 'ADJ'), ('issue', 'NOUN'), ('power', 'NOUN'), ('fantasy', 'NOUN'), ('whimsical', 'ADJ'), ('romance', 'NOUN'), ('autobiography', 'NOUN'), ('people', 'NOUN'), ('thing', 'NOUN'), ('elf', 'NOUN'), ('western', 'ADJ'), ('medium', 'NOUN'), ('cycle', 'NOUN'), ('currently', 'ADV'), ('creative', 'ADJ'), ('downturn', 'NOUN'), ('mean', 'VERB'), ('excellent', 'ADJ'), ('work', 'NOUN'), ('simply', 'ADV'), ('mean', 'VERB'), ('personal', 'ADJ'), ('level', 'NOUN'), ('little', 'ADJ'), ('talk', 'VERB'), ('comic_strip', 'NOUN'), ('reflect', 'VERB'), ('fact', 'NOUN'), ('live', 'VERB'), ('multicultural', 'ADJ'), ('society', 'NOUN'), ('fit', 'VERB'), ('global', 'ADJ'), ('communication', 'NOUN'), ('net', 'NOUN'), ('reflect', 'VERB'), ('fact', 'NOUN'), ('pair', 'NOUN'), ('superman', 'NOUN'), ('underpant', 'NOUN'), ('howard', 'PROPN'), ('rheingold', 'PROPN'), ('interview', 'VERB'), ('npr', 'PROPN'), ('realaudio', 'ADJ'), ('link', 'NOUN'), ('get', 'VERB'), ('copy', 'NOUN'), ('smart', 'ADJ'), ('mob', 'NOUN'), ('hope', 'VERB'), ('soon', 'ADV'), ('mindjack', 'NOUN'), ('jim', 'PROPN'), ('lai', 'PROPN'), ('check', 'VERB'), ('art', 'NOUN'), ('exhibit', 'NOUN'), ('form', 'NOUN'), ('billboard', 'NOUN'), ('transmedia', 'VERB'), ('second', 'NOUN'), ('fame', 'NOUN'), ('mindjack', 'NOUN'), ('cybersecurity', 'NOUN'), ('nosebleed', 'NOUN'), ('sarah', 'PROPN'), ('granger', 'NOUN'), ('security', 'NOUN'), ('new', 'ADJ'), ('hype', 'VERB'), ('commodity', 'NOUN'), ('united', 'PROPN'), ('states', 'PROPN'), ('visualize', 'VERB'), ('drive', 'VERB'), ('highway', 'NOUN'), ('past', 'ADJ'), ('billboard', 'NOUN'), ('read', 'VERB'), ('big', 'ADJ'), ('government', 'NOUN'), ('want', 'VERB'), ('big', 'ADJ'), ('security', 'NOUN'), ('picture', 'NOUN'), ('ape', 'NOUN'), ('beat', 'VERB'), ('chest', 'NOUN'), ('seriously', 'ADV'), ('convinced', 'ADJ'), ('mindjack', 'NOUN'), ('proper', 'ADJ'), ('relaunch', 'NOUN'), ('time', 'NOUN'), ('bit', 'NOUN'), ('slow', 'ADJ'), ('start', 'NOUN'), ('month', 'NOUN'), ('get', 'VERB'), ('lengthy', 'ADJ'), ('article', 'NOUN'), ('lawrence', 'PROPN'), ('lessig', 'PROPN'), ('bryan', 'PROPN'), ('alexander', 'PROPN'), ('issue', 'NOUN'), ('plus', 'CCONJ'), ('review', 'NOUN'), ('neat', 'ADJ'), ('little', 'ADJ'), ('digital', 'ADJ'), ('camera', 'NOUN'), ('spread', 'VERB'), ('word', 'NOUN'), ('kick', 'VERB'), ('miss', 'VERB'), ('david', 'PROPN'), ('bowie', 'PROPN'), ('concert', 'PROPN'), ('bbc', 'PROPN'), ('radio', 'NOUN'), ('today', 'NOUN'), ('able', 'ADJ'), ('find', 'VERB'), ('couple', 'NOUN'), ('song', 'NOUN'), ('bewlay', 'ADJ'), ('brother', 'NOUN'), ('amazing', 'ADJ'), ('case', 'NOUN'), ('sit', 'VERB'), ('edge', 'NOUN'), ('site', 'NOUN'), ('rest', 'NOUN'), ('assure', 'VERB'), ('mindjack', 'NOUN'), ('relaunch', 'NOUN'), ('track', 'NOUN'), ('monday', 'PROPN'), ('word', 'NOUN'), ('cbc', 'NOUN'), ('anniversary', 'NOUN'), ('special', 'NOUN'), ('wish', 'VERB'), ('start', 'VERB'), ('cable', 'NOUN'), ('channel', 'NOUN'), ('stuff', 'NOUN'), ('get', 'VERB'), ('syberia', 'NOUN'), ('post', 'NOUN'), ('mortem', 'NOUN'), ('promise', 'VERB'), ('new', 'ADJ'), ('adventure', 'NOUN'), ('game', 'NOUN'), ('montreal', 'ADJ'), ('base', 'VERB'), ('developer', 'NOUN'), ('microid', 'NOUN'), ('able', 'ADJ'), ('judge', 'VERB'), ('post', 'NOUN'), ('big', 'ADJ'), ('fan', 'NOUN'), ('adventure', 'NOUN'), ('game', 'NOUN'), ('traditional', 'ADJ'), ('kind', 'NOUN'), ('carry', 'VERB'), ('enormous', 'ADJ'), ('inventory', 'NOUN'), ('pant', 'NOUN'), ('explore', 'VERB'), ('game', 'NOUN'), ('pace', 'NOUN'), ('think', 'VERB'), ('lot', 'NOUN'), ('genre', 'NOUN'), ('lately', 'ADV'), ('plan', 'VERB'), ('write', 'VERB'), ('soon', 'ADV'), ('aside', 'ADV'), ('review', 'NOUN'), ('aforementioned', 'ADJ'), ('game', 'NOUN'), ('interested', 'ADJ'), ('hear', 'VERB'), ('thought', 'NOUN'), ('adventure', 'NOUN'), ('game', 'NOUN'), ('think', 'VERB'), ('place', 'NOUN'), ('today', 'NOUN'), ('favorite', 'ADJ'), ('game', 'NOUN'), ('comment', 'VERB'), ('bode', 'VERB'), ('get', 'VERB'), ('work', 'NOUN'), ('weekend', 'NOUN'), ('adrenaline', 'ADJ'), ('vault', 'NOUN'), ('good', 'ADJ'), ('shareware', 'NOUN'), ('justin', 'PROPN'), ('hall', 'PROPN'), ('south', 'PROPN'), ('korea', 'PROPN'), ('korea', 'PROPN'), ('televise', 'VERB'), ('tv', 'NOUN'), ('cab', 'NOUN'), ('tv', 'NOUN'), ('subway', 'NOUN'), ('stack', 'NOUN'), ('stack', 'NOUN'), ('tiny', 'ADJ'), ('tiny', 'ADJ'), ('television', 'NOUN'), ('able', 'ADJ'), ('enjoy', 'VERB'), ('television', 'NOUN'), ('time', 'NOUN'), ('seoul', 'PROPN'), ('subway', 'NOUN'), ('television', 'NOUN'), ('subway', 'NOUN'), ('instead', 'ADV'), ('static', 'ADJ'), ('ad', 'NOUN'), ('bulletin', 'NOUN'), ('board', 'NOUN'), ('future', 'NOUN'), ('fun', 'NOUN'), ('fun', 'NOUN'), ('watch', 'VERB'), ('soon', 'ADV'), ('annoying', 'ADJ'), ('normal', 'ADJ'), ('brush', 'NOUN'), ('constant', 'ADJ'), ('televisual', 'ADJ'), ('stimulation', 'NOUN'), ('definitely', 'ADV'), ('exciting', 'ADJ'), ('like', 'VERB'), ('comment', 'VERB'), ('movielink', 'NOUN'), ('new', 'ADJ'), ('studio', 'NOUN'), ('approve', 'VERB'), ('online', 'ADJ'), ('movie', 'NOUN'), ('rental', 'NOUN'), ('service', 'NOUN'), ('unfortunately', 'ADV'), ('able', 'ADJ'), ('sign', 'VERB'), ('cnn', 'PROPN'), ('need', 'VERB'), ('sense', 'NOUN'), ('slap', 'VERB'), ('day', 'NOUN'), ('election', 'NOUN'), ('republicans', 'PROPN'), ('take', 'VERB'), ('control', 'VERB'), ('senate', 'PROPN'), ('dick', 'PROPN'), ('gephardt', 'PROPN'), ('step', 'VERB'), ('house', 'NOUN'), ('minority', 'NOUN'), ('leader', 'NOUN'), ('right', 'ADV'), ('larry', 'PROPN'), ('king', 'NOUN'), ('talk', 'VERB'), ('winona', 'PROPN'), ('ryder', 'NOUN'), ('verdict', 'NOUN'), ('take', 'VERB'), ('break', 'VERB'), ('news', 'NOUN'), ('graphic', 'NOUN'), ('new', 'ADJ'), ('trailer', 'NOUN'), ('steven', 'PROPN'), ('soderbergh', 'PROPN'), ('solaris', 'NOUN'), ('today', 'NOUN'), ('movie', 'NOUN'), ('look', 'VERB'), ('forward', 'ADV'), ('fall', 'NOUN'), ('get', 'VERB'), ('copy', 'NOUN'), ('great', 'ADJ'), ('dvd', 'NOUN'), ('release', 'NOUN'), ('tarkovsky', 'PROPN'), ('original', 'ADJ'), ('film', 'NOUN'), ('russian', 'ADJ'), ('cinema', 'PROPN'), ('council', 'PROPN'), ('short', 'ADJ'), ('ago', 'ADV'), ('hope', 'VERB'), ('review', 'VERB'), ('mindjack', 'NOUN'), ('new', 'ADJ'), ('film', 'NOUN'), ('release', 'VERB'), ('cory', 'ADJ'), ('doctorow', 'NOUN'), ('review', 'VERB'), ('smart', 'ADJ'), ('mob', 'NOUN'), ('new', 'ADJ'), ('mindjack', 'NOUN'), ('smart', 'ADJ'), ('mob', 'NOUN'), ('slashdot', 'NOUN'), ('effect', 'NOUN'), ('apply', 'VERB'), ('meatspace', 'NOUN'), ('zeitgeist', 'NOUN'), ('squillion', 'NOUN'), ('like', 'ADP'), ('minded', 'ADJ'), ('soul', 'NOUN'), ('know', 'VERB'), ('meet', 'VERB'), ('pop', 'NOUN'), ('transmetropolitan', 'PROPN'), ('brickface', 'NOUN'), ('break', 'VERB'), ('white', 'ADJ'), ('noise', 'NOUN'), ('balance', 'NOUN'), ('atomic', 'ADJ'), ('viewpoint', 'NOUN'), ('speak', 'VERB'), ('voice', 'NOUN'), ('roar', 'VERB'), ('righteous', 'ADJ'), ('yes', 'INTJ'), ('adamant', 'ADJ'), ('organizer', 'NOUN'), ('leader', 'NOUN'), ('manifesto', 'NOUN'), ('forethought', 'NOUN'), ('issue', 'NOUN'), ('depth', 'NOUN'), ('look', 'NOUN'), ('internet', 'NOUN'), ('archive', 'NOUN'), ('doug', 'PROPN'), ('roberts', 'PROPN'), ('tuck', 'VERB'), ('away', 'ADV'), ('seedy', 'ADJ'), ('neighborhood', 'NOUN'), ('san', 'PROPN'), ('francisco', 'PROPN'), ('roomful', 'ADJ'), ('computer', 'NOUN'), ('terabyte', 'NOUN'), ('datum', 'NOUN'), ('store', 'VERB'), ('stair', 'NOUN'), ('street', 'NOUN'), ('lead', 'VERB'), ('intimidate', 'VERB'), ('hallway', 'NOUN'), ('open', 'VERB'), ('room', 'NOUN'), ('foot', 'NOUN'), ('ceiling', 'NOUN'), ('hip', 'NOUN'), ('ductwork', 'NOUN'), ('ceiling', 'NOUN'), ('right', 'NOUN'), ('storage', 'NOUN'), ('area', 'NOUN'), ('single', 'ADJ'), ('desk', 'NOUN'), ('left', 'NOUN'), ('baker', 'PROPN'), ('rack', 'NOUN'), ('tightly', 'ADV'), ('pack', 'VERB'), ('shelf', 'NOUN'), ('hp', 'PROPN'), ('desktop', 'NOUN'), ('machine', 'NOUN'), ('turn', 'VERB'), ('maximize', 'VERB'), ('space', 'NOUN'), ('ductwork', 'NOUN'), ('fan', 'NOUN'), ('squeak', 'VERB'), ('painfully', 'ADV'), ('walk', 'VERB'), ('echoey', 'NOUN'), ('warm', 'ADJ'), ('warehouse', 'NOUN'), ('space', 'NOUN'), ('easy', 'ADJ'), ('underwhelme', 'VERB'), ('realize', 'VERB'), ('look', 'VERB'), ('spin', 'VERB'), ('away', 'ADV'), ('computer', 'NOUN'), ('copy', 'NOUN'), ('internet', 'NOUN'), ('today', 'NOUN'), ('mindjack', 'NOUN'), ('short', 'ADJ'), ('break', 'NOUN'), ('new', 'ADJ'), ('issue', 'NOUN'), ('report', 'NOUN'), ('supernova', 'PROPN'), ('conference', 'NOUN'), ('doug', 'PROPN'), ('roberts', 'PROPN'), ('supernova', 'PROPN'), ('ambitious', 'ADJ'), ('conference', 'NOUN'), ('kevin', 'PROPN'), ('warbach', 'PROPN'), ('organizer', 'NOUN'), ('acknowledge', 'VERB'), ('outset', 'NOUN'), ('say', 'VERB'), ('cram', 'VERB'), ('day', 'NOUN'), ('conference', 'NOUN'), ('day', 'NOUN'), ('conference', 'NOUN'), ('tout', 'VERB'), ('glimpse', 'NOUN'), ('decentralized', 'ADJ'), ('future', 'NOUN'), ('decentralize', 'VERB'), ('system', 'NOUN'), ('obvious', 'ADJ'), ('system', 'NOUN'), ('single', 'ADJ'), ('point', 'NOUN'), ('control', 'NOUN'), ('internet', 'NOUN'), ('perfect', 'ADJ'), ('example', 'NOUN'), ('entity', 'NOUN'), ('agency', 'NOUN'), ('control', 'VERB'), ('single', 'ADJ'), ('server', 'NOUN'), ('provide', 'VERB'), ('service', 'NOUN'), ('single', 'ADJ'), ('point', 'NOUN'), ('failure', 'NOUN'), ('bring', 'VERB'), ('system', 'NOUN'), ('warbach', 'PROPN'), ('see', 'VERB'), ('type', 'NOUN'), ('system', 'NOUN'), ('fundamental', 'ADJ'), ('issue', 'NOUN'), ('compute', 'VERB'), ('decade', 'NOUN'), ('end', 'NOUN'), ('day', 'NOUN'), ('clear', 'ADJ'), ('conference', 'NOUN'), ('go', 'VERB'), ('thing', 'NOUN'), ('blogge', 'VERB'), ('discover', 'VERB'), ('clive', 'ADJ'), ('thompson', 'NOUN'), ('blog', 'NOUN'), ('great', 'ADJ'), ('remind', 'VERB'), ('need', 'VERB'), ('update', 'VERB'), ('blogroll', 'NOUN'), ('site', 'NOUN'), ('doug', 'PROPN'), ('roberts', 'PROPN'), ('cover', 'VERB'), ('supernova', 'PROPN'), ('mindjack', 'NOUN'), ('blogge', 'VERB'), ('live', 'VERB'), ('plain', 'ADV'), ('eerie', 'ADJ'), ('go', 'VERB'), ('los', 'PROPN'), ('angeles', 'PROPN'), ('february', 'PROPN'), ('miss', 'VERB'), ('live', 'ADV'), ('blogosphere', 'NOUN'), ('panel', 'NOUN'), ('discussion', 'NOUN'), ('moderate', 'VERB'), ('xeni', 'PROPN'), ('jardin', 'PROPN'), ('live', 'ADV'), ('blogosphere', 'NOUN'), ('bring', 'VERB'), ('innovator', 'NOUN'), ('blogging', 'NOUN'), ('mark', 'PROPN'), ('frauenfelder', 'PROPN'), ('heather', 'ADJ'), ('havrilesky', 'NOUN'), ('evan', 'PROPN'), ('williams', 'PROPN'), ('susannah', 'PROPN'), ('breslin', 'PROPN'), ('doc', 'PROPN'), ('searl', 'NOUN'), ('tony', 'ADJ'), ('pierce', 'NOUN'), ('panel', 'NOUN'), ('discuss', 'VERB'), ('birth', 'NOUN'), ('blogging', 'NOUN'), ('emergent', 'ADJ'), ('tension', 'NOUN'), ('blog', 'NOUN'), ('traditional', 'ADJ'), ('journalism', 'NOUN'), ('innovation', 'NOUN'), ('blogge', 'VERB'), ('video', 'NOUN'), ('blogge', 'VERB'), ('audio', 'NOUN'), ('blogging', 'ADJ'), ('mobile', 'NOUN'), ('blogging', 'NOUN'), ('shift', 'VERB'), ('role', 'NOUN'), ('race', 'NOUN'), ('gender', 'NOUN'), ('blogosphere', 'NOUN'), ('state', 'NOUN'), ('blog', 'NOUN'), ('economy', 'NOUN'), ('way', 'NOUN'), ('blog', 'NOUN'), ('reshape', 'VERB'), ('contemporary', 'ADJ'), ('medium', 'NOUN'), ('cross', 'ADJ'), ('post', 'VERB'), ('daily', 'ADJ'), ('relay', 'NOUN'), ('review', 'VERB'), ('cool', 'ADJ'), ('laptop', 'NOUN'), ('bag', 'NOUN'), ('today', 'NOUN'), ('daily', 'ADJ'), ('relay', 'NOUN'), ('douglas', 'PROPN'), ('rushkoff', 'PROPN'), ('meet', 'VERB'), ('al', 'PROPN'), ('gore', 'PROPN'), ('suitably', 'ADV'), ('impressed', 'ADJ'), ('bright', 'ADJ'), ('open', 'ADJ'), ('minded', 'ADJ'), ('add', 'VERB'), ('cosmic', 'ADJ'), ('thinker', 'NOUN'), ('give', 'VERB'), ('credit', 'NOUN'), ('feel', 'VERB'), ('like', 'SCONJ'), ('know', 'VERB'), ('mean', 'VERB'), ('kid', 'NOUN'), ('college', 'NOUN'), ('get', 'VERB'), ('wild', 'ADJ'), ('thought', 'NOUN'), ('world', 'NOUN'), ('connect', 'VERB'), ('evolve', 'VERB'), ('gore', 'PROPN'), ('find', 'VERB'), ('organic', 'ADJ'), ('view', 'NOUN'), ('reality', 'NOUN'), ('reflect', 'VERB'), ('constitution', 'NOUN'), ('united', 'PROPN'), ('states', 'PROPN'), ('seek', 'VERB'), ('enable', 'VERB'), ('extension', 'NOUN'), ('enlightenment', 'ADJ'), ('thinking', 'NOUN'), ('practical', 'ADJ'), ('reality', 'NOUN'), ('new', 'ADJ'), ('mindjack', 'NOUN'), ('today', 'NOUN'), ('cory', 'ADJ'), ('doctorow', 'NOUN'), ('william', 'PROPN'), ('gibson', 'PROPN'), ('justin', 'PROPN'), ('hall', 'PROPN'), ('super', 'ADJ'), ('monkey', 'NOUN'), ('ball', 'NOUN'), ('check', 'VERB'), ('preview', 'NOUN'), ('warren', 'PROPN'), ('ellis', 'PROPN'), ('colleen', 'PROPN'), ('doran', 'PROPN'), ('new', 'ADJ'), ('graphic', 'ADJ'), ('novel', 'NOUN'), ('orbiter', 'NOUN'), ('ah', 'INTJ'), ('crap', 'NOUN'), ('shift', 'NOUN'), ('magazine', 'NOUN'), ('publish', 'VERB'), ('issue', 'NOUN'), ('shift', 'NOUN'), ('pull', 'VERB'), ('dire', 'ADJ'), ('situation', 'NOUN'), ('look', 'VERB'), ('end', 'NOUN'), ('real', 'ADJ'), ('shame', 'NOUN'), ('consistently', 'ADV'), ('great', 'ADJ'), ('magazine', 'NOUN'), ('important', 'ADJ'), ('voice', 'NOUN'), ('change', 'VERB'), ('sphere', 'NOUN'), ('digital', 'ADJ'), ('culture', 'NOUN'), ('final', 'ADJ'), ('issue', 'NOUN'), ('week', 'NOUN'), ('urge', 'VERB'), ('pick', 'VERB'), ('copy', 'NOUN'), ('mindjack', 'NOUN'), ('slashdotte', 'VERB'), ('fray', 'NOUN'), ('redesign', 'VERB'), ('time', 'NOUN'), ('year', 'NOUN'), ('blog', 'NOUN'), ('come', 'VERB'), ('soon', 'ADV'), ('deepsky', 'NOUN'), ('post', 'VERB'), ('remix', 'NOUN'), ('david', 'PROPN'), ('bowie', 'PROPN'), ('take', 'VERB'), ('trip', 'NOUN'), ('gemini', 'NOUN'), ('spaceship', 'NOUN'), ('website', 'NOUN'), ('good', 'ADJ'), ('original', 'ADJ'), ('worth', 'ADJ'), ('listen', 'NOUN'), ('realaudio', 'ADJ'), ('link', 'NOUN'), ('post', 'NOUN'), ('warren', 'PROPN'), ('ellis', 'PROPN'), ('blog', 'NOUN'), ('cool', 'ADJ'), ('link', 'VERB'), ('mindjack', 'VERB'), ('bruce', 'PROPN'), ('sterling', 'PROPN'), ('house', 'NOUN'), ('austin', 'PROPN'), ('texas', 'PROPN'), ('howard', 'PROPN'), ('waldrop', 'PROPN'), ('beam', 'NOUN'), ('cory', 'ADJ'), ('doctorow', 'VERB'), ('swampy', 'ADJ'), ('old', 'ADJ'), ('dawn', 'NOUN'), ('time', 'NOUN'), ('day', 'NOUN'), ('town', 'NOUN'), ('powerbook', 'NOUN'), ('scorch', 'VERB'), ('flesh', 'NOUN'), ('leg', 'NOUN'), ('beam', 'VERB'), ('england', 'PROPN'), ('private', 'ADJ'), ('server', 'NOUN'), ('fraction', 'NOUN'), ('kansas', 'PROPN'), ('city', 'PROPN'), ('laurenn', 'PROPN'), ('san', 'PROPN'), ('francisco', 'PROPN'), ('read', 'VERB'), ('chapter', 'NOUN'), ('cory', 'PROPN'), ('new', 'ADJ'), ('book', 'NOUN'), ('send', 'VERB'), ('airport', 'NOUN'), ('day', 'NOUN'), ('squat', 'VERB'), ('power', 'NOUN'), ('outlet', 'NOUN'), ('public', 'ADJ'), ('toilet', 'NOUN'), ('continue', 'VERB'), ('slashdot', 'NOUN'), ('launch', 'NOUN'), ('holy', 'ADJ'), ('cow', 'NOUN'), ('ugly', 'ADJ'), ('mindjack', 'NOUN'), ('contributor', 'NOUN'), ('game', 'NOUN'), ('reviewer', 'NOUN'), ('justin', 'PROPN'), ('hall', 'PROPN'), ('write', 'VERB'), ('great', 'ADJ'), ('article', 'NOUN'), ('ethic', 'NOUN'), ('video', 'NOUN'), ('game', 'NOUN'), ('journalism', 'NOUN'), ('online', 'ADJ'), ('journalism', 'NOUN'), ('review', 'NOUN'), ('print', 'NOUN'), ('magazine', 'NOUN'), ('cover', 'VERB'), ('video', 'NOUN'), ('game', 'NOUN'), ('electronic', 'ADJ'), ('game', 'NOUN'), ('co', 'VERB'), ('found', 'VERB'), ('bill', 'PROPN'), ('kunkel', 'PROPN'), ('kunkel', 'NOUN'), ('describe', 'VERB'), ('early', 'ADJ'), ('day', 'NOUN'), ('recent', 'ADJ'), ('interview', 'NOUN'), ('extent', 'NOUN'), ('cheerleader', 'NOUN'), ('industry', 'NOUN'), ('love', 'VERB'), ('game', 'NOUN'), ('want', 'VERB'), ('want', 'VERB'), ('write', 'VERB'), ('change', 'VERB'), ('past', 'ADJ'), ('year', 'NOUN'), ('game', 'NOUN'), ('publication', 'NOUN'), ('web', 'NOUN'), ('site', 'NOUN'), ('employ', 'VERB'), ('low', 'ADV'), ('pay', 'VERB'), ('hobbyist', 'NOUN'), ('easy', 'ADJ'), ('target', 'NOUN'), ('lavish', 'ADJ'), ('marketing', 'NOUN'), ('event', 'NOUN'), ('encourage', 'VERB'), ('inappropriate', 'ADJ'), ('tie', 'NOUN'), ('game', 'NOUN'), ('maker', 'NOUN'), ('game', 'NOUN'), ('critic', 'NOUN'), ('incredible', 'ADJ'), ('scientist', 'NOUN'), ('discover', 'VERB'), ('colossal', 'ADJ'), ('squid', 'NOUN'), ('antartic', 'ADJ'), ('big', 'ADJ'), ('previous', 'ADJ'), ('big', 'ADJ'), ('giant', 'ADJ'), ('squid', 'NOUN'), ('find', 'VERB'), ('fully', 'ADV'), ('grow', 'VERB'), ('deep', 'ADJ'), ('sea', 'NOUN'), ('exploration', 'NOUN'), ('nearly', 'ADV'), ('fascinating', 'ADJ'), ('space', 'NOUN'), ('exploration', 'NOUN'), ('imagine', 'VERB'), ('like', 'ADP'), ('see', 'VERB'), ('alive', 'ADJ'), ('interesting', 'ADJ'), ('article', 'NOUN'), ('note', 'VERB'), ('funding', 'NOUN'), ('research', 'NOUN'), ('discovery', 'NOUN'), ('channel', 'NOUN'), ('great', 'ADJ'), ('funding', 'NOUN'), ('available', 'ADJ'), ('space', 'NOUN'), ('exploration', 'NOUN'), ('google', 'VERB'), ('site', 'NOUN'), ('mention', 'VERB'), ('mindjack', 'NOUN'), ('suprisingly', 'ADV'), ('result', 'VERB'), ('link', 'NOUN'), ('like', 'VERB'), ('description', 'NOUN'), ('mindjack', 'NOUN'), ('magazine', 'NOUN'), ('pusle', 'NOUN'), ('show', 'VERB'), ('osmotic', 'ADJ'), ('swelling', 'NOUN'), ('digital', 'ADJ'), ('culture', 'NOUN'), ('norm', 'NOUN'), ('new', 'ADJ'), ('mindjack', 'NOUN'), ('today', 'NOUN'), ('josh', 'PROPN'), ('examine', 'VERB'), ('online', 'NOUN'), ('interconnect', 'VERB'), ('group', 'NOUN'), ('people', 'NOUN'), ('turn', 'VERB'), ('advice', 'NOUN'), ('music', 'NOUN'), ('art', 'NOUN'), ('fashion', 'NOUN'), ('book', 'NOUN'), ('etc', 'X'), ('broad', 'ADJ'), ('implication', 'NOUN'), ('taste', 'NOUN'), ('tribe', 'NOUN'), ('justin', 'PROPN'), ('hall', 'PROPN'), ('review', 'NOUN'), ('panzer', 'PROPN'), ('dragoon', 'NOUN'), ('orta', 'PROPN'), ('xbox', 'PROPN'), ('illustration', 'NOUN'), ('btw', 'ADV'), ('matt', 'PROPN'), ('hinrichs', 'PROPN'), ('hopefully', 'ADV'), ('semi', 'ADJ'), ('regular', 'ADJ'), ('one', 'NOUN'), ('review', 'VERB'), ('soul', 'NOUN'), ('calibur', 'PROPN'), ('syberia', 'PROPN'), ('post', 'NOUN'), ('mortem', 'NOUN'), ('new', 'ADJ'), ('mindjack', 'NOUN'), ('nearly', 'ADV'), ('complete', 'ADJ'), ('index', 'NOUN'), ('alfred', 'ADJ'), ('hitchcock', 'NOUN'), ('cameo', 'NOUN'), ('article', 'NOUN'), ('reunderstande', 'VERB'), ('movie', 'NOUN'), ('dvds', 'NOUN'), ('internet', 'NOUN'), ('change', 'VERB'), ('way', 'NOUN'), ('watch', 'VERB'), ('movie', 'NOUN'), ('new', 'ADJ'), ('mindjack', 'NOUN'), ('start', 'VERB'), ('film', 'NOUN'), ('blog', 'NOUN'), ('promise', 'NOUN'), ('post', 'VERB'), ('try', 'VERB'), ('review', 'NOUN'), ('link', 'VERB'), ('pleasure', 'NOUN'), ('new', 'ADJ'), ('mindjack', 'NOUN'), ('ad', 'NOUN'), ('size', 'NOUN'), ('come', 'VERB'), ('soon', 'ADV'), ('blogge', 'VERB'), ('mindjack', 'NOUN'), ('daily', 'ADJ'), ('relay', 'NOUN'), ('lately', 'ADV'), ('hope', 'VERB'), ('able', 'ADJ'), ('get', 'VERB'), ('lot', 'NOUN'), ('good', 'ADJ'), ('stuff', 'NOUN'), ('come', 'VERB'), ('mindjack', 'NOUN'), ('month', 'NOUN'), ('eye', 'NOUN'), ('blog', 'NOUN'), ('update', 'NOUN'), ('apparently', 'ADV'), ('sidewalk', 'NOUN'), ('austin', 'PROPN'), ('derek', 'PROPN'), ('powazek', 'PROPN'), ('comment', 'NOUN'), ('entry', 'NOUN'), ('blackbeltjone', 'NOUN'), ('remind', 'VERB'), ('incredibly', 'ADV'), ('good', 'ADJ'), ('friend', 'NOUN'), ('favorite', 'NOUN'), ('area', 'NOUN'), ('mr', 'PROPN'), ('bezos', 'PROPN'), ('read', 'VERB'), ('add', 'VERB'), ('canadian', 'NOUN'), ('friend', 'NOUN'), ('play', 'VERB'), ('flickr', 'PROPN'), ('lately', 'ADV'), ('late', 'ADJ'), ('toy', 'NOUN'), ('mad', 'ADJ'), ('genius', 'NOUN'), ('ludicorp', 'PROPN'), ('find', 'VERB'), ('flickr', 'PROPN'), ('profile', 'NOUN'), ('start', 'VERB'), ('mindjack', 'NOUN'), ('group', 'NOUN'), ('bit', 'NOUN'), ('experiment', 'NOUN'), ('work', 'VERB'), ('try', 'VERB'), ('integrate', 'VERB'), ('site', 'NOUN'), ('mindjack', 'NOUN'), ('sacred', 'ADJ'), ('digital', 'ADJ'), ('music', 'NOUN'), ('digital', 'ADJ'), ('age', 'NOUN'), ('ian', 'ADJ'), ('dawe', 'ADV'), ('antero', 'PROPN'), ('alli', 'PROPN'), ('hysteria', 'NOUN'), ('review', 'VERB'), ('dvd', 'PROPN'), ('jesse', 'PROPN'), ('walker', 'PROPN'), ('originally', 'ADV'), ('upload', 'VERB'), ('post', 'VERB'), ('don', 'PROPN'), ('melanson', 'PROPN'), ('flickr', 'PROPN'), ('new', 'ADJ'), ('issue', 'NOUN'), ('mindjack', 'NOUN'), ('online', 'ADJ'), ('issue', 'NOUN'), ('link', 'VERB'), ('blogging', 'NOUN'), ('equality', 'NOUN'), ('future', 'NOUN'), ('melanie', 'PROPN'), ('mcbride', 'PROPN'), ('plus', 'CCONJ'), ('kill', 'VERB'), ('bill', 'PROPN'), ('vol', 'PROPN'), ('review', 'VERB'), ('jesse', 'PROPN'), ('walker', 'PROPN'), ('new', 'ADJ'), ('issue', 'NOUN'), ('mindjack', 'NOUN'), ('online', 'ADJ'), ('article', 'NOUN'), ('mindjack', 'NOUN'), ('new', 'ADJ'), ('contributor', 'NOUN'), ('lasica', 'PROPN'), ('write', 'VERB'), ('copyright', 'NOUN'), ('law', 'NOUN'), ('killing', 'NOUN'), ('field', 'NOUN'), ('review', 'VERB'), ('dvds', 'NOUN'), ('breathless', 'NOUN'), ('russian', 'ADJ'), ('ark', 'PROPN'), ('z', 'NOUN'), ('spread', 'VERB'), ('word', 'NOUN'), ('idea', 'NOUN'), ('funny', 'ADJ'), ('thing', 'NOUN'), ('look', 'VERB'), ('advertising', 'NOUN'), ('director', 'NOUN'), ('mindjack', 'NOUN'), ('advertising', 'NOUN'), ('sale', 'NOUN'), ('experience', 'NOUN'), ('willing', 'ADJ'), ('work', 'VERB'), ('commission', 'NOUN'), ('contract', 'NOUN'), ('job', 'NOUN'), ('home', 'NOUN'), ('interested', 'ADJ'), ('email', 'VERB'), ('attachment', 'NOUN'), ('constantly', 'ADV'), ('look', 'VERB'), ('great', 'ADJ'), ('new', 'ADJ'), ('writer', 'NOUN'), ('want', 'VERB'), ('write', 'VERB'), ('drop', 'VERB'), ('email', 'NOUN'), ('pleased', 'ADJ'), ('announce', 'VERB'), ('vrml', 'NOUN'), ('creator', 'NOUN'), ('visionary', 'NOUN'), ('mark', 'NOUN'), ('pesce', 'PROPN'), ('join', 'VERB'), ('mindjack', 'NOUN'), ('grow', 'VERB'), ('stable', 'ADJ'), ('writer', 'NOUN'), ('article', 'NOUN'), ('redefine', 'VERB'), ('television', 'NOUN'), ('insightful', 'ADJ'), ('examination', 'NOUN'), ('state', 'NOUN'), ('future', 'NOUN'), ('medium', 'NOUN'), ('snippet', 'NOUN'), ('early', 'ADJ'), ('day', 'NOUN'), ('television', 'NOUN'), ('writer', 'NOUN'), ('like', 'ADP'), ('george', 'PROPN'), ('orwell', 'PROPN'), ('ray', 'NOUN'), ('bradbury', 'NOUN'), ('fahrenheit', 'NOUN'), ('project', 'VERB'), ('television', 'NOUN'), ('instrumentality', 'NOUN'), ('totalitarian', 'ADJ'), ('future', 'NOUN'), ('monolithic', 'ADJ'), ('entity', 'NOUN'), ('dispense', 'VERB'), ('propaganda', 'NOUN'), ('occasionally', 'ADV'), ('watch', 'VERB'), ('fox', 'PROPN'), ('news', 'NOUN'), ('far', 'ADV'), ('mark', 'NOUN'), ('thing', 'NOUN'), ('monolithic', 'ADJ'), ('day', 'NOUN'), ('television', 'NOUN'), ('number', 'VERB'), ('actually', 'ADV'), ('pass', 'VERB'), ('people', 'NOUN'), ('realize', 'VERB'), ('understand', 'VERB'), ('need', 'VERB'), ('principle', 'NOUN'), ('television', 'NOUN'), ('functional', 'ADJ'), ('definition', 'NOUN'), ('television', 'NOUN'), ('capture', 'NOUN'), ('encoding', 'NOUN'), ('transmission', 'NOUN'), ('reception', 'NOUN'), ('decode', 'VERB'), ('display', 'NOUN'), ('move', 'VERB'), ('image', 'NOUN'), ('definition', 'NOUN'), ('apply', 'VERB'), ('golden', 'ADJ'), ('age', 'NOUN'), ('television', 'NOUN'), ('present', 'ADJ'), ('era', 'NOUN'), ('definition', 'NOUN'), ('word', 'NOUN'), ('definition', 'NOUN'), ('television', 'NOUN'), ('change', 'VERB'), ('introduction', 'NOUN'), ('digital', 'ADJ'), ('production', 'NOUN'), ('encoding', 'NOUN'), ('transmission', 'NOUN'), ('reception', 'NOUN'), ('decode', 'VERB'), ('display', 'NOUN'), ('technology', 'NOUN'), ('blog', 'NOUN'), ('play', 'VERB'), ('blogger', 'NOUN'), ('new', 'ADJ'), ('feature', 'NOUN'), ('return', 'VERB'), ('normal', 'ADJ'), ('shortly', 'ADV'), ('blogge', 'VERB'), ('lot', 'NOUN'), ('film', 'NOUN'), ('blog', 'NOUN'), ('like', 'VERB'), ('movie', 'NOUN'), ('check', 'VERB'), ('course', 'NOUN'), ('continue', 'VERB'), ('write', 'VERB'), ('blog', 'VERB'), ('mindjack', 'NOUN')]\n"
          ]
        }
      ],
      "execution_count": 3
    },
    {
      "cell_type": "code",
      "metadata": {
        "id": "0Q2cfEiZ9_ZI",
        "ExecuteTime": {
          "end_time": "2024-06-01T07:18:08.912999Z",
          "start_time": "2024-06-01T07:18:08.907563Z"
        }
      },
      "source": [
        "# Filters for the pre-processor\n",
        "\n",
        "import gzip\n",
        "import pickle\n",
        "\n",
        "def filter_everyone(filepath):\n",
        "    return True\n",
        "\n",
        "def filter_student(filepath):\n",
        "    filename = os.path.basename(filepath)\n",
        "    return '.Student.' in filename\n",
        "\n",
        "def filter_female(filepath):\n",
        "    filename = os.path.basename(filepath)\n",
        "    return '.female.' in filename\n",
        "\n",
        "def filter_male(filepath):\n",
        "    filename = os.path.basename(filepath)\n",
        "    return '.male.' in filename\n",
        "\n",
        "def filter_age_over_20(filepath):\n",
        "    filename = os.path.basename(filepath)\n",
        "    try:\n",
        "        age = int(filename.split('.')[2])\n",
        "        return age > 20\n",
        "    except ValueError:\n",
        "        return False\n",
        "\n",
        "def filter_age_under_20(filepath):\n",
        "    filename = os.path.basename(filepath)\n",
        "    try:\n",
        "        age = int(filename.split('.')[2])\n",
        "        return age <= 20\n",
        "    except ValueError:\n",
        "        return False\n",
        "\n",
        "#  Helper function to work with the pre-processed data\n",
        "#  (they would be much bigger)\n",
        "def save_compressed_pickle(data, filename):\n",
        "    with gzip.open(filename, 'wb') as f:\n",
        "        pickle.dump(data, f)\n",
        "\n",
        "def load_compressed_pickle(filename):\n",
        "    with gzip.open(filename, 'rb') as f:\n",
        "        return pickle.load(f)"
      ],
      "outputs": [],
      "execution_count": 4
    },
    {
      "metadata": {
        "ExecuteTime": {
          "end_time": "2024-06-01T07:18:08.930244Z",
          "start_time": "2024-06-01T07:18:08.914004Z"
        },
        "id": "xq3E0US76kMh"
      },
      "cell_type": "code",
      "source": [
        "# Pre-Processing of the data from smaller to bigger ds\n",
        "# Process \"Students\"\n",
        "#text_data_students, failed_files_students = extract_and_preprocess_text_from_directory(directory_path, filter_student)\n",
        "#save_compressed_pickle(text_data_students, 'students_preprocessed.pkl.gz')\n",
        "\n",
        "# Process \"under 20s\"\n",
        "#text_data_under_20s, failed_files_under_20s = extract_and_preprocess_text_from_directory(directory_path, filter_age_under_20)\n",
        "#save_compressed_pickle(text_data_under_20s, 'under_20s_preprocessed.pkl.gz')\n",
        "\n",
        "# Process \"males\"\n",
        "#text_data_males, failed_files_males = extract_and_preprocess_text_from_directory(directory_path, filter_male)\n",
        "#save_compressed_pickle(text_data_males, 'males_preprocessed.pkl.gz')\n",
        "\n",
        "# Process \"females\"\n",
        "#text_data_females, failed_files_females = extract_and_preprocess_text_from_directory(directory_path, filter_female)\n",
        "#save_compressed_pickle(text_data_females, 'females_preprocessed.pkl.gz')\n",
        "\n",
        "# Process \"Over 20s\" - TODO\n",
        "#text_data_over_20s, failed_files_over_20s = extract_and_preprocess_text_from_directory(directory_path, filter_age_over_20)\n",
        "#save_compressed_pickle(text_data_over_20s, 'over_20s_preprocessed.pkl.gz')"
      ],
      "outputs": [],
      "execution_count": null
    },
    {
      "metadata": {
        "ExecuteTime": {
          "end_time": "2024-06-01T07:23:46.616176Z",
          "start_time": "2024-06-01T07:23:41.952413Z"
        },
        "id": "Be_-Dhjr6kMh"
      },
      "cell_type": "code",
      "source": [
        "# Load of all pre-processed files\n",
        "students_data = load_compressed_pickle('PreProcessed/students_preprocessed.pkl.gz')\n",
        "under_20s_data = load_compressed_pickle('PreProcessed/under_20s_preprocessed.pkl.gz')\n",
        "females_data = load_compressed_pickle('PreProcessed/females_preprocessed.pkl.gz')\n",
        "males_data = load_compressed_pickle('PreProcessed/males_preprocessed.pkl.gz')\n",
        "\n",
        "# Dict containin\n",
        "all_preprocessed = {\n",
        "    \"students\": students_data,\n",
        "    \"under_20s\": under_20s_data,\n",
        "    \"females\": females_data,\n",
        "    \"males\": males_data\n",
        "}"
      ],
      "outputs": [],
      "execution_count": 7
    },
    {
      "cell_type": "markdown",
      "source": [
        "## Topic modeling by counting all types of nouns\n",
        "\n",
        "The first strategy to extract the 2 most common topics will be by the most prevalent nouns.\n",
        "During the Pre-Processing we assign to each token a POS tag, the TAG that we use is [Universal POS tag](https://universaldependencies.org/u/pos/).\n",
        "\n",
        "These tags mark the core part-of-speech categories, by filtering for the `NOUN` tag we capture all nouns types."
      ],
      "metadata": {
        "id": "oAkZJePBXXok"
      }
    },
    {
      "cell_type": "code",
      "source": [
        "from collections import Counter\n",
        "\n",
        "def get_nouns(doc):\n",
        "    \"\"\"\n",
        "    Extracts nouns from a document.\n",
        "\n",
        "    :param doc: List of tuples (token, pos_tag)\n",
        "    :return: List of nouns\n",
        "    \"\"\"\n",
        "    return [word for word, pos in doc if pos.startswith('NOUN')]\n",
        "\n",
        "noun_counters = {}\n",
        "\n",
        "# noun counting pipeline\n",
        "for key, data in all_preprocessed.items():\n",
        "    nouns = [get_nouns(doc) for doc in data]\n",
        "    all_nouns = [noun for sublist in nouns for noun in sublist]\n",
        "    noun_counter = Counter(all_nouns)\n",
        "    noun_counters[key] = noun_counter\n",
        "\n",
        "    # Print number of nouns and the most common nouns\n",
        "    print(f\"[{key.capitalize()}] Number of nouns: {len(all_nouns)}\")\n",
        "    most_common_nouns = noun_counter.most_common(10)\n",
        "    print(f\"[{key.capitalize()}] Most Prevalent Topics (Nouns):\", most_common_nouns)\n"
      ],
      "metadata": {
        "colab": {
          "base_uri": "https://localhost:8080/"
        },
        "id": "qXxEn3_2XpnT",
        "outputId": "7ba484eb-2c57-4c86-d250-4f9b9b7878cd"
      },
      "execution_count": 8,
      "outputs": [
        {
          "output_type": "stream",
          "name": "stdout",
          "text": [
            "[Students] Number of nouns: 4892782\n",
            "[Students] Most Prevalent Topics (Nouns): [('time', 90879), ('day', 74564), ('thing', 72508), ('people', 61680), ('today', 52208), ('friend', 42080), ('life', 41866), ('way', 39479), ('school', 35590), ('year', 34219)]\n",
            "[Under_20s] Number of nouns: 7130208\n",
            "[Under_20s] Most Prevalent Topics (Nouns): [('time', 131476), ('day', 112528), ('thing', 108051), ('people', 92919), ('today', 82407), ('friend', 63230), ('life', 60220), ('way', 57889), ('school', 56089), ('guy', 47444)]\n",
            "[Females] Number of nouns: 11176372\n",
            "[Females] Most Prevalent Topics (Nouns): [('time', 207850), ('day', 167650), ('thing', 161760), ('people', 131221), ('today', 100886), ('life', 95444), ('friend', 93739), ('way', 92701), ('year', 85481), ('night', 84913)]\n",
            "[Males] Number of nouns: 11360881\n",
            "[Males] Most Prevalent Topics (Nouns): [('time', 189011), ('day', 140226), ('people', 134905), ('thing', 133016), ('way', 85280), ('year', 85054), ('today', 82984), ('life', 80592), ('friend', 67221), ('night', 62148)]\n"
          ]
        }
      ]
    },
    {
      "cell_type": "code",
      "source": [
        "# Noun counting - Part (2) - Clause extraction\n",
        "\n",
        "# Function to extract clauses containing the top topics\n",
        "def extract_clauses(doc, topics, max_clause_len=50):\n",
        "    \"\"\"\n",
        "    Extracts clauses containing the specified topics from a document.\n",
        "\n",
        "    :param doc: List of tuples (token, pos_tag)\n",
        "    :param topics: List of top topics (nouns)\n",
        "    :param max_clause_len: Maximum length of a clause\n",
        "    :return: List of clauses containing the topics\n",
        "    \"\"\"\n",
        "    clauses = []\n",
        "    current_clause = []\n",
        "\n",
        "    for token, pos in doc:\n",
        "        current_clause.append(token)\n",
        "        if len(current_clause) >= max_clause_len or pos.startswith('VERB'):\n",
        "            if any(topic in current_clause for topic in topics):\n",
        "                clauses.append(' '.join(current_clause))\n",
        "            current_clause = []\n",
        "\n",
        "    # Check last clause if it contains any topics\n",
        "    if any(topic in current_clause for topic in topics):\n",
        "        clauses.append(' '.join(current_clause))\n",
        "\n",
        "    return clauses\n",
        "\n",
        "# Iterate through each demographic to extract clauses with top topics\n",
        "max_clauses_to_print = 5\n",
        "\n",
        "for demographic, data in all_preprocessed.items():\n",
        "    top_topics = [noun for noun, count in noun_counters[demographic].most_common(2)] # Get the two top topics\n",
        "\n",
        "    clauses_with_topics = [extract_clauses(doc, top_topics) for doc in data]\n",
        "    all_clauses_with_topics = [clause for sublist in clauses_with_topics for clause in sublist]\n",
        "\n",
        "    # Extraction\n",
        "    for topic in top_topics:\n",
        "        print(f\"Clauses containing the topic '{topic}' for {demographic}:\")\n",
        "        count = 0\n",
        "        for clause in all_clauses_with_topics:\n",
        "            if topic in clause:\n",
        "                print(f\"- {clause}\")\n",
        "                count += 1\n",
        "            if count >= max_clauses_to_print:\n",
        "                break\n",
        "        print(\"\\n\")\n"
      ],
      "metadata": {
        "colab": {
          "base_uri": "https://localhost:8080/"
        },
        "id": "QcuCb1acY8jz",
        "outputId": "2f4fa024-b39f-46ab-a907-05da751fda25"
      },
      "execution_count": 11,
      "outputs": [
        {
          "output_type": "stream",
          "name": "stdout",
          "text": [
            "Clauses containing the topic 'time' for students:\n",
            "- precious time beautiful art theatre quit\n",
            "- time work\n",
            "- long time page get\n",
            "- time wxii say\n",
            "- work chemistry paper time watch\n",
            "\n",
            "\n",
            "Clauses containing the topic 'day' for students:\n",
            "- jeep inherently house arrest oh lovely day outside dog walk bike ride read\n",
            "- meal day go\n",
            "- physical exertion long strenuous day err stuff kill\n",
            "- computer game day collect\n",
            "- violent weapon customary gift valentine day complain\n",
            "\n",
            "\n",
            "Clauses containing the topic 'time' for under_20s:\n",
            "- precious time beautiful art theatre quit\n",
            "- time work\n",
            "- long time page get\n",
            "- time wxii say\n",
            "- work chemistry paper time watch\n",
            "\n",
            "\n",
            "Clauses containing the topic 'day' for under_20s:\n",
            "- jeep inherently house arrest oh lovely day outside dog walk bike ride read\n",
            "- meal day go\n",
            "- physical exertion long strenuous day err stuff kill\n",
            "- computer game day collect\n",
            "- violent weapon customary gift valentine day complain\n",
            "\n",
            "\n",
            "Clauses containing the topic 'time' for females:\n",
            "- good time lot name past funny barely run\n",
            "- like time want\n",
            "- time child need\n",
            "- woman year time work work\n",
            "- lot mom lot time child care space\n",
            "\n",
            "\n",
            "Clauses containing the topic 'day' for females:\n",
            "- la day tomorrow release\n",
            "- past weekend good independence day sure well raise\n",
            "- great deal funny thing important high school long glad tired week glad day snooze\n",
            "- past couple day assure\n",
            "- day shatter\n",
            "\n",
            "\n",
            "Clauses containing the topic 'time' for males:\n",
            "- ground information wise short time atom introduce\n",
            "- time atomenable\n",
            "- time use\n",
            "- short period time live webcast spotty good outage occur\n",
            "- luckymojo hoodoo rootwork hour d evening pm eastern time participant hoodoo rootwork course come\n",
            "\n",
            "\n",
            "Clauses containing the topic 'day' for males:\n",
            "- beach day noah good friend william picture take\n",
            "- groennestrand western jutland vacation june new year day fantastic experience noah white stuff ground main theme son adoption south africa maybe adoption south africa generel noahs mother henriette proud father peter try\n",
            "- hit day july statistic august website redesign\n",
            "- positive vibe web station total listening hour day country tune\n",
            "- day hundred people share\n",
            "\n",
            "\n"
          ]
        }
      ]
    },
    {
      "metadata": {
        "id": "SDU3M6UI6kMi"
      },
      "cell_type": "markdown",
      "source": [
        "## Topic modeling with LDA\n",
        "\n",
        "1. With students"
      ]
    },
    {
      "metadata": {
        "ExecuteTime": {
          "end_time": "2024-06-01T07:46:51.480526Z",
          "start_time": "2024-06-01T07:46:10.434531Z"
        },
        "id": "NrJNMIUJ6kMi",
        "outputId": "c804d9e1-0d5e-4d44-d5c9-ee47ceaad6d6",
        "colab": {
          "base_uri": "https://localhost:8080/"
        }
      },
      "cell_type": "code",
      "source": [
        "import gensim\n",
        "from gensim import corpora\n",
        "\n",
        "# Topic modeling with LDA - Students\n",
        "students_tokens = [get_tokens_without_pos(doc) for doc in students_data]\n",
        "\n",
        "# Dictionary representation of all docs\n",
        "id2word = corpora.Dictionary(students_tokens)\n",
        "\n",
        "# Corpus representation of all docs\n",
        "corpus = [id2word.doc2bow(text) for text in students_tokens]\n",
        "\n",
        "lda_model = gensim.models.LdaModel(\n",
        "    corpus=corpus,\n",
        "    id2word=id2word,\n",
        "    num_topics=2,\n",
        "    random_state=100,\n",
        "    chunksize=100,\n",
        "    passes=10,\n",
        "    alpha='auto',\n",
        "    per_word_topics=True\n",
        ")\n",
        "\n",
        "print(lda_model.print_topics())"
      ],
      "outputs": [
        {
          "output_type": "stream",
          "name": "stdout",
          "text": [
            "[(0, '0.014*\"like\" + 0.012*\"go\" + 0.009*\"get\" + 0.009*\"know\" + 0.008*\"think\" + 0.008*\"good\" + 0.007*\"time\" + 0.006*\"want\" + 0.006*\"day\" + 0.006*\"thing\"'), (1, '0.004*\"n\" + 0.004*\"time\" + 0.004*\"war\" + 0.003*\"haha\" + 0.003*\"u\" + 0.003*\"bush\" + 0.003*\"man\" + 0.002*\"den\" + 0.002*\"study\" + 0.002*\"e\"')]\n"
          ]
        }
      ],
      "execution_count": null
    },
    {
      "metadata": {
        "ExecuteTime": {
          "end_time": "2024-06-01T08:06:49.721724Z",
          "start_time": "2024-06-01T07:53:33.401164Z"
        },
        "id": "VOHDSeEG6kMi",
        "outputId": "0016a508-8bfe-4869-d54b-62c7d166338b"
      },
      "cell_type": "code",
      "source": [
        "import spacy\n",
        "\n",
        "# Load SpaCy model\n",
        "nlp = spacy.load('en_core_web_sm')\n",
        "\n",
        "# Increase the max_length limit of SpaCy\n",
        "nlp.max_length = 1500000\n",
        "\n",
        "# Function to split text into chunks\n",
        "def split_text_into_chunks(text, max_chunk_size=1000000):\n",
        "    return [text[i:i + max_chunk_size] for i in range(0, len(text), max_chunk_size)]\n",
        "\n",
        "# Extract tokens from pre-processed students_data\n",
        "def extract_tokens(documents):\n",
        "    return [[token for token, _ in doc] for doc in documents]\n",
        "\n",
        "documents = extract_tokens(students_data)\n",
        "\n",
        "# Create a dictionary and corpus\n",
        "id2word = corpora.Dictionary(documents)\n",
        "corpus = [id2word.doc2bow(text) for text in documents]\n",
        "\n",
        "# Build the LDA model using multicore processing\n",
        "lda_model = gensim.models.LdaMulticore(\n",
        "    corpus=corpus,\n",
        "    id2word=id2word,\n",
        "    num_topics=2,\n",
        "    random_state=100,\n",
        "    chunksize=100,\n",
        "    passes=10,\n",
        "    per_word_topics=True\n",
        ")\n",
        "\n",
        "# Get the top terms for each topic\n",
        "top_terms = lda_model.show_topics(num_words=5)\n",
        "topics = [term for topic in top_terms for term, _ in lda_model.show_topic(topic[0], topn=5)]\n",
        "print(\"Top Terms:\", topics)\n",
        "\n",
        "def extract_sentences_with_topics(text, topics):\n",
        "    doc = nlp(text)\n",
        "    sentences = [sent.text for sent in doc.sents if any(topic in sent.text for topic in topics)]\n",
        "    return sentences\n",
        "\n",
        "# Combine all documents into a single text for sentence extraction\n",
        "combined_text = \" \".join([\" \".join(doc) for doc in documents])\n",
        "\n",
        "# Split the combined text into smaller chunks\n",
        "text_chunks = split_text_into_chunks(combined_text)\n",
        "\n",
        "# Extract sentences with topics from each chunk\n",
        "all_sentences_with_topics = []\n",
        "for chunk in text_chunks:\n",
        "    sentences_with_topics = extract_sentences_with_topics(chunk, topics)\n",
        "    all_sentences_with_topics.extend(sentences_with_topics)\n",
        "\n",
        "print(\"Total sentences with topics:\", len(all_sentences_with_topics))\n",
        "for sentence in all_sentences_with_topics:\n",
        "    print(sentence)"
      ],
      "outputs": [
        {
          "name": "stdout",
          "output_type": "stream",
          "text": [
            "Top Terms: ['like', 'go', 'love', 'know', 'get', 'like', 'go', 'think', 'time', 'get']\n"
          ]
        },
        {
          "name": "stderr",
          "output_type": "stream",
          "text": [
            "IOPub data rate exceeded.\n",
            "The Jupyter server will temporarily stop sending output\n",
            "to the client in order to avoid crashing it.\n",
            "To change this limit, set the config variable\n",
            "`--ServerApp.iopub_data_rate_limit`.\n",
            "\n",
            "Current values:\n",
            "ServerApp.iopub_data_rate_limit=1000000.0 (bytes/sec)\n",
            "ServerApp.rate_limit_window=3.0 (secs)\n",
            "\n"
          ]
        }
      ],
      "execution_count": null
    }
  ],
  "metadata": {
    "colab": {
      "provenance": [],
      "machine_shape": "hm"
    },
    "kernelspec": {
      "display_name": "Python 3",
      "name": "python3"
    },
    "language_info": {
      "name": "python",
      "version": "3.11.9"
    }
  },
  "nbformat": 4,
  "nbformat_minor": 0
}