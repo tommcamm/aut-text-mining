{
 "cells": [
  {
   "cell_type": "markdown",
   "source": [
    "# Text Mining - Lab 1\n",
    "\n",
    "## Tutorialspoint (google_colab_quick_guide)\n"
   ],
   "metadata": {
    "collapsed": false
   },
   "id": "da987b34af64bcda"
  },
  {
   "cell_type": "code",
   "outputs": [
    {
     "name": "stdout",
     "output_type": "stream",
     "text": [
      "Tue Feb 27 17:03:55 2024\n"
     ]
    }
   ],
   "source": [
    "import time\n",
    "print(time.ctime())"
   ],
   "metadata": {
    "collapsed": false,
    "ExecuteTime": {
     "end_time": "2024-02-27T04:03:55.953996Z",
     "start_time": "2024-02-27T04:03:55.930605Z"
    }
   },
   "id": "1d282137b4550b9f",
   "execution_count": 1
  },
  {
   "cell_type": "code",
   "outputs": [
    {
     "name": "stdout",
     "output_type": "stream",
     "text": [
      "Tue Feb 27 17:04:24 2024\n"
     ]
    }
   ],
   "source": [
    "time.sleep(5)\n",
    "print (time.ctime())"
   ],
   "metadata": {
    "collapsed": false,
    "ExecuteTime": {
     "end_time": "2024-02-27T04:04:24.890952Z",
     "start_time": "2024-02-27T04:04:19.872128Z"
    }
   },
   "id": "a8aa3b8f6a395c1b",
   "execution_count": 2
  },
  {
   "cell_type": "markdown",
   "source": [
    "### Documentation (Markdown/LaTeX) section\n",
    "\n",
    "**bold**\n",
    "*italic*\n",
    "~strikethrough~\n",
    "\n",
    "#### Equations using LaTeX\n",
    "\n",
    "$\\sqrt{3x-1}+(1+x)^2$-\n",
    "$e^x = \\sum_{i = 0}^\\infty \\frac{1}{i!}x^i$\n",
    "\n",
    "\n",
    "\n"
   ],
   "metadata": {
    "collapsed": false
   },
   "id": "c30ca9d3fc2f363a"
  }
 ],
 "metadata": {
  "kernelspec": {
   "display_name": "Python 3",
   "language": "python",
   "name": "python3"
  },
  "language_info": {
   "codemirror_mode": {
    "name": "ipython",
    "version": 2
   },
   "file_extension": ".py",
   "mimetype": "text/x-python",
   "name": "python",
   "nbconvert_exporter": "python",
   "pygments_lexer": "ipython2",
   "version": "2.7.6"
  }
 },
 "nbformat": 4,
 "nbformat_minor": 5
}
