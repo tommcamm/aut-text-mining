{
 "cells": [
  {
   "cell_type": "markdown",
   "source": [
    "# Lab 2 - Text Mining - Pre Processing "
   ],
   "metadata": {
    "collapsed": false
   },
   "id": "e592e0adbca26fff"
  },
  {
   "cell_type": "code",
   "outputs": [],
   "source": [
    "# Libraries import\n",
    "import os\n",
    "import string\n",
    "import nltk\n",
    "from nltk.util import bigrams\n",
    "from nltk.tokenize import word_tokenize\n",
    "from nltk.stem import WordNetLemmatizer\n",
    "from nltk.corpus import stopwords\n",
    "from nltk import trigrams\n",
    "from collections import Counter"
   ],
   "metadata": {
    "collapsed": false,
    "ExecuteTime": {
     "end_time": "2024-03-10T08:36:49.536925Z",
     "start_time": "2024-03-10T08:36:49.524364Z"
    }
   },
   "id": "400832902b02f62a",
   "execution_count": 23
  },
  {
   "cell_type": "code",
   "outputs": [
    {
     "name": "stderr",
     "output_type": "stream",
     "text": [
      "[nltk_data] Downloading package punkt to\n",
      "[nltk_data]     C:\\Users\\tommc\\AppData\\Roaming\\nltk_data...\n",
      "[nltk_data]   Package punkt is already up-to-date!\n",
      "[nltk_data] Downloading package stopwords to\n",
      "[nltk_data]     C:\\Users\\tommc\\AppData\\Roaming\\nltk_data...\n",
      "[nltk_data]   Package stopwords is already up-to-date!\n",
      "[nltk_data] Downloading package wordnet to\n",
      "[nltk_data]     C:\\Users\\tommc\\AppData\\Roaming\\nltk_data...\n",
      "[nltk_data]   Package wordnet is already up-to-date!\n"
     ]
    },
    {
     "data": {
      "text/plain": "True"
     },
     "execution_count": 11,
     "metadata": {},
     "output_type": "execute_result"
    }
   ],
   "source": [
    "# Required NTLK resources\n",
    "nltk.download('punkt')\n",
    "nltk.download('stopwords')\n",
    "nltk.download('wordnet')"
   ],
   "metadata": {
    "collapsed": false,
    "ExecuteTime": {
     "end_time": "2024-03-10T07:57:53.871681Z",
     "start_time": "2024-03-10T07:57:53.847575Z"
    }
   },
   "id": "19c92b319b7f2939",
   "execution_count": 11
  },
  {
   "cell_type": "markdown",
   "source": [
    "## Task 1-6"
   ],
   "metadata": {
    "collapsed": false
   },
   "id": "ea2985bb5bf7d956"
  },
  {
   "cell_type": "code",
   "outputs": [],
   "source": [
    "# Read of all files inside the directory\n",
    "directory_path = './terrorism_articles'\n",
    "\n",
    "articles = []\n",
    "\n",
    "for filename in os.listdir(directory_path):\n",
    "    if filename.endswith('.txt'):\n",
    "        file_path = os.path.join(directory_path, filename)\n",
    "        with open(file_path, 'r', encoding='utf-8') as file:\n",
    "            articles.append(file.read())"
   ],
   "metadata": {
    "collapsed": false,
    "ExecuteTime": {
     "end_time": "2024-03-10T07:53:26.659988Z",
     "start_time": "2024-03-10T07:53:26.520285Z"
    }
   },
   "id": "d190c9ff74d15069",
   "execution_count": 7
  },
  {
   "cell_type": "code",
   "outputs": [],
   "source": [
    "# Find all of the bi-grams\n",
    "all_bigrams = []\n",
    "\n",
    "for article in articles:\n",
    "    tokens = word_tokenize(article)\n",
    "    article_bigrams = list(bigrams(tokens))\n",
    "\n",
    "    all_bigrams.extend(article_bigrams)"
   ],
   "metadata": {
    "collapsed": false,
    "ExecuteTime": {
     "end_time": "2024-03-10T07:54:34.311860Z",
     "start_time": "2024-03-10T07:54:28.070705Z"
    }
   },
   "id": "1f7f02a9a00f2be9",
   "execution_count": 10
  },
  {
   "cell_type": "markdown",
   "source": [
    "## Task 7"
   ],
   "metadata": {
    "collapsed": false
   },
   "id": "d4092356f9d68e52"
  },
  {
   "cell_type": "code",
   "outputs": [],
   "source": [
    "# (a) - Text cleaning\n",
    "lemmatizer = WordNetLemmatizer()\n",
    "stop_words = set(stopwords.words('english')) # Retrieve english stopwords\n",
    "\n",
    "## article word-cleaning function\n",
    "def clean_text(c_article):\n",
    "    # Tokenize the article\n",
    "    c_tokens = word_tokenize(c_article)\n",
    "    # Remove punctuation and convert to lowercase\n",
    "    c_tokens = [word.lower() for word in c_tokens if word.isalnum()]\n",
    "    # Remove stop-words\n",
    "    c_tokens = [word for word in c_tokens if word not in stop_words]\n",
    "    # Lemmatize the words \n",
    "    c_tokens = [lemmatizer.lemmatize(word) for word in c_tokens]\n",
    "    return c_tokens\n",
    "\n",
    "cleaned_articles = [clean_text(article) for article in articles]"
   ],
   "metadata": {
    "collapsed": false,
    "ExecuteTime": {
     "end_time": "2024-03-10T08:02:16.534952Z",
     "start_time": "2024-03-10T08:02:07.203660Z"
    }
   },
   "id": "43a1cb22f6586d05",
   "execution_count": 18
  },
  {
   "cell_type": "code",
   "outputs": [
    {
     "data": {
      "text/plain": "[('celebrating', 'last', 'week'),\n ('last', 'week', 'victory'),\n ('week', 'victory', 'iraqi'),\n ('victory', 'iraqi', 'government'),\n ('iraqi', 'government', 'force'),\n ('government', 'force', 'islamic'),\n ('force', 'islamic', 'state'),\n ('islamic', 'state', 'terrorist'),\n ('state', 'terrorist', 'group'),\n ('terrorist', 'group', 'still'),\n ('group', 'still', 'feel'),\n ('still', 'feel', 'little'),\n ('feel', 'little', 'premature'),\n ('little', 'premature', 'yes'),\n ('premature', 'yes', 'retaking'),\n ('yes', 'retaking', 'provincial'),\n ('retaking', 'provincial', 'capital'),\n ('provincial', 'capital', 'ramadi'),\n ('capital', 'ramadi', 'largest'),\n ('ramadi', 'largest', 'city'),\n ('largest', 'city', 'recaptured'),\n ('city', 'recaptured', 'far'),\n ('recaptured', 'far', 'best'),\n ('far', 'best', 'news'),\n ('best', 'news', 'yet'),\n ('news', 'yet', 'region'),\n ('yet', 'region', 'news'),\n ('region', 'news', 'awful'),\n ('news', 'awful', 'tempting'),\n ('awful', 'tempting', 'conclude'),\n ('tempting', 'conclude', 'battle'),\n ('conclude', 'battle', 'america'),\n ('battle', 'america', 'iraqi'),\n ('america', 'iraqi', 'ally'),\n ('iraqi', 'ally', 'turned'),\n ('ally', 'turned', 'corner'),\n ('turned', 'corner', 'seeming'),\n ('corner', 'seeming', 'hopelessly'),\n ('seeming', 'hopelessly', 'overmatched'),\n ('hopelessly', 'overmatched', 'isil'),\n ('overmatched', 'isil', 'force'),\n ('isil', 'force', 'drove'),\n ('force', 'drove', 'ramadi'),\n ('drove', 'ramadi', 'first'),\n ('ramadi', 'first', 'place'),\n ('first', 'place', 'official'),\n ('place', 'official', 'insist'),\n ('official', 'insist', 'year'),\n ('insist', 'year', 'training'),\n ('year', 'training', 'given'),\n ('training', 'given', 'iraqi'),\n ('given', 'iraqi', 'troop'),\n ('iraqi', 'troop', 'new'),\n ('troop', 'new', 'skill'),\n ('new', 'skill', 'fight'),\n ('skill', 'fight', 'isil'),\n ('fight', 'isil', 'also'),\n ('isil', 'also', 'known'),\n ('also', 'known', 'isi'),\n ('known', 'isi', 'true'),\n ('isi', 'true', 'iraqi'),\n ('true', 'iraqi', 'replicate'),\n ('iraqi', 'replicate', 'success'),\n ('replicate', 'success', 'tougher'),\n ('success', 'tougher', 'test'),\n ('tougher', 'test', 'come'),\n ('test', 'come', 'fallujah'),\n ('come', 'fallujah', 'mosul'),\n ('fallujah', 'mosul', 'could'),\n ('mosul', 'could', 'vindicate'),\n ('could', 'vindicate', 'president'),\n ('vindicate', 'president', 'obama'),\n ('president', 'obama', 'insistence'),\n ('obama', 'insistence', 'letting'),\n ('insistence', 'letting', 'local'),\n ('letting', 'local', 'force'),\n ('local', 'force', 'take'),\n ('force', 'take', 'lead'),\n ('take', 'lead', 'force'),\n ('lead', 'force', 'stick'),\n ('force', 'stick', 'largely'),\n ('stick', 'largely', 'training'),\n ('largely', 'training', 'assistance'),\n ('training', 'assistance', 'year'),\n ('assistance', 'year', 'fighting'),\n ('year', 'fighting', 'american'),\n ('fighting', 'american', 'afghanistan'),\n ('american', 'afghanistan', 'iraq'),\n ('afghanistan', 'iraq', 'obama'),\n ('iraq', 'obama', 'understandably'),\n ('obama', 'understandably', 'reluctant'),\n ('understandably', 'reluctant', 'put'),\n ('reluctant', 'put', 'boot'),\n ('put', 'boot', 'ground'),\n ('boot', 'ground', 'american'),\n ('ground', 'american', 'ally'),\n ('american', 'ally', 'iraq'),\n ('ally', 'iraq', 'syria'),\n ('iraq', 'syria', 'beat'),\n ('syria', 'beat', 'isil'),\n ('beat', 'isil', 'help'),\n ('isil', 'help', 'training'),\n ('help', 'training', 'air'),\n ('training', 'air', 'power'),\n ('air', 'power', 'would'),\n ('power', 'would', 'vastly'),\n ('would', 'vastly', 'preferable'),\n ('vastly', 'preferable', 'proposal'),\n ('preferable', 'proposal', 'deploy'),\n ('proposal', 'deploy', 'many'),\n ('deploy', 'many', 'troop'),\n ('many', 'troop', 'called'),\n ('troop', 'called', 'sen'),\n ('called', 'sen', 'john'),\n ('sen', 'john', 'mccain'),\n ('john', 'mccain', 'lindsey'),\n ('mccain', 'lindsey', 'graham'),\n ('lindsey', 'graham', 'promising'),\n ('graham', 'promising', 'ramadi'),\n ('promising', 'ramadi', 'seems'),\n ('ramadi', 'seems', 'though'),\n ('seems', 'though', 'news'),\n ('though', 'news', 'since'),\n ('news', 'since', 'iraq'),\n ('since', 'iraq', 'government'),\n ('iraq', 'government', 'said'),\n ('government', 'said', 'retaken'),\n ('said', 'retaken', 'city'),\n ('retaken', 'city', '28'),\n ('city', '28', 'includes'),\n ('28', 'includes', 'reason'),\n ('includes', 'reason', 'caution'),\n ('reason', 'caution', 'report'),\n ('caution', 'report', 'counterattack'),\n ('report', 'counterattack', 'recently'),\n ('counterattack', 'recently', 'sunday'),\n ('recently', 'sunday', 'isil'),\n ('sunday', 'isil', 'appears'),\n ('isil', 'appears', 'still'),\n ('appears', 'still', 'hold'),\n ('still', 'hold', 'neighborhood'),\n ('hold', 'neighborhood', 'account'),\n ('neighborhood', 'account', 'also'),\n ('account', 'also', 'noted'),\n ('also', 'noted', 'took'),\n ('noted', 'took', 'iraqi'),\n ('took', 'iraqi', 'troop'),\n ('iraqi', 'troop', 'dislodge'),\n ('troop', 'dislodge', '500'),\n ('dislodge', '500', 'isil'),\n ('500', 'isil', 'fighter'),\n ('isil', 'fighter', 'center'),\n ('fighter', 'center', 'city'),\n ('center', 'city', 'ominous'),\n ('city', 'ominous', 'sign'),\n ('ominous', 'sign', 'coming'),\n ('sign', 'coming', 'battle'),\n ('coming', 'battle', 'retake'),\n ('battle', 'retake', 'mosul'),\n ('retake', 'mosul', 'iraqi'),\n ('mosul', 'iraqi', 'prime'),\n ('iraqi', 'prime', 'minister'),\n ('prime', 'minister', 'haider'),\n ('minister', 'haider', 'promised'),\n ('haider', 'promised', 'would'),\n ('promised', 'would', 'happen'),\n ('would', 'happen', 'year'),\n ('happen', 'year', 'iraq'),\n ('year', 'iraq', 'second'),\n ('iraq', 'second', 'largest'),\n ('second', 'largest', 'city'),\n ('largest', 'city', 'home'),\n ('city', 'home', 'thousand'),\n ('home', 'thousand', 'isil'),\n ('thousand', 'isil', 'fighter'),\n ('isil', 'fighter', 'ramadi'),\n ('fighter', 'ramadi', 'many'),\n ('ramadi', 'many', 'million'),\n ('many', 'million', 'civilian'),\n ('million', 'civilian', 'ramadi'),\n ('civilian', 'ramadi', 'peak'),\n ('ramadi', 'peak', 'population'),\n ('peak', 'population', 'refugee'),\n ('population', 'refugee', 'fighting'),\n ('refugee', 'fighting', 'city'),\n ('fighting', 'city', 'said'),\n ('city', 'said', 'isil'),\n ('said', 'isil', 'force'),\n ('isil', 'force', 'using'),\n ('force', 'using', 'family'),\n ('using', 'family', 'human'),\n ('family', 'human', 'shield'),\n ('human', 'shield', 'mosul'),\n ('shield', 'mosul', 'isil'),\n ('mosul', 'isil', 'many'),\n ('isil', 'many', 'shield'),\n ('many', 'shield', 'politics'),\n ('shield', 'politics', 'could'),\n ('politics', 'could', 'important'),\n ('could', 'important', 'military'),\n ('important', 'military', 'might'),\n ('military', 'might', 'iraqi'),\n ('might', 'iraqi', 'ca'),\n ('iraqi', 'ca', 'temper'),\n ('ca', 'temper', 'internal'),\n ('temper', 'internal', 'struggle'),\n ('internal', 'struggle', 'sunni'),\n ('struggle', 'sunni', 'shiite'),\n ('sunni', 'shiite', 'sectarian'),\n ('shiite', 'sectarian', 'strife'),\n ('sectarian', 'strife', 'could'),\n ('strife', 'could', 'undermine'),\n ('could', 'undermine', 'military'),\n ('undermine', 'military', 'victory'),\n ('military', 'victory', 'promising'),\n ('victory', 'promising', 'sign'),\n ('promising', 'sign', 'government'),\n ('sign', 'government', 'get'),\n ('government', 'get', 'commander'),\n ('get', 'commander', 'tried'),\n ('commander', 'tried', 'keep'),\n ('tried', 'keep', 'iraq'),\n ('keep', 'iraq', 'powerful'),\n ('iraq', 'powerful', 'shiite'),\n ('powerful', 'shiite', 'militia'),\n ('shiite', 'militia', 'away'),\n ('militia', 'away', 'fighting'),\n ('away', 'fighting', 'relying'),\n ('fighting', 'relying', 'sunni'),\n ('relying', 'sunni', 'force'),\n ('sunni', 'force', 'occupy'),\n ('force', 'occupy', 'ramadi'),\n ('occupy', 'ramadi', 'time'),\n ('ramadi', 'time', 'though'),\n ('time', 'though', 'government'),\n ('though', 'government', 'reluctant'),\n ('government', 'reluctant', 'help'),\n ('reluctant', 'help', 'arm'),\n ('help', 'arm', 'sunni'),\n ('arm', 'sunni', 'group'),\n ('sunni', 'group', 'fight'),\n ('group', 'fight', 'common'),\n ('fight', 'common', 'enemy'),\n ('common', 'enemy', 'little'),\n ('enemy', 'little', 'sign'),\n ('little', 'sign', 'government'),\n ('sign', 'government', 'reopened'),\n ('government', 'reopened', 'political'),\n ('reopened', 'political', 'space'),\n ('political', 'space', 'sunni'),\n ('space', 'sunni', 'shut'),\n ('sunni', 'shut', 'shiite'),\n ('shut', 'shiite', 'predecessor'),\n ('shiite', 'predecessor', 'nouri'),\n ('predecessor', 'nouri', 'oppression'),\n ('nouri', 'oppression', 'helped'),\n ('oppression', 'helped', 'create'),\n ('helped', 'create', 'opening'),\n ('create', 'opening', 'iraq'),\n ('opening', 'iraq', 'isil'),\n ('iraq', 'isil', 'sunni'),\n ('isil', 'sunni', 'extremist'),\n ('sunni', 'extremist', 'first'),\n ('extremist', 'first', 'place'),\n ('first', 'place', 'even'),\n ('place', 'even', 'iraqi'),\n ('even', 'iraqi', 'could'),\n ('iraqi', 'could', 'pull'),\n ('could', 'pull', 'together'),\n ('pull', 'together', 'detente'),\n ('together', 'detente', 'could'),\n ('detente', 'could', 'threatened'),\n ('could', 'threatened', 'outside'),\n ('threatened', 'outside', 'force'),\n ('outside', 'force', 'growing'),\n ('force', 'growing', 'friction'),\n ('growing', 'friction', 'saudi'),\n ('friction', 'saudi', 'arabia'),\n ('saudi', 'arabia', 'iran'),\n ('arabia', 'iran', 'american'),\n ('iran', 'american', 'heartened'),\n ('american', 'heartened', 'apparent'),\n ('heartened', 'apparent', 'victory'),\n ('apparent', 'victory', 'ramadi'),\n ('victory', 'ramadi', 'take'),\n ('ramadi', 'take', 'year'),\n ('take', 'year', 'finish'),\n ('year', 'finish', 'job'),\n ('finish', 'job', 'illustration'),\n ('job', 'illustration', 'photo'),\n ('illustration', 'photo', 'ap'),\n ('photo', 'ap', 'word'),\n ('ap', 'word', 'count'),\n ('word', 'count', '549'),\n ('count', '549', 'copyright'),\n ('549', 'copyright', 'c'),\n ('copyright', 'c', '2016'),\n ('c', '2016', 'usa'),\n ('2016', 'usa', 'today'),\n ('usa', 'today', 'right'),\n ('today', 'right', 'reserved'),\n ('hijacker', 'trouble', 'getting'),\n ('trouble', 'getting', 'one'),\n ('getting', 'one', 'crucial'),\n ('one', 'crucial', 'tool'),\n ('crucial', 'tool', 'helped'),\n ('tool', 'helped', 'carry'),\n ('helped', 'carry', 'murderous'),\n ('carry', 'murderous', 'plot'),\n ('murderous', 'plot', 'driver'),\n ('plot', 'driver', 'license'),\n ('driver', 'license', 'state'),\n ('license', 'state', 'id'),\n ('state', 'id', 'allowed'),\n ('id', 'allowed', 'easily'),\n ('allowed', 'easily', 'board'),\n ('easily', 'board', 'four'),\n ('board', 'four', 'jetliner'),\n ('four', 'jetliner', '19'),\n ('jetliner', '19', 'terrorist'),\n ('19', 'terrorist', 'issued'),\n ('terrorist', 'issued', '16'),\n ('issued', '16', 'state'),\n ('16', 'state', 'driver'),\n ('state', 'driver', 'license'),\n ('driver', 'license', '14'),\n ('license', '14', 'state'),\n ('14', 'state', 'id'),\n ('state', 'id', 'card'),\n ('id', 'card', 'including'),\n ('card', 'including', 'one'),\n ('including', 'one', 'obtained'),\n ('one', 'obtained', 'paperwork'),\n ('obtained', 'paperwork', 'bought'),\n ('paperwork', 'bought', 'undocumented'),\n ('bought', 'undocumented', 'immigrant'),\n ('undocumented', 'immigrant', 'convenience'),\n ('immigrant', 'convenience', 'store'),\n ('convenience', 'store', 'parking'),\n ('store', 'parking', 'lot'),\n ('parking', 'lot', 'virginia'),\n ('lot', 'virginia', '100'),\n ('virginia', '100', 'think'),\n ('100', 'think', 'nation'),\n ('think', 'nation', 'would'),\n ('nation', 'would', 'filled'),\n ('would', 'filled', 'dangerous'),\n ('filled', 'dangerous', 'security'),\n ('dangerous', 'security', 'gap'),\n ('security', 'gap', '14'),\n ('gap', '14', 'year'),\n ('14', 'year', 'attack'),\n ('year', 'attack', 'half'),\n ('attack', 'half', 'state'),\n ('half', 'state', 'failed'),\n ('state', 'failed', 'comply'),\n ('failed', 'comply', '2005'),\n ('comply', '2005', 'real'),\n ('2005', 'real', 'id'),\n ('real', 'id', 'law'),\n ('id', 'law', 'supposed'),\n ('law', 'supposed', 'make'),\n ('supposed', 'make', 'driver'),\n ('make', 'driver', 'license'),\n ('driver', 'license', 'tougher'),\n ('license', 'tougher', 'obtain'),\n ('tougher', 'obtain', 'fraudulently'),\n ('obtain', 'fraudulently', 'could'),\n ('fraudulently', 'could', 'change'),\n ('could', 'change', 'help'),\n ('change', 'help', 'prevent'),\n ('help', 'prevent', 'attack'),\n ('prevent', 'attack', 'secure'),\n ('attack', 'secure', 'license'),\n ('secure', 'license', 'could'),\n ('license', 'could', 'stop'),\n ('could', 'stop', 'underage'),\n ('stop', 'underage', 'drinker'),\n ('underage', 'drinker', 'using'),\n ('drinker', 'using', 'fake'),\n ('using', 'fake', 'id'),\n ('fake', 'id', 'criminal'),\n ('id', 'criminal', 'obtaining'),\n ('criminal', 'obtaining', 'license'),\n ('obtaining', 'license', 'identity'),\n ('license', 'identity', 'theft'),\n ('identity', 'theft', 'scheme'),\n ('theft', 'scheme', 'federal'),\n ('scheme', 'federal', 'government'),\n ('federal', 'government', 'patient'),\n ('government', 'patient', 'laggard'),\n ('patient', 'laggard', 'state'),\n ('laggard', 'state', 'homeland'),\n ('state', 'homeland', 'security'),\n ('homeland', 'security', 'department'),\n ('security', 'department', 'expected'),\n ('department', 'expected', 'announce'),\n ('expected', 'announce', 'bring'),\n ('announce', 'bring', 'hammer'),\n ('bring', 'hammer', 'state'),\n ('hammer', 'state', 'early'),\n ('state', 'early', '2018'),\n ('early', '2018', 'point'),\n ('2018', 'point', 'state'),\n ('point', 'state', 'follow'),\n ('state', 'follow', 'rule'),\n ('follow', 'rule', 'wo'),\n ('rule', 'wo', 'able'),\n ('wo', 'able', 'use'),\n ('able', 'use', 'driver'),\n ('use', 'driver', 'license'),\n ('driver', 'license', 'state'),\n ('license', 'state', 'id'),\n ('state', 'id', 'card'),\n ('id', 'card', 'get'),\n ('card', 'get', 'plane'),\n ('get', 'plane', 'need'),\n ('plane', 'need', 'alternative'),\n ('need', 'alternative', 'id'),\n ('alternative', 'id', 'passport'),\n ('id', 'passport', 'military'),\n ('passport', 'military', 'id'),\n ('military', 'id', 'technically'),\n ('id', 'technically', 'government'),\n ('technically', 'government', 'ca'),\n ('government', 'ca', 'force'),\n ('ca', 'force', 'state'),\n ('force', 'state', 'comply'),\n ('state', 'comply', 'real'),\n ('comply', 'real', 'id'),\n ('real', 'id', 'issuing'),\n ('id', 'issuing', 'driver'),\n ('issuing', 'driver', 'license'),\n ('driver', 'license', 'purely'),\n ('license', 'purely', 'state'),\n ('purely', 'state', 'matter'),\n ('state', 'matter', 'federal'),\n ('matter', 'federal', 'authority'),\n ('federal', 'authority', 'airport'),\n ('authority', 'airport', 'government'),\n ('airport', 'government', 'building'),\n ('government', 'building', 'give'),\n ('building', 'give', 'fed'),\n ('give', 'fed', 'significant'),\n ('fed', 'significant', 'leverage'),\n ('significant', 'leverage', 'time'),\n ('leverage', 'time', 'used'),\n ('time', 'used', 'strongest'),\n ('used', 'strongest', 'argument'),\n ('strongest', 'argument', 'real'),\n ('argument', 'real', 'id'),\n ('real', 'id', 'pretty'),\n ('id', 'pretty', 'simple'),\n ('pretty', 'simple', 'driver'),\n ('simple', 'driver', 'license'),\n ('driver', 'license', 'already'),\n ('license', 'already', 'accepted'),\n ('already', 'accepted', 'nation'),\n ('accepted', 'nation', 'credible'),\n ('nation', 'credible', 'commonly'),\n ('credible', 'commonly', 'used'),\n ('commonly', 'used', 'form'),\n ('used', 'form', 'id'),\n ('form', 'id', 'long'),\n ('id', 'long', 'case'),\n ('long', 'case', 'need'),\n ('case', 'need', 'trustworthy'),\n ('need', 'trustworthy', 'without'),\n ('trustworthy', 'without', 'improvement'),\n ('without', 'improvement', 'simply'),\n ('improvement', 'simply', 'easy'),\n ('simply', 'easy', 'fool'),\n ('easy', 'fool', 'state'),\n ('fool', 'state', 'motor'),\n ('state', 'motor', 'vehicle'),\n ('motor', 'vehicle', 'office'),\n ('vehicle', 'office', '2003'),\n ('office', '2003', 'example'),\n ('2003', 'example', 'fewer'),\n ('example', 'fewer', 'half'),\n ('fewer', 'half', 'state'),\n ('half', 'state', 'bothered'),\n ('state', 'bothered', 'verify'),\n ('bothered', 'verify', 'social'),\n ('verify', 'social', 'security'),\n ('social', 'security', 'number'),\n ('security', 'number', 'even'),\n ('number', 'even', 'accepting'),\n ('even', 'accepting', 'proof'),\n ('accepting', 'proof', 'identity'),\n ('proof', 'identity', 'today'),\n ('identity', 'today', 'influence'),\n ('today', 'influence', 'real'),\n ('influence', 'real', 'id'),\n ('real', 'id', 'every'),\n ('id', 'every', 'state'),\n ('every', 'state', 'verifies'),\n ('state', 'verifies', 'federal'),\n ('verifies', 'federal', 'database'),\n ('federal', 'database', 'security'),\n ('database', 'security', 'better'),\n ('security', 'better', 'insistence'),\n ('better', 'insistence', 'state'),\n ('insistence', 'state', 'ca'),\n ('state', 'ca', 'comply'),\n ('ca', 'comply', 'due'),\n ('comply', 'due', 'lack'),\n ('due', 'lack', 'time'),\n ('lack', 'time', 'money'),\n ('time', 'money', 'look'),\n ('money', 'look', 'ridiculous'),\n ('look', 'ridiculous', 'realize'),\n ('ridiculous', 'realize', '20'),\n ('realize', '20', 'managed'),\n ('20', 'managed', 'adopt'),\n ('managed', 'adopt', 'standard'),\n ('adopt', 'standard', 'including'),\n ('standard', 'including', '13'),\n ('including', '13', '2012'),\n ('13', '2012', 'many'),\n ('2012', 'many', 'success'),\n ('many', 'success', 'story'),\n ('success', 'story', 'tell'),\n ('story', 'tell', 'instance'),\n ('tell', 'instance', 'indiana'),\n ('instance', 'indiana', 'checked'),\n ('indiana', 'checked', '6'),\n ('checked', '6', 'million'),\n ('6', 'million', 'driver'),\n ('million', 'driver', 'social'),\n ('driver', 'social', 'security'),\n ('social', 'security', 'database'),\n ('security', 'database', 'found'),\n ('database', 'found', 'license'),\n ('found', 'license', 'match'),\n ('license', 'match', 'invalidated'),\n ('match', 'invalidated', 'went'),\n ('invalidated', 'went', 'beyond'),\n ('went', 'beyond', 'law'),\n ('beyond', 'law', 'requirement'),\n ('law', 'requirement', 'use'),\n ('requirement', 'use', 'facial'),\n ('use', 'facial', 'technology'),\n ('facial', 'technology', 'make'),\n ('technology', 'make', 'photo'),\n ('make', 'photo', 'secure'),\n ('photo', 'secure', 'caught'),\n ('secure', 'caught', 'one'),\n ('caught', 'one', 'man'),\n ('one', 'man', '149'),\n ('man', '149', 'license'),\n ('149', 'license', 'different'),\n ('license', 'different', 'name'),\n ('different', 'name', 'photo'),\n ('name', 'photo', 'since'),\n ('photo', 'since', '2010'),\n ('since', '2010', 'new'),\n ('2010', 'new', 'york'),\n ('new', 'york', 'used'),\n ('york', 'used', 'facial'),\n ('used', 'facial', 'recognition'),\n ('facial', 'recognition', 'find'),\n ('recognition', 'find', 'arrest'),\n ('find', 'arrest', '800'),\n ('arrest', '800', 'people'),\n ('800', 'people', 'multiple'),\n ('people', 'multiple', 'license'),\n ('multiple', 'license', 'valid'),\n ('license', 'valid', 'concern'),\n ('valid', 'concern', 'raised'),\n ('concern', 'raised', 'opponent'),\n ('raised', 'opponent', 'fear'),\n ('opponent', 'fear', 'privacy'),\n ('fear', 'privacy', 'compromised'),\n ('privacy', 'compromised', 'information'),\n ('compromised', 'information', 'license'),\n ('information', 'license', 'form'),\n ('license', 'form', 'easily'),\n ('form', 'easily', 'shared'),\n ('easily', 'shared', 'reality'),\n ('shared', 'reality', 'driver'),\n ('reality', 'driver', 'license'),\n ('driver', 'license', 'information'),\n ('license', 'information', 'currently'),\n ('information', 'currently', 'remains'),\n ('currently', 'remains', 'individual'),\n ('remains', 'individual', 'state'),\n ('individual', 'state', 'real'),\n ('state', 'real', 'id'),\n ('real', 'id', 'law'),\n ('id', 'law', 'authorize'),\n ('law', 'authorize', 'national'),\n ('authorize', 'national', 'database'),\n ('national', 'database', 'one'),\n ('database', 'one', 'work'),\n ('one', 'work', 'good'),\n ('work', 'good', 'news'),\n ('good', 'news', '27'),\n ('news', '27', 'state'),\n ('27', 'state', 'fully'),\n ('state', 'fully', 'complied'),\n ('fully', 'complied', 'real'),\n ('complied', 'real', 'id'),\n ('real', 'id', 'requirement'),\n ('id', 'requirement', 'vast'),\n ('requirement', 'vast', 'majority'),\n ('vast', 'majority', 'moved'),\n ('majority', 'moved', 'good'),\n ('moved', 'good', 'distance'),\n ('good', 'distance', 'right'),\n ('distance', 'right', 'direction'),\n ('right', 'direction', 'five'),\n ('direction', 'five', 'illinois'),\n ('five', 'illinois', 'minnesota'),\n ('illinois', 'minnesota', 'missouri'),\n ('minnesota', 'missouri', 'new'),\n ('missouri', 'new', 'mexico'),\n ('new', 'mexico', 'washington'),\n ('mexico', 'washington', 'failed'),\n ('washington', 'failed', 'pas'),\n ('failed', 'pas', 'enabling'),\n ('pas', 'enabling', 'measure'),\n ('enabling', 'measure', 'gone'),\n ('measure', 'gone', 'far'),\n ('gone', 'far', 'pas'),\n ('far', 'pas', 'law'),\n ('pas', 'law', 'prohibiting'),\n ('law', 'prohibiting', 'adoption'),\n ('prohibiting', 'adoption', 'real'),\n ('adoption', 'real', 'id'),\n ('real', 'id', 'standard'),\n ('id', 'standard', 'security'),\n ('standard', 'security', 'system'),\n ('security', 'system', 'good'),\n ('system', 'good', 'weakest'),\n ('good', 'weakest', 'link'),\n ('weakest', 'link', 'make'),\n ('link', 'make', 'work'),\n ('make', 'work', 'state'),\n ('work', 'state', 'need'),\n ('state', 'need', 'comply'),\n ('need', 'comply', '14'),\n ('comply', '14', 'year'),\n ('14', 'year', 'seems'),\n ('year', 'seems', 'compliance'),\n ('seems', 'compliance', 'come'),\n ('compliance', 'come', 'fed'),\n ('come', 'fed', 'finally'),\n ('fed', 'finally', 'show'),\n ('finally', 'show', 'serious'),\n ('show', 'serious', 'cracking'),\n ('serious', 'cracking', 'word'),\n ('cracking', 'word', 'count'),\n ('word', 'count', '648'),\n ('count', '648', 'copyright'),\n ('648', 'copyright', 'c'),\n ('copyright', 'c', '2016'),\n ('c', '2016', 'usa'),\n ('2016', 'usa', 'today'),\n ('usa', 'today', 'right'),\n ('today', 'right', 'reserved'),\n ('jalalabad', 'afghanistan', 'islamic'),\n ('afghanistan', 'islamic', 'state'),\n ('islamic', 'state', 'militant'),\n ('state', 'militant', 'afghanistan'),\n ('militant', 'afghanistan', 'claimed'),\n ('afghanistan', 'claimed', 'first'),\n ('claimed', 'first', 'attack'),\n ('first', 'attack', 'major'),\n ('attack', 'major', 'city'),\n ('major', 'city', 'wednesday'),\n ('city', 'wednesday', 'assault'),\n ('wednesday', 'assault', 'near'),\n ('assault', 'near', 'pakistani'),\n ('near', 'pakistani', 'consulate'),\n ('pakistani', 'consulate', 'jalalabad'),\n ('consulate', 'jalalabad', 'killed'),\n ('jalalabad', 'killed', 'least'),\n ('killed', 'least', 'seven'),\n ('least', 'seven', 'member'),\n ('seven', 'member', 'afghan'),\n ('member', 'afghan', 'security'),\n ('afghan', 'security', 'force'),\n ('security', 'force', 'claim'),\n ('force', 'claim', 'posted'),\n ('claim', 'posted', 'telegram'),\n ('posted', 'telegram', 'channel'),\n ('telegram', 'channel', 'used'),\n ('channel', 'used', 'islamic'),\n ('used', 'islamic', 'state'),\n ('islamic', 'state', 'central'),\n ('state', 'central', 'command'),\n ('central', 'command', 'announce'),\n ('command', 'announce', 'attack'),\n ('announce', 'attack', 'sign'),\n ('attack', 'sign', 'main'),\n ('sign', 'main', 'group'),\n ('main', 'group', 'syria'),\n ('group', 'syria', 'iraq'),\n ('syria', 'iraq', 'increasingly'),\n ('iraq', 'increasingly', 'willing'),\n ('increasingly', 'willing', 'tout'),\n ('willing', 'tout', 'afghan'),\n ('tout', 'afghan', 'affiliate'),\n ('afghan', 'affiliate', 'supported'),\n ('affiliate', 'supported', 'group'),\n ('supported', 'group', 'even'),\n ('group', 'even', 'official'),\n ('even', 'official', 'say'),\n ('official', 'say', 'level'),\n ('say', 'level', 'coordination'),\n ('level', 'coordination', 'contact'),\n ('coordination', 'contact', 'remains'),\n ('contact', 'remains', 'limited'),\n ('remains', 'limited', 'attack'),\n ('limited', 'attack', 'jalalabad'),\n ('attack', 'jalalabad', 'capital'),\n ('jalalabad', 'capital', 'nangarhar'),\n ('capital', 'nangarhar', 'province'),\n ('nangarhar', 'province', 'also'),\n ('province', 'also', 'furthered'),\n ('also', 'furthered', 'concern'),\n ('furthered', 'concern', 'militant'),\n ('concern', 'militant', 'broken'),\n ('militant', 'broken', 'away'),\n ('broken', 'away', 'taliban'),\n ('away', 'taliban', 'claimed'),\n ('taliban', 'claimed', 'loyalty'),\n ('claimed', 'loyalty', 'islamic'),\n ('loyalty', 'islamic', 'state'),\n ('islamic', 'state', 'ready'),\n ('state', 'ready', 'start'),\n ('ready', 'start', 'spreading'),\n ('start', 'spreading', 'brutal'),\n ('spreading', 'brutal', 'campaign'),\n ('brutal', 'campaign', 'urban'),\n ('campaign', 'urban', 'area'),\n ('urban', 'area', 'islamic'),\n ('area', 'islamic', 'state'),\n ('islamic', 'state', 'cell'),\n ('state', 'cell', 'fought'),\n ('cell', 'fought', 'taliban'),\n ('fought', 'taliban', 'government'),\n ('taliban', 'government', 'nangarhar'),\n ('government', 'nangarhar', 'past'),\n ('nangarhar', 'past', 'year'),\n ('past', 'year', 'carving'),\n ('year', 'carving', 'area'),\n ('carving', 'area', 'control'),\n ('area', 'control', 'official'),\n ('control', 'official', 'say'),\n ('official', 'say', 'attack'),\n ('say', 'attack', 'took'),\n ('attack', 'took', 'place'),\n ('took', 'place', 'busy'),\n ('place', 'busy', 'morning'),\n ('busy', 'morning', 'hour'),\n ('morning', 'hour', 'visa'),\n ('hour', 'visa', 'applicant'),\n ('visa', 'applicant', 'lined'),\n ('applicant', 'lined', 'near'),\n ('lined', 'near', 'consulate'),\n ('near', 'consulate', 'began'),\n ('consulate', 'began', 'suicide'),\n ('began', 'suicide', 'bomber'),\n ('suicide', 'bomber', 'detonated'),\n ('bomber', 'detonated', 'explosive'),\n ('detonated', 'explosive', 'vest'),\n ('explosive', 'vest', 'near'),\n ('vest', 'near', 'police'),\n ('near', 'police', 'vehicle'),\n ('police', 'vehicle', 'witness'),\n ('vehicle', 'witness', 'said'),\n ('witness', 'said', 'two'),\n ('said', 'two', 'gunman'),\n ('two', 'gunman', 'wearing'),\n ('gunman', 'wearing', 'police'),\n ('wearing', 'police', 'uniform'),\n ('police', 'uniform', 'overran'),\n ('uniform', 'overran', 'afghan'),\n ('overran', 'afghan', 'government'),\n ('afghan', 'government', 'guesthouse'),\n ('government', 'guesthouse', 'near'),\n ('guesthouse', 'near', 'pakistani'),\n ('near', 'pakistani', 'consulate'),\n ('pakistani', 'consulate', 'fought'),\n ('consulate', 'fought', 'afghan'),\n ('fought', 'afghan', 'force'),\n ('afghan', 'force', 'almost'),\n ('force', 'almost', 'three'),\n ('almost', 'three', 'hour'),\n ('three', 'hour', 'attacker'),\n ('hour', 'attacker', 'quickly'),\n ('attacker', 'quickly', 'surrounded'),\n ('quickly', 'surrounded', 'though'),\n ('surrounded', 'though', 'avoiding'),\n ('though', 'avoiding', 'extensive'),\n ('avoiding', 'extensive', 'civilian'),\n ('extensive', 'civilian', 'casualty'),\n ('civilian', 'casualty', 'bustling'),\n ('casualty', 'bustling', 'part'),\n ('bustling', 'part', 'city'),\n ('part', 'city', 'peak'),\n ('city', 'peak', 'hour'),\n ('peak', 'hour', 'explosion'),\n ('hour', 'explosion', 'two'),\n ('explosion', 'two', 'men'),\n ('two', 'men', 'started'),\n ('men', 'started', 'firing'),\n ('started', 'firing', 'said'),\n ('firing', 'said', 'ismail'),\n ('said', 'ismail', 'khan'),\n ('ismail', 'khan', '35'),\n ('khan', '35', 'driver'),\n ('35', 'driver', 'one'),\n ('driver', 'one', 'bullet'),\n ('one', 'bullet', 'hit'),\n ('bullet', 'hit', 'shawl'),\n ('hit', 'shawl', 'dropped'),\n ('shawl', 'dropped', 'fighting'),\n ('dropped', 'fighting', 'afghan'),\n ('fighting', 'afghan', 'security'),\n ('afghan', 'security', 'force'),\n ('security', 'force', 'found'),\n ('force', 'found', 'explosive'),\n ('found', 'explosive', 'two'),\n ('explosive', 'two', 'area'),\n ('two', 'area', 'street'),\n ('area', 'street', 'detonated'),\n ('street', 'detonated', 'official'),\n ('detonated', 'official', 'said'),\n ('official', 'said', 'child'),\n ('said', 'child', 'trapped'),\n ('child', 'trapped', 'nearby'),\n ('trapped', 'nearby', 'school'),\n ('nearby', 'school', 'evacuated'),\n ('school', 'evacuated', 'police'),\n ('evacuated', 'police', 'local'),\n ('police', 'local', 'resident'),\n ('local', 'resident', 'fazal'),\n ('resident', 'fazal', 'ahmad'),\n ('fazal', 'ahmad', 'shirzad'),\n ('ahmad', 'shirzad', 'police'),\n ('shirzad', 'police', 'chief'),\n ('police', 'chief', 'nangarhar'),\n ('chief', 'nangarhar', 'province'),\n ('nangarhar', 'province', 'said'),\n ('province', 'said', 'guesthouse'),\n ('said', 'guesthouse', 'heavily'),\n ('guesthouse', 'heavily', 'damaged'),\n ('heavily', 'damaged', 'fighting'),\n ('damaged', 'fighting', 'still'),\n ('fighting', 'still', 'unclear'),\n ('still', 'unclear', 'whether'),\n ('unclear', 'whether', 'house'),\n ('whether', 'house', 'consulate'),\n ('house', 'consulate', 'next'),\n ('consulate', 'next', 'door'),\n ('next', 'door', 'intended'),\n ('door', 'intended', 'target'),\n ('intended', 'target', 'seven'),\n ('target', 'seven', 'security'),\n ('seven', 'security', 'force'),\n ('security', 'force', 'killed'),\n ('force', 'killed', 'seven'),\n ('killed', 'seven', 'security'),\n ('seven', 'security', 'force'),\n ('security', 'force', 'four'),\n ('force', 'four', 'civilian'),\n ('four', 'civilian', 'wounded'),\n ('civilian', 'wounded', 'general'),\n ('wounded', 'general', 'shirzad'),\n ('general', 'shirzad', 'said'),\n ('shirzad', 'said', 'assault'),\n ('said', 'assault', 'latest'),\n ('assault', 'latest', 'wave'),\n ('latest', 'wave', 'militant'),\n ('wave', 'militant', 'violence'),\n ('militant', 'violence', 'striking'),\n ('violence', 'striking', 'major'),\n ('striking', 'major', 'city'),\n ('major', 'city', 'afghanistan'),\n ('city', 'afghanistan', 'since'),\n ('afghanistan', 'since', 'start'),\n ('since', 'start', 'year'),\n ('start', 'year', 'target'),\n ('year', 'target', 'included'),\n ('target', 'included', 'restaurant'),\n ('included', 'restaurant', 'kabul'),\n ('restaurant', 'kabul', 'frequented'),\n ('kabul', 'frequented', 'expatriate'),\n ('frequented', 'expatriate', 'indian'),\n ('expatriate', 'indian', 'consulate'),\n ('indian', 'consulate', 'northern'),\n ('consulate', 'northern', 'province'),\n ('northern', 'province', 'balkh'),\n ('province', 'balkh', 'house'),\n ('balkh', 'house', 'jalalabad'),\n ('house', 'jalalabad', 'residence'),\n ('jalalabad', 'residence', 'pakistani'),\n ('residence', 'pakistani', 'diplomat'),\n ('pakistani', 'diplomat', 'vacant'),\n ('diplomat', 'vacant', 'leadership'),\n ('vacant', 'leadership', 'affiliate'),\n ('leadership', 'affiliate', 'islamic'),\n ('affiliate', 'islamic', 'state'),\n ('islamic', 'state', 'also'),\n ('state', 'also', 'known'),\n ('also', 'known', 'isi'),\n ('known', 'isi', 'isil'),\n ('isi', 'isil', 'largely'),\n ('isil', 'largely', 'made'),\n ('largely', 'made', 'former'),\n ('made', 'former', 'member'),\n ('former', 'member', 'pakistani'),\n ('member', 'pakistani', 'taliban'),\n ('pakistani', 'taliban', 'waged'),\n ('taliban', 'waged', 'campaign'),\n ('waged', 'campaign', 'violence'),\n ('campaign', 'violence', 'eastern'),\n ('violence', 'eastern', 'afghanistan'),\n ('eastern', 'afghanistan', 'affiliate'),\n ('afghanistan', 'affiliate', 'adopted'),\n ('affiliate', 'adopted', 'central'),\n ('adopted', 'central', 'group'),\n ('central', 'group', 'brand'),\n ('group', 'brand', 'atrocity'),\n ('brand', 'atrocity', 'intimidation'),\n ('atrocity', 'intimidation', 'carrying'),\n ('intimidation', 'carrying', 'public'),\n ('carrying', 'public', 'beheading'),\n ('public', 'beheading', 'videotaping'),\n ('beheading', 'videotaping', 'slick'),\n ('videotaping', 'slick', 'production'),\n ('slick', 'production', 'value'),\n ('production', 'value', 'john'),\n ('value', 'john', 'campbell'),\n ('john', 'campbell', 'commander'),\n ('campbell', 'commander', 'american'),\n ('commander', 'american', 'nato'),\n ('american', 'nato', 'troop'),\n ('nato', 'troop', 'afghanistan'),\n ('troop', 'afghanistan', 'estimated'),\n ('afghanistan', 'estimated', 'fighter'),\n ('estimated', 'fighter', 'country'),\n ('fighter', 'country', 'recent'),\n ('country', 'recent', 'fighter'),\n ('recent', 'fighter', 'syria'),\n ('fighter', 'syria', 'iraq'),\n ('syria', 'iraq', 'coming'),\n ('iraq', 'coming', 'help'),\n ('coming', 'help', 'afghan'),\n ('help', 'afghan', 'affiliate'),\n ('afghan', 'affiliate', 'general'),\n ('affiliate', 'general', 'campbell'),\n ('general', 'campbell', 'said'),\n ('campbell', 'said', 'naser'),\n ('said', 'naser', 'kamawal'),\n ('naser', 'kamawal', 'deputy'),\n ('kamawal', 'deputy', 'head'),\n ('deputy', 'head', 'nangarhar'),\n ('head', 'nangarhar', 'provincial'),\n ('nangarhar', 'provincial', 'council'),\n ('provincial', 'council', 'said'),\n ('council', 'said', 'islamic'),\n ('said', 'islamic', 'group'),\n ('islamic', 'group', 'come'),\n ('group', 'come', 'severe'),\n ('come', 'severe', 'pressure'),\n ('severe', 'pressure', 'government'),\n ('pressure', 'government', 'operation'),\n ('government', 'operation', 'recent'),\n ('operation', 'recent', 'month'),\n ('recent', 'month', 'particularly'),\n ('month', 'particularly', 'district'),\n ('particularly', 'district', 'achin'),\n ('district', 'achin', 'built'),\n ('achin', 'built', 'base'),\n ('built', 'base', 'turn'),\n ('base', 'turn', 'attacking'),\n ('turn', 'attacking', 'city'),\n ('attacking', 'city', 'gain'),\n ('city', 'gain', 'attention'),\n ('gain', 'attention', 'make'),\n ('attention', 'make', 'loss'),\n ('make', 'loss', 'suffered'),\n ('loss', 'suffered', 'kamawal'),\n ('suffered', 'kamawal', 'said'),\n ('kamawal', 'said', 'see'),\n ('said', 'see', 'sign'),\n ('see', 'sign', 'weakness'),\n ('sign', 'weakness', 'strength'),\n ('weakness', 'strength', 'operation'),\n ('strength', 'operation', 'struck'),\n ('operation', 'struck', 'big'),\n ('struck', 'big', 'blow'),\n ('big', 'blow', 'otherwise'),\n ('blow', 'otherwise', 'could'),\n ('otherwise', 'could', 'threatened'),\n ('could', 'threatened', 'get'),\n ...]"
     },
     "execution_count": 22,
     "metadata": {},
     "output_type": "execute_result"
    }
   ],
   "source": [
    "# (b) - Find trigrams \n",
    "all_trigrams = []\n",
    "\n",
    "for c_article in cleaned_articles:\n",
    "    article_trigrams = list(trigrams(c_article))\n",
    "    all_trigrams.extend(article_trigrams)\n",
    "    \n",
    "all_trigrams"
   ],
   "metadata": {
    "collapsed": false,
    "ExecuteTime": {
     "end_time": "2024-03-10T08:07:34.559505Z",
     "start_time": "2024-03-10T08:07:34.392195Z"
    }
   },
   "id": "f8ad34f820136330",
   "execution_count": 22
  },
  {
   "cell_type": "code",
   "outputs": [
    {
     "name": "stdout",
     "output_type": "stream",
     "text": [
      "The most common trigram is: ('new', 'york', 'time') with 2042 occurrences\n"
     ]
    }
   ],
   "source": [
    "# (c) - most common trigram\n",
    "trigram_counts = Counter(all_trigrams)\n",
    "most_common_trigram = trigram_counts.most_common(1)\n",
    "print(f\"The most common trigram is: {most_common_trigram[0][0]} with {most_common_trigram[0][1]} occurrences\")"
   ],
   "metadata": {
    "collapsed": false,
    "ExecuteTime": {
     "end_time": "2024-03-10T08:37:44.882088Z",
     "start_time": "2024-03-10T08:37:44.676075Z"
    }
   },
   "id": "54977d438217d382",
   "execution_count": 24
  },
  {
   "cell_type": "markdown",
   "source": [
    "The most common trigram suggests that many articles present in the dataset referenced the NYT (New York Times), a strategy to extract the most common topic could be using the LDA model.\n",
    "\n",
    "The LDA model find for each document a various number of topics, the topic is characterized by a distribution over words."
   ],
   "metadata": {
    "collapsed": false
   },
   "id": "9e9a5cf7fc90eaf4"
  },
  {
   "cell_type": "code",
   "outputs": [
    {
     "name": "stdout",
     "output_type": "stream",
     "text": [
      "(0, '0.020*\"said\" + 0.014*\"attack\" + 0.012*\"police\" + 0.007*\"people\"')\n",
      "(1, '0.016*\"said\" + 0.013*\"state\" + 0.009*\"force\" + 0.008*\"military\"')\n",
      "(2, '0.017*\"state\" + 0.015*\"said\" + 0.013*\"islamic\" + 0.010*\"group\"')\n",
      "(3, '0.015*\"said\" + 0.006*\"people\" + 0.006*\"muslim\" + 0.006*\"attack\"')\n",
      "(4, '0.014*\"said\" + 0.007*\"apple\" + 0.007*\"government\" + 0.006*\"company\"')\n"
     ]
    }
   ],
   "source": [
    "# (d) - extract most common topic from corpus\n",
    "from gensim import corpora, models\n",
    "import gensim\n",
    "\n",
    "dictionary = corpora.Dictionary(cleaned_articles)\n",
    "corpus = [dictionary.doc2bow(text) for text in cleaned_articles]\n",
    "\n",
    "# Apply LDA model\n",
    "lda_model = gensim.models.ldamodel.LdaModel(corpus, num_topics=5, id2word=dictionary, passes=15)\n",
    "\n",
    "topics = lda_model.print_topics(num_words=4)\n",
    "for topic in topics:\n",
    "    print(topic)\n"
   ],
   "metadata": {
    "collapsed": false,
    "ExecuteTime": {
     "end_time": "2024-03-10T08:44:39.779080Z",
     "start_time": "2024-03-10T08:43:59.592836Z"
    }
   },
   "id": "ad7f60cf329ee378",
   "execution_count": 25
  }
 ],
 "metadata": {
  "kernelspec": {
   "display_name": "Python 3",
   "language": "python",
   "name": "python3"
  },
  "language_info": {
   "codemirror_mode": {
    "name": "ipython",
    "version": 2
   },
   "file_extension": ".py",
   "mimetype": "text/x-python",
   "name": "python",
   "nbconvert_exporter": "python",
   "pygments_lexer": "ipython2",
   "version": "2.7.6"
  }
 },
 "nbformat": 4,
 "nbformat_minor": 5
}
