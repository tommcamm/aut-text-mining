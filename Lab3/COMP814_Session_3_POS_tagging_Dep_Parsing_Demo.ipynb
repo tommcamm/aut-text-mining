{
 "nbformat": 4,
 "nbformat_minor": 0,
 "metadata": {
  "colab": {
   "provenance": []
  },
  "kernelspec": {
   "name": "python3",
   "language": "python",
   "display_name": "Python 3 (ipykernel)"
  },
  "language_info": {
   "name": "python"
  }
 },
 "cells": [
  {
   "cell_type": "code",
   "source": [
    "#x\\from google.colab import drive\n",
    "#drive.mount('/content/drive')"
   ],
   "metadata": {
    "colab": {
     "base_uri": "https://localhost:8080/"
    },
    "id": "DRjFwsSe7HEN",
    "outputId": "f10560f8-70a3-4eaa-ca2a-93d24147ff5f"
   },
   "execution_count": null,
   "outputs": [
    {
     "output_type": "stream",
     "name": "stdout",
     "text": [
      "Drive already mounted at /content/drive; to attempt to forcibly remount, call drive.mount(\"/content/drive\", force_remount=True).\n"
     ]
    }
   ]
  },
  {
   "cell_type": "markdown",
   "source": [
    "# Lets use some POS taggers and see how they perform.\n",
    "**Regualar expression tagger**"
   ],
   "metadata": {
    "id": "ZV13x04IjIR-"
   }
  },
  {
   "cell_type": "code",
   "execution_count": 1,
   "metadata": {
    "id": "t4ayyg5aiysd",
    "outputId": "bd3f9a2f-6e58-4615-d250-c648068ac12f",
    "colab": {
     "base_uri": "https://localhost:8080/"
    },
    "ExecuteTime": {
     "end_time": "2024-03-12T02:31:15.977878Z",
     "start_time": "2024-03-12T02:31:11.837611Z"
    }
   },
   "outputs": [
    {
     "name": "stderr",
     "output_type": "stream",
     "text": [
      "[nltk_data] Downloading package brown to\n",
      "[nltk_data]     C:\\Users\\tommc\\AppData\\Roaming\\nltk_data...\n",
      "[nltk_data]   Unzipping corpora\\brown.zip.\n"
     ]
    },
    {
     "name": "stdout",
     "output_type": "stream",
     "text": [
      "['``', 'Only', 'a', 'relative', 'handful', 'of', 'such', 'reports', 'was', 'received', \"''\", ',', 'the', 'jury', 'said', ',', '``', 'considering', 'the', 'widespread', 'interest', 'in', 'the', 'election', ',', 'the', 'number', 'of', 'voters', 'and', 'the', 'size', 'of', 'this', 'city', \"''\", '.']\n",
      "[('``', 'NN'),\n",
      " ('Only', 'NN'),\n",
      " ('a', 'NN'),\n",
      " ('relative', 'NN'),\n",
      " ('handful', 'NN'),\n",
      " ('of', 'NN'),\n",
      " ('such', 'NN'),\n",
      " ('reports', 'NNS'),\n",
      " ('was', 'NNS'),\n",
      " ('received', 'VBD'),\n",
      " (\"''\", 'NN'),\n",
      " (',', 'NN'),\n",
      " ('the', 'NN'),\n",
      " ('jury', 'NN'),\n",
      " ('said', 'NN'),\n",
      " (',', 'NN'),\n",
      " ('``', 'NN'),\n",
      " ('considering', 'VBG'),\n",
      " ('the', 'NN'),\n",
      " ('widespread', 'NN'),\n",
      " ('interest', 'NN'),\n",
      " ('in', 'NN'),\n",
      " ('the', 'NN'),\n",
      " ('election', 'NN'),\n",
      " (',', 'NN'),\n",
      " ('the', 'NN'),\n",
      " ('number', 'NN'),\n",
      " ('of', 'NN'),\n",
      " ('voters', 'NNS'),\n",
      " ('and', 'NN'),\n",
      " ('the', 'NN'),\n",
      " ('size', 'NN'),\n",
      " ('of', 'NN'),\n",
      " ('this', 'NNS'),\n",
      " ('city', 'NN'),\n",
      " (\"''\", 'NN'),\n",
      " ('.', 'NN')]\n"
     ]
    },
    {
     "name": "stderr",
     "output_type": "stream",
     "text": [
      "C:\\Users\\tommc\\AppData\\Local\\Temp\\ipykernel_4768\\3004360254.py:20: DeprecationWarning: \n",
      "  Function evaluate() has been deprecated.  Use accuracy(gold)\n",
      "  instead.\n",
      "  print(\"Accuracy: \",  regexp_tagger.evaluate((brown_tagged_sents)))\n"
     ]
    },
    {
     "name": "stdout",
     "output_type": "stream",
     "text": [
      "Accuracy:  0.20326391789486245\n"
     ]
    }
   ],
   "source": [
    "import nltk\n",
    "from pprint import pprint\n",
    "nltk.download('brown')\n",
    "from nltk.corpus import brown\n",
    "brown_tagged_sents = brown.tagged_sents(categories='news')\n",
    "brown_sents = brown.sents(categories='news')\n",
    "patterns = [\n",
    "     (r'.*ing$', 'VBG'),               # gerunds\n",
    "     (r'.*ed$', 'VBD'),                # simple past\n",
    "     (r'.*es$', 'VBZ'),                # 3rd singular present\n",
    "     (r'.*ould$', 'MD'),               # modals\n",
    "     (r'.*\\'s$', 'NN$'),               # possessive nouns\n",
    "     (r'.*s$', 'NNS'),                 # plural nouns\n",
    "     (r'^-?[0-9]+(.[0-9]+)?$', 'CD'),  # cardinal numbers\n",
    "     (r'.*', 'NN')                     # nouns (default)\n",
    " ]\n",
    "regexp_tagger = nltk.RegexpTagger(patterns)\n",
    "print(brown_sents[3])\n",
    "pprint(regexp_tagger.tag(brown_sents[3]))\n",
    "print(\"Accuracy: \",  regexp_tagger.evaluate((brown_tagged_sents)))\n"
   ]
  },
  {
   "cell_type": "markdown",
   "source": [
    "# Separating the training and the test data and then training and testing a tagger."
   ],
   "metadata": {
    "id": "BczEbXNVjHVR"
   }
  },
  {
   "cell_type": "code",
   "source": [
    "import nltk\n",
    "from nltk.corpus import brown\n",
    "brown_tagged_sents = brown.tagged_sents(categories='news')\n",
    "size = int(len(brown_tagged_sents) * 0.9)\n",
    "print(size)\n",
    "train_sents = brown_tagged_sents[:size]\n",
    "test_sents = brown_tagged_sents[size:]\n",
    "unigram_tagger = nltk.UnigramTagger(train_sents)\n",
    "print(unigram_tagger.evaluate(test_sents))"
   ],
   "metadata": {
    "colab": {
     "base_uri": "https://localhost:8080/"
    },
    "id": "Ly2qoyDGlBzx",
    "outputId": "056fbe5d-7dfe-4f3b-ea31-fac32fd2d447",
    "ExecuteTime": {
     "end_time": "2024-03-12T02:33:56.169377Z",
     "start_time": "2024-03-12T02:33:54.832869Z"
    }
   },
   "execution_count": 3,
   "outputs": [
    {
     "name": "stdout",
     "output_type": "stream",
     "text": [
      "4160\n",
      "0.8121200039868434\n"
     ]
    },
    {
     "name": "stderr",
     "output_type": "stream",
     "text": [
      "C:\\Users\\tommc\\AppData\\Local\\Temp\\ipykernel_4768\\187729427.py:9: DeprecationWarning: \n",
      "  Function evaluate() has been deprecated.  Use accuracy(gold)\n",
      "  instead.\n",
      "  print(unigram_tagger.evaluate(test_sents))\n"
     ]
    }
   ]
  },
  {
   "cell_type": "markdown",
   "source": [
    "# Storing a trained model, retrieving it and using it."
   ],
   "metadata": {
    "id": "KOMFG2Ipljz6"
   }
  },
  {
   "cell_type": "code",
   "source": [
    "#Store it.\n",
    "from pickle import dump\n",
    "output = open('ugTagger.pkl', 'wb')\n",
    "dump(unigram_tagger, output, -1)\n",
    "output.close()\n",
    "\n",
    "#Retrieve it from a file\n",
    "from pickle import load\n",
    "input = open('ugTagger.pkl', 'rb')\n",
    "tagger = load(input)\n",
    "input.close()\n",
    "#Use it.\n",
    "text = \"The board's action shows what free enterprise is up against in our complex maze of regulatory laws .\"\n",
    "tokens = text.split()\n",
    "print(tagger.tag(tokens))"
   ],
   "metadata": {
    "colab": {
     "base_uri": "https://localhost:8080/"
    },
    "id": "iN4E2cr4leG4",
    "outputId": "d1691c5a-1eee-47cf-9e07-b9fb4208b172",
    "ExecuteTime": {
     "end_time": "2024-03-12T02:34:42.640893Z",
     "start_time": "2024-03-12T02:34:42.623826Z"
    }
   },
   "execution_count": 6,
   "outputs": [
    {
     "name": "stdout",
     "output_type": "stream",
     "text": [
      "[('The', 'AT'), (\"board's\", 'NN$'), ('action', 'NN'), ('shows', 'NNS'), ('what', 'WDT'), ('free', 'JJ'), ('enterprise', 'NN'), ('is', 'BEZ'), ('up', 'RP'), ('against', 'IN'), ('in', 'IN'), ('our', 'PP$'), ('complex', 'JJ'), ('maze', None), ('of', 'IN'), ('regulatory', None), ('laws', 'NNS'), ('.', '.')]\n"
     ]
    }
   ]
  },
  {
   "cell_type": "markdown",
   "source": [
    "# Using confusion matrix for evaluation."
   ],
   "metadata": {
    "id": "JQbBf9jxmffT"
   }
  },
  {
   "cell_type": "code",
   "source": [
    "from nltk.metrics import *\n",
    "ref  =   'DET NN VB DET JJ NN NN IN DET NN'.split()\n",
    "tagged = 'DET VB VB DET NN NN NN IN DET NN'.split()\n",
    "cm = ConfusionMatrix(ref, tagged)\n",
    "print(cm)\n",
    "print(\"Precision: \",precision(set(ref),set(tagged)))\n",
    "print(\"Recall: \",recall(set(ref),set(tagged)))\n",
    "print(\"F measure: \",f_measure(set(ref),set(tagged)))\n",
    "print(\"Accuracy: \",accuracy(ref,tagged))"
   ],
   "metadata": {
    "id": "6HoAsn-3meQQ",
    "colab": {
     "base_uri": "https://localhost:8080/"
    },
    "outputId": "825a140d-f3b0-40af-f737-3f57ed51ec67",
    "ExecuteTime": {
     "end_time": "2024-03-12T02:34:53.146Z",
     "start_time": "2024-03-12T02:34:53.139714Z"
    }
   },
   "execution_count": 7,
   "outputs": [
    {
     "name": "stdout",
     "output_type": "stream",
     "text": [
      "    | D         |\n",
      "    | E I J N V |\n",
      "    | T N J N B |\n",
      "----+-----------+\n",
      "DET |<3>. . . . |\n",
      " IN | .<1>. . . |\n",
      " JJ | . .<.>1 . |\n",
      " NN | . . .<3>1 |\n",
      " VB | . . . .<1>|\n",
      "----+-----------+\n",
      "(row = reference; col = test)\n",
      "\n",
      "Precision:  1.0\n",
      "Recall:  0.8\n",
      "F measure:  0.8888888888888888\n",
      "Accuracy:  0.8\n"
     ]
    }
   ]
  },
  {
   "cell_type": "markdown",
   "source": [
    "# Another way, library, whats the difference?"
   ],
   "metadata": {
    "id": "PRQfgeYMmutR"
   }
  },
  {
   "cell_type": "code",
   "source": [
    "\n",
    "from sklearn import metrics\n",
    "print(metrics.classification_report(ref, tagged))"
   ],
   "metadata": {
    "id": "eKggCm2ZmvIl",
    "colab": {
     "base_uri": "https://localhost:8080/"
    },
    "outputId": "e8ce2917-db37-48e0-f7b4-7e118f641b66",
    "ExecuteTime": {
     "end_time": "2024-03-12T02:35:02.095491Z",
     "start_time": "2024-03-12T02:35:02.028163Z"
    }
   },
   "execution_count": 8,
   "outputs": [
    {
     "name": "stdout",
     "output_type": "stream",
     "text": [
      "              precision    recall  f1-score   support\n",
      "\n",
      "         DET       1.00      1.00      1.00         3\n",
      "          IN       1.00      1.00      1.00         1\n",
      "          JJ       0.00      0.00      0.00         1\n",
      "          NN       0.75      0.75      0.75         4\n",
      "          VB       0.50      1.00      0.67         1\n",
      "\n",
      "    accuracy                           0.80        10\n",
      "   macro avg       0.65      0.75      0.68        10\n",
      "weighted avg       0.75      0.80      0.77        10\n"
     ]
    },
    {
     "name": "stderr",
     "output_type": "stream",
     "text": [
      "C:\\Users\\tommc\\anaconda3\\envs\\AUTTM\\Lib\\site-packages\\sklearn\\metrics\\_classification.py:1509: UndefinedMetricWarning: Precision is ill-defined and being set to 0.0 in labels with no predicted samples. Use `zero_division` parameter to control this behavior.\n",
      "  _warn_prf(average, modifier, f\"{metric.capitalize()} is\", len(result))\n",
      "C:\\Users\\tommc\\anaconda3\\envs\\AUTTM\\Lib\\site-packages\\sklearn\\metrics\\_classification.py:1509: UndefinedMetricWarning: Precision is ill-defined and being set to 0.0 in labels with no predicted samples. Use `zero_division` parameter to control this behavior.\n",
      "  _warn_prf(average, modifier, f\"{metric.capitalize()} is\", len(result))\n",
      "C:\\Users\\tommc\\anaconda3\\envs\\AUTTM\\Lib\\site-packages\\sklearn\\metrics\\_classification.py:1509: UndefinedMetricWarning: Precision is ill-defined and being set to 0.0 in labels with no predicted samples. Use `zero_division` parameter to control this behavior.\n",
      "  _warn_prf(average, modifier, f\"{metric.capitalize()} is\", len(result))\n"
     ]
    }
   ]
  },
  {
   "cell_type": "markdown",
   "source": [
    "# Extracting noun phrases/chunking"
   ],
   "metadata": {
    "id": "qcOcZ1gSU-zQ"
   }
  },
  {
   "cell_type": "code",
   "source": [
    "#Collect all nouns and their modifiers\n",
    "import spacy\n",
    "nlp = spacy.load('en_core_web_sm')\n",
    "doc = nlp(\"Wall Street Journal just published an interesting piece on crypto currencies\")\n",
    "for chunk in doc.noun_chunks:\n",
    "    print(chunk.text, chunk.label_, chunk.root.text)"
   ],
   "metadata": {
    "colab": {
     "base_uri": "https://localhost:8080/"
    },
    "id": "HLm9ZZI8VA1r",
    "outputId": "22316bc7-4fe6-4921-90f9-a35e0d08930b",
    "ExecuteTime": {
     "end_time": "2024-03-12T02:39:52.968033Z",
     "start_time": "2024-03-12T02:39:50.582730Z"
    }
   },
   "execution_count": 9,
   "outputs": [
    {
     "ename": "OSError",
     "evalue": "[E050] Can't find model 'en_core_web_sm'. It doesn't seem to be a Python package or a valid path to a data directory.",
     "output_type": "error",
     "traceback": [
      "\u001B[1;31m---------------------------------------------------------------------------\u001B[0m",
      "\u001B[1;31mOSError\u001B[0m                                   Traceback (most recent call last)",
      "Cell \u001B[1;32mIn[9], line 3\u001B[0m\n\u001B[0;32m      1\u001B[0m \u001B[38;5;66;03m#Collect all nouns and their modifiers\u001B[39;00m\n\u001B[0;32m      2\u001B[0m \u001B[38;5;28;01mimport\u001B[39;00m \u001B[38;5;21;01mspacy\u001B[39;00m\n\u001B[1;32m----> 3\u001B[0m nlp \u001B[38;5;241m=\u001B[39m \u001B[43mspacy\u001B[49m\u001B[38;5;241;43m.\u001B[39;49m\u001B[43mload\u001B[49m\u001B[43m(\u001B[49m\u001B[38;5;124;43m'\u001B[39;49m\u001B[38;5;124;43men_core_web_sm\u001B[39;49m\u001B[38;5;124;43m'\u001B[39;49m\u001B[43m)\u001B[49m\n\u001B[0;32m      4\u001B[0m doc \u001B[38;5;241m=\u001B[39m nlp(\u001B[38;5;124m\"\u001B[39m\u001B[38;5;124mWall Street Journal just published an interesting piece on crypto currencies\u001B[39m\u001B[38;5;124m\"\u001B[39m)\n\u001B[0;32m      5\u001B[0m \u001B[38;5;28;01mfor\u001B[39;00m chunk \u001B[38;5;129;01min\u001B[39;00m doc\u001B[38;5;241m.\u001B[39mnoun_chunks:\n",
      "File \u001B[1;32m~\\anaconda3\\envs\\AUTTM\\Lib\\site-packages\\spacy\\__init__.py:51\u001B[0m, in \u001B[0;36mload\u001B[1;34m(name, vocab, disable, enable, exclude, config)\u001B[0m\n\u001B[0;32m     27\u001B[0m \u001B[38;5;28;01mdef\u001B[39;00m \u001B[38;5;21mload\u001B[39m(\n\u001B[0;32m     28\u001B[0m     name: Union[\u001B[38;5;28mstr\u001B[39m, Path],\n\u001B[0;32m     29\u001B[0m     \u001B[38;5;241m*\u001B[39m,\n\u001B[1;32m   (...)\u001B[0m\n\u001B[0;32m     34\u001B[0m     config: Union[Dict[\u001B[38;5;28mstr\u001B[39m, Any], Config] \u001B[38;5;241m=\u001B[39m util\u001B[38;5;241m.\u001B[39mSimpleFrozenDict(),\n\u001B[0;32m     35\u001B[0m ) \u001B[38;5;241m-\u001B[39m\u001B[38;5;241m>\u001B[39m Language:\n\u001B[0;32m     36\u001B[0m \u001B[38;5;250m    \u001B[39m\u001B[38;5;124;03m\"\"\"Load a spaCy model from an installed package or a local path.\u001B[39;00m\n\u001B[0;32m     37\u001B[0m \n\u001B[0;32m     38\u001B[0m \u001B[38;5;124;03m    name (str): Package name or model path.\u001B[39;00m\n\u001B[1;32m   (...)\u001B[0m\n\u001B[0;32m     49\u001B[0m \u001B[38;5;124;03m    RETURNS (Language): The loaded nlp object.\u001B[39;00m\n\u001B[0;32m     50\u001B[0m \u001B[38;5;124;03m    \"\"\"\u001B[39;00m\n\u001B[1;32m---> 51\u001B[0m     \u001B[38;5;28;01mreturn\u001B[39;00m \u001B[43mutil\u001B[49m\u001B[38;5;241;43m.\u001B[39;49m\u001B[43mload_model\u001B[49m\u001B[43m(\u001B[49m\n\u001B[0;32m     52\u001B[0m \u001B[43m        \u001B[49m\u001B[43mname\u001B[49m\u001B[43m,\u001B[49m\n\u001B[0;32m     53\u001B[0m \u001B[43m        \u001B[49m\u001B[43mvocab\u001B[49m\u001B[38;5;241;43m=\u001B[39;49m\u001B[43mvocab\u001B[49m\u001B[43m,\u001B[49m\n\u001B[0;32m     54\u001B[0m \u001B[43m        \u001B[49m\u001B[43mdisable\u001B[49m\u001B[38;5;241;43m=\u001B[39;49m\u001B[43mdisable\u001B[49m\u001B[43m,\u001B[49m\n\u001B[0;32m     55\u001B[0m \u001B[43m        \u001B[49m\u001B[43menable\u001B[49m\u001B[38;5;241;43m=\u001B[39;49m\u001B[43menable\u001B[49m\u001B[43m,\u001B[49m\n\u001B[0;32m     56\u001B[0m \u001B[43m        \u001B[49m\u001B[43mexclude\u001B[49m\u001B[38;5;241;43m=\u001B[39;49m\u001B[43mexclude\u001B[49m\u001B[43m,\u001B[49m\n\u001B[0;32m     57\u001B[0m \u001B[43m        \u001B[49m\u001B[43mconfig\u001B[49m\u001B[38;5;241;43m=\u001B[39;49m\u001B[43mconfig\u001B[49m\u001B[43m,\u001B[49m\n\u001B[0;32m     58\u001B[0m \u001B[43m    \u001B[49m\u001B[43m)\u001B[49m\n",
      "File \u001B[1;32m~\\anaconda3\\envs\\AUTTM\\Lib\\site-packages\\spacy\\util.py:472\u001B[0m, in \u001B[0;36mload_model\u001B[1;34m(name, vocab, disable, enable, exclude, config)\u001B[0m\n\u001B[0;32m    470\u001B[0m \u001B[38;5;28;01mif\u001B[39;00m name \u001B[38;5;129;01min\u001B[39;00m OLD_MODEL_SHORTCUTS:\n\u001B[0;32m    471\u001B[0m     \u001B[38;5;28;01mraise\u001B[39;00m \u001B[38;5;167;01mIOError\u001B[39;00m(Errors\u001B[38;5;241m.\u001B[39mE941\u001B[38;5;241m.\u001B[39mformat(name\u001B[38;5;241m=\u001B[39mname, full\u001B[38;5;241m=\u001B[39mOLD_MODEL_SHORTCUTS[name]))  \u001B[38;5;66;03m# type: ignore[index]\u001B[39;00m\n\u001B[1;32m--> 472\u001B[0m \u001B[38;5;28;01mraise\u001B[39;00m \u001B[38;5;167;01mIOError\u001B[39;00m(Errors\u001B[38;5;241m.\u001B[39mE050\u001B[38;5;241m.\u001B[39mformat(name\u001B[38;5;241m=\u001B[39mname))\n",
      "\u001B[1;31mOSError\u001B[0m: [E050] Can't find model 'en_core_web_sm'. It doesn't seem to be a Python package or a valid path to a data directory."
     ]
    }
   ]
  },
  {
   "cell_type": "markdown",
   "source": [
    "#Load a vocabulary and specify a corpus"
   ],
   "metadata": {
    "id": "OjUgExAkVeav"
   }
  },
  {
   "cell_type": "code",
   "source": [
    "nlp = spacy.load('en_core_web_sm')\n",
    "#doc = nlp('John ate icecream with spoon')\n",
    "#doc = nlp('John ate icecream and Peter ate apple')\n",
    "doc = nlp('Wall Street Journal just published an interesting piece on crypto currencies')\n",
    "#doc = nlp('A man with a knife and a boy hit the dazed shopkeeper on the head yesterday.')"
   ],
   "metadata": {
    "id": "7X9Q_DhqVhEb"
   },
   "execution_count": null,
   "outputs": []
  },
  {
   "cell_type": "code",
   "source": [
    "def printDocDep(doc):\n",
    "  for token in doc:\n",
    "    print(\"{0}/{1} <--{2}-- {3}/{4}\".format(token.text, token.tag_, token.dep_, token.head.text, token.head.tag_))"
   ],
   "metadata": {
    "id": "xBTFvTIAVo2t"
   },
   "execution_count": null,
   "outputs": []
  },
  {
   "cell_type": "code",
   "source": [
    "printDocDep(doc)"
   ],
   "metadata": {
    "colab": {
     "base_uri": "https://localhost:8080/"
    },
    "id": "g-duK_CEVsf0",
    "outputId": "25bd0aa5-da7a-4b0b-b195-5148bc25d425"
   },
   "execution_count": null,
   "outputs": [
    {
     "output_type": "stream",
     "name": "stdout",
     "text": [
      "Wall/NNP <--compound-- Street/NNP\n",
      "Street/NNP <--compound-- Journal/NNP\n",
      "Journal/NNP <--nsubj-- published/VBD\n",
      "just/RB <--advmod-- published/VBD\n",
      "published/VBD <--ROOT-- published/VBD\n",
      "an/DT <--det-- piece/NN\n",
      "interesting/JJ <--amod-- piece/NN\n",
      "piece/NN <--dobj-- published/VBD\n",
      "on/IN <--prep-- piece/NN\n",
      "crypto/JJ <--amod-- currencies/NNS\n",
      "currencies/NNS <--pobj-- on/IN\n"
     ]
    }
   ]
  },
  {
   "cell_type": "markdown",
   "source": [
    "#Display a dependency tree."
   ],
   "metadata": {
    "id": "QzNFp2BcV1W_"
   }
  },
  {
   "cell_type": "code",
   "source": [
    "from spacy import displacy\n",
    "displacy.render(doc, style='dep', jupyter = True, options={'distance': 100})"
   ],
   "metadata": {
    "colab": {
     "base_uri": "https://localhost:8080/",
     "height": 308
    },
    "id": "cbyP0zEKV3br",
    "outputId": "1901e022-8069-4cdc-80da-1606d778a5cd"
   },
   "execution_count": null,
   "outputs": [
    {
     "output_type": "display_data",
     "data": {
      "text/plain": [
       "<IPython.core.display.HTML object>"
      ],
      "text/html": [
       "<span class=\"tex2jax_ignore\"><svg xmlns=\"http://www.w3.org/2000/svg\" xmlns:xlink=\"http://www.w3.org/1999/xlink\" xml:lang=\"en\" id=\"63c514eb01c0456195ac4e7c07ec7cf9-0\" class=\"displacy\" width=\"1150\" height=\"287.0\" direction=\"ltr\" style=\"max-width: none; height: 287.0px; color: #000000; background: #ffffff; font-family: Arial; direction: ltr\">\n",
       "<text class=\"displacy-token\" fill=\"currentColor\" text-anchor=\"middle\" y=\"197.0\">\n",
       "    <tspan class=\"displacy-word\" fill=\"currentColor\" x=\"50\">Wall</tspan>\n",
       "    <tspan class=\"displacy-tag\" dy=\"2em\" fill=\"currentColor\" x=\"50\">PROPN</tspan>\n",
       "</text>\n",
       "\n",
       "<text class=\"displacy-token\" fill=\"currentColor\" text-anchor=\"middle\" y=\"197.0\">\n",
       "    <tspan class=\"displacy-word\" fill=\"currentColor\" x=\"150\">Street</tspan>\n",
       "    <tspan class=\"displacy-tag\" dy=\"2em\" fill=\"currentColor\" x=\"150\">PROPN</tspan>\n",
       "</text>\n",
       "\n",
       "<text class=\"displacy-token\" fill=\"currentColor\" text-anchor=\"middle\" y=\"197.0\">\n",
       "    <tspan class=\"displacy-word\" fill=\"currentColor\" x=\"250\">Journal</tspan>\n",
       "    <tspan class=\"displacy-tag\" dy=\"2em\" fill=\"currentColor\" x=\"250\">PROPN</tspan>\n",
       "</text>\n",
       "\n",
       "<text class=\"displacy-token\" fill=\"currentColor\" text-anchor=\"middle\" y=\"197.0\">\n",
       "    <tspan class=\"displacy-word\" fill=\"currentColor\" x=\"350\">just</tspan>\n",
       "    <tspan class=\"displacy-tag\" dy=\"2em\" fill=\"currentColor\" x=\"350\">ADV</tspan>\n",
       "</text>\n",
       "\n",
       "<text class=\"displacy-token\" fill=\"currentColor\" text-anchor=\"middle\" y=\"197.0\">\n",
       "    <tspan class=\"displacy-word\" fill=\"currentColor\" x=\"450\">published</tspan>\n",
       "    <tspan class=\"displacy-tag\" dy=\"2em\" fill=\"currentColor\" x=\"450\">VERB</tspan>\n",
       "</text>\n",
       "\n",
       "<text class=\"displacy-token\" fill=\"currentColor\" text-anchor=\"middle\" y=\"197.0\">\n",
       "    <tspan class=\"displacy-word\" fill=\"currentColor\" x=\"550\">an</tspan>\n",
       "    <tspan class=\"displacy-tag\" dy=\"2em\" fill=\"currentColor\" x=\"550\">DET</tspan>\n",
       "</text>\n",
       "\n",
       "<text class=\"displacy-token\" fill=\"currentColor\" text-anchor=\"middle\" y=\"197.0\">\n",
       "    <tspan class=\"displacy-word\" fill=\"currentColor\" x=\"650\">interesting</tspan>\n",
       "    <tspan class=\"displacy-tag\" dy=\"2em\" fill=\"currentColor\" x=\"650\">ADJ</tspan>\n",
       "</text>\n",
       "\n",
       "<text class=\"displacy-token\" fill=\"currentColor\" text-anchor=\"middle\" y=\"197.0\">\n",
       "    <tspan class=\"displacy-word\" fill=\"currentColor\" x=\"750\">piece</tspan>\n",
       "    <tspan class=\"displacy-tag\" dy=\"2em\" fill=\"currentColor\" x=\"750\">NOUN</tspan>\n",
       "</text>\n",
       "\n",
       "<text class=\"displacy-token\" fill=\"currentColor\" text-anchor=\"middle\" y=\"197.0\">\n",
       "    <tspan class=\"displacy-word\" fill=\"currentColor\" x=\"850\">on</tspan>\n",
       "    <tspan class=\"displacy-tag\" dy=\"2em\" fill=\"currentColor\" x=\"850\">ADP</tspan>\n",
       "</text>\n",
       "\n",
       "<text class=\"displacy-token\" fill=\"currentColor\" text-anchor=\"middle\" y=\"197.0\">\n",
       "    <tspan class=\"displacy-word\" fill=\"currentColor\" x=\"950\">crypto</tspan>\n",
       "    <tspan class=\"displacy-tag\" dy=\"2em\" fill=\"currentColor\" x=\"950\">ADJ</tspan>\n",
       "</text>\n",
       "\n",
       "<text class=\"displacy-token\" fill=\"currentColor\" text-anchor=\"middle\" y=\"197.0\">\n",
       "    <tspan class=\"displacy-word\" fill=\"currentColor\" x=\"1050\">currencies</tspan>\n",
       "    <tspan class=\"displacy-tag\" dy=\"2em\" fill=\"currentColor\" x=\"1050\">NOUN</tspan>\n",
       "</text>\n",
       "\n",
       "<g class=\"displacy-arrow\">\n",
       "    <path class=\"displacy-arc\" id=\"arrow-63c514eb01c0456195ac4e7c07ec7cf9-0-0\" stroke-width=\"2px\" d=\"M70,152.0 C70,102.0 140.0,102.0 140.0,152.0\" fill=\"none\" stroke=\"currentColor\"/>\n",
       "    <text dy=\"1.25em\" style=\"font-size: 0.8em; letter-spacing: 1px\">\n",
       "        <textPath xlink:href=\"#arrow-63c514eb01c0456195ac4e7c07ec7cf9-0-0\" class=\"displacy-label\" startOffset=\"50%\" side=\"left\" fill=\"currentColor\" text-anchor=\"middle\">compound</textPath>\n",
       "    </text>\n",
       "    <path class=\"displacy-arrowhead\" d=\"M70,154.0 L62,142.0 78,142.0\" fill=\"currentColor\"/>\n",
       "</g>\n",
       "\n",
       "<g class=\"displacy-arrow\">\n",
       "    <path class=\"displacy-arc\" id=\"arrow-63c514eb01c0456195ac4e7c07ec7cf9-0-1\" stroke-width=\"2px\" d=\"M170,152.0 C170,102.0 240.0,102.0 240.0,152.0\" fill=\"none\" stroke=\"currentColor\"/>\n",
       "    <text dy=\"1.25em\" style=\"font-size: 0.8em; letter-spacing: 1px\">\n",
       "        <textPath xlink:href=\"#arrow-63c514eb01c0456195ac4e7c07ec7cf9-0-1\" class=\"displacy-label\" startOffset=\"50%\" side=\"left\" fill=\"currentColor\" text-anchor=\"middle\">compound</textPath>\n",
       "    </text>\n",
       "    <path class=\"displacy-arrowhead\" d=\"M170,154.0 L162,142.0 178,142.0\" fill=\"currentColor\"/>\n",
       "</g>\n",
       "\n",
       "<g class=\"displacy-arrow\">\n",
       "    <path class=\"displacy-arc\" id=\"arrow-63c514eb01c0456195ac4e7c07ec7cf9-0-2\" stroke-width=\"2px\" d=\"M270,152.0 C270,52.0 445.0,52.0 445.0,152.0\" fill=\"none\" stroke=\"currentColor\"/>\n",
       "    <text dy=\"1.25em\" style=\"font-size: 0.8em; letter-spacing: 1px\">\n",
       "        <textPath xlink:href=\"#arrow-63c514eb01c0456195ac4e7c07ec7cf9-0-2\" class=\"displacy-label\" startOffset=\"50%\" side=\"left\" fill=\"currentColor\" text-anchor=\"middle\">nsubj</textPath>\n",
       "    </text>\n",
       "    <path class=\"displacy-arrowhead\" d=\"M270,154.0 L262,142.0 278,142.0\" fill=\"currentColor\"/>\n",
       "</g>\n",
       "\n",
       "<g class=\"displacy-arrow\">\n",
       "    <path class=\"displacy-arc\" id=\"arrow-63c514eb01c0456195ac4e7c07ec7cf9-0-3\" stroke-width=\"2px\" d=\"M370,152.0 C370,102.0 440.0,102.0 440.0,152.0\" fill=\"none\" stroke=\"currentColor\"/>\n",
       "    <text dy=\"1.25em\" style=\"font-size: 0.8em; letter-spacing: 1px\">\n",
       "        <textPath xlink:href=\"#arrow-63c514eb01c0456195ac4e7c07ec7cf9-0-3\" class=\"displacy-label\" startOffset=\"50%\" side=\"left\" fill=\"currentColor\" text-anchor=\"middle\">advmod</textPath>\n",
       "    </text>\n",
       "    <path class=\"displacy-arrowhead\" d=\"M370,154.0 L362,142.0 378,142.0\" fill=\"currentColor\"/>\n",
       "</g>\n",
       "\n",
       "<g class=\"displacy-arrow\">\n",
       "    <path class=\"displacy-arc\" id=\"arrow-63c514eb01c0456195ac4e7c07ec7cf9-0-4\" stroke-width=\"2px\" d=\"M570,152.0 C570,52.0 745.0,52.0 745.0,152.0\" fill=\"none\" stroke=\"currentColor\"/>\n",
       "    <text dy=\"1.25em\" style=\"font-size: 0.8em; letter-spacing: 1px\">\n",
       "        <textPath xlink:href=\"#arrow-63c514eb01c0456195ac4e7c07ec7cf9-0-4\" class=\"displacy-label\" startOffset=\"50%\" side=\"left\" fill=\"currentColor\" text-anchor=\"middle\">det</textPath>\n",
       "    </text>\n",
       "    <path class=\"displacy-arrowhead\" d=\"M570,154.0 L562,142.0 578,142.0\" fill=\"currentColor\"/>\n",
       "</g>\n",
       "\n",
       "<g class=\"displacy-arrow\">\n",
       "    <path class=\"displacy-arc\" id=\"arrow-63c514eb01c0456195ac4e7c07ec7cf9-0-5\" stroke-width=\"2px\" d=\"M670,152.0 C670,102.0 740.0,102.0 740.0,152.0\" fill=\"none\" stroke=\"currentColor\"/>\n",
       "    <text dy=\"1.25em\" style=\"font-size: 0.8em; letter-spacing: 1px\">\n",
       "        <textPath xlink:href=\"#arrow-63c514eb01c0456195ac4e7c07ec7cf9-0-5\" class=\"displacy-label\" startOffset=\"50%\" side=\"left\" fill=\"currentColor\" text-anchor=\"middle\">amod</textPath>\n",
       "    </text>\n",
       "    <path class=\"displacy-arrowhead\" d=\"M670,154.0 L662,142.0 678,142.0\" fill=\"currentColor\"/>\n",
       "</g>\n",
       "\n",
       "<g class=\"displacy-arrow\">\n",
       "    <path class=\"displacy-arc\" id=\"arrow-63c514eb01c0456195ac4e7c07ec7cf9-0-6\" stroke-width=\"2px\" d=\"M470,152.0 C470,2.0 750.0,2.0 750.0,152.0\" fill=\"none\" stroke=\"currentColor\"/>\n",
       "    <text dy=\"1.25em\" style=\"font-size: 0.8em; letter-spacing: 1px\">\n",
       "        <textPath xlink:href=\"#arrow-63c514eb01c0456195ac4e7c07ec7cf9-0-6\" class=\"displacy-label\" startOffset=\"50%\" side=\"left\" fill=\"currentColor\" text-anchor=\"middle\">dobj</textPath>\n",
       "    </text>\n",
       "    <path class=\"displacy-arrowhead\" d=\"M750.0,154.0 L758.0,142.0 742.0,142.0\" fill=\"currentColor\"/>\n",
       "</g>\n",
       "\n",
       "<g class=\"displacy-arrow\">\n",
       "    <path class=\"displacy-arc\" id=\"arrow-63c514eb01c0456195ac4e7c07ec7cf9-0-7\" stroke-width=\"2px\" d=\"M770,152.0 C770,102.0 840.0,102.0 840.0,152.0\" fill=\"none\" stroke=\"currentColor\"/>\n",
       "    <text dy=\"1.25em\" style=\"font-size: 0.8em; letter-spacing: 1px\">\n",
       "        <textPath xlink:href=\"#arrow-63c514eb01c0456195ac4e7c07ec7cf9-0-7\" class=\"displacy-label\" startOffset=\"50%\" side=\"left\" fill=\"currentColor\" text-anchor=\"middle\">prep</textPath>\n",
       "    </text>\n",
       "    <path class=\"displacy-arrowhead\" d=\"M840.0,154.0 L848.0,142.0 832.0,142.0\" fill=\"currentColor\"/>\n",
       "</g>\n",
       "\n",
       "<g class=\"displacy-arrow\">\n",
       "    <path class=\"displacy-arc\" id=\"arrow-63c514eb01c0456195ac4e7c07ec7cf9-0-8\" stroke-width=\"2px\" d=\"M970,152.0 C970,102.0 1040.0,102.0 1040.0,152.0\" fill=\"none\" stroke=\"currentColor\"/>\n",
       "    <text dy=\"1.25em\" style=\"font-size: 0.8em; letter-spacing: 1px\">\n",
       "        <textPath xlink:href=\"#arrow-63c514eb01c0456195ac4e7c07ec7cf9-0-8\" class=\"displacy-label\" startOffset=\"50%\" side=\"left\" fill=\"currentColor\" text-anchor=\"middle\">amod</textPath>\n",
       "    </text>\n",
       "    <path class=\"displacy-arrowhead\" d=\"M970,154.0 L962,142.0 978,142.0\" fill=\"currentColor\"/>\n",
       "</g>\n",
       "\n",
       "<g class=\"displacy-arrow\">\n",
       "    <path class=\"displacy-arc\" id=\"arrow-63c514eb01c0456195ac4e7c07ec7cf9-0-9\" stroke-width=\"2px\" d=\"M870,152.0 C870,52.0 1045.0,52.0 1045.0,152.0\" fill=\"none\" stroke=\"currentColor\"/>\n",
       "    <text dy=\"1.25em\" style=\"font-size: 0.8em; letter-spacing: 1px\">\n",
       "        <textPath xlink:href=\"#arrow-63c514eb01c0456195ac4e7c07ec7cf9-0-9\" class=\"displacy-label\" startOffset=\"50%\" side=\"left\" fill=\"currentColor\" text-anchor=\"middle\">pobj</textPath>\n",
       "    </text>\n",
       "    <path class=\"displacy-arrowhead\" d=\"M1045.0,154.0 L1053.0,142.0 1037.0,142.0\" fill=\"currentColor\"/>\n",
       "</g>\n",
       "</svg></span>"
      ]
     },
     "metadata": {}
    }
   ]
  },
  {
   "cell_type": "markdown",
   "source": [
    "![Spacy Tags.JPG](data:image/jpeg;base64,/9j/4AAQSkZJRgABAQEAkACQAAD/4RDsRXhpZgAATU0AKgAAAAgABAE7AAIAAAALAAAISodpAAQAAAABAAAIVpydAAEAAAAWAAAQzuocAAcAAAgMAAAAPgAAAAAc6gAAAAgAAAAAAAAAAAAAAAAAAAAAAAAAAAAAAAAAAAAAAAAAAAAAAAAAAAAAAAAAAAAAAAAAAAAAAAAAAAAAAAAAAAAAAAAAAAAAAAAAAAAAAAAAAAAAAAAAAAAAAAAAAAAAAAAAAAAAAAAAAAAAAAAAAAAAAAAAAAAAAAAAAAAAAAAAAAAAAAAAAAAAAAAAAAAAAAAAAAAAAAAAAAAAAAAAAAAAAAAAAAAAAAAAAAAAAAAAAAAAAAAAAAAAAAAAAAAAAAAAAAAAAAAAAAAAAAAAAAAAAAAAAAAAAAAAAAAAAAAAAAAAAAAAAAAAAAAAAAAAAAAAAAAAAAAAAAAAAAAAAAAAAAAAAAAAAAAAAAAAAAAAAAAAAAAAAAAAAAAAAAAAAAAAAAAAAAAAAAAAAAAAAAAAAAAAAAAAAAAAAAAAAAAAAAAAAAAAAAAAAAAAAAAAAAAAAAAAAAAAAAAAAAAAAAAAAAAAAAAAAAAAAAAAAAAAAAAAAAAAAAAAAAAAAAAAAAAAAAAAAAAAAAAAAAAAAAAAAAAAAAAAAAAAAAAAAAAAAAAAAAAAAAAAAAAAAAAAAAAAAAAAAAAAAAAAAAAAAAAAAAAAAAAAAAAAAAAAAAAAAAAAAAAAAAAAAAAAAAAAAAAAAAAAAAAAAAAAAAAAAAAAAAAAAAAAAAAAAAAAAAAAAAAAAAAAAAAAAAAAAAAAAAAAAAAAAAAAAAAAAAAAAAAAAAAAAAAAAAAAAAAAAAAAAAAAAAAAAAAAAAAAAAAAAAAAAAAAAAAAAAAAAAAAAAAAAAAAAAAAAAAAAAAAAAAAAAAAAAAAAAAAAAAAAAAAAAAAAAAAAAAAAAAAAAAAAAAAAAAAAAAAAAAAAAAAAAAAAAAAAAAAAAAAAAAAAAAAAAAAAAAAAAAAAAAAAAAAAAAAAAAAAAAAAAAAAAAAAAAAAAAAAAAAAAAAAAAAAAAAAAAAAAAAAAAAAAAAAAAAAAAAAAAAAAAAAAAAAAAAAAAAAAAAAAAAAAAAAAAAAAAAAAAAAAAAAAAAAAAAAAAAAAAAAAAAAAAAAAAAAAAAAAAAAAAAAAAAAAAAAAAAAAAAAAAAAAAAAAAAAAAAAAAAAAAAAAAAAAAAAAAAAAAAAAAAAAAAAAAAAAAAAAAAAAAAAAAAAAAAAAAAAAAAAAAAAAAAAAAAAAAAAAAAAAAAAAAAAAAAAAAAAAAAAAAAAAAAAAAAAAAAAAAAAAAAAAAAAAAAAAAAAAAAAAAAAAAAAAAAAAAAAAAAAAAAAAAAAAAAAAAAAAAAAAAAAAAAAAAAAAAAAAAAAAAAAAAAAAAAAAAAAAAAAAAAAAAAAAAAAAAAAAAAAAAAAAAAAAAAAAAAAAAAAAAAAAAAAAAAAAAAAAAAAAAAAAAAAAAAAAAAAAAAAAAAAAAAAAAAAAAAAAAAAAAAAAAAAAAAAAAAAAAAAAAAAAAAAAAAAAAAAAAAAAAAAAAAAAAAAAAAAAAAAAAAAAAAAAAAAAAAAAAAAAAAAAAAAAAAAAAAAAAAAAAAAAAAAAAAAAAAAAAAAAAAAAAAAAAAAAAAAAAAAAAAAAAAAAAAAAAAAAAAAAAAAAAAAAAAAAAAAAAAAAAAAAAAAAAAAAAAAAAAAAAAAAAAAAAAAAAAAAAAAAAAAAAAAAAAAAAAAAAAAAAAAAAAAAAAAAAAAAAAAAAAAAAAAAAAAAAAAAAAAAAAAAAAAAAAAAAAAAAAAAAAAAAAAAAAAAAAAAAAAAAAAAAAAAAAAAAAAAAAAAAAAAAAAAAAAAAAAAAAAAAAAAAAAAAAAAAAAAAAAAAAAAAAAAAAAAAAAAAAAAAAAAAAAAAAAAAAAAAAAAAAAAAAAAAAAAAAAAAAAAAAAAAAAAAAAAAAAAAAAAAAAAAAAAAAAAAAAAAAAAAAAAAAAAAAAAAAAAAAAAAAAAAAAAAAAAAAAAAAAAAAAAAAAAAAAAAAAAAAAAAAAAAAAAAAAAAAAAAAAAAAAAAAAAAAAAAAAAAAAAAAAAAAAAAAAAAAAAAAAAAAAAAAAAAAAAAAAAAAAAAAAAAAAAAAAAAAAAAAAAAAAAAAAAAAAAAAAAAAAAAAAAAAAAAAAAAAAAAAAAAAAAAAAAAAAAAAAAAAAAAAAAAAAAAAAAAAAAAAAAAAAAAAAAAAAAAAAAAAAAAAAAAAAAAAAAAAAAAAAAAAAAAAAAAAAAAAAAAAAAAAAAAAAAAAAAAAAAAAAAAAAAAAAAAAAAAAAAAAAAAAAAAAAAAAAAAAAAAAAAAAAAAAAAAAAAAAAAAAAAAAAAAAAAAAAAAAAAAAAAAAAAAAAAAAAAAAAAAAAAAAAAAAAAAAAAAAAAAAAAAAAAAAAAAAAAAAAAAAAAAAAAAAAAAAAAAAAAAAAAAAAAAAAAAAAAAAAAAAAAAAAAAAAAAAAAAAAAAAAAAAAAAAAAAAAAAAAAAAAAAAAAAAAAAAAAAAAAAAAAAAAAAAAAAAAAAAAAAAAAAAAAAAAAAAAAAAAAAAAAAAAAAAAAAAAAAAAAAAAAAAAAAAAAAAAAAAAAAAAAAAAAAAAAAAAAAAAAAAAAAAAAAAAAAAAAAAAAAAAAAAAAAAAAAAAAAAAAAAAAAAAAAAAAAAAAAAAAAAAAAAAAAAAAAAAAAAAAAAAAAAAAAAAAAAAAAAAAAAAAAAAAAAAAAAAAAAAAAAAAAAAAAAAAAAAAAAAAAAAAAAAAAAAAAAAAAAAAAAAAAAAAAAAAAAAFBhcm1hIE5hbmQAAAAFkAMAAgAAABQAABCkkAQAAgAAABQAABC4kpEAAgAAAAMyMgAAkpIAAgAAAAMyMgAA6hwABwAACAwAAAiYAAAAABzqAAAACAAAAAAAAAAAAAAAAAAAAAAAAAAAAAAAAAAAAAAAAAAAAAAAAAAAAAAAAAAAAAAAAAAAAAAAAAAAAAAAAAAAAAAAAAAAAAAAAAAAAAAAAAAAAAAAAAAAAAAAAAAAAAAAAAAAAAAAAAAAAAAAAAAAAAAAAAAAAAAAAAAAAAAAAAAAAAAAAAAAAAAAAAAAAAAAAAAAAAAAAAAAAAAAAAAAAAAAAAAAAAAAAAAAAAAAAAAAAAAAAAAAAAAAAAAAAAAAAAAAAAAAAAAAAAAAAAAAAAAAAAAAAAAAAAAAAAAAAAAAAAAAAAAAAAAAAAAAAAAAAAAAAAAAAAAAAAAAAAAAAAAAAAAAAAAAAAAAAAAAAAAAAAAAAAAAAAAAAAAAAAAAAAAAAAAAAAAAAAAAAAAAAAAAAAAAAAAAAAAAAAAAAAAAAAAAAAAAAAAAAAAAAAAAAAAAAAAAAAAAAAAAAAAAAAAAAAAAAAAAAAAAAAAAAAAAAAAAAAAAAAAAAAAAAAAAAAAAAAAAAAAAAAAAAAAAAAAAAAAAAAAAAAAAAAAAAAAAAAAAAAAAAAAAAAAAAAAAAAAAAAAAAAAAAAAAAAAAAAAAAAAAAAAAAAAAAAAAAAAAAAAAAAAAAAAAAAAAAAAAAAAAAAAAAAAAAAAAAAAAAAAAAAAAAAAAAAAAAAAAAAAAAAAAAAAAAAAAAAAAAAAAAAAAAAAAAAAAAAAAAAAAAAAAAAAAAAAAAAAAAAAAAAAAAAAAAAAAAAAAAAAAAAAAAAAAAAAAAAAAAAAAAAAAAAAAAAAAAAAAAAAAAAAAAAAAAAAAAAAAAAAAAAAAAAAAAAAAAAAAAAAAAAAAAAAAAAAAAAAAAAAAAAAAAAAAAAAAAAAAAAAAAAAAAAAAAAAAAAAAAAAAAAAAAAAAAAAAAAAAAAAAAAAAAAAAAAAAAAAAAAAAAAAAAAAAAAAAAAAAAAAAAAAAAAAAAAAAAAAAAAAAAAAAAAAAAAAAAAAAAAAAAAAAAAAAAAAAAAAAAAAAAAAAAAAAAAAAAAAAAAAAAAAAAAAAAAAAAAAAAAAAAAAAAAAAAAAAAAAAAAAAAAAAAAAAAAAAAAAAAAAAAAAAAAAAAAAAAAAAAAAAAAAAAAAAAAAAAAAAAAAAAAAAAAAAAAAAAAAAAAAAAAAAAAAAAAAAAAAAAAAAAAAAAAAAAAAAAAAAAAAAAAAAAAAAAAAAAAAAAAAAAAAAAAAAAAAAAAAAAAAAAAAAAAAAAAAAAAAAAAAAAAAAAAAAAAAAAAAAAAAAAAAAAAAAAAAAAAAAAAAAAAAAAAAAAAAAAAAAAAAAAAAAAAAAAAAAAAAAAAAAAAAAAAAAAAAAAAAAAAAAAAAAAAAAAAAAAAAAAAAAAAAAAAAAAAAAAAAAAAAAAAAAAAAAAAAAAAAAAAAAAAAAAAAAAAAAAAAAAAAAAAAAAAAAAAAAAAAAAAAAAAAAAAAAAAAAAAAAAAAAAAAAAAAAAAAAAAAAAAAAAAAAAAAAAAAAAAAAAAAAAAAAAAAAAAAAAAAAAAAAAAAAAAAAAAAAAAAAAAAAAAAAAAAAAAAAAAAAAAAAAAAAAAAAAAAAAAAAAAAAAAAAAAAAAAAAAAAAAAAAAAAAAAAAAAAAAAAAAAAAAAAAAAAAAAAAAAAAAAAAAAAAAAAAAAAAAAAAAAAAAAAAAAAAAAAAAAAAAAAAAAAAAAAAAAAAAAAAAAAAAAAAAAAAAAAAAAAAAAAAAAAAAAAAAAAAAAAAAAAAAAAAAAAAAAAAAAAAAAAAAAAAAAAAAAAAAAAAAAAAAAAAAAAAAAAAAAAAAAAAAAAAAAAAAAAAAAAAAAAAAAAAAAAAAAAAAAAAAAAAAAAAAAAAAAAAAAAAAAAAAAAAAAAAAAAAAAAAAAAAAAAAAAAAAAAAAAAAAAAAAAAAAAAAAAAAAAAAAAAAAAAAAAAAAAAAAAAAAAAAAAAAAAAAAAAAAAAAAAAAAAAAAAAAAAAAAAAAAAAAAAAAAAAAAAAAAAAAAAAAAAAAAAAAAAAAAAAAAAAAAAAAAAAAAAAAAAAAAAAAAAAAAAAAAAAAAAAAAAAAAAAAAAAAAAAAAAAAAAAAAAAAAAAAAAAAAAAAAAAAAAAAAAAAAAAAAAAAAAAAAAAAAAAAAAAAAAAAAAAAAAAAAAAAAAAAAAAAAAAAAAAAAAAAAAAAAAAAAAAAAAAAAAAAAAAAAAAAAAAAAAAAAAAAAAAAAAAAAAAAAAAAAAAAAAAAAAAAAAAAAAAAAAAAAAAAAAAAAAAAAAAAAAAAAAAAAAAAAAAAAAAAAAAAAAAAAAAAAAAAAAAAAAAAAAAAAAAAAAAAAAAAAAAAAAAAAAAAAAAAAAAAAAAAAAAAAAAAAAAAAAAAAAAAAAAAAAAAAAAAAAAAAAAAAAAAAAAAAAAAAAAAAAAAAAAAAAAAAAAAAAAAAAAAAAAAAAAAAAAAAAAAAAAAAAAAAAAAAAAAAAAAAAAAAAAAAAAAAAAAAAAAAAAAAAAAAAAAAAAAAAAAAAAAAAAAAAAAAAAAAAAAAAAAAAAAAAAAAAAAAAAAAAAAAAAAAAAAAAAAAAAAAAAAAAAAAAAAAAAAAAAAAAAAAAAAAAAAAAAAAAAAAAAAAAAAAAAAAAAAAAAAAAAAAAAAAAAAAAAAAAAAAAAAAAAAAAAAAAAAAAAAAAAAAAAAAAAAAAAAAAAAAAAAAAAAAAAAAAAAAAAAAAAAAAAAAAAAMjAyMjowODoxNSAxMToxMDoxNAAyMDIyOjA4OjE1IDExOjEwOjE0AAAAUABhAHIAbQBhACAATgBhAG4AZAAAAP/hCx1odHRwOi8vbnMuYWRvYmUuY29tL3hhcC8xLjAvADw/eHBhY2tldCBiZWdpbj0n77u/JyBpZD0nVzVNME1wQ2VoaUh6cmVTek5UY3prYzlkJz8+DQo8eDp4bXBtZXRhIHhtbG5zOng9ImFkb2JlOm5zOm1ldGEvIj48cmRmOlJERiB4bWxuczpyZGY9Imh0dHA6Ly93d3cudzMub3JnLzE5OTkvMDIvMjItcmRmLXN5bnRheC1ucyMiPjxyZGY6RGVzY3JpcHRpb24gcmRmOmFib3V0PSJ1dWlkOmZhZjViZGQ1LWJhM2QtMTFkYS1hZDMxLWQzM2Q3NTE4MmYxYiIgeG1sbnM6ZGM9Imh0dHA6Ly9wdXJsLm9yZy9kYy9lbGVtZW50cy8xLjEvIi8+PHJkZjpEZXNjcmlwdGlvbiByZGY6YWJvdXQ9InV1aWQ6ZmFmNWJkZDUtYmEzZC0xMWRhLWFkMzEtZDMzZDc1MTgyZjFiIiB4bWxuczp4bXA9Imh0dHA6Ly9ucy5hZG9iZS5jb20veGFwLzEuMC8iPjx4bXA6Q3JlYXRlRGF0ZT4yMDIyLTA4LTE1VDExOjEwOjE0LjIxODwveG1wOkNyZWF0ZURhdGU+PC9yZGY6RGVzY3JpcHRpb24+PHJkZjpEZXNjcmlwdGlvbiByZGY6YWJvdXQ9InV1aWQ6ZmFmNWJkZDUtYmEzZC0xMWRhLWFkMzEtZDMzZDc1MTgyZjFiIiB4bWxuczpkYz0iaHR0cDovL3B1cmwub3JnL2RjL2VsZW1lbnRzLzEuMS8iPjxkYzpjcmVhdG9yPjxyZGY6U2VxIHhtbG5zOnJkZj0iaHR0cDovL3d3dy53My5vcmcvMTk5OS8wMi8yMi1yZGYtc3ludGF4LW5zIyI+PHJkZjpsaT5QYXJtYSBOYW5kPC9yZGY6bGk+PC9yZGY6U2VxPg0KCQkJPC9kYzpjcmVhdG9yPjwvcmRmOkRlc2NyaXB0aW9uPjwvcmRmOlJERj48L3g6eG1wbWV0YT4NCiAgICAgICAgICAgICAgICAgICAgICAgICAgICAgICAgICAgICAgICAgICAgICAgICAgICAgICAgICAgICAgICAgICAgICAgICAgICAgICAgICAgICAgICAgICAgICAgICAgICAKICAgICAgICAgICAgICAgICAgICAgICAgICAgICAgICAgICAgICAgICAgICAgICAgICAgICAgICAgICAgICAgICAgICAgICAgICAgICAgICAgICAgICAgICAgICAgICAgICAgIAogICAgICAgICAgICAgICAgICAgICAgICAgICAgICAgICAgICAgICAgICAgICAgICAgICAgICAgICAgICAgICAgICAgICAgICAgICAgICAgICAgICAgICAgICAgICAgICAgICAgCiAgICAgICAgICAgICAgICAgICAgICAgICAgICAgICAgICAgICAgICAgICAgICAgICAgICAgICAgICAgICAgICAgICAgICAgICAgICAgICAgICAgICAgICAgICAgICAgICAgICAKICAgICAgICAgICAgICAgICAgICAgICAgICAgICAgICAgICAgICAgICAgICAgICAgICAgICAgICAgICAgICAgICAgICAgICAgICAgICAgICAgICAgICAgICAgICAgICAgICAgIAogICAgICAgICAgICAgICAgICAgICAgICAgICAgICAgICAgICAgICAgICAgICAgICAgICAgICAgICAgICAgICAgICAgICAgICAgICAgICAgICAgICAgICAgICAgICAgICAgICAgCiAgICAgICAgICAgICAgICAgICAgICAgICAgICAgICAgICAgICAgICAgICAgICAgICAgICAgICAgICAgICAgICAgICAgICAgICAgICAgICAgICAgICAgICAgICAgICAgICAgICAKICAgICAgICAgICAgICAgICAgICAgICAgICAgICAgICAgICAgICAgICAgICAgICAgICAgICAgICAgICAgICAgICAgICAgICAgICAgICAgICAgICAgICAgICAgICAgICAgICAgIAogICAgICAgICAgICAgICAgICAgICAgICAgICAgICAgICAgICAgICAgICAgICAgICAgICAgICAgICAgICAgICAgICAgICAgICAgICAgICAgICAgICAgICAgICAgICAgICAgICAgCiAgICAgICAgICAgICAgICAgICAgICAgICAgICAgICAgICAgICAgICAgICAgICAgICAgICAgICAgICAgICAgICAgICAgICAgICAgICAgICAgICAgICAgICAgICAgICAgICAgICAKICAgICAgICAgICAgICAgICAgICAgICAgICAgICAgICAgICAgICAgICAgICAgICAgICAgICAgICAgICAgICAgICAgICAgICAgICAgICAgICAgICAgICAgICAgICAgICAgICAgIAogICAgICAgICAgICAgICAgICAgICAgICAgICAgICAgICAgICAgICAgICAgICAgICAgICAgICAgICAgICAgICAgICAgICAgICAgICAgICAgICAgICAgICAgICAgICAgICAgICAgCiAgICAgICAgICAgICAgICAgICAgICAgICAgICAgICAgICAgICAgICAgICAgICAgICAgICAgICAgICAgICAgICAgICAgICAgICAgICAgICAgICAgICAgICAgICAgICAgICAgICAKICAgICAgICAgICAgICAgICAgICAgICAgICAgICAgICAgICAgICAgICAgICAgICAgICAgICAgICAgICAgICAgICAgICAgICAgICAgICAgICAgICAgICAgICAgICAgICAgICAgIAogICAgICAgICAgICAgICAgICAgICAgICAgICAgICAgICAgICAgICAgICAgICAgICAgICAgICAgICAgICAgICAgICAgICAgICAgICAgICAgICAgICAgICAgICAgICAgICAgICAgCiAgICAgICAgICAgICAgICAgICAgICAgICAgICAgICAgICAgICAgICAgICAgICAgICAgICAgICAgICAgICAgICAgICAgICAgICAgICAgICAgICAgICAgICAgICAgICAgICAgICAKICAgICAgICAgICAgICAgICAgICAgICAgICAgICAgICAgICAgICAgICAgICAgICAgICAgICAgICAgICAgICAgICAgICAgICAgICAgICAgICAgICAgICAgICAgICAgICAgICAgIAogICAgICAgICAgICAgICAgICAgICAgICAgICAgICAgICAgICAgICAgICAgICAgICAgICAgICAgICAgICAgICAgICAgICAgICAgICAgICAgICAgICAgICAgICAgICAgICAgICAgCiAgICAgICAgICAgICAgICAgICAgICAgICAgICAgICAgICAgICAgICAgICAgICAgICAgICAgICAgICAgICAgICAgICAgICAgICAgICAgICAgICAgICAgICAgICAgICAgICAgICAKICAgICAgICAgICAgICAgICAgICAgICAgICAgICAgICAgICAgICAgICAgICAgICAgICAgICAgICAgICAgICAgICAgICAgICAgICAgICAgICAgICAgICAgICAgICAgICAgICAgIAogICAgICAgICAgICAgICAgICAgICAgICAgICAgPD94cGFja2V0IGVuZD0ndyc/Pv/bAEMABwUFBgUEBwYFBggHBwgKEQsKCQkKFQ8QDBEYFRoZGBUYFxseJyEbHSUdFxgiLiIlKCkrLCsaIC8zLyoyJyorKv/bAEMBBwgICgkKFAsLFCocGBwqKioqKioqKioqKioqKioqKioqKioqKioqKioqKioqKioqKioqKioqKioqKioqKioqKv/AABEIAfQDoAMBIgACEQEDEQH/xAAfAAABBQEBAQEBAQAAAAAAAAAAAQIDBAUGBwgJCgv/xAC1EAACAQMDAgQDBQUEBAAAAX0BAgMABBEFEiExQQYTUWEHInEUMoGRoQgjQrHBFVLR8CQzYnKCCQoWFxgZGiUmJygpKjQ1Njc4OTpDREVGR0hJSlNUVVZXWFlaY2RlZmdoaWpzdHV2d3h5eoOEhYaHiImKkpOUlZaXmJmaoqOkpaanqKmqsrO0tba3uLm6wsPExcbHyMnK0tPU1dbX2Nna4eLj5OXm5+jp6vHy8/T19vf4+fr/xAAfAQADAQEBAQEBAQEBAAAAAAAAAQIDBAUGBwgJCgv/xAC1EQACAQIEBAMEBwUEBAABAncAAQIDEQQFITEGEkFRB2FxEyIygQgUQpGhscEJIzNS8BVictEKFiQ04SXxFxgZGiYnKCkqNTY3ODk6Q0RFRkdISUpTVFVWV1hZWmNkZWZnaGlqc3R1dnd4eXqCg4SFhoeIiYqSk5SVlpeYmZqio6Slpqeoqaqys7S1tre4ubrCw8TFxsfIycrS09TV1tfY2dri4+Tl5ufo6ery8/T19vf4+fr/2gAMAwEAAhEDEQA/APpGiszXNR1DTbZZtO0v+0QMmUfaFi8tQM55HP4ViJ4y1EeH5dXufD/k2wjV4W+2q3m7mAxwuV655FbQoznHmj6br/M5qmJp05csr7X2drLfW1jrqKwrTVtfmW4N34cFr5cRePN8j+awx8nyjjPPPtUUXi2O7i01dOtTcXV8TugMm0wBfvljg9Dx05o9jPp+aY1iabV3deqa7LqvNHRUVyI8Wa+dTOn/APCKf6UIvO8v+0Y/uZxnOMda64ZIGRg+lKpSlTtzdfNP8h0sRCtdQvp3TX5pBRRRWRuFFFFABRRRQAUUUUAFFFZ2tar/AGPaRT+T53mXEcO3ftxubGeh6VUYuTUUTKShFylsjRorJ8Q61NottbPbWX22a5uFgji80R5ZunJBFVJPEOqWeh3+oatoX2M2qq0cf2xZPNyeeVHy44/OrjRnKPMuvmvyMpYinCfI73tfZ2++1uh0NFc7deL4bbwdFrq2zSGUALbB8HfnBXOO2D27Ux/GKRalotrLZ7V1SBJfM83PlFhwuMc8kDPHWqWHqvp3X3bkPF0Fa8t0n8m7L8TpaKwpfE6J4zg0BLYuZIyzz78BDtLbcY54HqOtSDxJAfFp0LyzvEW8TbuC/XZj1289an2NTt0v8i/rFLXXZ8vz7GzRRRWRuFFFFABRRRQAUUUUAFFcpd+Mrq1vb/8A4kjy6fp8vlz3aXK5XgHOwgE9fWrF14ouX1Ca10HR5dVNuB58gmWJUJGcAnqcdq3+r1O34r8e2/U5frdHXV6O2z89tNdntfY6OiubfxjC2kW9zZWcs91cXH2VbNmEbLKOqsTwP/ritjSr24v7ES3ljLYzBirwyENgjuCOo96mVKcVeSNIV6c5csXfr1/Pb5blyiiisjYKKKKACiiigAooooAKKKKACiiuY1XxNrGnapHaJ4c89Z5THbSfbkXzcDPTHy8etaU6cqjtH80vzMqtaFGPNO9vJN/kmdPRXPXvio6X/Zcep2Jt7i+fbLEJg/2dc43FgMEZI9OtT6vr8ljfRafpunyalfyIZfJSQIEQHG5mPA5p+xnppvf8N9SfrFJJu+1ujvrtpvd9tzaorM0bV31NZ0urGaxurdgs0EhDAZGQQw4YVp1EouLszWE1OPNEKKKKkoKKKKACiiigAoorlpfFmoLeXwt/D8lzZWMximuIrld3ABJEZAJ4NaQpyqfD/l+ZlVrQpJOXXsm/yOporm73xVP9psYtC0v+1PttubhD9pEOFBA/iHvS3viPVLK0sPM0HN/ezNGtp9sX5cDOd+MHIFX9Xqaefmv8zJ4ukm9Xp5Nrp1tZ7rRHR0VmaHrP9sW83m2r2lzbSmGeB2DbGwDww4IwetadZSi4uzN4TjOPNEKKKKksKKKKACiiigAooooAKKKKACiiigAooooAKKK56fxPcDWp7Ow0ee9htXSO5njkUGMtzwh5arhCU3aJnUqRpq8v8/yOhorPtdV+067fab5O37IkT+Zuzv3g8YxxjHrVaz8RR3Gh3mpzw+RHaySoy792dhIznA64p+zl27fjsCqwbtfv+G5s0VhW3idLrwfLriWxVoY3Z7Zn5VlzlSce3p3qrZeLrmR/L1TR3sZJbV7m2/0hZFmVRkjIHynB9Kr2FTXTb0MvrVL3dfi20fX8vmdPRXO6Lr+s6rJayTeHfs1jcJvFz9uR8KVyDtwDzx+ddFUVKcqbtL80/wAi6NaFaPNC9vNNfmkFFFFQbBRRRQAUUUUAFFFFABRWP4k8QxeHNPS5khacvIEEanBI6seh6AE1LqWtLYyaYI4hOmoXCwq4fG0EE7uhz06Voqc2k0t/0MpVqcW4t6q34mnRWNr+t3OkNZRWWn/b57yUxpH54i5Az1IIqnF4v3w24l094blr9LGeB5R+6Zu4IGGGD7VUaM5R5kiJYmlCTjJ7eT/Pa/ludLRWe+q7fEkeleTnfatcebu6YYLjGPfrmq1r4kt7rxTdaKsZDW6bhLu4dhjcoGOo3CpVObV0ul/kW61OLs31t87XsbNFFFZmoUUUUAFFFFABRRRQAUUVka5rkmlS2ltZ2LX95dswihEojBCjJJY8DiqjFzdkROcaceaWxr0VzOpeJ9UsNJj1BfDsrQiMvcCW6WNoSDjGMEn1yKD4qvbWwWXU9Dkt7i4kWO0torlZWnJGeo+6B71r9XqNXVvvX+Zg8XSUuV32vs/ztb/g6bnTUVz9j4mnfUPsGs6VJpl28bSQK0yyrKFGSAw7+1VNJ8Z3N9JYtf6M9la6g2y2uFuFlDNzwQACOho+r1NdNvNfh32ewfW6Oiu9fJ+W+mm63tudXRRRWB1BRRRQBXv1Z9NuVQFmaFwABkk4Nclf2N2/wmhtFtZ2uRbxAwrGfMBBGRt65rtaK1p1XC1u6f3GFWiqt7vo199v8jjfDt39ke8k8jxXNsgLhdUQsGwfuoB/Ec/lUGj6dqWjaxBrVxaNIdWYreQxRZa13HKHgZwOA3/1q7mitXiNW0t9znjg7RjFy+HVev8AWnzZgrbz/wDCw2ufJk8j+zdnm7Tt3eYDjPTOO1b1FFYSlzW8jrhBQbfd3CiiioNAooooAKKKKACiiigArnvGkcz6JC1tbTXLRXcMhjgjLuQrZOAK6Girpy5JqXYzqw9pTlDumvvOF8S38+v6TbPBpGuW32e+jZwLYpNtwcsmM8j19cUxoprrwTrVtbQeIpZSq7V1ZCztk9Ex1HHNd7RXQsSoxUVHZ3/I43g3Kp7SUru1np6/5nB33hvUBcX6CDfpscc11bKuCzTSIFKhRzx8x6dTRPoV3qH9nw/Z5Y3TQlRZGQgRzKUKgk9GyOld5RQsVNW8hvA03fXf/NP7tDhbPTNStNc0vUtRs5DdSyXVxdiJd4jJj2ouRkdAAPc1njS/FCWq6ybS2LC8/tDyQJPtRzxsxjH3eMV6VRTWLkney/4F27fj+BMsBFq3M+/zslf8L/NiI2+NXAYBgDhhgj6iloorjPRCiiigAooooAKKKKAOLtfCq6prmsy6nJqEVu15kW6yGOG4XaOSMfNzxkHtUsVxeeFtW1NG0i8vrW9n+0QSWUYcqSACrDPGMda6+iun6xJ6SV1a1vu/yOL6pFawdpXbv63/AA1OE/s+9t9Fkm1bQzfRahfPc3NpF80sCkALtwRluOcHvW14PS+SwuTdpdxWzTk2kV6czJHgcN365wDXQ0UpV3KLjbf+v68ioYVQmpJ7en5/O9trhRRRXOdYUUUUAFFFFABRRRQAUUUUAFYWu2802u6DJDDJIkV07SMqkhBsIyT2rdoq4S5JXIqQ548rOB1bSNf1/VtWmtLe1jtmj+xR/bhIrFRhi0eB3bufSprO51Wwu7bXbrSry5FxZC2u4Yov30ciMfmCnGQeT+NdxRXR9ZfLyuKscf1Jc7mpO7/zuvu29DkfCMepJrN+14NVFnJEj266jIXZclsj0U8dOoGK66iisKtT2kua1jpo0vYw5b3CiiiszYKKKKACiiigAriIdRv9LvNbtINC1G6mu7x5IJFhxCQVUAlz9K7eitac1C91e5jVpynyuMrNO/4Nfqebahot1pTaHDLHrLrb2LRyy6MpLq5bO3PTHX8hV+506bVrHw/DCdchRLqTzLi5yt1GMN8zNg49AfSu6oroeLk0rrVX/G/+ZxrL4KTs9GkreiS/QoaRo9toto0Fq0shkcySSzPveRj3Y/hV+iiuOUnJ3Z6EYxhHlirIKKKKRQUUUUAFFFFABRRRQAUUUUAFFFFABRRRQAVwfiCO8k1S5MGiX0eq7wtlqFgSI3XjHmtnH1BFd5RWtKp7OXNa5hXo+2hy3t936/1c45vDt1qfizUJbm91OwUQQAS2UpiWZsHdzjnB/LNZa6Zq58LxaHaWsxkuNQlMkt2jhfLVtwLsB0bA+tei0VssVJW02t+BzywNN3aervf0e5wH2LXbW18R2OoWiSG/tWuYjYo7ReZjaVGRnceDj2rT0/wtFZaK928t9d3zWBjRbqQuYcpyiLjjnjFdZRSliZNWWn9WKp4OEJKT1ttfzd/zPP8AwdHJb3mnxTxeK0kWPayXS4s1Ow5GD0Hp74r0CiiorVfay5rWKwuG+rU+RO4UUUVgdYUUUUAFFFFABRRRQBxuvWWt6x4o/wCJbb2wt7K3KBr9ZBHI0gIYrtHJA49s1nkapaaDokd7pt5PNpGo7JFt4GcvGqnay+owQM+1ehUV1xxLUVHlVl/wf82cE8GpSlPmd393Tp8kcZq3neKpNHMNnq+mol46yO0RhljHl/eB5wDnGfrRrfhdbfTdOstON65k1KOS4ulctMM8GQtjggY56CuzopLESjZR0SKeDjNSc3dtWucZDpFxoHipruOXVNTiXTZDvuWMx371IRSB1OOlZNtpXifTo9P1aa1tpBFcm6ljgWRrphLw4YYwcA4wOmBXpNFVHFSW6T/p/wCZnLAQekW0t1bvp/kFFFFcZ6IUUUUAFFFFABRRRQAVzfixd/2ZbvRJdUseSzWoJnhf+EqAQfxBrpKKunLkkpGdSHtIOPf+upxn2XVZvhvqMN5FdSTyB/s0Uo3zCPI2hsclutXtds71F0bU7K1a6k05t0lsvDMrJtbGe49K6Witfbu97dW/v0MPqseXlbeyX3O9zkBJe+JNfs7waXd2Fpp8crZvI9jyuy7QoXJ475png7wokOm6dfalJftcwqWS1uZCI4GyRlUIGDj1rsqKbxEuXkjov+H/AMyVg4OaqVHzNX/Hl/LlCiiiuY7QooooAzP+El0L/oNaf/4FJ/jR/wAJLoX/AEGtP/8AApP8ah/4RzRP+gNp/wD4Cp/hR/wjmif9AbT/APwFT/Ct/wBx5/gcf+1/3fxJv+El0L/oNaf/AOBSf40f8JLoX/Qa0/8A8Ck/xqH/AIRzRP8AoDaf/wCAqf4Uf8I5on/QG0//AMBU/wAKP3Hn+Af7X/d/Em/4SXQv+g1p/wD4FJ/jR/wkuhf9BrT/APwKT/Gof+Ec0T/oDaf/AOAqf4Uf8I5on/QG0/8A8BU/wo/cef4B/tf938Sb/hJdC/6DWn/+BSf40f8ACS6F/wBBrT//AAKT/Gof+Ec0T/oDaf8A+Aqf4Uf8I5on/QG0/wD8BU/wo/cef4B/tf8Ad/Em/wCEl0L/AKDWn/8AgUn+NH/CS6F/0GtP/wDApP8AGof+Ec0T/oDaf/4Cp/hR/wAI5on/AEBtP/8AAVP8KP3Hn+Af7X/d/Em/4SXQv+g1p/8A4FJ/jR/wkuhf9BrT/wDwKT/Gof8AhHNE/wCgNp//AICp/hR/wjmif9AbT/8AwFT/AAo/cef4B/tf938Sb/hJdC/6DWn/APgUn+NH/CS6F/0GtP8A/ApP8ah/4RzRP+gNp/8A4Cp/hR/wjmif9AbT/wDwFT/Cj9x5/gH+1/3fxJv+El0L/oNaf/4FJ/jR/wAJLoX/AEGtP/8AApP8arTeHdECDGj2A+Zf+XVPUe1P/wCEc0T/AKA2n/8AgKn+FH7jz/AP9r/u/iTf8JLoX/Qa0/8A8Ck/xo/4SXQv+g1p/wD4FJ/jUP8Awjmif9AbT/8AwFT/AAo/4RzRP+gNp/8A4Cp/hR+48/wD/a/7v4k3/CS6F/0GtP8A/ApP8aP+El0L/oNaf/4FJ/jUP/COaJ/0BtP/APAVP8KP+Ec0T/oDaf8A+Aqf4UfuPP8AAP8Aa/7v4k3/AAkuhf8AQa0//wACk/xo/wCEl0L/AKDWn/8AgUn+NQ/8I5on/QG0/wD8BU/wo/4RzRP+gNp//gKn+FH7jz/AP9r/ALv4k3/CS6F/0GtP/wDApP8AGj/hJdC/6DWn/wDgUn+NQ/8ACOaJ/wBAbT//AAFT/Cj/AIRzRP8AoDaf/wCAqf4UfuPP8A/2v+7+JN/wkuhf9BrT/wDwKT/Gj/hJdC/6DWn/APgUn+NQ/wDCOaJ/0BtP/wDAVP8ACj/hHNE/6A2n/wDgKn+FH7jz/AP9r/u/iTf8JLoX/Qa0/wD8Ck/xo/4SXQv+g1p//gUn+NQ/8I5on/QG0/8A8BU/wo/4RzRP+gNp/wD4Cp/hR+48/wAA/wBr/u/iTf8ACS6F/wBBrT//AAKT/Gj/AISXQv8AoNaf/wCBSf41D/wjmif9AbT/APwFT/CmR+HdELy50ew4bj/RU44HtR+48/wD/a/7v4ln/hJdC/6DWn/+BSf40f8ACS6F/wBBrT//AAKT/Gof+Ec0T/oDaf8A+Aqf4Uf8I5on/QG0/wD8BU/wo/cef4B/tf8Ad/Em/wCEl0L/AKDWn/8AgUn+NH/CS6F/0GtP/wDApP8AGof+Ec0T/oDaf/4Cp/hR/wAI5on/AEBtP/8AAVP8KP3Hn+Af7X/d/Em/4SXQv+g1p/8A4FJ/jR/wkuhf9BrT/wDwKT/Gof8AhHNE/wCgNp//AICp/hR/wjmif9AbT/8AwFT/AAo/cef4B/tf938Sb/hJdC/6DWn/APgUn+NH/CS6F/0GtP8A/ApP8ah/4RzRP+gNp/8A4Cp/hR/wjmif9AbT/wDwFT/Cj9x5/gH+1/3fxJv+El0L/oNaf/4FJ/jR/wAJLoX/AEGtP/8AApP8ah/4RzRP+gNp/wD4Cp/hR/wjmif9AbT/APwFT/Cj9x5/gH+1/wB38Sb/AISXQv8AoNaf/wCBSf40f8JLoX/Qa0//AMCk/wAah/4RzRP+gNp//gKn+FH/AAjmif8AQG0//wABU/wo/cef4B/tf938Sb/hJdC/6DWn/wDgUn+NH/CS6F/0GtP/APApP8ah/wCEc0T/AKA2n/8AgKn+FH/COaJ/0BtP/wDAVP8ACj9x5/gH+1/3fxJv+El0L/oNaf8A+BSf40f8JLoX/Qa0/wD8Ck/xqsPDuifaHH9j2GNq8fZU9T7U/wD4RzRP+gNp/wD4Cp/hR+48/wAA/wBr/u/iTf8ACS6F/wBBrT//AAKT/Gj/AISXQv8AoNaf/wCBSf41D/wjmif9AbT/APwFT/Cj/hHNE/6A2n/+Aqf4UfuPP8A/2v8Au/iTf8JLoX/Qa0//AMCk/wAaP+El0L/oNaf/AOBSf41D/wAI5on/AEBtP/8AAVP8KP8AhHNE/wCgNp//AICp/hR+48/wD/a/7v4k3/CS6F/0GtP/APApP8aP+El0L/oNaf8A+BSf41D/AMI5on/QG0//AMBU/wAKP+Ec0T/oDaf/AOAqf4UfuPP8A/2v+7+JN/wkuhf9BrT/APwKT/Gj/hJdC/6DWn/+BSf41D/wjmif9AbT/wDwFT/Cj/hHNE/6A2n/APgKn+FH7jz/AAD/AGv+7+JN/wAJLoX/AEGtP/8AApP8aP8AhJdC/wCg1p//AIFJ/jUP/COaJ/0BtP8A/AVP8KP+Ec0T/oDaf/4Cp/hR+48/wD/a/wC7+JN/wkuhf9BrT/8AwKT/ABo/4SXQv+g1p/8A4FJ/jVaPw7oheXOj2HDcf6KnHA9qf/wjmif9AbT/APwFT/Cj9x5/gH+1/wB38Sb/AISXQv8AoNaf/wCBSf40f8JLoX/Qa0//AMCk/wAah/4RzRP+gNp//gKn+FH/AAjmif8AQG0//wABU/wo/cef4B/tf938Sb/hJdC/6DWn/wDgUn+NH/CS6F/0GtP/APApP8ah/wCEc0T/AKA2n/8AgKn+FH/COaJ/0BtP/wDAVP8ACj9x5/gH+1/3fxJv+El0L/oNaf8A+BSf40f8JLoX/Qa0/wD8Ck/xqH/hHNE/6A2n/wDgKn+FH/COaJ/0BtP/APAVP8KP3Hn+Af7X/d/Em/4SXQv+g1p//gUn+NH/AAkuhf8AQa0//wACk/xqH/hHNE/6A2n/APgKn+FH/COaJ/0BtP8A/AVP8KP3Hn+Af7X/AHfxJv8AhJdC/wCg1p//AIFJ/jR/wkuhf9BrT/8AwKT/ABqH/hHNE/6A2n/+Aqf4Uf8ACOaJ/wBAbT//AAFT/Cj9x5/gH+1/3fxJv+El0L/oNaf/AOBSf40f8JLoX/Qa0/8A8Ck/xqH/AIRzRP8AoDaf/wCAqf4Uf8I5on/QG0//AMBU/wAKP3Hn+Af7X/d/Em/4SXQv+g1p/wD4FJ/jR/wkuhf9BrT/APwKT/Gof+Ec0T/oDaf/AOAqf4Uf8I5on/QG0/8A8BU/wo/cef4B/tf938Sb/hJdC/6DWn/+BSf40f8ACS6F/wBBrT//AAKT/Gof+Ec0T/oDaf8A+Aqf4Uf8I5on/QG0/wD8BU/wo/cef4B/tf8Ad/Em/wCEl0L/AKDWn/8AgUn+NH/CS6F/0GtP/wDApP8AGof+Ec0T/oDaf/4Cp/hR/wAI5on/AEBtP/8AAVP8KP3Hn+Af7X/d/Em/4SXQv+g1p/8A4FJ/jR/wkuhf9BrT/wDwKT/Gq0fh3RC8udHsOG4/0VOOB7U//hHNE/6A2n/+Aqf4UfuPP8A/2v8Au/iTf8JLoX/Qa0//AMCk/wAaP+El0L/oNaf/AOBSf41D/wAI5on/AEBtP/8AAVP8KP8AhHNE/wCgNp//AICp/hR+48/wD/a/7v4k3/CS6F/0GtP/APApP8aP+El0L/oNaf8A+BSf41D/AMI5on/QG0//AMBU/wAKP+Ec0T/oDaf/AOAqf4UfuPP8A/2v+7+JN/wkuhf9BrT/APwKT/Gj/hJdC/6DWn/+BSf41D/wjmif9AbT/wDwFT/Cj/hHNE/6A2n/APgKn+FH7jz/AAD/AGv+7+JN/wAJLoX/AEGtP/8AApP8aP8AhJdC/wCg1p//AIFJ/jUP/COaJ/0BtP8A/AVP8KP+Ec0T/oDaf/4Cp/hR+48/wD/a/wC7+JN/wkuhf9BrT/8AwKT/ABo/4SXQv+g1p/8A4FJ/jUP/AAjmif8AQG0//wABU/wo/wCEc0T/AKA2n/8AgKn+FH7jz/AP9r/u/iTf8JLoX/Qa0/8A8Ck/xo/4SXQv+g1p/wD4FJ/jUP8Awjmif9AbT/8AwFT/AAo/4RzRP+gNp/8A4Cp/hR+48/wD/a/7v4k3/CS6F/0GtP8A/ApP8aP+El0L/oNaf/4FJ/jUP/COaJ/0BtP/APAVP8KYfDuifaEH9j2GNrcfZU9R7UfuPP8AAP8Aa/7v4ln/AISXQv8AoNaf/wCBSf40f8JLoX/Qa0//AMCk/wAah/4RzRP+gNp//gKn+FH/AAjmif8AQG0//wABU/wo/cef4B/tf938Sb/hJdC/6DWn/wDgUn+NH/CS6F/0GtP/APApP8ah/wCEc0T/AKA2n/8AgKn+FH/COaJ/0BtP/wDAVP8ACj9x5/gH+1/3fxJv+El0L/oNaf8A+BSf40f8JLoX/Qa0/wD8Ck/xqH/hHNE/6A2n/wDgKn+FH/COaJ/0BtP/APAVP8KP3Hn+Af7X/d/Em/4SXQv+g1p//gUn+NH/AAkuhf8AQa0//wACk/xqH/hHNE/6A2n/APgKn+FH/COaJ/0BtP8A/AVP8KP3Hn+Af7X/AHfxJv8AhJdC/wCg1p//AIFJ/jR/wkuhf9BrT/8AwKT/ABqH/hHNE/6A2n/+Aqf4Uf8ACOaJ/wBAbT//AAFT/Cj9x5/gH+1/3fxJv+El0L/oNaf/AOBSf40f8JLoX/Qa0/8A8Ck/xqH/AIRzRP8AoDaf/wCAqf4Uf8I5on/QG0//AMBU/wAKP3Hn+Af7X/d/Em/4SXQv+g1p/wD4FJ/jR/wkuhf9BrT/APwKT/Gof+Ec0T/oDaf/AOAqf4Uf8I5on/QG0/8A8BU/wo/cef4B/tf938Sb/hJdC/6DWn/+BSf40f8ACS6F/wBBrT//AAKT/Gq0nh3RA8WNHsOW5/0VOeD7U/8A4RzRP+gNp/8A4Cp/hR+48/wD/a/7v4k3/CS6F/0GtP8A/ApP8aP+El0L/oNaf/4FJ/jUP/COaJ/0BtP/APAVP8KP+Ec0T/oDaf8A+Aqf4UfuPP8AAP8Aa/7v4k3/AAkuhf8AQa0//wACk/xo/wCEl0L/AKDWn/8AgUn+NQ/8I5on/QG0/wD8BU/wo/4RzRP+gNp//gKn+FH7jz/AP9r/ALv4k3/CS6F/0GtP/wDApP8AGj/hJdC/6DWn/wDgUn+NQ/8ACOaJ/wBAbT//AAFT/Cj/AIRzRP8AoDaf/wCAqf4UfuPP8A/2v+7+JN/wkuhf9BrT/wDwKT/Gj/hJdC/6DWn/APgUn+NQ/wDCOaJ/0BtP/wDAVP8ACj/hHNE/6A2n/wDgKn+FH7jz/AP9r/u/iaVFFcV478SW+m3ENkNbtdMuoYHv1We7WDzyhxHEckZVm3ZA/u1zt2O2zex2tFc5N4ouLm402Hw9YQ6h/aNk17FNLd+TEqAp94hWPIfjCnkYOAchg8V3dymnx6dpAlu7w3CPHNciNIJIG2uGbaSV3ZAIUnpxycN6bkpp7f11OmorkZvEUr3ek3F4j2HkT3Ud9AkpdMxwuTg4G9eAwJA7cA8UeGPHtr4j1RbNW0zdNAbiBbPU0upFUEZWZFUeW3zDgFxkMN3AyLXYLnXUUUUDCiiigAooooAKKKKAI5v9WP8AfX/0IVJUc3+rH++v/oQqSgAormPGPjD/AIRKJJ5U00w+W0jLd6kttLLt6rChU+Y2OxKjJUZ54dd+JtSF3qKaZoqXUGnBHmlkvPLMitGHIjXYcuAejFQePm64V0lcdnex0tFc3N4m1Ga+uYNE0eO8S2t4blpZ7zyQ6SBjtUBGO/5ehwDn7wrNvPGFvp2p3mrTTuNPbSrKWGKaXy0DzTSqpbPCZyu5uwHfFMStJXX9apfqdtRWB4W8VQeJFu0STT5J7RlEh06+F3CQwypEgVeeCCCARj0INb9Gwk09gooooGFFFFABRRRQAVHH/rJf9/8A9lFSVHH/AKyX/f8A/ZRQBITik3ihvumuQ8RzQDxPbQX0+qpAbKR1TTmuMl96gEiH2J+9xR1sHS51+8UbxXnF3fPA1sPEt3q0E40uNlFm8wIlLsAXEXy7j8o+bjPFXZ/7Tu7W/l1C+ura90zS4ZVW2mKIJyjMzMo4flQMHIx25p2srv8Arf8AyFu7f10/zO63ijeK88v7yW5v9UME2rnU1SFrGO1M5hVzEpAYL+6ALHnf2pdW1W/sNU1lZLuYRXEkUMO2QgQyrHE5C+m4O5/4DT5XsK+lz0INmlpidafUlBRRRQAUUUUAFFFFAEY/4+X/ANxf5mpKjH/Hy/8AuL/M1IehoATeKN4rmPF9zeWv9mTWEsqtDcNNJFGx/fIkbMyEd8gHHvisM6xdj7FqUF7NJbQ3d9NKvmErJAswXkdwqMSB2wKaVxXPQ94oDA150l8lxJpY1O81Z4ZILtv9BkuCzMJwFJ8nkgAkDPFdj4eN6dBszqm/7Vs+fzBh8Z43Y/ixjPvmi2lwvdmrRRRSGFFFFABRRRQBHH/rJf8Af/8AZRUhOKjj/wBZL/v/APsop7fdNABvFG8Vzmr6nq0WqT2ul/Y1WCyF0WuI2YsdzDbwwxnb15x6Gqep+J72EWcsDWtjbXFotx597BI8bM3/ACzLoQI8DGWbPXgHBppX/r1/yYPT+vT/ADR1+8UbxXN32v3Vtb65JGkBOn2SXEXVgzFGJycjI+UdMVSu9V1WxvtbvIJIZLSyeKSSGYMxKeWpYIQQEPU9Dk+nWizvYV9LnY7xQGzXPapLfwa9pbNLayWU915SR+S6yofKds7xJtPK9Cvf8a3060dBj6KKKQBRRRQAUUUUAFFFFABRRRQAUUUUARx/6yX/AH//AGUVITio4/8AWS/7/wD7KKe33TQAbxRvFc14v1CfRLODV7aU5gYxtbs52TBxjJA7qQGz2UN61HqOqXPhXSbGWV/7Qt2XypJGf948zcowJONpbIx2yOwNO10B1O8UbxXMavrmp6HDZfaoraeS8QW6CMFALs/dHJ/1Z59xjvnh2ua5qGiSWkbRW9w16ot4CAUH2o9N2W+4Rk+o29TkUWFc6XeKA2a5nV9b1HS9RtrBY7aWbUEEdnJtIVZR/rN43Z27TuGOeCM5INdIme/XFFtLgPooopDCiiigAooooAKjP/Hyn+438xUlRn/j5T/cb+YoAkpN4pax/EVmt1oty7TXMLwRPIjW1zJCdwU4yUIz9DxSbsrjSu7GvvFG8VykUlzpOjaPHp0rSz6lKiSSX88s+0mFmLDc2eqjgEDr0zmrdvqmqR3mn2mpwQJLPcTRSPGCFdUQsroCTtzgcHPercbNojm0T7nQbxQGBrjLjxbehLaKJY4ppprsGQWU1yFSGXYP3cZ3ZORzkAc+oFdHot7NqOkW11dW7W00i/PE6spUg46MAQDjIyM4NKztcrrY0aKKKQBRRRQAUUUUAFFFFAEcn+si/wB//wBlNSVHJ/rIv9//ANlNSUAIWAo3isLxfLLD4ZungaZX3xgfZ5CkhBkUEKwIwSDjqOtU4ZzpGiXl0ltfWLgoq/2xeNcgknA2hZJD3+6MFjge9AHU7xRvFcS2pza54e1pLqWeOfTkMkc9qtxYlj5ZZSUYhhg9iSDwa19T1K8sPDlrcWieZI/lrJK8TzCJSOXKJ8zfh607fp+Iv+D+Bv7xRvFcfP4puotJsnjns7ie7uHiFza2006KqqWJMK/Pu4wVzx1zW3oOoXGp6StxeQNBNvdCDE8W8BiA4VwGAIwcHpnvRZhc1qKKKQwqpbabFbaleXweSSa8Kbi+MIqjCquAOOWPOeWNW6KAORk8JXEWvWh03UL6ytoba6AuYXiLRtJNG4jCujKVwGAypwAOaluvCsiXujw6Xc3dnDZx3G+8heMyiRypLMHVlYsd5OVIyc8HFdTRStokHVsxYPC1jDFaJJJPcG3eWR3mYM1w8qlXaTjnO48DAHAAAAFS6Ros2ktt/trUb22VPLit7vymWIDphljDsQOMszE98nmtWimKwUUUUDCiiigAooooAKKKKAI5v9WP99f/AEIVJUc3+rH++v8A6EKkoAwNb8JQ61cXch1K/slvbX7JdR2pixNGN2AS6My43t90jrzVNvCk95q2rGbUNQsrK6aJDHbSxgXUYiVSGJUsnRhlCjc9eBjq6KAOVl8L3F14h1KRL690yymt7eFRZyRgTKocMmGVimNw+Zdrc8HjjQn8K6fM0xQzW++1htYxCwXyBEzNGyccMC3fI4HHXO1RQC0VilpljcWELpdard6mzNkSXSQqyjHQeVGgx9QT71doooAKKKKACiiigAooooAKjj/1kv8Av/8AsoqSo4/9ZL/v/wDsooAe33TVI2ER1ZdQ3P5qwGALkbdpYNn65FXqKAMq80S0v5rmS53uLq1+yyJkY2ZJyOM5+Y8/Sql34XgvD+8v75PMgW3uQkij7Ui5wH+XryeV2nk10FFGwFC10+GzurqeEtuuWUspIwu1Qox+AqjqPhix1OG5juHmH2i6juiyMAUdFVRt46EJg9eprdop31uHSw1OtOoopAFFFFABRRRQAUUUUARj/j5f/cX+ZqQ9DUY/4+X/ANxf5mpKAKVxZRXNzbTyFt1s7OgGMElSpz+DGs7TvCun6ZbQ28BmeGFZlVJGBG2VgWU8dBjA9vWt6igDE0nw3aaMtmLaWd/scEkEZlYElXcOSeOTkCtcdRUlFNtvcSSWwUUUUhhRRRQAUUUUARx/6yX/AH//AGUU9vummR/6yX/f/wDZRUlAGdLpcM19NdM0gea2+zMARgLknI46/MapXPhtJ7OG1i1LULaGO3Fs6QyriVAMchlIBx/Eu0+/St6ij+v6+8Ot/wCv60MC98LWd45xPdW8MkKQTwQuAlxGudqtkE9CRlSCQetF54Xtry8uJnvLxI7p0a4t43URyhAAFI25A45wRnvxxW/RTuxWRiXVlqF/rdo8620VjZTGeNkkZpZW2MoBXaAoG8nq2cDpWynWnUUhhRRRQAUUUUAFFFFABRRRQAUUUUAFFFFAEcf+sl/3/wD2UU9vummR/wCsl/3/AP2UVJQBn3OmwXd9b3NwWf7OrhIjjZlhgsRjrjI+jH1qivhexNvbW9y811b2sLwxQzsGUK3GenJC/KD2BPc5reooAwpfDNncxJHfTXF2I7U2qec4JUHq4IA+c4Hze3HfLrrw5aX+TfzXFy32X7MrOwynOS64Aw5IU5/2RjFbdFO7Cxh3Xhu1vmkku57iWZoUiSYsoaHYdwZMDAYsAxOOSB2GK2YwR1JOB1Pen0UXFYKKKKQwooooAKKKKACoz/x8p/uN/MVJUZ/4+U/3G/mKAJKrXNut1azW8hYJKjIxXqARjirNFD10DYzX0mB49OQvJjT3V4uR8xCMnzcejHpjmjU9KTU1hP2ie1nt33wz25UOhIIP3gQQQSMEGtKindsLGAfDFsltaJaXd3aTWu/ZdROpkbecvu3KVO48njr0xWtaW4tbeKBXkkEahd8rl2b3JPJNWaKLgFFFFIAooooAKKKKACiiigCOT/WRf7//ALKakqOT/WRf7/8A7KakoApajYR6laNbTs6ozqxKEA5Vgw6+4pup6dFqlibaZ5IxuV0kibDIysGVhnIyCB1BFX6KAMe10G3t47xZp7i7a+QJcPOwJfClf4QAOD2AFMi0GSLTvsn9s6k2xlMU2+MPFgYAGEAYezhs1t0UAYH/AAi9uLRI0vbxblLhrkXodfN8wjaT93bgrxjbjHatOytPsVokAnnuCuSZZ33uxJyST/QYA6AAVcop3FYKKKKQyXYvpRsX0p1FADdi+lGxfSnUUAN2L6UbF9KdRQA3YvpRsX0p1FADdi+lGxfSnUUAN2L6UbF9KdRQA3YvpRsX0p1FAEM6L5Y4/jT/ANCFSbF9KZcf6sf76f8AoQqWgBuxfSjYvpTqKAG7F9KNi+lOooAbsX0o2L6U6igBuxfSjYvpTqKAG7F9KNi+lOooAbsX0o2L6U6igBuxfSo4kXzJuP4x/wCgipqii/1k/wDvj/0EUAP2L6UbF9KcTgZNM81PX9KAF2L6UbF9KTzU9f0o81PX9KAF2L6UbF9KFdWOAadQA3YvpRsX0p1FADdi+lGxfSnUUAN2L6UbF9KdRQA3YvpRsX0p1FAEKov2qTj+Bf5tUmxfSmL/AMfcn+4v82qWgBuxfSjYvpSeanr+lHmp6/pQAuxfSjYvpSeanr+lKJFJwDzQAbF9KNi+lOooAbsX0o2L6U6igBuxfSjYvpTqKAIYkXzJuP4x/wCgipNi+lMi/wBZP/vj/wBBFSk4GTQA3YvpRsX0pPNT1/SjzU9f0oAXYvpRsX0pPNT1/SnK6t905oATYvpRsX0p1FADdi+lGxfSnUUAN2L6UbF9KdRQA3YvpRsX0p1FADdi+lGxfSnUUAN2L6UbF9KdRQA3YvpRsX0p1FAEMSL5k3H8Y/8AQRUmxfSmRf6yf/fH/oIqUnAyaAG7F9KNi+lJ5qev6Ueanr+lAC7F9KNi+lCurHANOoAbsX0o2L6U6igBuxfSjYvpTqKAG7F9KNi+lOooAbsX0o2L6U6igBuxfSo2RftUfH8DfzWpqib/AI+4/wDcb+a0AP2L6UbF9KdTTKg70AGxfSjYvpSeanr+lHmp6/pQAuxfSjYvpSeanr+lKJFJwDzQAbF9KNi+lOooAbsX0o2L6U6igBuxfSjYvpTqKAG7F9KNi+lOooAhlRfMh4/jP/oJqTYvpTJf9ZB/vn/0E1LQA3YvpRsX0oMig4J5pPNT1/SgBdi+lGxfSk81PX9KPNT1/SgBdi+lGxfSgSoe9OoAbsX0o2L6U6igArB1DxHbaTe6gJzdztbpbYt0WPazSuyIqE4+ZmGDvYKOORzW9WFqPh6e6utTuLW7tle/ghgMd3Z+fFtQvuDpuXcGEhGMjGO/SgOpqafdS3tkk89lcWEjEhre5KF0wcclGZeevBPWrNZnh7R/7C0aOx81ZdrM37uMxxpk52RoSdiDOAuTgcVp02AUUUUgCiiigAooooAKKKKACiiigCK4/wBWP99P/QhUtRXH+rH++n/oQqWgDm9R1+8sPFkllBY3upJ9gSZLa0SPIbzGDMXdlUcBeC2T2Bwall8XW7W9tJpWn3+qyXEH2nybREV44+m5vNdADnI253ZB44OHanouqS622p6NqtvZytbLbMlzZGdCAzNu4kQ5+bjnHXIPGMjUvhzaXQsXhXTLqe1tvs7vrWlreiUbi27G5Crbix4OPmPHAxMb2Xz/ADdv0/rZu138v0/4J11ndwX9jBeWjiSC4jWWNwPvKwyD+RqaoLG1SysILWKOGJIY1QJbxeXGuBjCrztHoM8VPVu19CVe2oUUUUhhRRRQAUUUUAFFFFABUUX+sn/3x/6CKlqKL/WT/wC+P/QRQA6X/VmuW8W6nfWFtAulSbJ/3lxINobdFEhZl59TtXPvXUy/6s1gaj4csdY1RbrVoILyGOAxRQTQhwjFss4J7kBR04x70ARTanOdWukgm/cLpi3MY2j7xZ/mz9AOOlZU+tatBBparOskmtWkUdu7Ko8i4wCz4xyCpLY9Ux/FVz/hFryG0to7LVlikjshYzSSW2/zIx0IG4bWGTzyPapbnwpFcxsjXLDybVLeyOzJtSpB3jnltyoe33QPWqVl/Xr/AMAnV/16f8E6G3BVkDMWIGCx6njrxVqqtsHGwSMGcD5mAwCcdcdqtVJQUUUUAFFFFABRRRQAUUUUARL/AMfcn+4v82qR/uN9KjX/AI+5P9xf5tUj/cb6UAYWqXc9nqOlsj4tprgwTrgc7kJQ56j5lA/4FXN3Wt3z/YZJdSvbS3vJrplNlZrO/lowEY2+W5xjnOO/Wuo1rTW1bS5LWOf7NLuSSKbZu8t1YMpxkZ5HTNUZvD9zEmlf2RfQ2z6dA0Cme2MqupVR0Drg/L6mmgM977ULrwdaal/as8N0ybESzSEi5kZtqA7kcAnjIHAyfSun0+OeKzto7ybz7hEUSy7Qu9sctgcDJrBPhm9gTThYapCrWRlkb7TaGVZJZCSZMK67SNzgDnAauhtVmWOJbmRJJgBvdEKKx7kKScD2yabsSrl6iiipKCiiigAooooAii/1k/8Avj/0EU6X/Vmmxf6yf/fH/oIp0v8AqzQBzPiLxL/YDJujstrIXLXd+lvux/CgIJZvyHTmpV8QpI05hgLRx6dHfqxbBYPvwuMcfc689abqOgz3eqSXlrfLb/aLYW06vbiQlAWIKHI2n5jnIYHjjiq8/he48iKOx1NbcmwSwuGa33+ZGoOCvzDa3zNydw56HFP7Pn/w/wDwA6/15f8ABHXXih7ZreM6ezS30Eb2SrJxM7feQnb8u3IJPPy5PYiulgzu564rnL3wuLyZJReNG9rEiaeQmfsrLyX6/MTgA9PlBHc10Vvnd83JxyQKbt0JV+pYoooqSgooooAKKKKACiiigAooooAKKKKACiiigCKL/WT/AO+P/QRTpf8AVmmxf6yf/fH/AKCKdL/qzQBh61raaGsNxdxE2TErLOpyYmx8vy45DHjPqQO/Fa88RyaXY2d3qunvbxXEZ3hH8xopcZSMgDktyM/3sDnINWdY0SPXDDDeybrFNxktgv8ArWxhSWz0Xk4x1we1Vbrw02p2dpa6xftdQ28TKwCbGkkxhZCQeqjOP9o57ABq1tf6/r/LzDqbenyTSwQSXUIgmdAzxB9+w45GcDOPXFXqoadFNDbwRXU4uJkQK8wTbvIHXGTjNX6HuJbBRRRSGFFFFABRRRQAUUUUAFRN/wAfcf8AuN/NalqJv+PuP/cb+a0AS1g6/HdHSZ5rLUJ7GSCN5A0KRtvwpODvVuPpg1vVm3lv9rsZ7bds86No92M4yMZxSlezsONr6mHDqF9pmkaY0ksur3WpSKi+e0cQjLRM/VEA25X0J574xVm016aWezt7vT2tp555YJFMm4IUUtlTgblIAweOtTvo++HSY/Px/ZsiyZ2f6zEbJjrx97PfpS6tpk181rPZXS2t1aSF4neLzEOVKkMuRkYPYjmtJNXZCTsjIvPGsVtBBmO0hmnmuI1+23ogjCwyFCd5U8nghQO59M1u6JqcWs6Xa6hbjak4yBuDYIOCMjg8g8jrWSvhie2hs5LDUFjvbfzt801v5iS+a298oGGPmAIweMY5resopIIIYpp2uJFADSsoUufXAAApaWHrcv0UUVIwooooAKKKKACiiigCKX/WQf75/wDQTUtRS/6yD/fP/oJqWgDO1C3luoXit7yazctkTQqhYc9MOrD9K5vS9RvrDwk+s6he3OqOw/1LrFGF+fb8pRB+uenaurf77fWsX+wP+KX/ALH+0/8Abby/9vd0z+HWgRF/wkF3BMYNQ0vyJvtMMSlJ98bLKSAwbaORg5XHpzzUeo+LYtOjvDLFCjQXq2cbT3AijZmiWTczkfIME+vT3xWpq+nHU7JYo5vs80cqTRS7dwV0YEZXjI45GR9RWYfDM7WrO+oKdSa8F79pFv8AuxIE2AeXu+7s4xuz3zTVuv8AW3/BD+vz/wCAXPD+uRa9YSTxeVuhlaGTyJhNGWAByrjG4YI5wPpXQVlafb3Nva7L26F1MWLM6xCNRnsqjOAPck+9atDt0BXCiiikMKKj8w+1HmH2oAkoqPzD7UeYfagCSio/MPtR5h9qAJKKj8w+1HmH2oAkoqPzD7UeYfagCSio/MPtR5h9qAJKKj8w+1HmH2oAS4/1Y/30/wDQhUtV53JjHT76/wDoQqTzD7UASUVH5h9qPMPtQBJRUfmH2o8w+1AElFR+YfajzD7UASUVH5h9qPMPtQBJRUfmH2o8w+1AElFR+YfajzD7UASVFF/rJ/8AfH/oIpfMPtUcTnzJun3/AP2UUAWKTYv90flTPMPtR5h9qAH7F/uj8qNi/wB0flTPMPtR5h9qAHhQOgA/ClqPzD7UeYfagCSio/MPtR5h9qAJKKj8w+1HmH2oAkoqPzD7UeYfagCSio/MPtR5h9qAEX/j7k/3F/m1S1XVz9qfp9xf5tUnmH2oAfsX+6Pyo2L/AHR+VM8w+1HmH2oAfsX+6PyoCgdAB+FM8w+1HmH2oAkoqPzD7UeYfagCSio/MPtR5h9qAJKKj8w+1HmH2oASL/WT/wC+P/QRUtV4nPmTdPv/APsoqTzD7UAP2L/dH5UbF/uj8qZ5h9qPMPtQA/Yv90flQAB0AFM8w+1HmH2oAkoqPzD7UeYfagCSio/MPtR5h9qAJKKj8w+1HmH2oAkoqPzD7UeYfagCSio/MPtR5h9qAJKKj8w+1HmH2oAkoqPzD7UeYfagBIv9ZP8A74/9BFS1Xic+ZN0+/wD+yipPMPtQA/Yv90flRsX+6PypnmH2o8w+1ADwoHQAfhS1H5h9qPMPtQBJRUfmH2o8w+1AElFR+YfajzD7UASUVH5h9qPMPtQBJRUfmH2o8w+1AElRN/x9x/7jfzWl8w+1Rs5+1J0+4381oAsUm1T1UflTPMPtR5h9qAH7F/uj8qNi/wB0flTPMPtR5h9qAH7F/uj8qAoHQAfhTPMPtR5h9qAJKKj8w+1HmH2oAkoqPzD7UeYfagCSio/MPtR5h9qAJKKj8w+1HmH2oASX/WQf75/9BNS1Xlc+ZD0+/wD+ympPMPtQA8qD1AP4UbF/uj8qZ5h9qPMPtQA/Yv8AdH5UbF/uj8qZ5h9qPMPtQA/ao6KPypaj8w+1HmH2oAkoqPzD7UeYfagBlFFYsmvpaaxqsWoSRQWVhawT+aQc5cyAg+v3BgAZye/FAG1RWRbeKdIubW8uPtL2yWSCS5F7byWzxIQcMUlVW2nBwcYOCOxqlfeMLVvD+q3mleZ9rsbYz+RfWk1u2MHa2yRVYqSCMjjgjNAdLnSUVkT6/Z+Y8MF4iPBcwwTM1u8ib3YARhhgbzkDqduQWGDUcfjDRJdSWxjupDK1w9ru+zS+UJlJBjMm3YG+U4UnJ4xnIyLXYX9f19xt0VizeL9Egvjay3Ugbz1thJ9mlMLSswQRiULsLbjgqGyMHOMHG1R0uPYKKKKACiiigAooooAjm/1Y/wB9f/QhUlRzf6sf76/+hCpKACisi51xLHW7uC+khgsbWwW6eaQ425dwcnOMYUUWvinSLuC6l+0SWy2kfnTi+tpbVkj5+fbKqnbwfmxjg+lJO6uHWxr0Vzl34wtJPD+rXmleb9qsLKS6WG9s5rcsApKnbIqsy5GMj861bHV7W/uZbWCXzLi3RDcBEbbGzDIUtjbuxg7c5AIJGCM1YOl/6/rUvUUUUgCiiigAooooAKKKKACo4/8AWS/7/wD7KKkqOP8A1kv+/wD+yigCSjI9aRvumsi51VrPXPs1xsW1aze4V8HduRhvBOcYwyn86ANjI9aMj1riJfFN8ktlHeano2jtPYJdOb6MnLMT8q5lXoAPWrWoazrNvcXxtp9NMOnWMV1L5kD/AL8neTtYSYQfJxkN1707W3Fe7sjrcj1ozXEXni68i1SeOC405fLMHladKjfargOqk7SH6jcf4COOa7ROtDTQJpj6KKKQwooooAKKKKACiiigCMf8fL/7i/zNSVGP+Pl/9xf5mpD0NABketGR61l6hfy2WpabGFQ293M0MjEHKtsLLjn/AGSPxFc/d+KrtDat9u0vTYLme5VLi+QlSkTBV/5aLy3J69McUAdpketGRXKW+t6xqcWnw2Mdpa3U9s9zK9xG7phWCjaoKn5s5yTwOxrorN55LWF7uIQzsoMkatuCt3APcU7Cvcs0UUUhhRRRQAUUUUARx/6yX/f/APZRUlRx/wCsl/3/AP2UU9vumgBcj1oyPWuc1XUdWTWJbXTZrGGK3sxcubqF33HcwxuDrtHy9cGqreIdU1CNZNIhtYRHp0V/Kl2rMW8zcRGMEbfuH5jnqOKOl/66/wCQdbf10/zR1uR60ZHrXIXXiTUZILq90yO1W0sbOO6mjnVi8wZC5VSCAuFHUhsk9BVm/vNeXWrO3sbvTkt70O0fm2UjNGFUHkiUA5z6CnZrcV01dHTZopkeeN2Ccc4p9IYUUUUAFFFFABRRRQAUUUUAFFFFABRRRQBHH/rJf9//ANlFSVHH/rJf9/8A9lFPb7poAXI9aMj1rM1HV7XSpIBfFooptw8848tCq7sMc8EgHHHb6ZrSeJrO3trS4vo57OG6haVHnUKF2jdtbk4Yrkgex78UAbmR60ZHrWFceJrSyhikv4Lm1E1sbhBKgy2MZj4J/ecj5e+eOhw6+8R2um4F/DPAzW/norKCZDkAxrg8vkrx3zwTzh2Yrm3miooWLqjMjIWGSrYyvsccVLSGFFFFABRRRQAUUUUAFRn/AI+U/wBxv5ipKjP/AB8p/uN/MUASUZHrRWVrkmoQaZLcaXNbRPCjSMLmBpAwAJwNrrg+/P0pN2V2NK7sauR60ZHrXOQazd2Wk2Vxq4W8nv3VYI7C3KYJjLhSHkP9085A6ZwMmrNn4itbxrVBDcRS3E0kBilUBonQEsGwSOg6jIORVuLTsTdWT7m1ketGRWC3iaAxx/ZbO7u5pZZo0t4VTeRE+x2+ZgoXOOpzyOK0tPvodSsobu2LGKUZG5cEc4II7EHIpWH5FyiiikAUUUUAFFFFABRRRQBHJ/rIv9//ANlNSVHJ/rIv9/8A9lNSUAGRRketZHiTUpdJ0K4vbdoUkjKAPOCUXLhSWwRwAc9RVTTNaaWwubptSsdbERUKujwksCexHmPyePQDknigDosj1oyPWuavNcvJ9Gv59NjFjeaeC89vqEHmHAQsANkgHPHIY9+Kv3WsLY6XbXU0Mk0twUSOGAAs7sM4G4gDv1I6Uf194GtketGR61iP4gWOzhkbTr8XM0phjsjGolZgCT1bZjAJ3bse9XNN1GLU7MXECyR/MyPHKuGjdSQykeoI7ZFOwF+iiikAVzOr+GrvUNQ1G6gmhjaVbN7beCR5lvK0mHH90kqOOep7CumooA5S58P6vrS31zqf2Gwu5IYoraO2le4RTHJ5oZ2KxlgWwNoUYAPJ3cR6l4f1rxBZ6i+px2FlczadJY28VtdSSr85BLtIUQjlQAAvHJyc4HX0UaL+vv8AzB6qz/rb/I5OLwzqdvp0ekxy2slha30FzazO5ExRZRI6SALhmGDh85bPzc5Zpl8N3g0f7J5kHmf20dQzuOPL+1edjp97bxjpnv3rpqKabX33/L/JCaTTX9df82eY3F1N58Hhax1DR74xa1HPi1uzJdhRdCZ1khC4j2/MC5Y/dAwC3Hp1FFJaRt/XT/IfUKKKKACiiigAooooAjm/1Y/31/8AQhUlRzf6sf76/wDoQqSgDndc8OXOq315NDPFD5tpDHCzAttljmMgLKMZXO0EZ55qrdaBrGvfabjVhY6fc/Zfs9slrK9ygO9ZN7lljyNyKNoHTd83PHWUUkrK3r+N/wDMHrv/AFa3+RyV9oWta9a38mqRafZ3Uml3Fhbx21zJMhMoGXdjGhAyq8BTjk5OcVoeG9HvdAWTTi0E2mr+8t5S589WY5ZXG3D8knzCdxz8wJyx3aKoN1b+v60CiiikAUUUUAFFFFABRRRQAVHH/rJf9/8A9lFSVHH/AKyX/f8A/ZRQA9vumsDxPolzrNtbpZSRxOrskpkJGYXUq4GAecEEe4roKTaPSgDn72x1SHX/ALfpdtY3ETWqwFLm4aIqQzHIxG2Rz7VQ1bwi2sXlzqFzBZC98i3+yOw8zyZY2ZiMlfuEkA8cjPArr9o9KNo9KabQrXOR1PQNWvp9ThWLTxa6kYi8zzOZINqqCVTZgkYyDuHY11idfwp20elKAB0ovoAUUUUhhRRRQAUUUUAFFFFAEY/4+X/3F/makPQ1GP8Aj5f/AHF/makoAydesLjUNKMdg0aXcciTQNKSFDowbkgE4OCPxrNk0TULKPRv7MjtLltPt3hkW5maMOWVRuBCNnlT2710+0elG0elHkBxo8K3ttY2qQxabfMIJYbi2ugywkPJ5g24VuFPABHI7iuh0PTv7I0Sy0/eH+zxLGWC4BIHOB2FaO0elG0CncVhaKKKQwooooAKKKKAI4/9ZL/v/wDsop7fdNMj/wBZL/v/APsoqSgDlvEHhGHX7+4nuo7dybNYrZ5E3NDKHLBsEdORn15FOvdL1lriS5svsIlvLFLW5WR3CxMu750wvzD524O3oORXTbR6UbR6UdLB1v8A10/yOSuvDeoxw3Vlpklq1pfWkdrNJOzCSEKhQsoAIbKnoSuCOprZuNOkk1XTLiJlEVmJAwYnJ3KAMflWptHpRtHpTbb3EkkrDU60+gADpRSGFFFFABRRRQAUUUUAFFFFABRRRQAUUUUARx/6yX/f/wDZRT2+6aZH/rJf9/8A9lFSUAYXiHRZPEEMVhLIIrBiXnKk+YzD7gHGAA3zE5/hA6E1V1LQtR13T7Oz1S4hiWJDJNJbk5edf9WwBHCg/MR6gDkZz020elG0elAHMapoWp65HZi9nt7d7OMTxmAlgbsfdYggfIOeO+4+gy7WND1HW3tpJpoLZrONZ7cRsWAux3bIGUA4x33HgYFdLtHpRtHpTuxWIoDIY0MwVZNo3hDkA45wcDI/CpqAAOlFIYUUUUAFFFFABRRRQAVGf+PlP9xv5ipKjP8Ax8p/uN/MUASVTv4GutNubeMgPLC6KW6AkEc1cpNo9KTV1YadncxJNJne30NA8edPlR5eT8wETp8vHqw644p2r6fdTT2V5pa25uLSVn8qdiiSBkKnLAEg8g5welbO0elG0elU227k2VrHF3Hg+aS3sJJrXTdSnga4aa3vAfJJmfeSp2sQVPAyvIz0rp9LtPsGm29t5VvEY1AKWsflxqe+1ewq7tHpRtAou7WC2txaKKKQwooooAKKKKACiiigCOT/AFkX+/8A+ympKjk/1kX+/wD+ympKAMzXbCTU9LktYCiu0kbZcnGFkVj+gqLX9Ml1TRpLW1MYdnRikhISUKwJRiOdrAYPB69D0rX2g0bR6UActpfhhrSz1eAwWNimpRhRDYr8kR2FT2Geuc4GfQVLJp+rXnh8WWoWGkTPGUAikleSOZVHXJQFGzyDhsV0m0elG0elO/8AXoK39epxcnhG6m0m1S5hsLyS2u3nSxupHkgCMpXyw7KW4zkHb14wBXRaLYf2bpcdubaztmBLGKyj2RLk5wB39zxnrgdK0to9KNo9KLsLC0UUUhknl+/6UeX7/pT6KAGeX7/pR5fv+lPooAZ5fv8ApR5fv+lPooAZ5fv+lHl+/wClPooAZ5fv+lHl+/6U+igBnl+/6UeX7/pT6KAGeX7/AKUeX7/pT6KAK88eIxz/ABr2/wBoVL5fv+lNuP8AVj/fT/0IVLQAzy/f9KPL9/0p9FADPL9/0o8v3/Sn0UAM8v3/AEo8v3/Sn0UAM8v3/Sjy/f8ASn0UAM8v3/Sjy/f9KfRQAzy/f9KPL9/0p9FADPL9/wBKiij/AHk3P8fp/sirFRRf6yf/AHx/6CKAHeX7/pR5fv8ApT6KAGeX7/pR5fv+lPooAZ5fv+lHl+/6U+igBnl+/wClHl+/6U+igBnl+/6UeX7/AKU+igBnl+/6UeX7/pT6KAGeX7/pR5fv+lPooArrH/pTjP8AAvb3apfL9/0pq/8AH3J/uL/NqloAZ5fv+lHl+/6U+igBnl+/6UeX7/pT6KAGeX7/AKUeX7/pT6KAGeX7/pR5fv8ApT6KAGeX7/pR5fv+lPooArxR/vJuf4/T/ZFS+X7/AKU2L/WT/wC+P/QRUtADPL9/0o8v3/Sn0UAM8v3/AEo8v3/Sn0UAM8v3/Sjy/f8ASn0UAM8v3/Sjy/f9KfRQAzy/f9KPL9/0p9FADPL9/wBKPL9/0p9FADPL9/0o8v3/AEp9FADPL9/0o8v3/Sn0UAM8v3/Sjy/f9KfRQBXij/eTc/x+n+yKl8v3/Smxf6yf/fH/AKCKloAZ5fv+lHl+/wClPooAZ5fv+lHl+/6U+igBnl+/6UeX7/pT6KAGeX7/AKUeX7/pT6KAGeX7/pR5fv8ApT6KAGeX7/pR5fv+lPooAZ5fv+lRNH/pSDP8DdvdasVE3/H3H/uN/NaAHeX7/pR5fv8ApT6KAGeX7/pR5fv+lPooAZ5fv+lHl+/6U+igBnl+/wClHl+/6U+igBnl+/6UeX7/AKU+igBnl+/6UeX7/pT6KAGeX7/pR5fv+lPooAryx/vIef4/T/ZNS+X7/pTZf9ZB/vn/ANBNS0AM8v3/AEo8v3/Sn0UAM8v3/Sjy/f8ASn0UAM8v3/Sjy/f9KfRQAzy/f9KPL9/0p9FABVG81zSdPvreyv8AVLK1u7kgQW89wiSSknA2qTlueOKvVwnjTTvEWqXV3aafbX32eSOPyntGtFhlwdxExlzKCCDjywByOc5IOqQnomzpbLxPpGoeIL3RbW+ge/ssebCJkLdOcKDnjIByBgmtasWygu7bxdqbvZyG1vI4pEuldNilF2lCN2/d34UjHfPFbVJbDCiiimAUUUUAFFFFABRRRQAUUUUARXH+rH++n/oQqWorj/Vj/fT/ANCFS0AUdQ1zSdJngh1TVLKyluTiCO5uEjaU5AwoYjPJHT1FV7TxRpF74jvNCt72B9Qs1VpIRKhbBznCg544zxxketc34+07xDq0d/Y6XbXj291p7RRtZm0CySEPlJzPlgnK48sZ+Zsnpjb021vbTxZeSTWcrW93aW+LpXQojx7gUYbt2TuBBCke9C2uKWjVjfooooGFFFFABRRRQAUUUUAFFFFABUUX+sn/AN8f+gipaii/1k/++P8A0EUAPlOIziuf8Q66NBtIZvs5uDJJtZQ+3agUs79D0VTx3rfl/wBWa5bXNDutc1ZE+0zWdpHaSR+ZCI28xpCAykOrcBV64H3uD1oAl1TXL201J7aw06K7WG1F1Kz3Xltt3EYUbCCfl7kVXm8UXckkr6VpsV3aw2cV48j3Rjco4YgKuwgnC92HWqK2+uweU8mky3U82kpaSMk8SqkoLZLEtnHOcqDUtl4PQ3jR6l5720en21qpiunjSYoHDhlRhuHI+8Mc/WqsrP8Arq/+ATd3/ry/4J1dhcpdwQXEJJjmjEi5GMgjIq7VWBVRkVFCqowABgAYq1Sdr6DV7ahRRRSGFFFFABRRRQAUUUUARL/x9yf7i/zapG4Q/So1/wCPuT/cX+bVI/3G+lAGF4g1K60jR57+0tIrsW6NJKkk5i+QAk4IVsnjpx9aqz+IJ7C50mDUrKON792WRobgusGCAvJVd2SyjoME96k8WJd3Hhq9tNPsZbya6heFVjeNdhZSNxLsvH0yfaquoabc69HbedaS2QNpPEwldC8LkpsPysR1XIwT05xTVrXYdjY0bUP7TsYrvy/K3O67d27G1yvXA64zWtXO+ErW8svDtnBqcQhuwztKgYNtLSM3UcHrXRUPR2EtVqFFFFIYUUUUAFFFFAEUX+sn/wB8f+ginynEZxTIv9ZP/vj/ANBFOl/1ZoAxdR8QabpUxivp3SRYxKypC77UyRuO0HA4OT270l94h0zTiourhstF5wEULy/u/wC98oPHv2rJ1Wa8i8VXS2GntfPJpipsWRE2ku+CdxA2+uMn2NWtL0e4sdQtBKokhg0pLRpMjDOCMjHXpTWqT/rr/kvvE9Hb+un+b+4t3XiTSbOSNJrv76LJvjjd0RG+6zMoIRT2LECi58R6VaXrWtxclZUdUfETlULY27mAwoORgkgVgan4acarcrDpd1d2VzBFDHHbai1tFGFBUrIocZXGOQrHqMU2+gvbu98Q6XYWJmW6aGIz+aoWAeUoLMCcnA5GAST6dadkLU7mA/OfpU9QQcN+FT1JQUUUUAFFFFABRRRQAUUUUAFFFFABRRRQBFF/rJ/98f8AoIp8pxGcUyL/AFk/++P/AEEU6X/VmgDOnv7a2uobe4l8uScMY9wOG2jJGemcc49AfQ1BFrunSpbutzhLmFp4WdGUOi9Tkgdjn6c9KoeK9IufEFpFpkSiKGRjJLdHB8oqPlUDOcsTg9tu4dxVPWtJ1LxHpNhZS2cViyIZpnYq6pIowsagHlWJOf8AYyOp4a2/r+v68w6nU2F1FeQQ3NszNDMgdCylSVIyDg4I/GrtUNNkmltoHurf7NMyAvDuDbGxyMjg1foe4lsFFFFIYUUUUAFFFFABRRRQAVE3/H3H/uN/NalqJv8Aj7j/ANxv5rQBLWLrN5fWNg9zYWkF0Y1Z5FmuDFhQM8EI2T7cfWtqsrUoXuNJu4YV3SSQOijOMkqQKUrpOw42vqZ9vr5i0u3vNdhisvtTAQJBI9wXyhYDhAd2AeAD09TirVrrmnXq2zW1xu+0u6RgoyncgJZSCMqRg8HFUpdOumtvDyCLLWc6PONw+QCB1PfnlgOKXVbCW3vLG/0yx+0GC4eWaCJlR5N6FSwLEKTnHUitJWuyFeyLM3iLTILdJmnd1eV4kWKCSR2ZGKvhFUsQCDk4xV+yuobyGG5tJVlhlAZHU8MDXGSeHr9I9OuprO6mZGu2mtrG+8iWPzpRIPnDqGxjBG7HcZxXV6HZiw0q1t1t/s2wZMXnGbYSckbzy3J60rKw+pr0UUVIwooooAKKKKACiiigCKX/AFkH++f/AEE1LUUv+sg/3z/6CaloAztQku0hdtPghuJ93CTTGJSP94K38qx9L8QTz6M+q6za2+n2gGVdLlpj94qdw8tcc49fwrff77fWuZ/sm9/4QP8As7yf9K/5571/567uucdKBGjB4i0y5DeXcMCsyQMkkLowd/ugqwBwexxj3qSfW9Pto7h5pyBbSiCRVjZm8wqGChQMsSGHTNVte0x54VurC2WW7jnglZQQrTLG+duTxnBbGeMntWLd6JqN7ay3slnPHJJqi3n2OK6EU3liERYEiMAG43cNjtmmrP8Ar0/4Ia/18/8AgHVWGoW2pWwuLKQum4qcqUZWHUFWAKn2IzWpXP8Ah6x+xafJmzms3mmaRknu2uJCcAAs5J5wBwCQPWugodugIKKKKQwopvmD3o8we9ADqKb5g96PMHvQA6im+YPejzB70AOopvmD3o8we9ADqKb5g96PMHvQA6im+YPejzB70AOopvmD3o8we9ADLj/Vj/fT/wBCFS1BO4MY6/fT/wBCFS+YPegB1FN8we9HmD3oAdRTfMHvR5g96AHUU3zB70eYPegB1FN8we9HmD3oAdRTfMHvR5g96AHUU3zB70eYPegB1RRf6yf/AHx/6CKf5g96iiceZN1+/wD+yigCYgMuD0pnkL6mneYPejzB70AN8hfU0eQvqad5g96PMHvQAixKrZGc0+m+YPejzB70AOopvmD3o8we9ADqKb5g96PMHvQA6im+YPejzB70AOopvmD3o8we9ADF/wCPuT/cX+bVKRkYNQK4+1P1+4v82qXzB70AN8hfU0eQvqad5g96PMHvQAghVWzzT6b5g96PMHvQA6im+YPejzB70AOopvmD3o8we9ADqKb5g96PMHvQAyL/AFk/++P/AEEVIQGXB6VDE48ybr9//wBlFS+YPegBvkL6mjyF9TTvMHvR5g96AG+QvqaPIX1NO8we9HmD3oAEjCdKdTfMHvR5g96AHUU3zB70eYPegB1FN8we9HmD3oAdRTfMHvR5g96AHUU3zB70eYPegB1FN8we9HmD3oAdRTfMHvR5g96AGRf6yf8A3x/6CKkIDLg9KhiceZN1+/8A+yipfMHvQA3yF9TR5C+pp3mD3o8we9ACLEqtkZzT6b5g96PMHvQA6im+YPejzB70AOopvmD3o8we9ADqKb5g96PMHvQA6im+YPejzB70AOqJv+PuP/cb+a0/zB71Ezj7UnX7jfzWgCeozCvvTvMHvR5g96AG+QvqaPIX1NO8we9HmD3oAb5C+ppRCqtnml8we9HmD3oAdRTfMHvR5g96AHUU3zB70eYPegB1FN8we9HmD3oAdRTfMHvR5g96AGS/6yD/AHz/AOgmpaglceZD1+//AOympfMHvQAhhVmzzSeQvqad5g96PMHvQA3yF9TR5C+pp3mD3o8we9ADRCvvUlN8we9HmD3oAdRTfMHvR5g96AIqKKqQ6lDNq91pyq4mtYo5XYgbSHLAY56/Ic/hQBbooooAKKjileRpA8EkQR9qlyv7wYHzDBPHOOcHjpUlABRRRQAUUUUAFFFFABRRRQBHN/qx/vr/AOhCpKjm/wBWP99f/QhUlABRVVdQibWH00K/nJAs5bA27WYqB1znKntVqjfUAooooAKKKKACiiigAooooAKKKKACo4/9ZL/v/wDsoqSo4/8AWS/7/wD7KKAJKKRuFqkdSiGqmwYOsog88McbSu7Bxz1HGfqKAL1Fc6nitbg24sNK1G8NxbLdAReUu1GJC53yLycds0688UrZXEkUml6g4gt0uLl4xGRArbvvDfkkbTnaG6d6dmB0FFc9c+LLe2up0Nley21uY/OvIwhijDgEE/PuIwwyQprfU5NFhXHUUUUhhRRRQAUUUUAFFFFAEY/4+X/3F/makqMf8fL/AO4v8zUh6UAFFUbjUY7a+tLWUPuu2ZY2GNoKruwee4Bx9DWdN4pjWZIrXT768keaaJVgEYz5RAc5Z1GMnHrweKAN+isBvFVu1tayWVpe3sl0jSLBBGvmIqnDFtzADB4xnJPTNa1ndx3trDcwFjHModdykHB9QeQfanYVyzRRRSGFFFFABRRRQBHH/rJf9/8A9lFSVHH/AKyX/f8A/ZRT24WgBaKo3erWFgwW+v7a2Y4wJplQnJIHU98H8qW71OysDEL69t7YzNtj86VU3n0GTyaALtFUrjVLGzuIbe7vreCac4ijlmVWkP8AsgnJ/CmTa1ptvO8NxqVrFKmN8bzqrLkgDIJ45YfmPWgDQoqidWsFvVs2v7YXLMVWAzLvJABIC5znBB/Grik5oAdRRRQAUUUUAFFFFABRRRQAUUUUAFFFFAEcf+sl/wB//wBlFSVHH/rJf9//ANlFPbhaAFoqu1zEk6QPMiyyAskZYBmAxkgd8ZH51HFqFpOUEF5DIZELoElB3KDgsMHkAnGaALlFU49Ss5VDRXsDqYvOBWUH93/f6/d9+lA1G0IJF5CQsQnJEo4jOcP1+7weenFAFyio4pFlVXjcOjjKspyCOxBqSgAooooAKKKKACiiigAqM/8AHyn+438xUlRn/j5T/cb+YoAkoorO1bU30uzNytjdXiKCzi2MeUUDJJ3svH0yaANGisiz16GfTlvb6KTS4n5j+2yRrvG3dkbXYdATyc8HircOoWlxHBJb3cMqXGfJZJQwlxydpB56dqbTQrouUVQn1fT7W1+03WoWsMG8x+bJOqruBIK5JxkEEY9qtRyCRVeNw6MAQwOQR60hktFFFABRRRQAUUUUAFFFFAEcn+si/wB//wBlNSVHJ/rIv9//ANlNSUAFFUNW1JNJ0+W8ljlmWMqPLhxuYlgoAyQOpHU1Haaq8sE01/Y3OmRwjJa8eIAjuco7AAe+KANOisa78RW0Ojtqdgr6rbJku1hLG+0AEk5LgHGOgOfarsmoW0Gni9up0trfYHMkzhFUH1JOB1oAuUVQbWNOXThqDajaiyPS5M6+WecfezjrViG4juIUmt5VlicbkdGDKw9QR1oAnooooAK4PXrHTH8X6nNr+g3mpwSWVulqUsZLmMyAzZ2hQQjjI+c4xu+8M13lFJq4HAxf2jok8o1e0vr27vNCtrYSWtu84kuI/N3qzqMKSZF+ZyoOTzwajksbq2tdL0xY5Yl8QadDZXKgFWheOMb2PcExb1z6ogr0Kqa6VaLq7an5bNdtH5Qd5WYIvGQik7UzgZ2gZwM5wKq93d9f+D/mJ6u6/rb/ACOQn0I3V1Naz6fK1m3iBHMYjYI0ItVXJx1TI2nseQe4qrPpP9mi5s/7Hmbw5Dre6Wxt7VnQ27Wqn5YVU74/PbJVQRnJxwa9FqrqOnQ6pa/Z7l7lE3Bs211Jbvkf7UbK2PbOKS0X9eX+Q1b8/wAb/wCZzXgRbVbzxENOs5LK0+3xiGF4zHsX7NDgBDgoP9kgY6YHSuvqppul2mkWn2awiKRli7F5Gkd2PVmdiWZj6kk1bpvp8gCiiikAUUUUAFFFFAEc3+rH++v/AKEKkqOb/Vj/AH1/9CFSUAcV4ktNNfxc8/iHRbrU7A6ekahLCS7i8zzHODGitlsdGI+XnkbuW6a15od1pc2qWWoSGXTPswEUL3LxuJMrHIyZwdpA3sduQct3rt6Knl0t6/jf/MHr/Xa3+R5ta2uoaT4d8PrDFNa3Wr6bHpMyMuHhl2lkkIPTYvnZ/D0r0OztILCxgs7SNYoLeNYo0UYCqowB+QqFtKtH1dNTkR3uo4zHGWlcrGD1KoTtVj0LAZI4zirlW3e7B6u4UUUUgCiiigAooooAKKKKACo4/wDWS/7/AP7KKkqOP/WS/wC//wCyigB7fdNcv4vgvNttc6bBLLO6y2ZMSFiiyrw5x2DKhJ7V1JGRTdnvQBxeq2Vpa+JIhdRautrHp8cMT6atzjKu3ysYPbHBqHWtP1G8vNTu9Pkv47ZrG2D26RANdx5k8xMupYPtPYg5IzXdbPejZ71V9BW1PPNWsQ2paolraap9pkNubFI4pvszbUXG8EeVgEc7+Rj1xXoSdefSl2e9KFxSb0CwtFFFIYUUUUAFFFFABRRRQBGP+Pl/9xf5mpD0NRj/AI+X/wBxf5mpKAMLxMkq6bDe20Ek81jcR3CxxKWZgDtcADknYzcVz91pwtbfw+NRh1LakMzXLaes+9ZX2scmL5gCxbrxXd7PejZ701tYOtzgrWG+0y1sJ54NQgU2U1ur2dqss0P70NHuQKwBKDklcZznFdbof27+xLI6sSb0xKZyQoO7HOdvGfpxWhs96AuD1ovp/X9dRJWHUUUUhhRRRQAUUUUARx/6yX/f/wDZRT2+6aZH/rJf9/8A9lFSEZFAHHa5PDB4nu/PsJ73zNKEapDbmUkl3+UgA4B9TxxyRUQt5dLlhOradcagsmjw2m2GAzZkXdvQ4B2hsr8xwOOTxXY/ZohOZgieaVCGTaNxXOcZ9Mk8U/Z701orf11/zB6u/wDXT/I4bWLWSNdWtm0m4ll1GxigszFEZVRgpGxnHCbWO7LYHcc1FrWlXUtvrO2ylmlcXARlhJLk2sajHHOSCPqK77Z70bPenzdRJWt5HAyD7RdarYwWE8l3Lq8DpMsBKIEWFizP0XAB4JBOeM5rvU602O2iiaRokRDI29yqgb2wBk+pwAPwqQLilfRL+tkv0BKwtFFFIYUUUUAFFFFABRRRQAUUUUAFFFFAEcf+sl/3/wD2UU9vummR/wCsl/3/AP2UVIRkUAcv4wsbvVba2sdMjdLxmaRLv5gsACkNlh3YNsx6MT/DWfrVncazoumWmkabNZTJCz4kVohAirtaDcO752/T5uwrttnvRs96adkHW5xPiC0m1m308aZpk0Qt7fzpo5I2i3w8A2vbltvI7bR6in+J7WfV5bN9P0+ZktoPPuA8bR/aISQTbYOMltuSD02gH71dns96NnvTv/X9f194rf1/X9fcRwOJY45FVlVlBAZSpGR3B5B9qmpAuDS1IwooooAKKKKACiiigAqM/wDHyn+438xUlRn/AI+U/wBxv5igCSqGqo0mjXqRqXdreQKqjJJ2ngVfpuz3pNXVhp2dzmrmzlls/DCNbO/kXEbSqUJ8vEDjLemDjr3xSajYxaPfafe2lpM9tHdyzXC28bSspkjI3BFBJG7GcDvn1rptnvRs96tybdyOVWS7HnzWF9CmmXsw1G0h33rt9ktVnli86Xem6Mo5GVyDgZB4OOa67w9aLYaDZ28a3CqicLchRIMnOGC/KOvQdK09nvQFwetK+lh9bjqKKKQwooooAKKKKACiiigCOT/WRf7/AP7KakqOT/WRf7//ALKakoAw/FdtJeeHp7eJJXZ5IhiLO7HmrkjHIwMnI6VV1fTDp3h24TTlurovLGX8+R7x0UONzIshbJAyQPUDg10hXJ60bPegDi9MsLuay8SKPtk322EeRJeQLC8pMRX7qqoHOByAemasXU8Op+GrYm21aCSzkibKWDeZE4H3tjr+8A6HaG68etdZs96NnvTvr934C6ff+JwM0GoT6fYXcsV1bJBqErvNZ6eFmdShVZjAyscknB+XOOcCum8NWi2eiqsf2sCSWSX/AExESQlmJJKqAFBznGARnkA1sbPejZ70XCw6iiikMdsb0o2N6VLRQBFsb0o2N6VLRQBFsb0o2N6VLRQBFsb0o2N6VLRQBFsb0o2N6VLRQBFsb0o2N6VLRQBFsb0o2N6VLRQBWnRvLHH8a/8AoQqTY3pRcf6sf76f+hCpaAItjelGxvSpaKAItjelGxvSpaKAItjelGxvSpaKAItjelGxvSpaKAItjelGxvSpaKAItjelGxvSpaKAItjelRxo3mTcfx/+yirNRRf6yf8A3x/6CKADY3pRsb0qWigCLY3pRsb0qWigCLY3pRsb0qWigCLY3pRsb0qWigCLY3pRsb0qWigCLY3pRsb0qWigCLY3pRsb0qWigCsqN9pfj+Bf5tUmxvShf+PuT/cX+bVLQBFsb0o2N6VLRQBFsb0o2N6VLRQBFsb0o2N6VLRQBFsb0o2N6VLRQBFsb0o2N6VLRQBWjRvMm4/j/wDZRUmxvSiL/WT/AO+P/QRUtAEWxvSjY3pUtFAEWxvSjY3pUtFAEWxvSjY3pUtFAEWxvSjY3pUtFAEWxvSjY3pUtFAEWxvSjY3pUtFAEWxvSjY3pUtFAEWxvSjY3pUtFAEWxvSjY3pUtFAFaNG8ybj+P/2UVJsb0oi/1k/++P8A0EVLQBFsb0o2N6VLRQBFsb0o2N6VLRQBFsb0o2N6VLRQBFsb0o2N6VLRQBFsb0o2N6VLRQBFsb0o2N6VLRQBFsb0qNkb7SnH8DfzWrNRN/x9x/7jfzWgA2N6UbG9KlooAi2N6UbG9KlooAi2N6UbG9KlooAi2N6UbG9KlooAi2N6UbG9KlooAi2N6UbG9KlooAi2N6UbG9KlooArSI3mQ8fx/wDspqTY3pRL/rIP98/+gmpaAItjelGxvSpaKAItjelGxvSpaKAItjelGxvSpaKAItjelGxvSpaKACq8d9by6hPZRyZuIESSRNp+VX3bTnoc7W/KrFcpc6vp3h7xvqE+u31vptveWVuLee7lWKORkaXeoZiBuG5Tjrg59aBO50NpqVrfWb3VrLvhjkkjZtpGGjYo4wRnhlI/DioYdd064ksEgnMjajF59uEiclo8A724+ReRy2OSB1OKxPD9zDZ+HUtbgyRT6jLfXVtHJEysyNK8mSP4fldTg4PPTtWL4EvYvDmlWcfiBlE1/YQz2+okcTxpED5GP4WjGcIPvAlhli9Gl3fpb9f8hvey8/0/zPRaKitbmK8tIbq2ffDNGskbYI3KRkHB56GpaNtGJNNXQUUUUDCiiigAooooAKKKKAIrj/Vj/fT/ANCFS1Fcf6sf76f+hCpaACoLy9t9PtTcXcnlxBlUttJ5Zgo4HuRXM6tr0Gi+LrxdV1H7Jb3GmR/Y45JCPOmV5d4iX+KTDR8KCxyvWs271gXfw1tbZJvtOqpY6fcyJMzDfvkQKWfB6srZPJ74pP4XJf1v/kN6SS/rp/md/RXJ+Gdcs0QQ6pqM761dXXk3NrPnME+xmEaxglY02ISpBwwGdzE5PWUxdQooooAKKKKACiiigAooooAKii/1k/8Avj/0EVLUUX+sn/3x/wCgigB7ttQkVj6j4js9KuEgu5J/NdDIFhtJJsKDgk7FOByOta8v+rNcnqceoSeNLcaXc21vJ/Z8m5ri3aUEeYnQB1wfxNC1dv62B6K/9bl+58XaXamLzLqSRZYRcK8FtJKojPRyyKQBx1OKfeeKdMsJI0ub0AyRiXckbOqoeA7MoIVT6sQK5S+stS0O4lt9Cmic2mjp5vnQGR5F8x9xUBlAb7xAOQeBTZrjTdIsdSskuMxXekQRadu5N0BG6gJ/ebleB61Wlrr+t/8AIWvNZ/1t/mdZdeK9Ns76S1ubiVHiKiRxayGOPcARukC7F6jqalfxHYRzXsT3YElhs+0rsOY9/K9uc57ZrmYtJ1DUrzWtPW8gtrWVYYblWty8pBgUNtbeAvHHKmszxJC1pcare24Pl/borScf7DRQFD+DqB/wM01FXt/XQV3a56bE7MxDc8VLUEH3z9KnqCgooooAKKKKACiiigCJf+PuT/cX+bVIxwpPoKjX/j7k/wBxf5tUj/cb6UAZ15q9vYTWsd5OInu5fJhBUne+CcZA44B61APEdg11Bbi7Hm3E0sMSlCNzxkhxnHbB+vbNZXiyxOoyabao2yVpZDE/9yQQuUb8GAP4VzNgs+saZaXEMfl3vmX91Eh42TLOrhT+I2n8apJdReh2s3i3TYBCTPPJ54dkEFnLKSEbaxIVCQAeMmtOzvo723huLaVZoJlDI69GB7159oD319Jos2kz29s8tleOTc27SjabhTjAdcHkd/wrt9G05dJ022skkMvlDl2GCzE5Jx2ySeKGrLX+tWhJ3f8AXZGtRRRUlBRRRQAUUUUARRf6yf8A3x/6CKe7bUJFMi/1k/8Avj/0EU6X/VmgCLzX9f0o81/X9K4/xH/ZP/CQL/wk3l/YvsX+jed93zdx3bP+mmNuMfN6d6o65/Zf2x/7f3+X/ZUf9nfas+Z5uX3bf+m3+r6fN6UdL/11Drb+un+Z33mv6/pR5r+v6V5nqVglxDdzalAr3gjKSs45yLHcQf8Agag/UA9qXUW09pNUNwVOrn7MdPLZ8wy+UmPL984zjt14quXWxPNpf+un+Z6X5r+v6Uea/r+lefaj9j/tq98/H/CQf2jB9i6+b5OY/uf9M8eZuxx97NTXdzEtzeaUXAv5tcgnjt/43jDRMXA7qArZPQYNEVe3n/wP8/wG3b+vX/I7vzX9f0qC41GO1kgSeXa1xJ5UQ253NtLY4HHCnr6VxFrY20UtvqUcSreHX54jOPvFDLICmf7vt0zz1qvY/wBnf2vpf3f7a/tib7bnPmY2zbd/tt27c8Y6d6Er/wBen+YPRtev6/5HpcTFlyfWn1HB9w/WpKkYUUUUAFFFFABRRRQAUUUUARRf6yf/AHx/6CKe7bUJFMi/1k/++P8A0EU6X/VmgClJqUUN7DaSy7Zp1Zo1KnDBcZ5xjPPTr19DS2eox39pHdWkvmQyDKPtI3D1GR09+9c540gk1K1t9KsADqErNLE24r5SKPnJI5AYNs/4H7Vfg17TIPD9nfu32a1kKQogQkxuTtCEAHBB+X2xTSuhPRmhNrFtb3MlvPcCOSKA3DhlIAjBwWzjBxjn049RU8F59pt454mYxyKHXchU4IyOCMj6GuR8ZRtfXdtBZwfaJrFTd3SgnLwZwYfcvjgf7Fb8muadDBYTPcfu9QdY7ZlQsJGYZUcDjgdTRbT+v6/4YHv/AF/X/DmrHIxcAnNTVXi/1gqxSGFFFFABRRRQAUUUUAFRN/x9x/7jfzWpaib/AI+4/wDcb+a0AS1l6lrVvpUCTXryKskgjQRQvKzMQSAFQEnoe1alcr4phknGkxQ3Els7aggE0QUsnyP0DAj8waOqDozYsdUTUbczW3nqgbbie2eFs/7rqDj3xUeo67baUYftzzIJmCqyW7yKCSANzKpC8kdcVzniaNbXT7C01W7guopbhi95q0YMKYU4DpH5atnoN3GeeTiqlr5i/DWcSNvW3vGIKRsqrElznhSSVUKOAScAVVluLU7zzX9f0o81/X9K4rxPdaNqtvYXn9qaXNao0gUXo8y0lbA4LA7Vcds56nA9MrUXhurXQnvvsWn6c1i5RNUikuIVkyuACXQ7tudpPOM4FKwXPTI5GLgE5qasfw7E0Oi2Eb3D3RWBR50kbIz8dSrcg+x5rYoas7AtUFFFFIYUUUUAFFFFAEUv+sg/3z/6CalqKX/WQf75/wDQTUtAFDUtUh0y0luryQxwRkbisZc8nAwFBJ5I6CodP1qLUxIbYXK+Xjd9otJIOvpvUZ/Cs/xkrP4buVR2jZpoQHUAlT5q8jOR+dVNchm03wvdfbb2bU1keNWe8VVWJS4BZvJVCUAOSO4BBOM0IDc1PWYNItDc3zTCEHlord5dvGckIpIHHU8VajuTLEskbZVwGU46g1weiQk6L4ltLJ7WeBoc24sIDFCxaIg7FLN1I6g4Jq1qV/pOs+D7fy9Vs/JheHzjIplhBA+5MFI2r/vEAEDPpTtuvT8RX2+f4Haea/r+lAlf1/SvNJ5IJ/DunqiafZaWuoSJM8ivPYuNh2sFLLiMt0Gdob1rrvCcKweHoliu1u4i7tHJHC0SBSxwqKxJ2joOSMYxxinYVzpaKKKkoKKTcPUfnRuHqPzoAWik3D1H50bh6j86AFopNw9R+dG4eo/OgBaKTcPUfnRuHqPzoAWik3D1H50bh6j86AFopNw9R+dG4eo/OgBaKTcPUfnRuHqPzoAjuP8AVj/fT/0IVLUVwR5Y5H30/wDQhUm4eo/OgBaKTcPUfnRuHqPzoAWik3D1H50bh6j86AFopNw9R+dG4eo/OgBaKTcPUfnRuHqPzoAWik3D1H50bh6j86AFopNw9R+dG4eo/OgBaii/1k/++P8A0EVJuHqPzqOIjzJuR98f+gigCR13KRUPkN6iptw9R+dG4eo/OgCHyG9RR5DeoqbcPUfnRuHqPzoAh8hvUUeQ3qKm3D1H50bh6j86AGRxlGJJqSk3D1H50bh6j86AFopNw9R+dG4eo/OgBaKTcPUfnRuHqPzoAWik3D1H50bh6j86AI1/4+5P9xf5tUhGVI9RUakfapOR9xf5tUm4eo/OgCHyG9RR5DeoqbcPUfnRuHqPzoAh8hvUUqwkMCSOKl3D1H50bh6j86AFopNw9R+dG4eo/OgBaKTcPUfnRuHqPzoAWik3D1H50bh6j86AI4v9ZP8A74/9BFSOu5SKjiI8ybkffH/oIqTcPUfnQBD5Deoo8hvUVNuHqPzo3D1H50AQ+Q3qKhi02OC4nniULJcMGlbcTuIAA+nAHSrm4eo/OjcPUfnQBD5Deoo8hvUVNuHqPzo3D1H50AQ+Q3qKPIb1FTbh6j86Nw9R+dACRpsXBp1JuHqPzo3D1H50ALRSbh6j86Nw9R+dAC0Um4eo/OjcPUfnQAtFJuHqPzo3D1H50ALRSbh6j86Nw9R+dAEcX+sn/wB8f+gipHXcpFRxEeZNyPvj/wBBFSbh6j86AIfIb1FHkN6iptw9R+dG4eo/OgCHyG9RR5DeoqbcPUfnRuHqPzoAjSIq2SRUtJuHqPzo3D1H50ALRSbh6j86Nw9R+dAC0Um4eo/OjcPUfnQAtFJuHqPzo3D1H50ALUTf8fcf+4381qTcPUfnUbEfao+R9xv5rQBLUBgbsRU24eo/OjcPUfnQBD5Deoo8hvUVNuHqPzo3D1H50AQ+Q3qKPIb1FTbh6j86Nw9R+dAEaRFWySKlpNw9R+dG4eo/OgBaKTcPUfnRuHqPzoAWik3D1H50bh6j86AFopNw9R+dG4eo/OgCOX/WQf75/wDQTUtRSkeZDyPvn/0E1JuHqPzoAiaEliQRzSeQ3qKm3D1H50bh6j86AIfIb1FHkN6iptw9R+dG4eo/OgCHyG9RQIG7kVNuHqPzo3D1H50ALRSbh6j86Nw9R+dAENFFFABRRRQAUUUUAFFFFABRRRQAUUUUAFFFFAEc3+rH++v/AKEKkqOb/Vj/AH1/9CFSUAFFFFABRRRQAUUUUAFFFFABRRRQAUUUUAFRx/6yX/f/APZRUlRx/wCsl/3/AP2UUASUUE4FQNeQpcrbvNEs7IXWIuAxUdTjrgZHPvQBPRVCbW9NtoYJbjUbSKO5x5DyTqolz02knn8Kne+t4/O8y4hTyE8yXc4Hlrz8zeg4PJ9DQBYoqodTs187dd248gBpsyD92DyC3PGe2atK2aAFooooAKKKKACiiigAooooAjH/AB8v/uL/ADNSVGP+Pl/9xf5mpDQAUVBLdwwSRJPNHG8zbIldgC7YzgZ6nAJwPSmDUrRpUjW6gMkjOiIJBlmX7wAzyR3HagC1RUUNxHcRiSCRJYySAyNkEg4PI9xipaACiiigAooooAKKKKAI4/8AWS/7/wD7KKkqOP8A1kv+/wD+yipCcCgAoqNpQilnKqqjJJOABSRzrLEskTK6OAyspyGB6EGgCWioVuY3meJJEaSMAugbJXPTI7ZwaSa7jt/L851TzHCJnux6CgCeikVs0tABRRRQAUUUUAFFFFABRRRQAUUUUAFFFFAEcf8ArJf9/wD9lFSVHH/rJf8Af/8AZRUhOBQAUUzeaN5oAfRTN5o3mgB9FNDZNOoAKKKKACiiigAooooAKjP/AB8p/uN/MVJUZ/4+U/3G/mKAJKKKpX+rWGlxrJqd7bWaOdqtcTLGGPoCSKALtFU7HVbLVIWl029tryNW2s9vKsgB9CQTzVneaAH0UzeaUMc0AOooooAKKKKACiiigAooooAjk/1kX+//AOympKjk/wBZF/v/APspqSgAoqC6vILK3e4vJ4reCPl5ZXCqv1J4FQWGs6dqoc6Zf2t4I8bzbzLJtz0zgnHSgC9RVO+1Sy0yETaleW9nEzbQ9xKsak+mSevFWFlDqGQhlYZBHIIoAkopm80u80AOooooAK5fUr3ULbxXE099dwaWXigT7KsDxea3G2cMplDMWXaU4wQTjv1FUn0TSpNXTVX0yzbUUG1Lw26mZRgjAfG4cEjr3o6oHszi9G+1aX4YvkXWNTmubvWLqG3EUVsZi4nkLCPcioGYKxJfKjnGOBTtO1jW9Ss9Ms21K5tJpNVurOed4rdp9kccjAHaGiDgqoJUEcdOcV11x4e0W7W6W60ewnW8ZXuRJao3nsv3S+R8xHYnpU1tpOnWcUMdnYWsCW7boVihVRGdu3KgDg4447cUev8AW3/BCeruu9/zOGhOoaLN4pvYdXupSNbtYys0cO1VcWwZuIwfuMV64AAPXLVpa/4ivbW58QR2OoQw/YIrLYzorrA8kjBy44P3dpwSOORjOa6aXR9NnuLiefTrSSa5i8ieR4FLSx/3GJGWX2PFUbnwtpp0d9O0u0tNNjZoifs9sqjCSeZtwuOM7v8Avomhv3bDe5FpUt5a+JbrS7nVZNTQWyXO6aONZICzMu392qjaQuVyM/K3J7b9U9N0jTdGgeHSNPtbCJ33ulrAsSs3TJCgZPA5q5R0F1CiiigAooooAKKKKAI5v9WP99f/AEIVJUc3+rH++v8A6EKkoA5bXr3UbPxDbyte3VvpCeUrmySB9sjPjE6uC+xsoqmPkZYnAwRm2H2jSrXxLK2sajLJNqvkQIkVuziRhHgR5RV3HIUFyVGAT3J66fRdLudUh1K502zmv4BiK6kgVpYxzwrkZHU9D3ptxoOj3bXTXelWM7Xqqt0ZbZGM4X7ofI+YDHGelJf196/yCWv9eTX6/M4qx1zXbyOPTnv7yznXXTYST3MVs1wIjambDCMGLcCRggdhkHkGS7+36JdeLtSi1u7ka2t4WAmjg2A7Ad5xGDwAe+OTkdMdna6LpVjFHHZaZZ2yRSCSNYbdUCPt2bgAODt+XPpx0p8ml6fLfNey2Ns900JgM7QqXMZOSm7Gdvt0qn0t/WgNJ/15s5nxP4hu7B9fSwvo4msdGF0mVVvKkLSYcg9sKODxxV3Tp9QtPFEVhcaq+qQ3dk90xeKNfs7K6BQmxR8jb2wGLH5PvHmrF34T0tvD97pWk2dppa3UDQbra2VQgOf4Vxnkk4q/p+j6bpPnf2Xp9pZGdt8xtoFj8xvVtoGTz1NKOn4/r/n+AndsuUUUUDCiiigAooooAKjj/wBZL/v/APsoqSo4/wDWS/7/AP7KKAHt901xnikNBr0OpxDL6faGZh6x7wsg/wC+CT9QK7QjIqB7WKRy0kMbsyGMllBJU9V+ntR1/rsHS39bnCaH9k+ywf2h5Pl/8I1b7fOxjb8+/Ge33c/hUSS+V4f1hbtwkzeG7bIkOCT5co/mcfWu3m0XTbiGCK4020litseQjwKyxY6bQR8v4U+50qyvZoZryxt7iWA5ieWJWaM+qkjj8KtyTb8/+D/mLqn2/wCB/kee+I1exbVb1Qdk3l2dwPTMMbIT9GBX/gdemJ1qCbT7W4jlSe1hlSYhpFeMEORjBOeuMD8hVhQQeaTd0JKw6iiipKCiiigAooooAKKKKAIx/wAfL/7i/wAzUh6Gox/x8v8A7i/zNSHpQByvjCzkvX0uO2wLlJ3ltye0iROy/hkD8K5q2kfU7Cx1OxQmeOa/voE7kiZW2fUqSv416S8CPIjvGrPGSUYgEqSMZHpwSKjh0+1t9vkWsMW0sV2RhcFjlunqeT6007CsZPguZLjwraTRHKSPK6n1BlYiugqC2tIbSFILWGOCFPuxxqFVe/AFT0OzegJWVgooopDCiiigAooooAjj/wBZL/v/APsop7fdNMj/ANZL/v8A/soqQjIoA5DX2Fxrd3b3N/Paw22mG4iSOcxqzlnDMwH3wAq8HI+bpzWcrmexjjuNSuLGOy0KC5g8m4MQLkNuc4PzgbV4ORz05rtLrTLO+eJ72yt7loTmNpolcofUZ6UyfR9PulgW50+1mW2x5AkhVhFjptyOOg6U1tb+uv8AmD3v/XT/AC/E4m8meSPWdRmvprO+g0y1uUWKYxjzdjkblH3gW42nI56Vv67blJtN1BJ7uKdry3jdEupFjKlsEGMNtPX0rYn0iwurlbi50+1mnRgyyyQqzKR0IJGciobjRhdanFd3N3cyRwsJI7QlBErgYDcLuJ78sRnt0quZc1/MjlfLbyNFOtPpqgg806oLCiiigAooooAKKKKACiiigAooooAKKKKAI4/9ZL/v/wDsop7fdNMj/wBZL/v/APsoqQjIoA5fxhe3enW1tdaVJI1+HZYrVcss6lSWyuedoG4H2x/FWfrd7Npeh6VcaJqNxeTvCygszS+fEU3PMVzyV4Yf98j7wrsWto2uEnaFDMilVkKjcoOMgHqAcD8hUcOnWtuytBaQRMqlFKRqCFJyQMdiecetNbB1OR8Q3cul2unf2TqVxIs1t5c8hkMu2343XXX7y56993fHEnim7m02W0TTr+4VJoPKujvaTyLcEA3OSeGXON3fdk5211MWm2cAxBZwRjyxF8kaj5BnC8duTx05NKmm2kakR2kCBohCQsajMYzhP90ZPHTmnf8Ar+v63Fb+v6/rYmgUJGioSyqoALMWJGPU9frUtRwwrDGkcSLHGgCqqjAUDoAKkqQWwUUUUDCiiigAooooAKjP/Hyn+438xUlRn/j5T/cb+YoAkrN1kA6Ff5AP+jSdf901pVE8QkRkkUOjAhlYZBHoRSkrpocXZ3OYug7aT4at4p5rdLiaOOUwSFGZfs7kjI57D+Y5p/lXOj6lo9rNqM00El1OqtLISShjYojMT85BBwTzxXQm0hKwgwRkQEGIbR+7OCMr6cEjjsabd2FtqFube/tYbqFiCY5kDqfwPFW5XbZCjol2OFa81K//ALPtYZmmiuJr+TLajJa+YEnwgEqKzEBScKOMD0Fdf4ea4bQbM3tzDdTbPmmhk8xXGeCGwN3GOcDmp7jSLC7s0tLqwtZraPGyGSFWRcdMKRgYq1HEI1VEUIigAKowAPSi+lh9bklFFFSMKKKKACiiigAooooAjk/1kX+//wCympKjk/1kX+//AOympKAMDxiHbwzcCIqrmWHaXXIB81MZGRkfjUGqS6hp/h+c6ldRSyyyxxRNYRm1ILuFALMz4GTyw5AzjnFdBNbx3CGOeJJUJB2uoIyDkcH3GaSe2juoHguYUmikG145FDKw9CD1oA4yye7Oi+J7G7O4W0LeWn2x7vZuiJI8x1DHnselamqGW48L2C2F3HG0hhG37UYDOuMlFkGSpPXjnj8a27bTrWyj8uztIbdNoXbFGFGB0GB25qCPw/pMVrNaxaVZJbznMsS26BJD6sMYP4076/d+Aun3/icjNfXU2nWFjZPdAvqEtvPHdakY2BVCwjFwgZiM4IP3jjBPaum8NfahoqrfXMNzIssih4rgzgKGICmQgFivQkjPHPNW20bT204ae2n2psh0tjCvljnP3cYqzDbR20KQ28SRRINqIihVUegA6U7hYmoooqRhRU9FAEFFT0UAQUVPRQBBRU9FAEFFT0UAQUVPRQBBRU9FAFSb/Vj/AH1/9CFSU64/1Y/30/8AQhUtAEFFT0UAQUVPRQBBRU9FAEFFT0UAQUVPRQBBRU9FAEFRx/6yX/f/APZRVuoov9ZP/vj/ANBFADaKnooAgoqeigCCip6KAIKKnooAgoqeigCCip6KAIKKnooAqD/j5f8A3F/makpy/wDH3J/uL/NqloAgoqeigCCip6KAIKKnooAgoqeigCCip6KAKkf+sl/3/wD2UVJTov8AWT/74/8AQRUtAEFFT0UAQUVPRQBBRU9FAEFFT0UAQUVPRQBBRU9FAEFFT0UAQUVPRQBBRU9FAFSP/WS/7/8A7KKkp0X+sn/3x/6CKloAgoqeigCCip6KAIKKnooAgoqeigCCip6KAIKKnooAgqM/8fKf7jfzFW6ib/j7j/3G/mtADaKnooAgoqeigCCip6KAIKKnooAgoqeigCCip6KAIKKnooAqSf6yL/f/APZTUlOl/wBZB/vn/wBBNS0AQUVPRQBBRU9FAEFFT0UAQUVPRQAUUVwOtTXFj491PWL4WV5aaNo63dvA9oTLGWMobZKXwjEpy23lcDAxknUaV0/662O+ormE1TX9NvEi1p9OuVubSWaI2lvJF5EkYB2Nudt4Ib7w2fd6fNxpeGrrUr/QbW+1d7Uy3USTLHaxMqxBkB2ksx3HJPOF+nejv5f1+hN1p5/1+pq0UUUDCiiigAooooAKKKKACiiigCK4/wBWP99P/QhUtRXH+rH++n/oQqWgAorh/Ef2iLx1Bf3Zs7mw0vS575LaSzMkispXLI2/Cv0w20kDI75q/b6tr9nc2J1ptOmi1GJzGlnBIhtpFjMgVmZ28xcBhuATkDjnhX93m/rr/kw+1b+un+aOporH8K3up6n4etNR1d7TzLyCOdY7WJlEQZASpLMd3JPOB6Y4ydiqaadmJNNXQUUUUhhRRRQAUUUUAFFFFABUUX+sn/3x/wCgipaii/1k/wDvj/0EUASO21SaqXGow2iK91NDArOEVpHCgseABk9T6VZl/wBWa4fxsJr6a3061sri8dYJrjbAUBjfbsjY72XjLseOeOlAHUXev6fYXEdvfahZ200vMcc0yoz844BOTzTbrxDplldpa3upWVvcOAVhlnVHbPAwpOTmuXa9ttSnuL2fy/JuNBSUiTGACXJBzVGwt9UvPOs4LS0na40Wzjne8mZTGSsgztCNu6njI6VXLo/L/N/5E31/ry/zPRklLNggVLVHTrf7LbW9uXaQwxqm9urYGMmr1J76DW2oUUUUhhRRRQAUUUUAFFFFAES/8fcn+4v82qQnCk+gqNf+PuT/AHF/m1SP9xvpQBn32s2elxLLqV5a2cbNtV7iURgn0BJHNJBrdjdLA1rfWsy3O7yDHMrCXb97bg84746Vm+L8f8IZq+7H/HnLjP8AuGszxRBJJeaZPZruuLOCa5hVf4mQxkr/AMCG5f8AgVPTqGvQ663vEuVV4XjljYkBkbIyDg8/WrNcx4JmS48L2c0RykkkrqfUGViK6ehqzsJO6uFFFFIYUUUUAFFFFAEUX+sn/wB8f+gipHbapNRxf6yf/fH/AKCKdL/qzQBH57ego89vQVyOubZ/EF3Bcanc2UUWmCdBDctFtYO/z8EZxx7HuDxUcSXWu3VlDeXl5amXSEndbadosSk/e+Ujpnp09c0LVf15/wCQPR/15f5nZee3oKPPb0Fee6o2tvqN3b/b4UmsLSEi5k1F7REcg5lMaoVcFh0Y44x71Nq9xKs2vXP9p3EVzYNA9tDHcsqbii/LszhgzcYIPtzVWFc7+OQuxBFSVBB978KnqRhRRRQAUUUUAFFFFABRRRQAUUUUAFFFFAEUX+sn/wB8f+gipHbapNRxf6yf/fH/AKCKdL/qzQBH57ego89vQVy/jC9u9Otra60qSRr8OyxWq5ZZ1Kktlc87QNwPtj+Ks/W72bS9D0q40TUbi8neFlBZml8+IpueYrnkrww/75H3hT3X9f1/XkHWx3Hnt6CnJKWbBArhPEN3Lpdrp39k6lcSLNbeXPIZDLtt+N111+8uevfd3xx2lmixpEkbM6qoCszFiwx1JPX60NCuXKKKKQwooooAKKKKACiiigAqJv8Aj7j/ANxv5rUtRN/x9x/7jfzWgCWs6/1qy0uNZNSvbWzjc7Va4lWMMfQEkZrRrG1kA6Ff5AP+jSdf900pOyuNK7sWbHWbPVIWl028tbyNW2s9vKJAD6EgnmrPnt6CuTug7aT4at4p5rdLiaOOUwSFGZfs7kjI57D+Y5p/lXOj6lo9rNqM00El1OqtLISShjYojMT85BBwTzxWjjZtEKWifc6nz29BSrMSwBA5rzprzUr/APs+1hmaaK4mv5MtqMlr5gSfCASorMQFJwo4wPQV2Hh1rhtDsje3MN1Nt+aaGTzFcZ4IbA3cY5wOam2lx9bG3RRRSGFFFFABRRRQAUUUUARS/wCsg/3z/wCgmpail/1kH++f/QTUtAFK+1S202Fp7+5gtYFODLPIEUH6k4qGw1/TtVLjTNQs7wx43i3nWTbnpnBOOlWZAC7ZGea46KSS3+GYktZGglA+WSM4Zf32KBHaee3oKPPb0FclqFncaJ5ckepXTWk1/a/LPOztHl8ON7HO1sr8p46+tUNU1C+d72K0nZ45taS2BN20KhPs6koJFBKZcY+UZySOCaaV9v62/wAwv/X3/wCR3gnbuBU9c34YW7TTpo764hmMdwyxiO7NyY14+RpGUEkHPUZxiukoegIKKKKQwqo+mWcl5PdSW6vLcQLbyl8kPGCxClTxj527c5q3RQBj6f4U0jTHke2gmZnhMANxdyz+XGeqR72PlqcDhcD5V9BjTtbaKztIbW2TZDDGsca5J2qBgDJ56CpaKBWQUUUUDCiiigAooooAKKKKACiiigCK4/1Y/wB9P/QhUtRXH+rH++n/AKEKloArPp9rLffbJIQ0/ktBuJJBjJBK46dQO1Z+neFNH0qYyWdvKCIzFGst1LKsCHqkSuxES8AYQAYAHYVs0UeQeZDZ2kFhYwWdonlwW8axRJknaqjAGTyeBU1FFF76sErKyCiiigAooooAKKKKACiiigAqKL/WT/74/wDQRUtRRf6yf/fH/oIoAfICYyBVQWyCcziFRKyhDJs+YqCSBn05PHvV2igDGl8PaTO0LTaRZyNAMRF7ZCYxnOF44554q4tsizPMsKiVwFZwnzMBnAJ74yfzNXaKAIIlYSAkEVPRRQAUUUUAFFFFABRRRQAUUUUARL/x9yf7i/zapGGVIHpUa/8AH3J/uL/NqloAzL7SrPVIli1OwgvI1bcqXEIkAPTIBB5ottLtLKOKOzsYbdIQwjWKEKEDHLAADjJ5PrWnRQBStLSK0jjgtbdIIU+7HGgVV5zwBxV2iigAooooAKKKKACiiigCKL/WT/74/wDQRT5ATGQKZF/rJ/8AfH/oIqWgDEuvD9jf6iby+tEum8tYxHPGrou1iQwBHX5jzV77Mnn+d5K+bt2b9nzbc5xn09qu0UAZdzpNneXEVxd2EE80BzFJLCGaM/7JIyPwqD/hHrFtUl1Ca0Se4eRZFeaNWMTBQuUOMrwBW3RQBDCpDEkY4qaiigAooooAKKKKACiiigAooooAKKKKACiiigCKL/WT/wC+P/QRT5ATGQKZF/rJ/wDfH/oIqWgCi1qjXCTtApmRSqyFPmUHGQD1AOB+QpkOm21uytBZxRMqlFKRAEKTkgYHQnnHrWjRQBmxaZaQDEFlDGPLEXyRAfIM4XgdOTx05NWLWBbdY44YliijXaqKu1VAGAAOwq1RQAUUUUAFFFFABRRRQAUUUUAFRN/x9x/7jfzWpaib/j7j/wBxv5rQBLVSSHzEaOSPejAhlK5BHpVuigCgbOIrCDboRAQYhsH7s4IyvpwSOOxpt3p9vqFube/tIrqFiCY5og6n8CMVo0UAZVxo9jd2aWl1p1vNbR42QyQKyLjphSMDFW4YfL2IkexFwAAMAAdqtUUAFFFFABRRRQAUUUUAFFFFAEUv+sg/3z/6CalqKX/WQf75/wDQTUtAFd0beeD19Kr/AGCD7L9m+yx+R/zy8sbeuenTrzWhRQBRntUuoHguYFmikG145E3Kw9CD1qEaRYrp39nrp9uLLGPswgXy8ZzjbjFalFAFG2sorO3S3s7dLeFBhI4kCqo9gOBV6iigAooooAh3H1P50bj6n86SigBdx9T+dG4+p/OkooAXcfU/nRuPqfzpKKAF3H1P50bj6n86SigBdx9T+dG4+p/OkooAXcfU/nRuPqfzpKKAF3H1P50bj6n86SigBk5Pljk/fX/0IVJuPqfzqKb/AFY/31/9CFSUALuPqfzo3H1P50lFAC7j6n86Nx9T+dJRQAu4+p/OjcfU/nSUUALuPqfzo3H1P50lFAC7j6n86Nx9T+dJRQAu4+p/OjcfU/nSUUALuPqfzqOMnzJeT9//ANlFPqOP/WS/7/8A7KKAJdx9T+dG4+p/OkJwKbv9qAH7j6n86Nx9T+dM3+1G/wBqAH7j6n86Nx9T+dNDZNLQAu4+p/OjcfU/nSUUALuPqfzo3H1P50lFAC7j6n86Nx9T+dJRQAu4+p/OjcfU/nSUUAMUn7S/J+4v8zUm4+p/Ooh/x8v/ALi/zNSUALuPqfzo3H1P51Bc3cVpay3Fw2yKFC7t1woGSeKkD5xjoaAH7j6n86Nx9T+dJRQAu4+p/OjcfU/nSUUALuPqfzo3H1P50lFAC7j6n86Nx9T+dJRQAyMnzJeT9/8A9lFSbj6n86ij/wBZL/v/APsoqQnAoAXcfU/nRuPqfzpm/wBqN/tQA/cfU/nRuPqfzpm/2o3+1AD9x9T+dG4+p/Omb/ajf7UAP3H1P50bj6n86Zv9qN/tQA/cfU/nRuPqfzpAciigBdx9T+dG4+p/OkooAXcfU/nRuPqfzpKKAF3H1P50bj6n86SigBdx9T+dG4+p/OkooAZGT5kvJ+//AOyipNx9T+dRR/6yX/f/APZRUhOBQAu4+p/OjcfU/nVe4u4rWEy3DbEBAJ68kgD9SKlDZPSgB+4+p/OjcfU/nSUUALuPqfzo3H1P50lFAC7j6n86Nx9T+dJRQAu4+p/OjcfU/nSUUALuPqfzo3H1P50lFAC7j6n86jYn7SnJ+438xT6jP/Hyn+438xQBLuPqfzo3H1P50lN3+1AD9x9T+dG4+p/Omb/ajf7UAP3H1P50bj6n86Zv9qN/tQA/cfU/nRuPqfzpobJpaAF3H1P50bj6n86SigBdx9T+dG4+p/OkooAXcfU/nRuPqfzpKKAGSE+ZFyfv/wDspqTcfU/nUUn+si/3/wD2U1JQAu4+p/OjcfU/nTC2D0o3+1AD9x9T+dG4+p/Omb/ajf7UAP3H1P50bj6n86Zv9qN/tQA/cfU/nRuPqfzpKKACuH8W5t/FWn3mtz30OjIV8qe0uHjS3kCSlzKIyGwRsO5gUAV920E7u4rB1/wt/wAJBcR+fq19BZ4Kz2UJj8udSrKwyVLrkOQSrDjpg8hrdB01N4HPSikVQqhVGABgD0paQBRRRQAUUUUAFFFFABRRRQAUUUUARzf6sf76/wDoQqSo5v8AVj/fX/0IVJQBxfjeNxqenz6k+oLoqn95Jp88kRgk5+d/KYSEYwBjIXDFgBzXZRsrxI8bh0ZQVYHIYeuayNd8PPrcsBXV76xiQ/vYbfyysw54O5SVOCRlSDz7AjVt4IrW2it7dAkUSBEUfwqBgD8qUdFbz/r/AIAP4r+RJRRRTAKKKKACiiigAooooAKKKKACo4/9ZL/v/wDsoqSo4/8AWS/7/wD7KKAHt901y/ibS/7QvreV7KHVYYYXElhJKFYbiMSoDwWGCBnHXgjv1DfdNZmpaJYasyPexOXjUqrxTPE209VJQgkHA4PFAHOXbvBZ6bqGgPK66pbR2PmTHLgsMxStnqVy+e5zVHWNGeA6xDpqqtrFp8cEyk4/dKhYfX7pX/gZNdudNszb20AgVYbRlaBEyoQqMLgD09KJNOtZvtXmRZ+2J5c/zH51wRjrxwT0pyd07f1/WoR0av8A1/Wg/Tf+Qda/9cV/9BFW6ihjWJEjjGERQoHoBUtEndtiirJIKKKKQwooooAKKKKACiiigCMf8fL/AO4v8zUh6Gox/wAfL/7i/wAzUh6GgDkvH9i994dby/s8hgEkxtrhsLMBGwOOvK53DjGVHTqNLwubUaKiWMMttHHLIht5SCYGDncgxxtBzjHGMVLrmiW2vaa9rc7kba3lSozK0TFSuQQQehORnBHBq1p9hb6bapbWiFY1Jb5nLMxJySWJJJJOck076WE90XKKKKQwooooAKKKKACiiigCOP8A1kv+/wD+yint900yP/WS/wC//wCyint900Ac7qlxfy649rZXxs47ay+0nbGjeaxYgBtwOFG3tg89apafrd/NZySS3GWXQoLsHYo/esJNzdP9kcdOOlbepaHY6rIkt3ETKiMiusjL8p6qwUjcvH3TkVVXwpp0um2Nrfo1w1pbLb+YsjxeYoABDBW+ZTjO05FP7LX9df8AgB1v/XT/AIJgav4g1WGxe7sJr2VrOyjnnWG3g8kOU3HzWdgxyO0YGB61b1PUtVjm1i7t9QMUOmvCyW3koVkBRWZWJG7BycYII9+lbV74a0nUZpJbu1LGWPypFWV0WRcEDcqkAkZ4JGR2xViXSLGeO7SWDct5t88b2G/AAHfjgDpVXVybO1jDk0+7fx+XTWLyNfsYfy1jhIC+Z9zmMnb+OfeqN3q2rw3Esyak3lLcOBD5MeNqXKR7c4zgq5z34GCOc9Vd6TaXt5BdTrIJ4PuPFO8ZxkHB2kbhkDg5FMk0PTpQwkt8hmZj87dWcSHv/eUH8PSpi7Wv0uNq97eX5GHFqepmeHUWvc282qPZfYfKTaqCRowwbG7dld3XGMjHeqyTX19d6LqF1fGSObVpVS18pQsIVJlGCBuJwvOSfbFdGvh/TE1T+0FtiLjeZP8AWPsDkYLhM7Q2P4sZ96ZH4b0qLUBex2xWZZjOv719qyEEFgmdoJ3HOBz1NNNK39dv6uDvd/13NhOlLSJ0pakYUUUUAFFFFABRRRQAUUUUARx/6yX/AH//AGUU9vummR/6yX/f/wDZRT2+6aAOP8eWDXlvaSrDb3q277nsZ2A80FkG5QeNw6c8Yc8itvw61s2g2f2ATC3CbUWc5dMEjafoRj8KbregWuuQxrcF45YmBjmikZGUZBIypBwcD9D1Aq9Z2kNjaxW1pH5cMQwq5JwPqeSfc0+lhdS1RRRSGFFFFABRRRQAUUUUAFFFFABUZ/4+U/3G/mKkqM/8fKf7jfzFAElcv4zt/tVrpkH2O3vd+oIPs9y22OT5H4Y7W/ka6iqtxaQ3TQtcJuMEglj5I2sARnj2Jo6oOjOanWbSNKtbKwsU0m5uZ2P2XRkjlLgLkkNIqIvQZLA+g61RuSNa8FpfavapJf2d75SSzRJ5ibbkJn5chWIAztOM9OK63UdKtNVSNbyNyYm3xvHK0bocY4ZSCODjrzTF0XTl0qXTVtlFnKWLxAnB3HJ5zkc88dKq4rFHxJLqkZtf7ON2ltlvtEllFHJMvA24WTI29c4BPSsq61rU7r+y7fS57y5860e4kuLG3hSRyGVRlJ2wo5OQOc+lbknhrTZbaKGRbpvJLGOU3s3mru6jzN+/BwOM44p0/hvSri1trdrYxpaqUhMErxMinqu5CDg45Gee9LQNS1pEl5LpVq+qRCG8aIGeMYwr456Ej9TV6oLW3itYI4LaNYoYlCIiDAUAYAFT0PcFsFFFFIYUUUUAFFFFAEcn+si/3/8A2U1JUcn+si/3/wD2U1JQBz3jVPM8K3SeUk254h5chwr/AL1eDweD9DVMQHQNCu5YtKsNEnleOOP+zFE7SMWCgYKRjdk4GcgZyeOK6O8tIb6BoLpN8ZZWK5I5BDDp7gU2+sbfUrN7W9j8yJ8EjJBBByCCOQQQCCORQgOOkMmr+HvEFn4gtZLg2EZkgOoQwmVSYiQT5eUyOcEYPNbmovqSeGrQ6QJfMxF5hgVGlWPHzFA/ylunX361fs9GsLGOZLeA4uAFmMkjSGTAI+YsSScHqarp4Z0tLA2YjnaDcroHu5WMZHAKMWymP9kinff5fgLt8/xMKbW9QOm2NvZXN9dXE93JDK6WsUVzGFQttKyER7umTjBHQd66HQZNRl0lTrETxXId1/eBAzIGO1mCEqCRjODjNMPhvSjp62X2dhEsvnKwmcSCTu/mbt+7tnOccVdsrG3060S2sohHEmcLkkkk5JJPJJJJJPJp3QrMuUUUVJQUVLsX0o2L6UARUVLsX0o2L6UARUVLsX0o2L6UARUVLsX0o2L6UARUVLsX0o2L6UARUVLsX0o2L6UARUVLsX0o2L6UAVpv9WP99f8A0IVJSzovljj+NP8A0IVJsX0oAioqXYvpRsX0oAioqXYvpRsX0oAioqXYvpRsX0oAioqXYvpRsX0oAioqXYvpRsX0oAioqXYvpRsX0oAiqOP/AFkv+/8A+yirOxfSo4kXzJuP4x/6CKAEoqXYvpRsX0oAioqXYvpRsX0oAioqXYvpRsX0oAioqXYvpRsX0oAioqXYvpRsX0oAioqXYvpRsX0oAioqXYvpRsX0oArD/j5f/cX+ZqSlVF+1ScfwL/Nqk2L6UARUVLsX0o2L6UARUVLsX0o2L6UARUVLsX0o2L6UARUVLsX0o2L6UARUVLsX0o2L6UAVo/8AWS/7/wD7KKkpYkXzJuP4x/6CKk2L6UARUVLsX0o2L6UARUVLsX0o2L6UARUVLsX0o2L6UARUVLsX0o2L6UARUVLsX0o2L6UARUVLsX0o2L6UARUVLsX0o2L6UARUVLsX0o2L6UARUVLsX0o2L6UAVo/9ZL/v/wDsoqSliRfMm4/jH/oIqTYvpQBFRUuxfSjYvpQBFRUuxfSjYvpQBFRUuxfSjYvpQBFRUuxfSjYvpQBFRUuxfSjYvpQBFRUuxfSjYvpQBFUZ/wCPlP8Acb+YqzsX0qNkX7VHx/A381oASipdi+lGxfSgCKipdi+lGxfSgCKipdi+lGxfSgCKipdi+lGxfSgCKipdi+lGxfSgCKipdi+lGxfSgCKipdi+lGxfSgCtJ/rIv9//ANlNSUsqL5kPH8Z/9BNSbF9KAIqKl2L6UbF9KAIqKl2L6UbF9KAIqKl2L6UbF9KAIqKl2L6UbF9KAHUUVga/e6vZ6rpQs5LWKwmu44Z9yl5ZC2flHQIBgc/MTnHy4yTql30Do32N+iiigAooooAKKKKACiiigAooooAKKKKAIrj/AFY/30/9CFS1Fcf6sf76f+hCpaACiud8W3+r6fFYy6XJbQ27X1tFcPIpeRledEKKOi5DHLHPoBk7h0VHS4BRRRQAUUUUAFFFFABRRRQAUUUUAFRRf6yf/fH/AKCKlqKL/WT/AO+P/QRQBISFXJ6Uzz19DSy/6s1x3iC/udP8T2dwk8i2ccBFxEGO0h3CByPVWKnPYZo6h0udh56+ho89fQ1w2iX13LZwtLdTOT4fhmJaQnMh3Zf/AHvfrWbPd6w2m3Mltc3Tq+lQCRxK37lvL3mQHPykgOMjnJWm1a/l/wAH/IXVL+un+Z6Ysqs2BnNPrP0xi9nas5LM0SkknJJ21oUNWdgTurhRRRSGFFFFABRRRQAUUUUARL/x9yf7i/zapScDJqJf+PuT/cX+bVI/3G+lADPPX0NHnr6Gud8QeZNd6TYieaGG7uWWYwSGN2VYnYAMuCOVHQg1SvNNk/tTSdMn1K/eEpctvS6kidgNu0MyEFsA4yevemB2AmVmxzT657wpdzXug28l1I0sqySRGRurBJGUE++FGa6Gh6MEFFFFIAooooAKKKKAIov9ZP8A74/9BFSEhVyelRxf6yf/AHx/6CKdL/qzQAnnr6Gjz19DXPajfam+r/2fo/2VHjt/tDtcozB8sVCDaRjofmOcccGq9/q+rm6lg06K0hktLJLq4S5DPuLbsRqVIx9xvm57cUdLh1t/X9anU+evoaPPX0NcPd+KdVZJrjT1s1txHuRZo3Zv+PcT8kMB2K/iD2wZrrxFqqLqF3bpZi008RSSRurGSRGjV2AYEAEZODg56YHWq5Xewrpq52Xnr6Gjz19DXJXOvalHc3V1Clr/AGdZ3kdrJGyt5sm7YC4bOBguOMHODyM1NNr11HbXcixw5h1WKyXKnlGeNSTz1w59unFJK/8AXp/mgv8A19/+R0/nr6Gjz19DXIW+u6q11FNMtmbKTUpbHy0RhIMO6q+7dj+EZGPfPaoRquq3t7pNy8kMVjcanJEkUO4PsVJR85zhslc4wMYHWhK4PS6/r+tDuFYOuRS1HB9w/WpKQwooooAKKKKACiiigAooooAii/1k/wDvj/0EVISFXJ6VHF/rJ/8AfH/oIp0v+rNACeevoaUTKzY5rA1S+v11ay07S/s6SzxyTSSXCM4CIVGAARyS45zxg8Gl8JzzXHhyylunZ5m3b2ZyxzvPc9afS4dbHQ0UUUgCiiigAooooAKKKKACiiigAqJv+PuP/cb+a1LUTf8AH3H/ALjfzWgCWozMvvUlcn4vklW009IlvHEt8iPHZTmGSRdrHaG3LjoD94dKOoHUeevoaPPX0NchLfS6PosItkuLGWecqE1Rpb6b7uflSN3ZunQMABk+xq3N/LrPhKLVWkuLa6troRf6PLNArEThCTHkHBA+64JGSKdhXO589fQ0eevoa5vxJq15pZtRamKCKUt5t3NbSTpFgDAKoQRnJ5JAGKoah4ou4l06K2e2MtzbNcPPBaz3sRAIACiPBwc/ePTHei1xnaLKrNgZzT6y9FvJb/TbS7uLd7aWaIO8LggoSORggH8xWpQ9HYNwooopAFFFFABRRRQBFL/rIP8AfP8A6CalqKX/AFkH++f/AEE1LQAwzKrY5pPPX0Nc/wCMZZYfDd28DTK++MD7PIUkIMighWBGCQcdR1qlDOdI0S8uktr6xcFFX+2LxrkEk4G0LJIe/wB0YLHA96AOt89fQ0eevoa4VtTm1zw9rSXUs8c+nIZI57VbixLHyyykoxDDB7EkHg1r6nqV5YeHLW4tE8yR/LWSV4nmESkcuUT5m/D1p2/T8Rf8H8Do/PX0NAmX3ri5/FN1FpNk8c9ncT3dw8QubW2mnRVVSxJhX593GCueOua29B1C41PSVuLyBoJt7oQYni3gMQHCuAwBGDg9M96LMLm7RRRSGFUdT03+0jZ/vfL+y3SXH3c7tufl68detXqKA8gooooAKKKKACiiigAooooAKKKKACiiigCK4/1Y/wB9P/QhUtRXH+rH++n/AKEKloAz9b0r+2LGK387yfLuoLjds3Z8qVZNuMjrtxntnvWhRRR0sAUUUUAFFFFABRRRQAUUUUAFFFFABUUX+sn/AN8f+gipaii/1k/++P8A0EUAOl/1ZrIvtHttReY3O8ia2a1dQQBtY5JHHX3rapNi/wB0flQBy7+Erb7Ha29vfX1t9ntRZl4ZFDTRAfdbKkfiMHk4Iq5/YdoLe7gTzEjurdbdlUj5EClRt49D3zW5sX+6Pyo2L/dH5U277gtHcq2kQgWKJMlY1CgnrgDFW6QKB0AH4UtLcNgooooAKKKKACiiigAooooAiX/j7k/3F/m1SP8Acb6VGv8Ax9yf7i/zapaAMbU9Lj1OOHM81tNbyeZDPAQHjbBBxuBByCRggjmqMnhiNo7TyNTv7ea28w/aEaNnkMhBYtvRhyR2Ax2rpti/3R+VGxf7o/KgDO02xh020gtLUMI4uBuOSeckk9ySST9a0qQKB0AH4UtABRRRQAUUUUAFFFFAEUX+sn/3x/6CKdL/AKs02L/WT/74/wDQRUtAGDqWhx6jcrcJeXVlN5Zhd7Z1BkjJztO5T37jBGTg1De+Gba7K+VdXdmPs4tpBbSAebEOituBPGTyMHk810exf7o/KjYv90flQBzs3hqxmSVN0saS5+VGGFHk+Tgcf3f1/KqZ8Jie+vGuLy4WznaH9xFIMTKiKMSZXjkfwkZHX0rrti/3R+VGxf7o/Knd3uKytY5yfw1bXGoPcNc3SwyTJPLaK6+TJIuNrEY3fwrwCAcDINLL4btpdSN0bm6ETzrcvaBl8l5VxhyMbs/KpwCBkA4roti/3R+VGxf7o/Ki7QWMJdCtlhSMPNhL1r0cj77MzEdOmWPv71Xh8L20N9FOl3eGOC5a6htjIvlxuwYNj5c4O8nBJx2xXS7F/uj8qNi/3R+VF7DeoyD7h+tSUAY6UUgCiiigAooooAKKKKACiiigCKL/AFk/++P/AEEU6X/Vmmxf6yf/AHx/6CKloAw9S0ePUbi2uBc3FpcW+4JLbsoJVsblO4EEHA7Z4GCKsaTp0WlWEFjbNI0UPCmRssec8nv1rT2L/dH5UBQOgA/CgBaKKKACiiigAooooAKKKKACiiigAqJv+PuP/cb+a1LUTf8AH3H/ALjfzWgCWsq8sIr17ZpWcG2mEybSOWAIwfb5jWrSbVPVR+VAGNqelJqTW8gubi0nt2LRT25XcuRgjDAggj1FQr4etF0SfS/MnMMztIZC+ZAzPv3BsdQ3Izn8a39i/wB0flRsX+6PyoA5+TRJ5LaJDrmpiaMti4VogzA9iuzYenB25HrUTeF7ZLezSyvLyyktI2iSeB1LsjEFg25SDkgHOMg9MV0uxf7o/KjYv90flTuBUsoRbxxQo0jrGoUNI5djgdSx5J9zVykCgdAB+FLSAKKKKACiiigAooooAil/1kH++f8A0E1LUUv+sg/3z/6CaloAzNTsItStXtp2dUZ1YlCAcqwYdfcUzU9Oi1SxNtM8kY3K6SRNhkZWDKwzkZBA6gitUqD1AP4UbF/uj8qAMG10G3t47xZp7i7a+QJcPOwJfClf4QAOD2AFMi0GSLTvsn9s6k2xlMU2+MPFgYAGEAYezhs10Oxf7o/KjYv90flQBzX/AAi9uLRI0vbxblLhrkXodfN8wjaT93bgrxjbjHatOytfsVokHnzXBXJMs773Yk5JJ/oMAdAAK0ti/wB0flRtUdFH5U7isLRRRSGR+YfajzD7UyigB/mH2o8w+1MooAf5h9qPMPtTKKAH+YfajzD7UyigB/mH2o8w+1MooAf5h9qPMPtTKKAH+YfajzD7UyigBJ3JjHT76/8AoQqTzD7VBN/qx/vr/wChCpKAH+YfajzD7UyigB/mH2o8w+1MooAf5h9qPMPtTKKAH+YfajzD7UyigB/mH2o8w+1MooAf5h9qPMPtTKKAH+Yfao4nPmTdPv8A/sopajj/ANZL/v8A/sooAn8w+1HmH2plJuHrQBJ5h9qPMPtUe4etG4etAEnmH2o8w+1MBB6UUAP8w+1HmH2plFAD/MPtR5h9qZRQA/zD7UeYfamUUAP8w+1HmH2plFACK5+1P0+4v82qTzD7VAP+Pl/9xf5mpKAH+YfajzD7VHuHrRuHrQBJ5h9qPMPtUe4GloAf5h9qPMPtTKKAH+YfajzD7UyigB/mH2o8w+1MooASJz5k3T7/AP7KKk8w+1QR/wCsl/3/AP2UVJQA/wAw+1HmH2qPcPWjcPWgCTzD7UeYfao9w9aNw9aAJPMPtR5h9qYCD0ooAf5h9qPMPtTKKAH+YfajzD7UyigB/mH2o8w+1MooAf5h9qPMPtTKKAH+YfajzD7UyigB/mH2o8w+1MooASJz5k3T7/8A7KKk8w+1QR/6yX/f/wDZRUlAD/MPtR5h9qj3D1o3D1oAk8w+1HmH2qPcPWjcPWgCTzD7UeYfamAg9KKAH+YfajzD7UyigB/mH2o8w+1MooAf5h9qPMPtTKKAH+Yfao2c/ak6fcb+a0tRn/j5T/cb+YoAn8w+1HmH2plJuHrQBJ5h9qPMPtUe4etG4etAEnmH2o8w+1R7h60bgaAJPMPtR5h9qZRQA/zD7UeYfamUUAP8w+1HmH2plFAD/MPtR5h9qZRQAkrnzIen3/8A2U1J5h9qgk/1kX+//wCympKAH+YfajzD7VHuAo3D1oAk8w+1HmH2qPcPWjcPWgCTzD7UeYfao9w9aNw9aAJPMPtR5h9qZRQAVzF14ju7HxXqNmun32pQw2tvMsVpHH+6DGXexZ2UH7q/KCW9B1rp65++0LVW1u71HSNYhszeQRQSJNZedtCFzuUh1w3z98gY6Gk79BMp6x4mU6dqNxo97MzrpkN7A3loYgsjOFZcjcWO05DcYAxzmp7fWZTql1Dd3M4VdZFpAsSR4Km3V9rZGduSxyPmzjnHFNm8FQm1uba1umhgl0yDTo1ZN5jWJnIYnI3Z34xx096tf8I1/pz3P2v72qDUNvl+kIi2Zz7Zz+GO9U7c2m3/AAV+lxSvfT+vdf6jYfF0E95Go06/Sxln+zxak6xiCSTO0ADf5mCw2higUnGDgglkfjO2lvViGmaitsb17Br5o0EKTK5Tafn3kFgAGCkZYAkHIDLfwteRGGym1SKbRre4WeC1+yYmUq+9EMu/BVWxjCA4ABJ5JnHhjGl/Y/tf/MVOo7/K/wCnjztmM/8AAc/jjtSj0v8A1t/wfwKfwu2//D/8D+tt6iiigAooooAKKKKACiiigCOb/Vj/AH1/9CFSVHN/qx/vr/6EKkoA5zUNevLDxXJZQWN5qKfYEmS2tEjyG8xgzF3ZVHAXgtk9gcGqut+KF/sW5vNIurhJW0mS8gDRJsXaQMkMNwcE4weOuRmtHUtG1SXWm1PRtUt7OVrZbZkubMzoQGZt3EiHPzcc465B4xTufBSTaebSO/kAOmSWBkkjDMxdgxkOCBnIPAAHPalHpfz/AFt+gql9eXy/S/6j5Nalh1LUUuridYYdQtLeEQIhI8xU+U7h90s3J6gdKl/4S+3+2bRp1/8AYPtP2T+09sYg83dsxjf5mN/ybtm3PfHNPuvDX2m5uZfte3z722u8eXnb5Oz5evOdnXtnoarp4WvEY2X9qRHRTdfaRam0/fA+Z5uzzd+Nm/tszjjd3px217/5f8ENfw/z/wCAP/4TK2F95J03URbC9+wvfGNBCk27aAfn3EEkAMqkZYAkEEDoqwZfDPm6ZJafa8b9TXUN/ldMTrLsxn/Zxn8cdq3qF8Kvv/wF+tynvoFFFFAgooooAKKKKACo4/8AWS/7/wD7KKkqOP8A1kv+/wD+yigB7fdNczrOsXeneJ7FBKBYPCVnUqOGZgqNnr97Ax0+aumb7prG1XQk1V7gyzFFmtGtsBclSWBDg56ggcUuv9dg6f13MrSNav7q1ieefczaJFdk7FH71t2W4HsOOlZtx4j1mKymeOdmMmmwvGwiU+VMY97P0xyu44PHygd62B4VureytIbDVVhkisFsJpHtt4kRR95RuG1uT3I56Gri+Hkjsr61hnKx3VolquVyYwqFAevPX2q5Ws7f1q/+AJfEr7f8N/wTUsZGls7eSQ5Z41Zj6kirNQWsXkW8UOd3loFzjGcDFT0pWu7BG9lcKKKKQwooooAKKKKACiiigCMf8fL/AO4v8zUh6Gox/wAfL/7i/wAzUh6GgDD124uhPptlZXLWjXtwY3nRFZkVY2f5QwIydoHINUrpdY+3aZpr6xJC8iztJcW8Me6QLt2ZDqQDhucAc+lamraZLf8A2WW0uVtrq0l82KR4vMXJUqQy5GQQx6EVRm0LUy1jcQaxH9stvN3y3FqZFfzCMgKHXaBjAGTx60xdS54cv5tT0OC4uipm3PG7KMBijlM47Z25x71r1n6RpyaVpsNnG7SeXks7AAuzEsxwOmSSa0KHuC2CiiikMKKKKACiiigCOP8A1kv+/wD+yint900yP/WS/wC//wCyint900AYWp63eWmoy2mn6at48VqLli1x5eV3MNo+U5Py8dvUioLjxPKwVtI0/wC2otml7MXn8orG2doUYO5jtbjgcdaNT0nVLvxBNPYXa2UUlisBlaIS5O9iQBuBDAEYPI56Gi48MSqFXSNQ+xI1mllMHg80tGudpU5G1hubnkc9Ka+Hz/4f/gA9/wCvL/glWbxNeQ3eoXVtai8063toLk5kEbRxsrMxUbTuOBnBIHHWr+r6hfW15YmO3jNjNcxIZkuismWOMFPLIK8/3hVa68KTSfaobLUhbWd3bxWs0Rt97eWgK/K24YJDYyQcelWtThu76+s7KCxkjtre4ine7eRNhCc7VUEsTnA5AHXn1r3eZW7/AIEe9y672/E3E60+mJ1p9QWFFFFABRRRQAUUUUAFFFFABRRRQAUUUUARx/6yX/f/APZRT2+6aZH/AKyX/f8A/ZRT2+6aAMjWtbTQ1huLuImyYlZZ1OTE2Pl+XHIY8Z9SB34rXniOTS7Gzu9V097eK4jO8I/mNFLjKRkAcluRn+9gc5BqzrGiR64YYb2TdYpuMlsF/wBa2MKS2ei8nGOuD2qrdeGm1OztLXWL9rqG3iZWATY0kmMLISD1UZx/tHPYANWtr/X9f5eYdQv/ABHNpMNs2o6cyNcw/u0il35uO0HQcnPDdOD07u1TxDJo7Qrd2BZ7iLEAik3eZcf88egxnOQ3cBuBimXvhqTVYrddU1BpjbwbYmji2FZ/+e/U/MMDA7Zb14dqXhx9XaNtQviXggAgMUezyp8588DJ54GB2G4ZOaen9f1/WnmLX+v6/rXyNyEuVQyqFcj5lU5APcZ4zUtQwB1jQTMryBQGZV2hjjkgZOPpmpqlgtgooooGFFFFABRRRQAVGf8Aj5T/AHG/mKkqM/8AHyn+438xQBJWRr8d0dJnmstQnsZII3kDQpG2/Ck4O9W4+mDWvVS8t/tdjPbbtnnRtHuxnGRjOKUr2dhxtfUw4dQvtM0jTGkll1e61KRUXz2jiEZaJn6ogG3K+hPPfGKs2mvTSz2dvd6e1tPPPLBIpk3BCilsqcDcpAGDx1qd9H3w6TH5+P7NkWTOz/WYjZMdePvZ79KXVtMmvmtZ7K6W1urSQvE7xeYhypUhlyMjB7Ec1pJq7ISdkZF541itoIMx2kM081xGv229EEYWGQoTvKnk8EKB3PpmtzRtTi1nSbbULcbUnXIG4Ngg4IyODyDyOtZS+GJ7aGzksNQWO9t/O3zTW/mJL5rb3ygYY+YAjB4xjmt20ikgtoopp2uJFUBpWUKXPrgAAUtLD1uWaKKKkYUUUUAFFFFABRRRQBHJ/rIv9/8A9lNSVHJ/rIv9/wD9lNSUAYniq9n0/wAO3NzazPBIrIBJHGHZQXUEhSDk4J4waqWWpNbaTe3i3uoaj5WONSt1sgnvuaOMbeck89OOeDravp/9qae9r5vlbnRt23d91w3TPtimazpn9raabZZvJcSJKjlN4DIwYZXuMjkZH1FCAwD4hm1vw9qk2n3yWdzpqs5l0+eK6ik+QsAHZMEeowCMVq6lrh0nQbW8kSOSSYxx5mlEUYZh953wdo98HsKS20F1j1L7fdi4fUowkpji8sLhSvyjJ4we5P1NEel6uuki0k1a3aWMqI5BY/KygY2upc7s+qlaemvy/wCCLXT5/wDAKt74rbTtKtbi9t7S3nupjFH51+q25ABO/wA7H3SBx8uc8Y71paDrMWu6Ut7CEA3vGwjkEi7lYg7WHDDjIPpWZD4UltrKH7LfRRXsN090si2o8kF1KsvlBuFwf72c85rdsYJ7ezSO7uftUwyWl8sICSc8KOgHQdT6k9aegtS5RRRUlBRUvlj3o8se9AEVFS+WPejyx70ARUVL5Y96PLHvQBFRUvlj3o8se9AEVFS+WPejyx70ARUVL5Y96PLHvQBFRUvlj3o8se9AFab/AFY/31/9CFSU9oVcYJPUH8jmneWPegCKipfLHvR5Y96AIqKl8se9Hlj3oAioqXyx70eWPegCKipfLHvR5Y96AIqKl8se9Hlj3oAioqXyx70eWPegCKo4/wDWS/7/AP7KKs+WPemrCqliCfmOT+WP6UAMpNo9Km8se9Hlj3oAh2j0o2j0qbyx70eWPegCIADpRUvlj3o8se9AEVFS+WPejyx70ARUVL5Y96PLHvQBFRUvlj3o8se9AEVFS+WPejyx70AVh/x8v/uL/M1JTxCoctk5IA/LP+NO8se9AEO0elG0elTeWPejyx70AQ7QKWpfLHvR5Y96AIqKl8se9Hlj3oAioqXyx70eWPegCKipfLHvR5Y96AK0f+sl/wB//wBlFSU9YVUsQT8xyfyx/SneWPegCHaPSjaPSpvLHvR5Y96AIdo9KNo9Km8se9Hlj3oAiAA6UVL5Y96PLHvQBFRUvlj3o8se9AEVFS+WPejyx70ARUVL5Y96PLHvQBFRUvlj3o8se9AEVFS+WPejyx70ARUVL5Y96PLHvQBWj/1kv+//AOyipKesKqWIJ+Y5P5Y/pTvLHvQBDtHpRtHpU3lj3o8se9AEO0elG0elTeWPejyx70ARAAdKKl8se9Hlj3oAioqXyx70eWPegCKipfLHvR5Y96AIqKl8se9Hlj3oAiqM/wDHyn+438xVnyx700wqXDZOQCPzx/hQAyk2j0qbyx70eWPegCHaPSjaPSpvLHvR5Y96AIdo9KNoFTeWPejyx70ARUVL5Y96PLHvQBFRUvlj3o8se9AEVFS+WPejyx70ARUVL5Y96PLHvQBWk/1kX+//AOympKe0KsVJJ+U5H5Y/rTvLHvQBDtBo2j0qbyx70eWPegCHaPSjaPSpvLHvR5Y96AIdo9KNo9Km8se9Hlj3oAioqXyx70eWPegB1FFFABRRRQAUUUUAFFFFABRRRQAUUUUAFFFFABRRRQAUUUUAFFFFABRRRQAUUUUAFFFFABRRRQAUUUUAFFFFABRRRQAUUUUAFFFFABRRRQAUUUUAFFFFABRRRQAUUUUAFFFFABRRRQAUUUUAFFFFABRRRQAUUUUAFFFFABRRRQAUUUUAFFFFABRRRQAUUUUAFFFFABRRRQAUUUUAFFFFABRRRQAUUUUAFFFFABRRRQAUUUUAFFFFABRRRQAUUUUAFFFFABRRRQAUUUUAFFFFABRRRQAUUUUAFFFFABRRRQAUUUUAFFFFAH//2Q==)"
   ],
   "metadata": {
    "id": "grr0H_TiWixA"
   }
  },
  {
   "cell_type": "markdown",
   "source": [
    "#Extracting clauses using tagged text."
   ],
   "metadata": {
    "id": "G-fS8N0RhRYb"
   }
  },
  {
   "cell_type": "code",
   "source": [
    "from spacy.symbols import nsubj, VERB, dobj, pobj, NOUN,PROPN, PERSON\n",
    "\n",
    "persons, nouns,verbs = [],[],[]\n",
    "subjs, dobjs, headVerbs = [],[],[]\n",
    "\n",
    "for token in doc:\n",
    "\n",
    "    if token.pos == NOUN or token.pos == PROPN: nouns.append(token)\n",
    "    if token.pos == VERB: verbs.append(token)\n",
    "    if token.ent_type == PERSON: persons.append(token)\n",
    "\n",
    "    if token.dep == nsubj: subjs.append(token)\n",
    "    if token.dep == dobj: dobjs.append(token)\n",
    "\n",
    "    if token.dep == nsubj and token.head.pos == VERB:\n",
    "        headVerbs.append(token.head)\n",
    "\n",
    "    if token.dep == nsubj and token.head.pos == VERB:\n",
    "      print([child for child in token.head.children]) # Tree navigation\n",
    "print(subjs, headVerbs, dobjs)"
   ],
   "metadata": {
    "colab": {
     "base_uri": "https://localhost:8080/"
    },
    "id": "lFmrndRLhUt9",
    "outputId": "5d1e23f4-db3f-403d-dd1a-013e9bde3568"
   },
   "execution_count": null,
   "outputs": [
    {
     "output_type": "stream",
     "name": "stdout",
     "text": [
      "[Journal, just, piece]\n",
      "[Journal] [published] [piece]\n"
     ]
    }
   ]
  },
  {
   "cell_type": "markdown",
   "source": [
    "#Matching patterns using tags from Spacy"
   ],
   "metadata": {
    "id": "M-sj03SLhZMj"
   }
  },
  {
   "cell_type": "code",
   "source": [
    "from spacy.matcher import Matcher\n",
    "doc = nlp('I scored a try and he talked about it')\n",
    "matcher = Matcher(vocab = nlp.vocab)\n",
    "p_v= [{'POS': 'PRON'},{'POS': 'VERB'}] #pronoun followed by a verb\n",
    "about = [{'POS': 'VERB'},{'LEMMA':'about'}] #verb followd by the token \"about\"\n",
    "matcher.add('pronoun+verb''about', patterns=[p_v,about])\n",
    "\n",
    "result = matcher(doc,as_spans=True)\n",
    "print(result)"
   ],
   "metadata": {
    "colab": {
     "base_uri": "https://localhost:8080/"
    },
    "id": "Q1Rb2uAMhdpc",
    "outputId": "1579ef24-e059-4a85-c385-6aab9b2779db"
   },
   "execution_count": null,
   "outputs": [
    {
     "output_type": "stream",
     "name": "stdout",
     "text": [
      "[I scored, he talked, talked about]\n"
     ]
    }
   ]
  }
 ]
}
