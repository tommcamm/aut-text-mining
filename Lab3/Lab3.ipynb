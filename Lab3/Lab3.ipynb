{
 "cells": [
  {
   "cell_type": "markdown",
   "source": [
    "# Lab 3 - Text Mining - Pre-processing II\n",
    "\n",
    "### 3.1 - Get a random paragraph from a online newspaper.\n",
    "\n",
    "From [NZ Herald](https://www.nzherald.co.nz/)\n",
    "Article Name: Rowing NZ, the Maadi Cup and the quest for school supremacy\n",
    "Author: Dana Johannsen of RNZ\n",
    "[Article Link](https://www.nzherald.co.nz/sport/sailing/rowing-nz-and-the-quest-for-school-supremacy/UUPIFI32OJGGNFFCN6UNOWJI5I/)\n",
    "\n",
    "Choosed Paragraph: \n",
    "```text\n",
    "Lately, however, many in the sport are questioning whether it has become too highlycharged.\n",
    "```\n",
    "\n",
    "### 3.2 - Manual tag of the paragraph\n",
    "\n",
    "- *Lately*: **RB**\n",
    "- *,*: **,**\n",
    "- *however*: **RB**\n",
    "- *,*: **,**\n",
    "- *many*: **JJ**\n",
    "- *in*: **IN**\n",
    "- *the*: **DT**\n",
    "- *sport*: **NN**\n",
    "- *are*: **VB**\n",
    "- *questioning*: **VBZ**\n",
    "- *whether*: **IN**\n",
    "- *it*: **DT**\n",
    "- *has*: **VBN**\n",
    "- *become*: **VBD**\n",
    "- *too*: **RBS**\n",
    "- *highlycharged*: **JJ**\n",
    "- *.*: **.**\n",
    "\n",
    "### 3.3 - Automatic tagging with nltk\n",
    "\n"
   ],
   "metadata": {
    "collapsed": false
   },
   "id": "3e67d37d17423351"
  },
  {
   "cell_type": "code",
   "outputs": [
    {
     "name": "stderr",
     "output_type": "stream",
     "text": [
      "[nltk_data] Downloading package averaged_perceptron_tagger to\n",
      "[nltk_data]     C:\\Users\\tommc\\AppData\\Roaming\\nltk_data...\n",
      "[nltk_data]   Package averaged_perceptron_tagger is already up-to-\n",
      "[nltk_data]       date!\n"
     ]
    },
    {
     "data": {
      "text/plain": "True"
     },
     "execution_count": 5,
     "metadata": {},
     "output_type": "execute_result"
    }
   ],
   "source": [
    "# Imports and Dependencies\n",
    "import nltk\n",
    "\n",
    "nltk.download('averaged_perceptron_tagger')"
   ],
   "metadata": {
    "collapsed": false,
    "ExecuteTime": {
     "end_time": "2024-03-18T01:39:00.091152Z",
     "start_time": "2024-03-18T01:39:00.080145Z"
    }
   },
   "id": "74cc25b36b71d4fb",
   "execution_count": 5
  },
  {
   "cell_type": "code",
   "outputs": [
    {
     "data": {
      "text/plain": "[('Lately', 'RB'),\n (',', ','),\n ('however', 'RB'),\n (',', ','),\n ('many', 'JJ'),\n ('in', 'IN'),\n ('the', 'DT'),\n ('sport', 'NN'),\n ('are', 'VBP'),\n ('questioning', 'VBG'),\n ('whether', 'IN'),\n ('it', 'PRP'),\n ('has', 'VBZ'),\n ('become', 'VBN'),\n ('too', 'RB'),\n ('highlycharged', 'JJ'),\n ('.', '.')]"
     },
     "execution_count": 19,
     "metadata": {},
     "output_type": "execute_result"
    }
   ],
   "source": [
    "raw_text = \"Lately, however, many in the sport are questioning whether it has become too highlycharged.\"\n",
    "\n",
    "# 3.2\n",
    "\n",
    "tokens = nltk.word_tokenize(raw_text)\n",
    "pos_tags = nltk.pos_tag(tokens)\n",
    "pos_tags"
   ],
   "metadata": {
    "collapsed": false,
    "ExecuteTime": {
     "end_time": "2024-03-18T02:19:14.114354Z",
     "start_time": "2024-03-18T02:19:14.106139Z"
    }
   },
   "id": "1afa70dbd4a967bc",
   "execution_count": 19
  },
  {
   "cell_type": "markdown",
   "source": [
    "### 3.4 - Manual determination of accuracy\n",
    "\n",
    "Number of differences human and machine pos tags: $6 / 17$\n",
    "Accuracy: $64.8\\%$\n",
    "\n",
    "### 3.5 - Precision and F1 Value\n",
    "\n",
    "\n"
   ],
   "metadata": {
    "collapsed": false
   },
   "id": "4b571571ec2e713d"
  },
  {
   "cell_type": "code",
   "outputs": [
    {
     "name": "stdout",
     "output_type": "stream",
     "text": [
      "    |             P   R   V V V V V |\n",
      "    |     D I J N R R B V B B B B B |\n",
      "    | , . T N J N P B S B D G N P Z |\n",
      "----+-------------------------------+\n",
      "  , |<2>. . . . . . . . . . . . . . |\n",
      "  . | .<1>. . . . . . . . . . . . . |\n",
      " DT | . .<1>. . . 1 . . . . . . . . |\n",
      " IN | . . .<2>. . . . . . . . . . . |\n",
      " JJ | . . . .<2>. . . . . . . . . . |\n",
      " NN | . . . . .<1>. . . . . . . . . |\n",
      "PRP | . . . . . .<.>. . . . . . . . |\n",
      " RB | . . . . . . .<2>. . . . . . . |\n",
      "RBS | . . . . . . . 1<.>. . . . . . |\n",
      " VB | . . . . . . . . .<.>. . . 1 . |\n",
      "VBD | . . . . . . . . . .<.>. 1 . . |\n",
      "VBG | . . . . . . . . . . .<.>. . . |\n",
      "VBN | . . . . . . . . . . . .<.>. 1 |\n",
      "VBP | . . . . . . . . . . . . .<.>. |\n",
      "VBZ | . . . . . . . . . . . 1 . .<.>|\n",
      "----+-------------------------------+\n",
      "(row = reference; col = test)\n",
      "\n",
      "Precision:  0.75\n",
      "Recall:  0.75\n",
      "F measure:  0.75\n",
      "Accuracy:  0.6470588235294118\n"
     ]
    }
   ],
   "source": [
    "from nltk.metrics import *\n",
    "\n",
    "ref  =  'RB , RB , JJ IN DT NN VB VBZ IN DT VBN VBD RBS JJ .'.split()\n",
    "tagged = list(list(zip(*pos_tags))[1])\n",
    "\n",
    "cm = ConfusionMatrix(ref, tagged)\n",
    "print(cm)\n",
    "print(\"Precision: \",precision(set(ref),set(tagged)))\n",
    "print(\"Recall: \",recall(set(ref),set(tagged)))\n",
    "print(\"F measure: \",f_measure(set(ref),set(tagged)))\n",
    "print(\"Accuracy: \",accuracy(ref,tagged))"
   ],
   "metadata": {
    "collapsed": false,
    "ExecuteTime": {
     "end_time": "2024-03-18T02:16:29.585773Z",
     "start_time": "2024-03-18T02:16:29.580032Z"
    }
   },
   "id": "ccbfc4ecfea70d6f",
   "execution_count": 17
  },
  {
   "cell_type": "markdown",
   "source": [
    "## 3.6 - Clause Extraction\n",
    "\n"
   ],
   "metadata": {
    "collapsed": false
   },
   "id": "9c1659913f52eec8"
  }
 ],
 "metadata": {
  "kernelspec": {
   "display_name": "Python 3",
   "language": "python",
   "name": "python3"
  },
  "language_info": {
   "codemirror_mode": {
    "name": "ipython",
    "version": 2
   },
   "file_extension": ".py",
   "mimetype": "text/x-python",
   "name": "python",
   "nbconvert_exporter": "python",
   "pygments_lexer": "ipython2",
   "version": "2.7.6"
  }
 },
 "nbformat": 4,
 "nbformat_minor": 5
}
