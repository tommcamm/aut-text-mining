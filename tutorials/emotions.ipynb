{
 "cells": [
  {
   "cell_type": "markdown",
   "source": [
    "# Emotions detection using HF model\n",
    "\n"
   ],
   "metadata": {
    "collapsed": false
   },
   "id": "c622139ff2ec8101"
  },
  {
   "cell_type": "code",
   "outputs": [
    {
     "name": "stdout",
     "output_type": "stream",
     "text": [
      "[{'label': 'neutral', 'score': 0.4959757328033447}, {'label': 'caring', 'score': 0.27706897258758545}, {'label': 'desire', 'score': 0.10462246835231781}, {'label': 'sadness', 'score': 0.03243223950266838}, {'label': 'optimism', 'score': 0.016874704509973526}, {'label': 'annoyance', 'score': 0.013725074008107185}, {'label': 'approval', 'score': 0.013717358000576496}, {'label': 'remorse', 'score': 0.009952710010111332}, {'label': 'disappointment', 'score': 0.006271836347877979}, {'label': 'realization', 'score': 0.005132121965289116}, {'label': 'gratitude', 'score': 0.00482760276645422}, {'label': 'anger', 'score': 0.0036482466384768486}, {'label': 'love', 'score': 0.003363009775057435}, {'label': 'disapproval', 'score': 0.0033629380632191896}, {'label': 'curiosity', 'score': 0.0031572296284139156}, {'label': 'nervousness', 'score': 0.00313790375366807}, {'label': 'grief', 'score': 0.0026500748936086893}, {'label': 'relief', 'score': 0.002513331128284335}, {'label': 'fear', 'score': 0.002460575895383954}, {'label': 'disgust', 'score': 0.0022310183849185705}, {'label': 'joy', 'score': 0.002147137187421322}, {'label': 'confusion', 'score': 0.0020315630827099085}, {'label': 'admiration', 'score': 0.0015562670305371284}, {'label': 'excitement', 'score': 0.0013184958370402455}, {'label': 'embarrassment', 'score': 0.0009661345975473523}, {'label': 'amusement', 'score': 0.0007588410517200828}, {'label': 'pride', 'score': 0.0006218377384357154}, {'label': 'surprise', 'score': 0.0005560999852605164}]\n"
     ]
    }
   ],
   "source": [
    "# First Example\n",
    "from transformers import pipeline\n",
    "\n",
    "classifier = pipeline(task=\"text-classification\", model=\"SamLowe/roberta-base-go_emotions\", top_k=None)\n",
    "\n",
    "sentences = [\"help me please\"]\n",
    "\n",
    "model_outputs = classifier(sentences)\n",
    "print(model_outputs[0])\n",
    "# produces a list of dicts for each of the labels"
   ],
   "metadata": {
    "collapsed": false,
    "ExecuteTime": {
     "end_time": "2024-03-19T01:19:34.857470Z",
     "start_time": "2024-03-19T01:19:33.851183Z"
    }
   },
   "id": "e619ba4ff41d0a72",
   "execution_count": 9
  }
 ],
 "metadata": {
  "kernelspec": {
   "display_name": "Python 3",
   "language": "python",
   "name": "python3"
  },
  "language_info": {
   "codemirror_mode": {
    "name": "ipython",
    "version": 2
   },
   "file_extension": ".py",
   "mimetype": "text/x-python",
   "name": "python",
   "nbconvert_exporter": "python",
   "pygments_lexer": "ipython2",
   "version": "2.7.6"
  }
 },
 "nbformat": 4,
 "nbformat_minor": 5
}
